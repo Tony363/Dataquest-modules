{
 "cells": [
  {
   "cell_type": "markdown",
   "metadata": {},
   "source": [
    "# Data Science Project - Analysis of Real Estate Data in the US"
   ]
  },
  {
   "cell_type": "markdown",
   "metadata": {},
   "source": [
    "# Introduction"
   ]
  },
  {
   "cell_type": "code",
   "execution_count": 1,
   "metadata": {},
   "outputs": [],
   "source": [
    "import pandas as pd\n",
    "import seaborn as sns\n",
    "import matplotlib.pyplot as plt"
   ]
  },
  {
   "cell_type": "code",
   "execution_count": 2,
   "metadata": {},
   "outputs": [],
   "source": [
    "re_data = pd.read_csv('real_estate_db.csv', encoding = 'ISO-8859–1')"
   ]
  },
  {
   "cell_type": "code",
   "execution_count": 3,
   "metadata": {},
   "outputs": [
    {
     "data": {
      "text/plain": [
       "(39030, 80)"
      ]
     },
     "execution_count": 3,
     "metadata": {},
     "output_type": "execute_result"
    }
   ],
   "source": [
    "re_data.shape"
   ]
  },
  {
   "cell_type": "code",
   "execution_count": 4,
   "metadata": {
    "scrolled": true
   },
   "outputs": [
    {
     "data": {
      "text/plain": [
       "Index(['UID', 'BLOCKID', 'SUMLEVEL', 'COUNTYID', 'STATEID', 'state',\n",
       "       'state_ab', 'city', 'place', 'type', 'primary', 'zip_code', 'area_code',\n",
       "       'lat', 'lng', 'ALand', 'AWater', 'pop', 'male_pop', 'female_pop',\n",
       "       'rent_mean', 'rent_median', 'rent_stdev', 'rent_sample_weight',\n",
       "       'rent_samples', 'rent_gt_10', 'rent_gt_15', 'rent_gt_20', 'rent_gt_25',\n",
       "       'rent_gt_30', 'rent_gt_35', 'rent_gt_40', 'rent_gt_50',\n",
       "       'universe_samples', 'used_samples', 'hi_mean', 'hi_median', 'hi_stdev',\n",
       "       'hi_sample_weight', 'hi_samples', 'family_mean', 'family_median',\n",
       "       'family_stdev', 'family_sample_weight', 'family_samples',\n",
       "       'hc_mortgage_mean', 'hc_mortgage_median', 'hc_mortgage_stdev',\n",
       "       'hc_mortgage_sample_weight', 'hc_mortgage_samples', 'hc_mean',\n",
       "       'hc_median', 'hc_stdev', 'hc_samples', 'hc_sample_weight',\n",
       "       'home_equity_second_mortgage', 'second_mortgage', 'home_equity', 'debt',\n",
       "       'second_mortgage_cdf', 'home_equity_cdf', 'debt_cdf', 'hs_degree',\n",
       "       'hs_degree_male', 'hs_degree_female', 'male_age_mean',\n",
       "       'male_age_median', 'male_age_stdev', 'male_age_sample_weight',\n",
       "       'male_age_samples', 'female_age_mean', 'female_age_median',\n",
       "       'female_age_stdev', 'female_age_sample_weight', 'female_age_samples',\n",
       "       'pct_own', 'married', 'married_snp', 'separated', 'divorced'],\n",
       "      dtype='object')"
      ]
     },
     "execution_count": 4,
     "metadata": {},
     "output_type": "execute_result"
    }
   ],
   "source": [
    "re_data.columns"
   ]
  },
  {
   "cell_type": "markdown",
   "metadata": {},
   "source": [
    "# Part 1. Cleaning"
   ]
  },
  {
   "cell_type": "markdown",
   "metadata": {},
   "source": [
    "## The dataset contains 79 columns, so we will take only the most interesting ones that we find useful for our data exploration."
   ]
  },
  {
   "cell_type": "code",
   "execution_count": 5,
   "metadata": {},
   "outputs": [],
   "source": [
    "re_data = re_data[['state','city','zip_code','lat','lng','pop','male_pop','female_pop','rent_mean','rent_median',\n",
    "              'hc_mean', 'hc_mortgage_mean','hc_mortgage_median', 'hi_mean','hi_median','family_mean',\n",
    "              'home_equity_second_mortgage', 'second_mortgage', 'home_equity',\n",
    "              'debt', 'hs_degree', 'male_age_mean', 'female_age_mean', 'pct_own','married'\n",
    "             ]]"
   ]
  },
  {
   "cell_type": "code",
   "execution_count": 6,
   "metadata": {
    "scrolled": false
   },
   "outputs": [
    {
     "data": {
      "text/plain": [
       "hc_mean                        890\n",
       "hc_mortgage_mean               841\n",
       "hc_mortgage_median             841\n",
       "home_equity_second_mortgage    677\n",
       "second_mortgage                677\n",
       "home_equity                    677\n",
       "debt                           677\n",
       "rent_mean                      462\n",
       "rent_median                    462\n",
       "family_mean                    434\n",
       "hi_mean                        390\n",
       "hi_median                      390\n",
       "pct_own                        390\n",
       "female_age_mean                302\n",
       "hs_degree                      275\n",
       "married                        275\n",
       "male_age_mean                  273\n",
       "state                            0\n",
       "city                             0\n",
       "zip_code                         0\n",
       "dtype: int64"
      ]
     },
     "execution_count": 6,
     "metadata": {},
     "output_type": "execute_result"
    }
   ],
   "source": [
    "re_data.isna().sum().nlargest(20)"
   ]
  },
  {
   "cell_type": "code",
   "execution_count": 7,
   "metadata": {},
   "outputs": [],
   "source": [
    "re_data.dropna(inplace=True)"
   ]
  },
  {
   "cell_type": "markdown",
   "metadata": {},
   "source": [
    "## We will drop Puerto Rico State, as it's economy is different from other states"
   ]
  },
  {
   "cell_type": "code",
   "execution_count": 8,
   "metadata": {},
   "outputs": [],
   "source": [
    "re_data = re_data[re_data.state != 'Puerto Rico']"
   ]
  },
  {
   "cell_type": "markdown",
   "metadata": {},
   "source": [
    "## Drop places with mean rent < 500 USD. Not realistic or really small village areas"
   ]
  },
  {
   "cell_type": "code",
   "execution_count": 9,
   "metadata": {},
   "outputs": [],
   "source": [
    "re_data = re_data[re_data.rent_mean > 500]"
   ]
  },
  {
   "cell_type": "code",
   "execution_count": 10,
   "metadata": {},
   "outputs": [
    {
     "data": {
      "text/plain": [
       "32076    500.01272\n",
       "30717    500.02145\n",
       "17906    500.13603\n",
       "32069    500.38186\n",
       "11155    500.54241\n",
       "Name: rent_mean, dtype: float64"
      ]
     },
     "execution_count": 10,
     "metadata": {},
     "output_type": "execute_result"
    }
   ],
   "source": [
    "re_data.rent_mean.nsmallest()"
   ]
  },
  {
   "cell_type": "markdown",
   "metadata": {},
   "source": [
    "## We found not correct values where rent_mean is 3962.34229 due to bad record"
   ]
  },
  {
   "cell_type": "code",
   "execution_count": 11,
   "metadata": {},
   "outputs": [
    {
     "data": {
      "text/plain": [
       "state\n",
       "New York                3962.34229\n",
       "Michigan                3962.34229\n",
       "Hawaii                  3962.34229\n",
       "California              3962.34229\n",
       "Florida                 3962.34229\n",
       "Texas                   3962.34229\n",
       "Tennessee               3962.34229\n",
       "Virginia                3829.43383\n",
       "District of Columbia    3661.71463\n",
       "Connecticut             3600.28736\n",
       "Missouri                3509.17617\n",
       "Arizona                 3432.87803\n",
       "New Jersey              3408.15112\n",
       "Maryland                3341.37301\n",
       "Pennsylvania            3324.65000\n",
       "Name: rent_mean, dtype: float64"
      ]
     },
     "execution_count": 11,
     "metadata": {},
     "output_type": "execute_result"
    }
   ],
   "source": [
    "re_data.groupby(['state'])[ 'rent_mean'].max().sort_values(ascending=False).nlargest(15)"
   ]
  },
  {
   "cell_type": "markdown",
   "metadata": {},
   "source": [
    "## Excluding records where rent_mean is 3962.34229 "
   ]
  },
  {
   "cell_type": "code",
   "execution_count": 12,
   "metadata": {},
   "outputs": [],
   "source": [
    "re_data = re_data[re_data.rent_mean <= 3962]"
   ]
  },
  {
   "cell_type": "markdown",
   "metadata": {},
   "source": [
    "# Part 2. Findings"
   ]
  },
  {
   "cell_type": "markdown",
   "metadata": {},
   "source": [
    "## 2.1 Top 10 cities where people have the highest income left, but percentage of ownership is the lowest."
   ]
  },
  {
   "cell_type": "markdown",
   "metadata": {},
   "source": [
    "## Calculating income left."
   ]
  },
  {
   "cell_type": "code",
   "execution_count": 13,
   "metadata": {},
   "outputs": [],
   "source": [
    "re_data['income_left'] = re_data['family_mean'] - re_data['rent_mean']*12"
   ]
  },
  {
   "cell_type": "code",
   "execution_count": 14,
   "metadata": {},
   "outputs": [],
   "source": [
    "inc_rent = re_data[['city', 'lat', 'lng', 'family_mean','rent_mean','pct_own','hc_mortgage_mean','income_left']].groupby('city').mean()"
   ]
  },
  {
   "cell_type": "code",
   "execution_count": 15,
   "metadata": {},
   "outputs": [
    {
     "data": {
      "text/html": [
       "<div>\n",
       "<style scoped>\n",
       "    .dataframe tbody tr th:only-of-type {\n",
       "        vertical-align: middle;\n",
       "    }\n",
       "\n",
       "    .dataframe tbody tr th {\n",
       "        vertical-align: top;\n",
       "    }\n",
       "\n",
       "    .dataframe thead th {\n",
       "        text-align: right;\n",
       "    }\n",
       "</style>\n",
       "<table border=\"1\" class=\"dataframe\">\n",
       "  <thead>\n",
       "    <tr style=\"text-align: right;\">\n",
       "      <th></th>\n",
       "      <th>lat</th>\n",
       "      <th>lng</th>\n",
       "      <th>family_mean</th>\n",
       "      <th>rent_mean</th>\n",
       "      <th>pct_own</th>\n",
       "      <th>hc_mortgage_mean</th>\n",
       "      <th>income_left</th>\n",
       "    </tr>\n",
       "    <tr>\n",
       "      <th>city</th>\n",
       "      <th></th>\n",
       "      <th></th>\n",
       "      <th></th>\n",
       "      <th></th>\n",
       "      <th></th>\n",
       "      <th></th>\n",
       "      <th></th>\n",
       "    </tr>\n",
       "  </thead>\n",
       "  <tbody>\n",
       "    <tr>\n",
       "      <th>Fort Hood</th>\n",
       "      <td>31.115478</td>\n",
       "      <td>-97.843359</td>\n",
       "      <td>54229.84425</td>\n",
       "      <td>1187.26747</td>\n",
       "      <td>0.00824</td>\n",
       "      <td>449.50000</td>\n",
       "      <td>39982.63461</td>\n",
       "    </tr>\n",
       "    <tr>\n",
       "      <th>Fort Stewart</th>\n",
       "      <td>31.876190</td>\n",
       "      <td>-81.599531</td>\n",
       "      <td>45136.66552</td>\n",
       "      <td>1181.23053</td>\n",
       "      <td>0.01240</td>\n",
       "      <td>2249.50000</td>\n",
       "      <td>30961.89916</td>\n",
       "    </tr>\n",
       "    <tr>\n",
       "      <th>Fort Dix</th>\n",
       "      <td>40.014556</td>\n",
       "      <td>-74.627018</td>\n",
       "      <td>109363.35805</td>\n",
       "      <td>2025.72648</td>\n",
       "      <td>0.01393</td>\n",
       "      <td>1787.00000</td>\n",
       "      <td>85054.64029</td>\n",
       "    </tr>\n",
       "    <tr>\n",
       "      <th>Ft Meade</th>\n",
       "      <td>39.118584</td>\n",
       "      <td>-76.735280</td>\n",
       "      <td>70433.74812</td>\n",
       "      <td>1942.58976</td>\n",
       "      <td>0.01465</td>\n",
       "      <td>1147.00000</td>\n",
       "      <td>47122.67100</td>\n",
       "    </tr>\n",
       "    <tr>\n",
       "      <th>Yermo</th>\n",
       "      <td>35.402696</td>\n",
       "      <td>-116.644250</td>\n",
       "      <td>62476.28492</td>\n",
       "      <td>1313.20643</td>\n",
       "      <td>0.01495</td>\n",
       "      <td>649.50000</td>\n",
       "      <td>46717.80776</td>\n",
       "    </tr>\n",
       "    <tr>\n",
       "      <th>...</th>\n",
       "      <td>...</td>\n",
       "      <td>...</td>\n",
       "      <td>...</td>\n",
       "      <td>...</td>\n",
       "      <td>...</td>\n",
       "      <td>...</td>\n",
       "      <td>...</td>\n",
       "    </tr>\n",
       "    <tr>\n",
       "      <th>Tinton Falls</th>\n",
       "      <td>40.297418</td>\n",
       "      <td>-74.101307</td>\n",
       "      <td>156338.64690</td>\n",
       "      <td>2412.09616</td>\n",
       "      <td>0.98475</td>\n",
       "      <td>3031.87157</td>\n",
       "      <td>127393.49298</td>\n",
       "    </tr>\n",
       "    <tr>\n",
       "      <th>Boxford</th>\n",
       "      <td>42.683108</td>\n",
       "      <td>-71.018330</td>\n",
       "      <td>153956.80076</td>\n",
       "      <td>1364.30787</td>\n",
       "      <td>0.98575</td>\n",
       "      <td>3015.26631</td>\n",
       "      <td>137585.10632</td>\n",
       "    </tr>\n",
       "    <tr>\n",
       "      <th>Marriottsville</th>\n",
       "      <td>39.318977</td>\n",
       "      <td>-76.967660</td>\n",
       "      <td>157966.86087</td>\n",
       "      <td>2954.72892</td>\n",
       "      <td>0.98658</td>\n",
       "      <td>2883.50466</td>\n",
       "      <td>122510.11383</td>\n",
       "    </tr>\n",
       "    <tr>\n",
       "      <th>East Islip</th>\n",
       "      <td>40.721850</td>\n",
       "      <td>-73.181128</td>\n",
       "      <td>139672.49545</td>\n",
       "      <td>1589.53932</td>\n",
       "      <td>0.98832</td>\n",
       "      <td>3049.86980</td>\n",
       "      <td>120598.02361</td>\n",
       "    </tr>\n",
       "    <tr>\n",
       "      <th>Hinckley</th>\n",
       "      <td>41.249087</td>\n",
       "      <td>-81.737867</td>\n",
       "      <td>113263.50972</td>\n",
       "      <td>972.00000</td>\n",
       "      <td>0.99361</td>\n",
       "      <td>2167.31471</td>\n",
       "      <td>101599.50972</td>\n",
       "    </tr>\n",
       "  </tbody>\n",
       "</table>\n",
       "<p>7905 rows × 7 columns</p>\n",
       "</div>"
      ],
      "text/plain": [
       "                      lat         lng   family_mean   rent_mean  pct_own  \\\n",
       "city                                                                       \n",
       "Fort Hood       31.115478  -97.843359   54229.84425  1187.26747  0.00824   \n",
       "Fort Stewart    31.876190  -81.599531   45136.66552  1181.23053  0.01240   \n",
       "Fort Dix        40.014556  -74.627018  109363.35805  2025.72648  0.01393   \n",
       "Ft Meade        39.118584  -76.735280   70433.74812  1942.58976  0.01465   \n",
       "Yermo           35.402696 -116.644250   62476.28492  1313.20643  0.01495   \n",
       "...                   ...         ...           ...         ...      ...   \n",
       "Tinton Falls    40.297418  -74.101307  156338.64690  2412.09616  0.98475   \n",
       "Boxford         42.683108  -71.018330  153956.80076  1364.30787  0.98575   \n",
       "Marriottsville  39.318977  -76.967660  157966.86087  2954.72892  0.98658   \n",
       "East Islip      40.721850  -73.181128  139672.49545  1589.53932  0.98832   \n",
       "Hinckley        41.249087  -81.737867  113263.50972   972.00000  0.99361   \n",
       "\n",
       "                hc_mortgage_mean   income_left  \n",
       "city                                            \n",
       "Fort Hood              449.50000   39982.63461  \n",
       "Fort Stewart          2249.50000   30961.89916  \n",
       "Fort Dix              1787.00000   85054.64029  \n",
       "Ft Meade              1147.00000   47122.67100  \n",
       "Yermo                  649.50000   46717.80776  \n",
       "...                          ...           ...  \n",
       "Tinton Falls          3031.87157  127393.49298  \n",
       "Boxford               3015.26631  137585.10632  \n",
       "Marriottsville        2883.50466  122510.11383  \n",
       "East Islip            3049.86980  120598.02361  \n",
       "Hinckley              2167.31471  101599.50972  \n",
       "\n",
       "[7905 rows x 7 columns]"
      ]
     },
     "execution_count": 15,
     "metadata": {},
     "output_type": "execute_result"
    }
   ],
   "source": [
    "inc_rent.sort_values(['pct_own', 'income_left'], ascending = [True, False])"
   ]
  },
  {
   "cell_type": "code",
   "execution_count": 16,
   "metadata": {},
   "outputs": [
    {
     "data": {
      "text/html": [
       "<div>\n",
       "<style scoped>\n",
       "    .dataframe tbody tr th:only-of-type {\n",
       "        vertical-align: middle;\n",
       "    }\n",
       "\n",
       "    .dataframe tbody tr th {\n",
       "        vertical-align: top;\n",
       "    }\n",
       "\n",
       "    .dataframe thead th {\n",
       "        text-align: right;\n",
       "    }\n",
       "</style>\n",
       "<table border=\"1\" class=\"dataframe\">\n",
       "  <thead>\n",
       "    <tr style=\"text-align: right;\">\n",
       "      <th></th>\n",
       "      <th>lat</th>\n",
       "      <th>lng</th>\n",
       "      <th>family_mean</th>\n",
       "      <th>rent_mean</th>\n",
       "      <th>pct_own</th>\n",
       "      <th>hc_mortgage_mean</th>\n",
       "      <th>income_left</th>\n",
       "    </tr>\n",
       "    <tr>\n",
       "      <th>city</th>\n",
       "      <th></th>\n",
       "      <th></th>\n",
       "      <th></th>\n",
       "      <th></th>\n",
       "      <th></th>\n",
       "      <th></th>\n",
       "      <th></th>\n",
       "    </tr>\n",
       "  </thead>\n",
       "  <tbody>\n",
       "    <tr>\n",
       "      <th>Revillo</th>\n",
       "      <td>44.873619</td>\n",
       "      <td>-96.552102</td>\n",
       "      <td>81301.30396</td>\n",
       "      <td>500.38186</td>\n",
       "      <td>0.89217</td>\n",
       "      <td>1269.38985</td>\n",
       "      <td>75296.72164</td>\n",
       "    </tr>\n",
       "    <tr>\n",
       "      <th>Flemingsburg</th>\n",
       "      <td>38.463259</td>\n",
       "      <td>-83.727673</td>\n",
       "      <td>71008.31228</td>\n",
       "      <td>500.74452</td>\n",
       "      <td>0.77952</td>\n",
       "      <td>1235.29781</td>\n",
       "      <td>64999.37804</td>\n",
       "    </tr>\n",
       "  </tbody>\n",
       "</table>\n",
       "</div>"
      ],
      "text/plain": [
       "                    lat        lng  family_mean  rent_mean  pct_own  \\\n",
       "city                                                                  \n",
       "Revillo       44.873619 -96.552102  81301.30396  500.38186  0.89217   \n",
       "Flemingsburg  38.463259 -83.727673  71008.31228  500.74452  0.77952   \n",
       "\n",
       "              hc_mortgage_mean  income_left  \n",
       "city                                         \n",
       "Revillo             1269.38985  75296.72164  \n",
       "Flemingsburg        1235.29781  64999.37804  "
      ]
     },
     "execution_count": 16,
     "metadata": {},
     "output_type": "execute_result"
    }
   ],
   "source": [
    "re_data[['city', 'lat', 'lng', 'family_mean','rent_mean','pct_own','hc_mortgage_mean','income_left']].groupby('city').mean().nsmallest(2,'rent_mean')"
   ]
  },
  {
   "cell_type": "code",
   "execution_count": 17,
   "metadata": {},
   "outputs": [],
   "source": [
    "import plotly.express as px"
   ]
  },
  {
   "cell_type": "code",
   "execution_count": 18,
   "metadata": {},
   "outputs": [
    {
     "ename": "NameError",
     "evalue": "name 'mapdf' is not defined",
     "output_type": "error",
     "traceback": [
      "\u001b[1;31m---------------------------------------------------------------------------\u001b[0m",
      "\u001b[1;31mNameError\u001b[0m                                 Traceback (most recent call last)",
      "\u001b[1;32m<ipython-input-18-c6d7f7067ef5>\u001b[0m in \u001b[0;36m<module>\u001b[1;34m\u001b[0m\n\u001b[0;32m      1\u001b[0m \u001b[0mpx\u001b[0m\u001b[1;33m.\u001b[0m\u001b[0mset_mapbox_access_token\u001b[0m\u001b[1;33m(\u001b[0m\u001b[1;34m'pk.eyJ1IjoiYWxleHZ6bmsiLCJhIjoiY2sza3ZqNmJ6MGUwbzNkbjN3NXM3b2FuZCJ9.aDeGkoLyAC0eiXB0mq4a3g'\u001b[0m\u001b[1;33m)\u001b[0m\u001b[1;33m\u001b[0m\u001b[1;33m\u001b[0m\u001b[0m\n\u001b[0;32m      2\u001b[0m \u001b[0mcarshare\u001b[0m \u001b[1;33m=\u001b[0m \u001b[0mpx\u001b[0m\u001b[1;33m.\u001b[0m\u001b[0mdata\u001b[0m\u001b[1;33m.\u001b[0m\u001b[0mcarshare\u001b[0m\u001b[1;33m(\u001b[0m\u001b[1;33m)\u001b[0m\u001b[1;33m\u001b[0m\u001b[1;33m\u001b[0m\u001b[0m\n\u001b[1;32m----> 3\u001b[1;33m fig = px.scatter_mapbox(mapdf, lat=\"lat\", lon=\"lng\",size='income_left', color=\"pct_own\",\n\u001b[0m\u001b[0;32m      4\u001b[0m                   color_continuous_scale=px.colors.cyclical.IceFire, size_max=10, zoom=2)\n\u001b[0;32m      5\u001b[0m \u001b[0mfig\u001b[0m\u001b[1;33m.\u001b[0m\u001b[0mshow\u001b[0m\u001b[1;33m(\u001b[0m\u001b[1;33m)\u001b[0m\u001b[1;33m\u001b[0m\u001b[1;33m\u001b[0m\u001b[0m\n",
      "\u001b[1;31mNameError\u001b[0m: name 'mapdf' is not defined"
     ]
    }
   ],
   "source": [
    "px.set_mapbox_access_token('pk.eyJ1IjoiYWxleHZ6bmsiLCJhIjoiY2sza3ZqNmJ6MGUwbzNkbjN3NXM3b2FuZCJ9.aDeGkoLyAC0eiXB0mq4a3g')\n",
    "carshare = px.data.carshare()\n",
    "fig = px.scatter_mapbox(mapdf, lat=\"lat\", lon=\"lng\",size='income_left', color=\"pct_own\",\n",
    "                  color_continuous_scale=px.colors.cyclical.IceFire, size_max=10, zoom=2)\n",
    "fig.show()"
   ]
  },
  {
   "cell_type": "code",
   "execution_count": null,
   "metadata": {},
   "outputs": [],
   "source": []
  }
 ],
 "metadata": {
  "kernelspec": {
   "display_name": "Python 3",
   "language": "python",
   "name": "python3"
  },
  "language_info": {
   "codemirror_mode": {
    "name": "ipython",
    "version": 3
   },
   "file_extension": ".py",
   "mimetype": "text/x-python",
   "name": "python",
   "nbconvert_exporter": "python",
   "pygments_lexer": "ipython3",
   "version": "3.7.4"
  }
 },
 "nbformat": 4,
 "nbformat_minor": 2
}
