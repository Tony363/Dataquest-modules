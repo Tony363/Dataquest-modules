{
 "cells": [
  {
   "source": [
    "!pip install seaborn"
   ],
   "cell_type": "code",
   "outputs": [
    {
     "output_type": "stream",
     "name": "stdout",
     "text": "Requirement already satisfied: seaborn in c:\\users\\tony\\desktop\\github\\dataquest-modules\\venv\\lib\\site-packages (0.9.0)\nRequirement already satisfied: scipy>=0.14.0 in c:\\users\\tony\\desktop\\github\\dataquest-modules\\venv\\lib\\site-packages (from seaborn) (1.3.3)\nRequirement already satisfied: matplotlib>=1.4.3 in c:\\users\\tony\\desktop\\github\\dataquest-modules\\venv\\lib\\site-packages (from seaborn) (3.1.2)\nRequirement already satisfied: numpy>=1.9.3 in c:\\users\\tony\\desktop\\github\\dataquest-modules\\venv\\lib\\site-packages (from seaborn) (1.17.4)\nRequirement already satisfied: pandas>=0.15.2 in c:\\users\\tony\\desktop\\github\\dataquest-modules\\venv\\lib\\site-packages (from seaborn) (0.25.3)\nRequirement already satisfied: cycler>=0.10 in c:\\users\\tony\\desktop\\github\\dataquest-modules\\venv\\lib\\site-packages (from matplotlib>=1.4.3->seaborn) (0.10.0)\nRequirement already satisfied: python-dateutil>=2.1 in c:\\users\\tony\\desktop\\github\\dataquest-modules\\venv\\lib\\site-packages (from matplotlib>=1.4.3->seaborn) (2.8.1)\nRequirement already satisfied: kiwisolver>=1.0.1 in c:\\users\\tony\\desktop\\github\\dataquest-modules\\venv\\lib\\site-packages (from matplotlib>=1.4.3->seaborn) (1.1.0)\nRequirement already satisfied: pyparsing!=2.0.4,!=2.1.2,!=2.1.6,>=2.0.1 in c:\\users\\tony\\desktop\\github\\dataquest-modules\\venv\\lib\\site-packages (from matplotlib>=1.4.3->seaborn) (2.4.5)\nRequirement already satisfied: pytz>=2017.2 in c:\\users\\tony\\desktop\\github\\dataquest-modules\\venv\\lib\\site-packages (from pandas>=0.15.2->seaborn) (2019.3)\nRequirement already satisfied: six in c:\\users\\tony\\desktop\\github\\dataquest-modules\\venv\\lib\\site-packages (from cycler>=0.10->matplotlib>=1.4.3->seaborn) (1.13.0)\nRequirement already satisfied: setuptools in c:\\users\\tony\\desktop\\github\\dataquest-modules\\venv\\lib\\site-packages (from kiwisolver>=1.0.1->matplotlib>=1.4.3->seaborn) (40.8.0)\n"
    }
   ],
   "metadata": {},
   "execution_count": 729
  },
  {
   "cell_type": "markdown",
   "metadata": {},
   "source": [
    "# Introduction\n"
   ]
  },
  {
   "cell_type": "markdown",
   "metadata": {},
   "source": [
    "## Content\n",
    "Information on economic data related to mortgages, home equity loans, second mortgages, family income, rent-statistics and bad debts in different states in USA.\n",
    "\n",
    "## Acknowledgements\n",
    "Source: The data set was found in www.kaggle.com and was released by Golden Oak Research Group 1. This is very insightful US mortgage data with  vast USA Statistics by states.\n",
    "\n",
    "\n",
    "## Group 9\n",
    "Prepared by Denis Dzhindo, Indra Chatterjee\n",
    "\n",
    "## Inspiration\n",
    "United states is a land of golden opportunity where we all can make our dream come true.  We tried to analyze from the dataset where most people own homes in the country, where most people rent and where most people got the bad debbt like second mortgage or home equity loan. We also found which states have the highest high school degress and  where most people have the highest family savings as well as where we see investment opportunities! Sky is the limit in United States if you would like to pursure your dream. \n",
    "\n",
    "\n"
   ]
  },
  {
   "cell_type": "markdown",
   "metadata": {},
   "source": [
    "# Dataset Information\n",
    "\n"
   ]
  },
  {
   "cell_type": "markdown",
   "metadata": {},
   "source": [
    " ### OVERVIEW\n",
    "1. Savings after mortgage: Its a variable we have created which we use to calculate the difference of Family Mean Income and Mortgage Payment. \n",
    "Savings after mortgage = family_mean - hc_mortgage_mean*12\n",
    "2. Savings after Rent:Its a variable we have created which we use to calculate the difference of Family Mean Income and Rent Payment.\n",
    "Savings after Rent = family_mean - rent_mean*12\n",
    "3. Bad Debt: Its a variable we have created which we use to calculate the sum of second mortgage and home equity mortgage. bad_debt = second_mortgage + home_equity\n",
    "4. Household Income Household Income includes the sum of the householder and all other individuals +15 years whom reside in the household, whether they are related to the householder or not. Because many households consist of only one person, average household income is usually less than average family income. Although the household income statistics cover the past 12 months, the characteristics of individuals and the composition of households refer to the time of interview. Thus, the income of the household does not include amounts received by individuals who were members of the household during all or part of the past 12 months if these individuals no longer resided in the household at the time of interview. Similarly, income amounts reported by individuals who did not reside in the household during the past 12 months but who were members of the household at the time of interview are included. However, the composition of most households was the same during the past 12 months as at the time of interview.\n",
    "5. Family Income Family income includes, the incomes of all members +15 years of age related to the householder are summed and treated as a single amount. Although the family income statistics cover the past 12 months, the characteristics of individuals and the composition of families refer to the time of interview. Thus, the income of the family does not include amounts received by individuals who were members of the family during all or part of the past 12 months if these individuals no longer resided with the family at the time of interview. Similarly, income amounts reported by individuals who did not reside with the family during the past 12 months but who were members of the family at the time of interview are included. However, the composition of most families was the same during the past 12 months as at the time of interview.\n",
    "LOCATION FIELD DEFINITIONS\n",
    "6. UID Type: Character Description: The ID of the location of which you are analyzing. ID location compatible across all Golden Oak Research Locations. Example: 0101909\n",
    "7. STATEID Type: Character Description: The state code reported by the U.S. Census Bureau for the specified geographic location. Example: ‘01’ (State: Alabama)\n",
    "8. BLOCKID Type: Character Description: Block ID of tract. If there is no specified block id the location is then a tract. The maximum number of blocks for any given track is 9. Example: ‘3’\n",
    "9. state Type: Character Description: The state name reported by the U.S. Census Bureau for the specified geographic location. Example: Alabama\n",
    "10. state_ab Type: Character Description: The abbreviated state name reported by the U.S. Census Bureau for the specified geographic location. Example: AL\n",
    "11. county Type: Character Description: The county name reported by the U.S. Census Bureau for the specified geographic location. Example: Calhoun County\n",
    "12. city Type: Character Description: The closest city name reported by the U.S. Education Department by the closest school relative to the Census Location. Example: Alexandria\n",
    "13. place Type: Character (Categorical) Description: The place name reported by the U.S. Census Bureau for the specified geographic location. Example: Alexandria\n",
    "14. type Type: Character (Categorical) Description: The place Type reported by the U.S. Census Bureau for the specified geographic location. Example: CPD\n",
    "15. primary Type: Character (Categorical) Description: Defines whether the location is a tract location or a block group. Example: track\n",
    "16. zip_code Type: Character Description: The closest zip code reported by the U.S. Education Department by the closest school relative to the Census Location. Example: 36250\n",
    "17. area_code Type: Character Description: The area code reported by the U.S. Census Bureau of the closest geographic location with area code information. Example: 256\n",
    "18. lat : The latitude of geographic location. Example: 33.760819\n",
    "19. lng : The longitude of geographic location. Example: 33.760819\n",
    "20. ALand : The Square area of land at the geographic or track location. Example: 28834974\n",
    "21. AWater : The Square area of water at the geographic or track location. Example: 33099\n",
    "22. pop : Male & female population of geographic location Example: -86.872008\n",
    "23. male_pop : Male population of geographic location. Example: -86.872008\n",
    "24. female_pop : female population of geographic location. Example: -86.872008\n",
    "STATISTIC FIELD DEFINITIONS\n",
    "1. second_mortgage : percent of houses with a second mortgage Example: 92686\n",
    "2. home_equity : Percentage of homes with a home equity loan. Example: 35735\n",
    "3. home_equity_second_mortgage : Percentage of homes with a second mortgage and home equity loan. Example: 258\n",
    "4. home_equity_second_mortgage : Percentage of homes with a second mortgage and home equity loan. Example: 0.0138\n",
    "5. debt : Percentage of homes with some type of debt. Example: 258\n",
    "6. second_mortgage_cdf : Cumulative distribution value of one minus the percentage of homes with a second mortgage. The value is used as a performance feature. Example: 258\n",
    "7. home_equity_cdf : Cumulative distribution value of one minus the percentage of homes with a home equity loan. The value is used as a performance feature. Example: 258\n",
    "8. debt_cdf : Cumulative distribution value of one minus the percentage of homes with any home related debt. The value is used as a performance feature. Example: 258\n",
    "9. hs_degree : Percentage of people with at least high school degree. Example: 258\n",
    "10. hs_degree_male : Percentage of males with at least high school degree. Example: 258\n",
    "11. hs_degree_female : Percentage of females with at least high school degree. Example: 258\n",
    "12. hc_mortgage_mean : The mean Monthly Mortgage and Owner Costs of specified geographic location. Example: 1208\n",
    "13. hc_mortgage_median : The median Monthly Mortgage and Owner Costs of the specified geographic location. Example: 16686\n",
    "14. hc_mortgage_stdev : The standard deviation of the Monthly Mortgage and Owner Costs for a specified geographic location. Example: 568\n",
    "15. hc_mortgage_sample : The number of samples used in the statistical calculations Example: 3\n",
    "16. hc_mortgage_sample_weight : The number of samples used in the statistical calculations Example: 3\n",
    "17. hc_mean : The mean Monthly Owner Costs of specified geographic location. Example: 93216\n",
    "18. hc_median : The median Monthly Owner Costs of a specified geographic location. Example: 35735\n",
    "19. hc_stdev : The standard deviation of the Monthly Owner Costs of a specified geographic location. Example: 92686\n",
    "20. hc_samples : The samples used in the calculation of the Monthly Owner Costs statistics. Example: 35735\n",
    "21. hc_sample_weight : The samples used in the calculation of the Monthly Owner Costs statistics. Example: 35735\n",
    "22. rent_mean : The mean gross rent of the specified geographic location. Example: 734\n",
    "23. rent_median : The mean gross rent of the specified geographic location. Example: 724\n",
    "24. rent_stdev : The standard deviation of the gross rent for the specified geographic location. Example: 232\n",
    "25. rent_samples : The number of gross rent records used in the statistical calculations Example: 355\n",
    "26. rent_sample_weight : The sum of gross rent weight used in calculations. Example: 355\n",
    "27. rent_gt_10  : The empirical distribution value that an individual’s rent will be greater than 10% of their household income in the past 12 months. Example: 0.94558\n",
    "28. rent_gt_15  : The empirical distribution value that an individual’s rent will be greater than 15% of their household income in the past 12 months. Example: 0.83673\n",
    "29. rent_gt_20  : The empirical distribution value that an individual’s rent will be greater than 20% of their household income in the past 12 months. Example: 0.81633\n",
    "30. rent_gt_25  : The empirical distribution value that an individual’s rent will be greater than 25% of their household income in the past 12 months. Example: 0.63265\n",
    "31. rent_gt_30  : The empirical distribution value that an individual’s rent will be greater than 30% of their household income in the past 12 months. Example: 0.47619\n",
    "32. rent_gt_35  : The empirical distribution value that an individual’s rent will be greater than 35% of their household income in the past 12 months. Example: 0.47619\n",
    "33. rent_gt_40  : The empirical distribution value that an individual’s rent will be greater than 40% of their household income in the past 12 months. Example: 0.31293\n",
    "34. rent_gt_50  : The empirical distribution value that an individual’s rent will be greater than 50% of their household income in the past 12 months. Example: 0.16327\n",
    "35. rent_universe_samples  : The size of the renter-occupied housing units sampled universe for the calculations. Example: 355\n",
    "36. rent_used_samples : The number of samples used in the household income by gross rent as percentage of income in the past 12 months calculation. Example: 355\n",
    "37. family_income_mean : The mean family income of the specified geographic location. Example: 93216\n",
    "38. family_income_median : The median family income of the specified geographic location. Example: 92686\n",
    "39. family_income_stdev : The standard deviation of the family income for the specified geographic location. Example: 35735\n",
    "40. family_income_families : The number of families used in the statistical calculations Example: 258\n",
    "41. hi_mean : The mean household income of the specified geographic location. Example: 93216\n",
    "42. hi_median : The median household income of the specified geographic location. Example: 92686\n",
    "43. hi_stdev : The standard deviation of the household income for the specified geographic location. Example: 35735\n",
    "44. hi_samples : The number of households used in the statistical calculations Example: 258\n",
    "45. hi_sample_weight : The number of households weighted used in the statistical calculations \n"
   ]
  },
  {
   "cell_type": "markdown",
   "metadata": {},
   "source": [
    "### We will be doing cleanup from above 69 columns and eliminate  columns as and when needed when we awe run differnt analytics or decession tree"
   ]
  },
  {
   "cell_type": "markdown",
   "metadata": {},
   "source": [
    "## Import the mortgage dataset"
   ]
  },
  {
   "source": [
    "# Introduction# print all the outputs in a cell\n",
    "from IPython.core.interactiveshell import InteractiveShell\n",
    "InteractiveShell.ast_node_interactivity = \"all\"\n",
    "\n",
    "import pandas as pd\n",
    "import seaborn as sns\n",
    "import numpy as np\n",
    "%pylab inline\n",
    "\n",
    "import sklearn as sk\n",
    "import sklearn.tree as tree\n",
    "from IPython.display import Image  \n",
    "import pydotplus"
   ],
   "cell_type": "code",
   "outputs": [
    {
     "output_type": "stream",
     "name": "stdout",
     "text": "Populating the interactive namespace from numpy and matplotlib\n"
    }
   ],
   "metadata": {},
   "execution_count": 730
  },
  {
   "source": [
    "# import additional packages\n",
    "import re, sklearn, warnings, math, pandas as pd, numpy as np\n",
    "import seaborn as sns, matplotlib.pyplot as plt, matplotlib\n",
    "import plotly.graph_objs as go, plotly.offline as py, plotly.tools as tls\n",
    "from sklearn.decomposition import PCA, FactorAnalysis\n",
    "from sklearn.preprocessing import StandardScaler, MinMaxScaler"
   ],
   "cell_type": "code",
   "outputs": [],
   "metadata": {},
   "execution_count": 731
  },
  {
   "source": [
    "# import settings\n",
    "%matplotlib inline\n",
    "matplotlib.rcParams.update({'font.size': 12})\n",
    "py.init_notebook_mode(connected=True)\n",
    "warnings.filterwarnings('ignore')"
   ],
   "cell_type": "code",
   "outputs": [
    {
     "output_type": "display_data",
     "data": {
      "text/html": "        <script type=\"text/javascript\">\n        window.PlotlyConfig = {MathJaxConfig: 'local'};\n        if (window.MathJax) {MathJax.Hub.Config({SVG: {font: \"STIX-Web\"}});}\n        if (typeof require !== 'undefined') {\n        require.undef(\"plotly\");\n        requirejs.config({\n            paths: {\n                'plotly': ['https://cdn.plot.ly/plotly-latest.min']\n            }\n        });\n        require(['plotly'], function(Plotly) {\n            window._Plotly = Plotly;\n        });\n        }\n        </script>\n        "
     },
     "metadata": {}
    }
   ],
   "metadata": {},
   "execution_count": 732
  },
  {
   "source": [
    "df=pd.read_csv('real_estate_db.csv', encoding = 'ISO-8859–1')"
   ],
   "cell_type": "code",
   "outputs": [
    {
     "output_type": "error",
     "ename": "FileNotFoundError",
     "evalue": "[Errno 2] File b'real_estate_db.csv' does not exist: b'real_estate_db.csv'",
     "traceback": [
      "\u001b[1;31m---------------------------------------------------------------------------\u001b[0m",
      "\u001b[1;31mFileNotFoundError\u001b[0m                         Traceback (most recent call last)",
      "\u001b[1;32m<ipython-input-733-a6082b9d9229>\u001b[0m in \u001b[0;36m<module>\u001b[1;34m\u001b[0m\n\u001b[1;32m----> 1\u001b[1;33m \u001b[0mdf\u001b[0m\u001b[1;33m=\u001b[0m\u001b[0mpd\u001b[0m\u001b[1;33m.\u001b[0m\u001b[0mread_csv\u001b[0m\u001b[1;33m(\u001b[0m\u001b[1;34m'real_estate_db.csv'\u001b[0m\u001b[1;33m,\u001b[0m \u001b[0mencoding\u001b[0m \u001b[1;33m=\u001b[0m \u001b[1;34m'ISO-8859–1'\u001b[0m\u001b[1;33m)\u001b[0m\u001b[1;33m\u001b[0m\u001b[1;33m\u001b[0m\u001b[0m\n\u001b[0m",
      "\u001b[1;32mc:\\Users\\Tony\\Desktop\\github\\Dataquest-modules\\venv\\lib\\site-packages\\pandas\\io\\parsers.py\u001b[0m in \u001b[0;36mparser_f\u001b[1;34m(filepath_or_buffer, sep, delimiter, header, names, index_col, usecols, squeeze, prefix, mangle_dupe_cols, dtype, engine, converters, true_values, false_values, skipinitialspace, skiprows, skipfooter, nrows, na_values, keep_default_na, na_filter, verbose, skip_blank_lines, parse_dates, infer_datetime_format, keep_date_col, date_parser, dayfirst, cache_dates, iterator, chunksize, compression, thousands, decimal, lineterminator, quotechar, quoting, doublequote, escapechar, comment, encoding, dialect, error_bad_lines, warn_bad_lines, delim_whitespace, low_memory, memory_map, float_precision)\u001b[0m\n\u001b[0;32m    683\u001b[0m         )\n\u001b[0;32m    684\u001b[0m \u001b[1;33m\u001b[0m\u001b[0m\n\u001b[1;32m--> 685\u001b[1;33m         \u001b[1;32mreturn\u001b[0m \u001b[0m_read\u001b[0m\u001b[1;33m(\u001b[0m\u001b[0mfilepath_or_buffer\u001b[0m\u001b[1;33m,\u001b[0m \u001b[0mkwds\u001b[0m\u001b[1;33m)\u001b[0m\u001b[1;33m\u001b[0m\u001b[1;33m\u001b[0m\u001b[0m\n\u001b[0m\u001b[0;32m    686\u001b[0m \u001b[1;33m\u001b[0m\u001b[0m\n\u001b[0;32m    687\u001b[0m     \u001b[0mparser_f\u001b[0m\u001b[1;33m.\u001b[0m\u001b[0m__name__\u001b[0m \u001b[1;33m=\u001b[0m \u001b[0mname\u001b[0m\u001b[1;33m\u001b[0m\u001b[1;33m\u001b[0m\u001b[0m\n",
      "\u001b[1;32mc:\\Users\\Tony\\Desktop\\github\\Dataquest-modules\\venv\\lib\\site-packages\\pandas\\io\\parsers.py\u001b[0m in \u001b[0;36m_read\u001b[1;34m(filepath_or_buffer, kwds)\u001b[0m\n\u001b[0;32m    455\u001b[0m \u001b[1;33m\u001b[0m\u001b[0m\n\u001b[0;32m    456\u001b[0m     \u001b[1;31m# Create the parser.\u001b[0m\u001b[1;33m\u001b[0m\u001b[1;33m\u001b[0m\u001b[1;33m\u001b[0m\u001b[0m\n\u001b[1;32m--> 457\u001b[1;33m     \u001b[0mparser\u001b[0m \u001b[1;33m=\u001b[0m \u001b[0mTextFileReader\u001b[0m\u001b[1;33m(\u001b[0m\u001b[0mfp_or_buf\u001b[0m\u001b[1;33m,\u001b[0m \u001b[1;33m**\u001b[0m\u001b[0mkwds\u001b[0m\u001b[1;33m)\u001b[0m\u001b[1;33m\u001b[0m\u001b[1;33m\u001b[0m\u001b[0m\n\u001b[0m\u001b[0;32m    458\u001b[0m \u001b[1;33m\u001b[0m\u001b[0m\n\u001b[0;32m    459\u001b[0m     \u001b[1;32mif\u001b[0m \u001b[0mchunksize\u001b[0m \u001b[1;32mor\u001b[0m \u001b[0miterator\u001b[0m\u001b[1;33m:\u001b[0m\u001b[1;33m\u001b[0m\u001b[1;33m\u001b[0m\u001b[0m\n",
      "\u001b[1;32mc:\\Users\\Tony\\Desktop\\github\\Dataquest-modules\\venv\\lib\\site-packages\\pandas\\io\\parsers.py\u001b[0m in \u001b[0;36m__init__\u001b[1;34m(self, f, engine, **kwds)\u001b[0m\n\u001b[0;32m    893\u001b[0m             \u001b[0mself\u001b[0m\u001b[1;33m.\u001b[0m\u001b[0moptions\u001b[0m\u001b[1;33m[\u001b[0m\u001b[1;34m\"has_index_names\"\u001b[0m\u001b[1;33m]\u001b[0m \u001b[1;33m=\u001b[0m \u001b[0mkwds\u001b[0m\u001b[1;33m[\u001b[0m\u001b[1;34m\"has_index_names\"\u001b[0m\u001b[1;33m]\u001b[0m\u001b[1;33m\u001b[0m\u001b[1;33m\u001b[0m\u001b[0m\n\u001b[0;32m    894\u001b[0m \u001b[1;33m\u001b[0m\u001b[0m\n\u001b[1;32m--> 895\u001b[1;33m         \u001b[0mself\u001b[0m\u001b[1;33m.\u001b[0m\u001b[0m_make_engine\u001b[0m\u001b[1;33m(\u001b[0m\u001b[0mself\u001b[0m\u001b[1;33m.\u001b[0m\u001b[0mengine\u001b[0m\u001b[1;33m)\u001b[0m\u001b[1;33m\u001b[0m\u001b[1;33m\u001b[0m\u001b[0m\n\u001b[0m\u001b[0;32m    896\u001b[0m \u001b[1;33m\u001b[0m\u001b[0m\n\u001b[0;32m    897\u001b[0m     \u001b[1;32mdef\u001b[0m \u001b[0mclose\u001b[0m\u001b[1;33m(\u001b[0m\u001b[0mself\u001b[0m\u001b[1;33m)\u001b[0m\u001b[1;33m:\u001b[0m\u001b[1;33m\u001b[0m\u001b[1;33m\u001b[0m\u001b[0m\n",
      "\u001b[1;32mc:\\Users\\Tony\\Desktop\\github\\Dataquest-modules\\venv\\lib\\site-packages\\pandas\\io\\parsers.py\u001b[0m in \u001b[0;36m_make_engine\u001b[1;34m(self, engine)\u001b[0m\n\u001b[0;32m   1133\u001b[0m     \u001b[1;32mdef\u001b[0m \u001b[0m_make_engine\u001b[0m\u001b[1;33m(\u001b[0m\u001b[0mself\u001b[0m\u001b[1;33m,\u001b[0m \u001b[0mengine\u001b[0m\u001b[1;33m=\u001b[0m\u001b[1;34m\"c\"\u001b[0m\u001b[1;33m)\u001b[0m\u001b[1;33m:\u001b[0m\u001b[1;33m\u001b[0m\u001b[1;33m\u001b[0m\u001b[0m\n\u001b[0;32m   1134\u001b[0m         \u001b[1;32mif\u001b[0m \u001b[0mengine\u001b[0m \u001b[1;33m==\u001b[0m \u001b[1;34m\"c\"\u001b[0m\u001b[1;33m:\u001b[0m\u001b[1;33m\u001b[0m\u001b[1;33m\u001b[0m\u001b[0m\n\u001b[1;32m-> 1135\u001b[1;33m             \u001b[0mself\u001b[0m\u001b[1;33m.\u001b[0m\u001b[0m_engine\u001b[0m \u001b[1;33m=\u001b[0m \u001b[0mCParserWrapper\u001b[0m\u001b[1;33m(\u001b[0m\u001b[0mself\u001b[0m\u001b[1;33m.\u001b[0m\u001b[0mf\u001b[0m\u001b[1;33m,\u001b[0m \u001b[1;33m**\u001b[0m\u001b[0mself\u001b[0m\u001b[1;33m.\u001b[0m\u001b[0moptions\u001b[0m\u001b[1;33m)\u001b[0m\u001b[1;33m\u001b[0m\u001b[1;33m\u001b[0m\u001b[0m\n\u001b[0m\u001b[0;32m   1136\u001b[0m         \u001b[1;32melse\u001b[0m\u001b[1;33m:\u001b[0m\u001b[1;33m\u001b[0m\u001b[1;33m\u001b[0m\u001b[0m\n\u001b[0;32m   1137\u001b[0m             \u001b[1;32mif\u001b[0m \u001b[0mengine\u001b[0m \u001b[1;33m==\u001b[0m \u001b[1;34m\"python\"\u001b[0m\u001b[1;33m:\u001b[0m\u001b[1;33m\u001b[0m\u001b[1;33m\u001b[0m\u001b[0m\n",
      "\u001b[1;32mc:\\Users\\Tony\\Desktop\\github\\Dataquest-modules\\venv\\lib\\site-packages\\pandas\\io\\parsers.py\u001b[0m in \u001b[0;36m__init__\u001b[1;34m(self, src, **kwds)\u001b[0m\n\u001b[0;32m   1915\u001b[0m         \u001b[0mkwds\u001b[0m\u001b[1;33m[\u001b[0m\u001b[1;34m\"usecols\"\u001b[0m\u001b[1;33m]\u001b[0m \u001b[1;33m=\u001b[0m \u001b[0mself\u001b[0m\u001b[1;33m.\u001b[0m\u001b[0musecols\u001b[0m\u001b[1;33m\u001b[0m\u001b[1;33m\u001b[0m\u001b[0m\n\u001b[0;32m   1916\u001b[0m \u001b[1;33m\u001b[0m\u001b[0m\n\u001b[1;32m-> 1917\u001b[1;33m         \u001b[0mself\u001b[0m\u001b[1;33m.\u001b[0m\u001b[0m_reader\u001b[0m \u001b[1;33m=\u001b[0m \u001b[0mparsers\u001b[0m\u001b[1;33m.\u001b[0m\u001b[0mTextReader\u001b[0m\u001b[1;33m(\u001b[0m\u001b[0msrc\u001b[0m\u001b[1;33m,\u001b[0m \u001b[1;33m**\u001b[0m\u001b[0mkwds\u001b[0m\u001b[1;33m)\u001b[0m\u001b[1;33m\u001b[0m\u001b[1;33m\u001b[0m\u001b[0m\n\u001b[0m\u001b[0;32m   1918\u001b[0m         \u001b[0mself\u001b[0m\u001b[1;33m.\u001b[0m\u001b[0munnamed_cols\u001b[0m \u001b[1;33m=\u001b[0m \u001b[0mself\u001b[0m\u001b[1;33m.\u001b[0m\u001b[0m_reader\u001b[0m\u001b[1;33m.\u001b[0m\u001b[0munnamed_cols\u001b[0m\u001b[1;33m\u001b[0m\u001b[1;33m\u001b[0m\u001b[0m\n\u001b[0;32m   1919\u001b[0m \u001b[1;33m\u001b[0m\u001b[0m\n",
      "\u001b[1;32mpandas/_libs/parsers.pyx\u001b[0m in \u001b[0;36mpandas._libs.parsers.TextReader.__cinit__\u001b[1;34m()\u001b[0m\n",
      "\u001b[1;32mpandas/_libs/parsers.pyx\u001b[0m in \u001b[0;36mpandas._libs.parsers.TextReader._setup_parser_source\u001b[1;34m()\u001b[0m\n",
      "\u001b[1;31mFileNotFoundError\u001b[0m: [Errno 2] File b'real_estate_db.csv' does not exist: b'real_estate_db.csv'"
     ]
    }
   ],
   "metadata": {},
   "execution_count": 733
  },
  {
   "source": [
    "df.head(1)\n",
    "len(df)\n",
    ""
   ],
   "cell_type": "code",
   "outputs": [],
   "metadata": {},
   "execution_count": 0
  },
  {
   "source": [
    "df.columns.unique()"
   ],
   "cell_type": "code",
   "outputs": [],
   "metadata": {},
   "execution_count": 0
  },
  {
   "source": [
    "df.isnull().sum().sum()"
   ],
   "cell_type": "code",
   "outputs": [],
   "metadata": {},
   "execution_count": 0
  },
  {
   "cell_type": "markdown",
   "metadata": {},
   "source": [
    "## Graphically locate highest Second Mortgage locations in the Country"
   ]
  },
  {
   "source": [
    "# calculate basic data\n",
    "df['pop_density'] = df['pop'].values/ df['ALand'].values# calculate population density\n",
    "\n",
    "# calculate average median age\n",
    "t_male_yrs       = df.male_age_median.values*df.male_pop.values\n",
    "t_female_yrs     = df.female_age_median.values*df.female_pop.values \n",
    "df['age_median'] = (t_male_yrs + t_female_yrs)/(df.male_pop.values + df.female_pop.values)"
   ],
   "cell_type": "code",
   "outputs": [],
   "metadata": {},
   "execution_count": 0
  },
  {
   "source": [
    "# obtain top x = 2,000 location with the highest second mortgage rates\n",
    "term = 'second_mortgage'; scale = 1000; places = []; \n",
    "limits = [(0,399),(400,799),(800,1199),(1200,1599),(1600,2000)]\n",
    "colors = [\"rgb(0,116,217)\",\"rgb(255,65,54)\",\"rgb(133,20,75)\",\"rgb(255,133,27)\",\"rgb(76, 199, 144)\"]\n",
    "df_pop = df[df['pct_own']> .1][[term,'place','lat','lng','pct_own','pop','age_median']].sort_values(by=term, ascending=False)\n",
    "df_pop['text'] = df_pop.place + '<br>Second Mortgage ' + round(df_pop[term]*1e2,4).astype(str) + '%'\n",
    "\n",
    "# create colors for plot\n",
    "for i in range(len(limits)): \n",
    "    nme = '{0} - {1}'.format(limits[i][0],limits[i][1]); df_sub = df_pop[limits[i][0]:limits[i][1]]; places.append(dict(type = 'scattergeo', \n",
    "    locationmode = 'USA-states', lon = df_sub.lng, lat = df_sub.lat, text = df_sub.text,marker = dict(color = colors[i],\n",
    "    size = list(map(lambda x: 15 + x*scale,df_sub[term].values)),line = dict(width=0.5, color='rgb(40,40,40)'), sizemode = 'area'), name = nme))\n",
    "\n",
    "# set layout data\n",
    "layout = dict(title = '<br>Top 2,000 Highest Second Mortgage Locations<br>', showlegend = True,geo = dict(\n",
    "         scope='usa', projection=dict( type='albers usa' ),showland = True,landcolor = 'rgb(217, 217, 217)',\n",
    "         subunitwidth=1,countrywidth=1, subunitcolor=\"rgb(255, 255, 255)\", countrycolor=\"rgb(255, 255, 255)\"))\n",
    "\n",
    "# display plot\n",
    "fig = dict( data=places, layout=layout )\n",
    "py.iplot( fig, validate=False, filename='d3-mortgage',show_link=False,config={'displayModeBar':False,'showLink': False})\n",
    ""
   ],
   "cell_type": "code",
   "outputs": [],
   "metadata": {},
   "execution_count": 0
  },
  {
   "cell_type": "markdown",
   "metadata": {},
   "source": [
    "## Cleanup Data in below step by step process where we also have eliminated duplicate or bad records"
   ]
  },
  {
   "source": [
    "df.drop(['used_samples', 'universe_samples', 'hc_mortgage_median','family_median',\\\n",
    "         'hi_median','pop','female_pop','hc_median','female_age_samples','UID','hi_mean',\\\n",
    "         'female_age_median','hi_stdev','male_age_median','hc_samples','rent_median',\\\n",
    "         'female_age_sample_weight','male_age_sample_weight','male_age_sample_weight',\\\n",
    "         'rent_gt_35','rent_gt_40','rent_stdev','rent_gt_50','rent_gt_10','rent_gt_15',\\\n",
    "         'rent_gt_20','rent_gt_25','rent_sample_weight','type','hc_sample_weight','male_age_samples','area_code',\\\n",
    "         'hc_stdev','rent_sample_weight','family_sample_weight','state_ab','female_age_stdev','rent_samples',\\\n",
    "         'hi_sample_weight','hc_mortgage_sample_weight','second_mortgage_cdf','home_equity_cdf',\\\n",
    "         'COUNTYID','STATEID','SUMLEVEL','ALand','AWater','hi_samples',\\\n",
    "         'hc_mortgage_stdev','hc_mortgage_samples','hc_mean','male_age_stdev',\\\n",
    "         'home_equity_second_mortgage','family_stdev','BLOCKID','primary','lat','lng','place','male_pop',\\\n",
    "         'rent_gt_30'], axis=1, inplace=True)"
   ],
   "cell_type": "code",
   "outputs": [],
   "metadata": {},
   "execution_count": 0
  },
  {
   "source": [
    "df.columns.unique()"
   ],
   "cell_type": "code",
   "outputs": [],
   "metadata": {},
   "execution_count": 0
  },
  {
   "source": [
    "df.head()"
   ],
   "cell_type": "code",
   "outputs": [],
   "metadata": {},
   "execution_count": 0
  },
  {
   "source": [
    "for x in df.columns:\n",
    "    print (x + ':' + str(df[x].nunique()))"
   ],
   "cell_type": "code",
   "outputs": [],
   "metadata": {},
   "execution_count": 0
  },
  {
   "source": [
    "df.head()"
   ],
   "cell_type": "code",
   "outputs": [],
   "metadata": {},
   "execution_count": 0
  },
  {
   "source": [
    "df.shape"
   ],
   "cell_type": "code",
   "outputs": [],
   "metadata": {},
   "execution_count": 0
  },
  {
   "source": [
    "df.isna().sum().sum()"
   ],
   "cell_type": "code",
   "outputs": [],
   "metadata": {},
   "execution_count": 0
  },
  {
   "source": [
    "df.dropna(inplace=True)"
   ],
   "cell_type": "code",
   "outputs": [],
   "metadata": {},
   "execution_count": 0
  },
  {
   "source": [
    "df.shape"
   ],
   "cell_type": "code",
   "outputs": [],
   "metadata": {},
   "execution_count": 0
  },
  {
   "source": [
    "df.head()"
   ],
   "cell_type": "code",
   "outputs": [],
   "metadata": {},
   "execution_count": 0
  },
  {
   "source": [
    "df.groupby(['state'])[ 'rent_mean'].max().sort_values(ascending=False).nlargest(5)"
   ],
   "cell_type": "code",
   "outputs": [],
   "metadata": {},
   "execution_count": 0
  },
  {
   "cell_type": "markdown",
   "metadata": {},
   "source": [
    "### Excluding records where rent_mean is 3962.34229 due to bad record"
   ]
  },
  {
   "source": [
    "df[df.rent_mean >= 3962]"
   ],
   "cell_type": "code",
   "outputs": [],
   "metadata": {},
   "execution_count": 0
  },
  {
   "source": [
    "df.shape"
   ],
   "cell_type": "code",
   "outputs": [],
   "metadata": {},
   "execution_count": 0
  },
  {
   "source": [
    "df_1_rent = df[(df.rent_mean <= 3962) ]"
   ],
   "cell_type": "code",
   "outputs": [],
   "metadata": {},
   "execution_count": 0
  },
  {
   "cell_type": "markdown",
   "metadata": {},
   "source": [
    "#### Highest Rents"
   ]
  },
  {
   "source": [
    "df_1_rent.groupby(['state'])[ 'rent_mean'].mean().sort_values(ascending=False).nlargest(5)"
   ],
   "cell_type": "code",
   "outputs": [],
   "metadata": {},
   "execution_count": 0
  },
  {
   "cell_type": "markdown",
   "metadata": {},
   "source": [
    "#### Lowest Rents"
   ]
  },
  {
   "source": [
    "df_1_rent.groupby(['state'])[ 'rent_mean'].mean().sort_values(ascending=False).nsmallest(5)"
   ],
   "cell_type": "code",
   "outputs": [],
   "metadata": {},
   "execution_count": 0
  },
  {
   "cell_type": "markdown",
   "metadata": {},
   "source": [
    "#### Highest Mortgage"
   ]
  },
  {
   "source": [
    "df_1_rent.groupby(['state'])[ 'hc_mortgage_mean'].mean().sort_values(ascending=False).nlargest(5)"
   ],
   "cell_type": "code",
   "outputs": [],
   "metadata": {},
   "execution_count": 0
  },
  {
   "cell_type": "markdown",
   "metadata": {},
   "source": [
    "#### Lowest Mortgage"
   ]
  },
  {
   "source": [
    "df_1_rent.groupby(['state'])[ 'hc_mortgage_mean'].mean().sort_values(ascending=False).nsmallest(5)"
   ],
   "cell_type": "code",
   "outputs": [],
   "metadata": {},
   "execution_count": 0
  },
  {
   "source": [
    "df_1_rent.groupby(['state'])[ 'family_mean'].max().sort_values(ascending=False).nlargest(10)"
   ],
   "cell_type": "code",
   "outputs": [],
   "metadata": {},
   "execution_count": 0
  },
  {
   "cell_type": "markdown",
   "metadata": {},
   "source": [
    "### Excluding records where family_mean is 242857.1429 due to bad record"
   ]
  },
  {
   "source": [
    "df_2_rent_family = df_1_rent[df_1_rent.family_mean <= 242857]"
   ],
   "cell_type": "code",
   "outputs": [],
   "metadata": {},
   "execution_count": 0
  },
  {
   "cell_type": "markdown",
   "metadata": {},
   "source": [
    "#### Highest Family Income"
   ]
  },
  {
   "source": [
    "df_2_rent_family.groupby(['state'])[ 'family_mean'].mean().sort_values(ascending=False).nlargest(5)"
   ],
   "cell_type": "code",
   "outputs": [],
   "metadata": {},
   "execution_count": 0
  },
  {
   "cell_type": "markdown",
   "metadata": {},
   "source": [
    "#### Lowest Family Income"
   ]
  },
  {
   "source": [
    "df_2_rent_family.groupby(['state'])[ 'family_mean'].mean().sort_values(ascending=False).nsmallest(5)"
   ],
   "cell_type": "code",
   "outputs": [],
   "metadata": {},
   "execution_count": 0
  },
  {
   "source": [
    "pd.set_option('display.max_columns',100)"
   ],
   "cell_type": "code",
   "outputs": [],
   "metadata": {},
   "execution_count": 0
  },
  {
   "source": [
    "df_2_rent_family.head()"
   ],
   "cell_type": "code",
   "outputs": [],
   "metadata": {},
   "execution_count": 0
  },
  {
   "source": [
    "df_2_rent_family['savings_after_rent'] = (df_2_rent_family.family_mean - df_2_rent_family.rent_mean*12)"
   ],
   "cell_type": "code",
   "outputs": [],
   "metadata": {},
   "execution_count": 0
  },
  {
   "source": [
    "df_2_rent_family['savings_after_mortgage'] = (df_2_rent_family.family_mean - df_2_rent_family.hc_mortgage_mean*12)"
   ],
   "cell_type": "code",
   "outputs": [],
   "metadata": {},
   "execution_count": 0
  },
  {
   "source": [
    "df_2_rent_family.head()"
   ],
   "cell_type": "code",
   "outputs": [],
   "metadata": {},
   "execution_count": 0
  },
  {
   "cell_type": "markdown",
   "metadata": {},
   "source": [
    "#### Highest Savings after Rent"
   ]
  },
  {
   "source": [
    "df_2_rent_family.groupby(['state'])[ 'savings_after_rent'].mean().sort_values(ascending=False).nlargest(5)"
   ],
   "cell_type": "code",
   "outputs": [],
   "metadata": {},
   "execution_count": 0
  },
  {
   "cell_type": "markdown",
   "metadata": {},
   "source": [
    "#### Highest Savings after Mortgage"
   ]
  },
  {
   "source": [
    "df_2_rent_family.groupby(['state'])[ 'savings_after_mortgage'].mean().sort_values(ascending=False).nlargest(5)"
   ],
   "cell_type": "code",
   "outputs": [],
   "metadata": {},
   "execution_count": 0
  },
  {
   "cell_type": "markdown",
   "metadata": {},
   "source": [
    "#### Lowest Savings after Rent"
   ]
  },
  {
   "source": [
    "df_2_rent_family.groupby(['state'])[ 'savings_after_rent'].mean().sort_values(ascending=False).nsmallest(5)"
   ],
   "cell_type": "code",
   "outputs": [],
   "metadata": {},
   "execution_count": 0
  },
  {
   "cell_type": "markdown",
   "metadata": {},
   "source": [
    "#### Lowest Savings after Mortgage"
   ]
  },
  {
   "source": [
    "df_2_rent_family.groupby(['state'])[ 'savings_after_mortgage'].mean().sort_values(ascending=False).nsmallest(5)"
   ],
   "cell_type": "code",
   "outputs": [],
   "metadata": {},
   "execution_count": 0
  },
  {
   "cell_type": "markdown",
   "metadata": {},
   "source": [
    "#### Highest Percent owner households"
   ]
  },
  {
   "source": [
    "df_2_rent_family.groupby(['state'])[ 'pct_own'].mean().sort_values(ascending=False).nlargest(5)"
   ],
   "cell_type": "code",
   "outputs": [],
   "metadata": {},
   "execution_count": 0
  },
  {
   "cell_type": "markdown",
   "metadata": {},
   "source": [
    "# Dennis to add Graph here"
   ]
  },
  {
   "cell_type": "code",
   "execution_count": null,
   "metadata": {},
   "outputs": [],
   "source": []
  },
  {
   "cell_type": "code",
   "execution_count": null,
   "metadata": {},
   "outputs": [],
   "source": []
  },
  {
   "source": [
    "df_Maine = df_2_rent_family[df_2_rent_family.state=='Maine']\n",
    "df_Maine.head(2)"
   ],
   "cell_type": "code",
   "outputs": [],
   "metadata": {},
   "execution_count": 0
  },
  {
   "source": [
    "df_Maine.family_mean.mean()"
   ],
   "cell_type": "code",
   "outputs": [],
   "metadata": {},
   "execution_count": 0
  },
  {
   "source": [
    "df_Maine.hc_mortgage_mean.mean()"
   ],
   "cell_type": "code",
   "outputs": [],
   "metadata": {},
   "execution_count": 0
  },
  {
   "source": [
    "df_Maine.savings_after_mortgage.mean()"
   ],
   "cell_type": "code",
   "outputs": [],
   "metadata": {},
   "execution_count": 0
  },
  {
   "cell_type": "markdown",
   "metadata": {},
   "source": [
    "#### Highest Percent renter households (Lowest Percent owner households)"
   ]
  },
  {
   "source": [
    "df_2_rent_family.groupby(['state'])[ 'pct_own'].mean().sort_values(ascending=False).nsmallest(5)"
   ],
   "cell_type": "code",
   "outputs": [],
   "metadata": {},
   "execution_count": 0
  },
  {
   "cell_type": "markdown",
   "metadata": {},
   "source": [
    "# Dennis to add Graph here"
   ]
  },
  {
   "cell_type": "code",
   "execution_count": null,
   "metadata": {},
   "outputs": [],
   "source": []
  },
  {
   "cell_type": "code",
   "execution_count": null,
   "metadata": {},
   "outputs": [],
   "source": []
  },
  {
   "source": [
    "df.head()"
   ],
   "cell_type": "code",
   "outputs": [],
   "metadata": {},
   "execution_count": 0
  },
  {
   "cell_type": "markdown",
   "metadata": {},
   "source": [
    "#### Highest Debt"
   ]
  },
  {
   "source": [
    "df_2_rent_family.groupby(['state'])[ 'debt'].mean().sort_values(ascending=False).nlargest(5)"
   ],
   "cell_type": "code",
   "outputs": [],
   "metadata": {},
   "execution_count": 0
  },
  {
   "cell_type": "markdown",
   "metadata": {},
   "source": [
    "#### Lowest Debt"
   ]
  },
  {
   "source": [
    "df_2_rent_family.groupby(['state'])[ 'debt'].mean().sort_values(ascending=False).nsmallest(5)"
   ],
   "cell_type": "code",
   "outputs": [],
   "metadata": {},
   "execution_count": 0
  },
  {
   "cell_type": "markdown",
   "metadata": {},
   "source": [
    "#### Highest Percentage of people with at least high school degree"
   ]
  },
  {
   "source": [
    "df_2_rent_family.groupby(['state'])[ 'hs_degree'].mean().sort_values(ascending=False).nlargest(5)"
   ],
   "cell_type": "code",
   "outputs": [],
   "metadata": {},
   "execution_count": 0
  },
  {
   "cell_type": "markdown",
   "metadata": {},
   "source": [
    "#### Lowest Percentage of people with at least high school degree"
   ]
  },
  {
   "source": [
    "df_2_rent_family.groupby(['state'])[ 'hs_degree'].mean().sort_values(ascending=False).nsmallest(5)"
   ],
   "cell_type": "code",
   "outputs": [],
   "metadata": {},
   "execution_count": 0
  },
  {
   "source": [
    "df.head()"
   ],
   "cell_type": "code",
   "outputs": [],
   "metadata": {},
   "execution_count": 0
  },
  {
   "source": [
    "df_2_rent_family['bad_debt'] = (df_2_rent_family.second_mortgage + df_2_rent_family.home_equity)"
   ],
   "cell_type": "code",
   "outputs": [],
   "metadata": {},
   "execution_count": 0
  },
  {
   "source": [
    "df_2_rent_family.head()"
   ],
   "cell_type": "code",
   "outputs": [],
   "metadata": {},
   "execution_count": 0
  },
  {
   "cell_type": "markdown",
   "metadata": {},
   "source": [
    "#### Highest Percentage of houses with bad debt ( second mortgage or home equity loan) sorted by State "
   ]
  },
  {
   "source": [
    "df_2_rent_family.groupby(['state'])[ 'bad_debt'].mean().sort_values(ascending=False).nlargest(5)"
   ],
   "cell_type": "code",
   "outputs": [],
   "metadata": {},
   "execution_count": 0
  },
  {
   "source": [
    "df_2_rent_family.groupby(['state'])[ 'home_equity'].mean().sort_values(ascending=False).nlargest(5)"
   ],
   "cell_type": "code",
   "outputs": [],
   "metadata": {},
   "execution_count": 0
  },
  {
   "source": [
    "df_2_rent_family.groupby(['state'])[ 'second_mortgage'].mean().sort_values(ascending=False).nlargest(5)"
   ],
   "cell_type": "code",
   "outputs": [],
   "metadata": {},
   "execution_count": 0
  },
  {
   "cell_type": "markdown",
   "metadata": {},
   "source": [
    "#### Lowest Percentage of houses with bad debt ( second mortgage or home equity loan) sorted by State "
   ]
  },
  {
   "source": [
    "df_2_rent_family.groupby(['state'])[ 'bad_debt'].mean().sort_values(ascending=False).nsmallest(5)"
   ],
   "cell_type": "code",
   "outputs": [],
   "metadata": {},
   "execution_count": 0
  },
  {
   "source": [
    "df_2_rent_family.groupby(['state'])[ 'home_equity'].mean().sort_values(ascending=False).nsmallest(5)"
   ],
   "cell_type": "code",
   "outputs": [],
   "metadata": {},
   "execution_count": 0
  },
  {
   "source": [
    "df_2_rent_family.groupby(['state'])[ 'second_mortgage'].mean().sort_values(ascending=False).nsmallest(5)"
   ],
   "cell_type": "code",
   "outputs": [],
   "metadata": {},
   "execution_count": 0
  },
  {
   "source": [
    "df_Maine = df_2_rent_family[df_2_rent_family.state=='Maine']\n",
    "df_Maine.head(2)"
   ],
   "cell_type": "code",
   "outputs": [],
   "metadata": {},
   "execution_count": 0
  },
  {
   "source": [
    "df_Maine.bad_debt.mean()"
   ],
   "cell_type": "code",
   "outputs": [],
   "metadata": {},
   "execution_count": 0
  },
  {
   "source": [
    "df_2_rent_family.bad_debt.median()"
   ],
   "cell_type": "code",
   "outputs": [],
   "metadata": {},
   "execution_count": 0
  },
  {
   "source": [
    "df_2_rent_family.head(2)"
   ],
   "cell_type": "code",
   "outputs": [],
   "metadata": {},
   "execution_count": 0
  },
  {
   "source": [
    "df_2_rent_family.female_age_mean.max()"
   ],
   "cell_type": "code",
   "outputs": [],
   "metadata": {},
   "execution_count": 0
  },
  {
   "source": [
    "df.head()"
   ],
   "cell_type": "code",
   "outputs": [],
   "metadata": {},
   "execution_count": 0
  },
  {
   "cell_type": "markdown",
   "metadata": {},
   "source": [
    "#### Let's try to train a decision tree to predict Bad Debt"
   ]
  },
  {
   "source": [
    "dt = tree.DecisionTreeClassifier(max_depth=2)"
   ],
   "cell_type": "code",
   "outputs": [],
   "metadata": {},
   "execution_count": 0
  },
  {
   "source": [
    "type(dt)"
   ],
   "cell_type": "code",
   "outputs": [],
   "metadata": {},
   "execution_count": 0
  },
  {
   "source": [
    "df.head()"
   ],
   "cell_type": "code",
   "outputs": [],
   "metadata": {},
   "execution_count": 0
  },
  {
   "source": [
    "df3=df_2_rent_family.copy()"
   ],
   "cell_type": "code",
   "outputs": [],
   "metadata": {},
   "execution_count": 0
  },
  {
   "source": [
    "df3.head()"
   ],
   "cell_type": "code",
   "outputs": [],
   "metadata": {},
   "execution_count": 0
  },
  {
   "source": [
    "df3['state'].nunique()"
   ],
   "cell_type": "code",
   "outputs": [],
   "metadata": {},
   "execution_count": 0
  },
  {
   "source": [
    "df3['city'].nunique()"
   ],
   "cell_type": "code",
   "outputs": [],
   "metadata": {},
   "execution_count": 0
  },
  {
   "source": [
    "df.columns"
   ],
   "cell_type": "code",
   "outputs": [],
   "metadata": {},
   "execution_count": 0
  },
  {
   "cell_type": "markdown",
   "metadata": {},
   "source": [
    "#### Remove City, Zip_Code,rent_mean, hc_mortgage_mean, second_mortgage, home_equity,debt, debt_cdf,hs_degree_male, hs_degree_female:21409, "
   ]
  },
  {
   "source": [
    "df3.head()"
   ],
   "cell_type": "code",
   "outputs": [],
   "metadata": {},
   "execution_count": 0
  },
  {
   "source": [
    "df3.drop(['city', 'zip_code', 'rent_mean','hc_mortgage_mean',\\\n",
    "         'second_mortgage','home_equity','debt','debt_cdf','hs_degree_male','hs_degree_female','female_age_mean',\\\n",
    "         'savings_after_rent'], axis=1, inplace=True)"
   ],
   "cell_type": "code",
   "outputs": [],
   "metadata": {},
   "execution_count": 0
  },
  {
   "source": [
    "df3.head()"
   ],
   "cell_type": "code",
   "outputs": [],
   "metadata": {},
   "execution_count": 0
  },
  {
   "cell_type": "code",
   "execution_count": null,
   "metadata": {},
   "outputs": [],
   "source": []
  },
  {
   "source": [
    "df3.corr()"
   ],
   "cell_type": "code",
   "outputs": [],
   "metadata": {},
   "execution_count": 0
  },
  {
   "cell_type": "markdown",
   "metadata": {},
   "source": [
    "#### Dropping family_mean due to high corelation with savings_after_mortgage"
   ]
  },
  {
   "source": [
    "df3.drop('family_mean', axis=1,inplace=True)"
   ],
   "cell_type": "code",
   "outputs": [],
   "metadata": {},
   "execution_count": 0
  },
  {
   "source": [
    "df3['Savings_atleast_50K'] = df3['savings_after_mortgage'].apply(lambda x: 1 if x >= 50000 else 0 )"
   ],
   "cell_type": "code",
   "outputs": [],
   "metadata": {},
   "execution_count": 0
  },
  {
   "source": [
    "df3.head()"
   ],
   "cell_type": "code",
   "outputs": [],
   "metadata": {},
   "execution_count": 0
  },
  {
   "source": [
    "df3.drop('savings_after_mortgage', axis=1,inplace=True)"
   ],
   "cell_type": "code",
   "outputs": [],
   "metadata": {},
   "execution_count": 0
  },
  {
   "source": [
    "df3.drop('pct_own', axis=1,inplace=True)"
   ],
   "cell_type": "code",
   "outputs": [],
   "metadata": {},
   "execution_count": 0
  },
  {
   "source": [
    "df3.head()"
   ],
   "cell_type": "code",
   "outputs": [],
   "metadata": {},
   "execution_count": 0
  },
  {
   "source": [
    "df3 = pd.get_dummies(df3, columns=['state'], dummy_na=True)"
   ],
   "cell_type": "code",
   "outputs": [],
   "metadata": {},
   "execution_count": 0
  },
  {
   "source": [
    "df3.head(1)"
   ],
   "cell_type": "code",
   "outputs": [],
   "metadata": {},
   "execution_count": 0
  },
  {
   "cell_type": "markdown",
   "metadata": {},
   "source": [
    "## Train the decision tree"
   ]
  },
  {
   "source": [
    "Y = df3.Savings_atleast_50K"
   ],
   "cell_type": "code",
   "outputs": [],
   "metadata": {},
   "execution_count": 0
  },
  {
   "source": [
    "X = df3.drop('Savings_atleast_50K', axis=1)"
   ],
   "cell_type": "code",
   "outputs": [],
   "metadata": {},
   "execution_count": 0
  },
  {
   "source": [
    "dt.fit(X,Y)"
   ],
   "cell_type": "code",
   "outputs": [],
   "metadata": {},
   "execution_count": 0
  },
  {
   "source": [
    "# This code will visualize a decision tree dt, trained with the attributes in X and the class labels in Y\n",
    "import os\n",
    "os.environ[\"PATH\"] += os.pathsep + r'C:\\Users\\indra.chatterjee\\Anaconda3\\Library\\bin\\graphviz'\n",
    "dt_feature_names = list(X.columns)\n",
    "dt_target_names = [str(s) for s in Y.unique()]\n",
    "tree.export_graphviz(dt, out_file='tree.dot', \n",
    "    feature_names=dt_feature_names, class_names=dt_target_names,\n",
    "    filled=True)  \n",
    "graph = pydotplus.graph_from_dot_file('tree.dot')\n",
    "Image(graph.create_png())"
   ],
   "cell_type": "code",
   "outputs": [],
   "metadata": {},
   "execution_count": 0
  },
  {
   "cell_type": "code",
   "execution_count": null,
   "metadata": {},
   "outputs": [],
   "source": []
  },
  {
   "cell_type": "code",
   "execution_count": null,
   "metadata": {},
   "outputs": [],
   "source": []
  },
  {
   "cell_type": "code",
   "execution_count": null,
   "metadata": {},
   "outputs": [],
   "source": []
  }
 ],
 "metadata": {
  "kernelspec": {
   "display_name": "Python 3",
   "language": "python",
   "name": "python3"
  },
  "language_info": {
   "codemirror_mode": {
    "name": "ipython",
    "version": 3
   },
   "file_extension": ".py",
   "mimetype": "text/x-python",
   "name": "python",
   "nbconvert_exporter": "python",
   "pygments_lexer": "ipython3",
   "version": "3.7.4"
  }
 },
 "nbformat": 4,
 "nbformat_minor": 2
}