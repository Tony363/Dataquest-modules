{
 "cells": [
  {
   "cell_type": "markdown",
   "metadata": {},
   "source": [
    "## Title\n",
    "- first bulletin\n",
    "- second bulletin\n",
    "- here is a [stackoverflow guiding you for hyper links](https://stackoverflow.com/questions/25692293/inserting-a-link-to-a-webpage-in-an-ipython-notebook)"
   ]
  },
  {
   "cell_type": "code",
   "execution_count": 7,
   "metadata": {},
   "outputs": [],
   "source": [
    "import csv\n",
    "import pandas as pd\n",
    "import os\n"
   ]
  },
  {
   "cell_type": "code",
   "execution_count": 9,
   "metadata": {},
   "outputs": [
    {
     "name": "stdout",
     "output_type": "stream",
     "text": [
      "[1, 2, 3, 4, 5, 6, 7, 8, 9, 10, 11, 12, 13, 14, 15, 16, 17, 18, 19, 20, 21, 22, 23, 24]\n"
     ]
    }
   ],
   "source": [
    "\n",
    "new_format = []\n",
    "\n",
    "INPUT_DIR = r\"C:\\Users\\Tony\\Desktop\\github\\xgboost-with-raymond\\excel\"\n",
    "\n",
    "for filename in os.listdir(INPUT_DIR):\n",
    "\n",
    "    with open(os.path.join(INPUT_DIR,filename), 'r+', encoding= 'utf-8-sig') as infile:#encoding='utf-8'\n",
    "        \n",
    "        head = csv.reader(infile)\n",
    "\n",
    "        for row in head:\n",
    "            # if 'ï»¿' in row:\n",
    "            #     continue\n",
    "            new_format.append(int(row[0]))\n",
    "\n",
    "print(new_format)\n",
    "\n",
    "\n",
    "with open('Formated.csv', 'w', newline='') as myfile:\n",
    "     wr = csv.writer(myfile, quoting=csv.QUOTE_ALL)\n",
    "     for row in new_format:\n",
    "        wr.writerow([row])"
   ]
  },
  {
   "cell_type": "code",
   "execution_count": 17,
   "metadata": {},
   "outputs": [],
   "source": [
    "pd.DataFrame?"
   ]
  },
  {
   "cell_type": "code",
   "execution_count": null,
   "metadata": {},
   "outputs": [],
   "source": []
  }
 ],
 "metadata": {
  "kernelspec": {
   "display_name": "Python 3",
   "language": "python",
   "name": "python3"
  },
  "language_info": {
   "codemirror_mode": {
    "name": "ipython",
    "version": 3
   },
   "file_extension": ".py",
   "mimetype": "text/x-python",
   "name": "python",
   "nbconvert_exporter": "python",
   "pygments_lexer": "ipython3",
   "version": "3.7.4"
  }
 },
 "nbformat": 4,
 "nbformat_minor": 2
}
