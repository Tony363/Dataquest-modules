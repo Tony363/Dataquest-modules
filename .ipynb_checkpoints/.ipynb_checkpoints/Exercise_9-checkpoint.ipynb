{
 "cells": [
  {
   "cell_type": "code",
   "execution_count": null,
   "metadata": {},
   "outputs": [],
   "source": [
    "import numpy as np\n",
    "import pandas as pd\n",
    "from datetime import datetime\n",
    "\n",
    "fullpath = r\"C:\\Users\\Tony\\Downloads\\201406hourlySS.txt\"\n",
    "# fullpath = filepath + filename\n",
    "dateCols = ['Date','Time']\n",
    "df = pd.read_csv(fullpath, nrows=500, usecols=[1, 2, 12], parse_dates=dateCols)\n",
    "#df = pd.read_csv(fullpath, nrows=50000, usecols=[2])\n",
    "\n",
    "#print(df.describe())\n",
    "df.dropna\n",
    "time = df['Time'].apply(lambda x: x.strptime('%H:%M'))\n",
    "print(time)\n"
   ]
  }
 ],
 "metadata": {
  "kernelspec": {
   "display_name": "Python 3",
   "language": "python",
   "name": "python3"
  },
  "language_info": {
   "codemirror_mode": {
    "name": "ipython",
    "version": 3
   },
   "file_extension": ".py",
   "mimetype": "text/x-python",
   "name": "python",
   "nbconvert_exporter": "python",
   "pygments_lexer": "ipython3",
   "version": "3.7.4"
  }
 },
 "nbformat": 4,
 "nbformat_minor": 2
}
