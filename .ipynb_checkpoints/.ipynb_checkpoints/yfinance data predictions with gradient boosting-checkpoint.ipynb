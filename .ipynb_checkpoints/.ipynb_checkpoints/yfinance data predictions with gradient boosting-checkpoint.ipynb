{
 "cells": [
  {
   "cell_type": "markdown",
   "metadata": {},
   "source": [
    "## stock ADVC from New York stock exchange"
   ]
  },
  {
   "cell_type": "code",
   "execution_count": 1,
   "metadata": {},
   "outputs": [
    {
     "data": {
      "text/plain": [
       "{'zip': '45431',\n",
       " 'sector': 'Technology',\n",
       " 'fullTimeEmployees': 67,\n",
       " 'longBusinessSummary': 'Advant-e Corporation, through its subsidiaries, develops, markets, resells, and hosts software; and provides services that allow its customers to send and receive business documents electronically in standard and proprietary formats. The company offers hosted electronic data interchange (EDI) solutions that utilize the Internet as the communications method to connect with business partners, integrate data with internal systems, expand and manage electronic trading communities, and validate data through a hosted business rule service. The company also develops and resells software; and provides professional, and technical maintenance and support services that enables customers to automate delivery and receipt of business documents. Advant-e Corporation was founded in 1994 and is based in Beavercreek, Ohio.',\n",
       " 'city': 'Beavercreek',\n",
       " 'phone': '937-429-4288',\n",
       " 'state': 'OH',\n",
       " 'country': 'United States',\n",
       " 'companyOfficers': [],\n",
       " 'website': 'http://www.advant-e.com',\n",
       " 'maxAge': 1,\n",
       " 'address1': '2434 Esquire Drive',\n",
       " 'fax': '937-429-4309',\n",
       " 'industry': 'Software—Application',\n",
       " 'previousClose': 5.05,\n",
       " 'regularMarketOpen': 5.33,\n",
       " 'twoHundredDayAverage': 4.8003573,\n",
       " 'trailingAnnualDividendYield': None,\n",
       " 'payoutRatio': None,\n",
       " 'volume24Hr': None,\n",
       " 'regularMarketDayHigh': 5.33,\n",
       " 'navPrice': None,\n",
       " 'averageDailyVolume10Day': 14,\n",
       " 'totalAssets': None,\n",
       " 'regularMarketPreviousClose': 5.05,\n",
       " 'fiftyDayAverage': 4.8450003,\n",
       " 'trailingAnnualDividendRate': None,\n",
       " 'open': 5.33,\n",
       " 'averageVolume10days': 14,\n",
       " 'expireDate': None,\n",
       " 'yield': None,\n",
       " 'algorithm': None,\n",
       " 'dividendRate': 0.4,\n",
       " 'exDividendDate': 1549324800,\n",
       " 'beta': -0.329679,\n",
       " 'circulatingSupply': None,\n",
       " 'startDate': None,\n",
       " 'regularMarketDayLow': 5.33,\n",
       " 'priceHint': 2,\n",
       " 'currency': 'USD',\n",
       " 'trailingPE': 17.649008,\n",
       " 'regularMarketVolume': 100,\n",
       " 'lastMarket': None,\n",
       " 'maxSupply': None,\n",
       " 'openInterest': None,\n",
       " 'marketCap': 34010408,\n",
       " 'volumeAllCurrencies': None,\n",
       " 'strikePrice': None,\n",
       " 'averageVolume': 349,\n",
       " 'priceToSalesTrailing12Months': 3.365352,\n",
       " 'dayLow': 5.33,\n",
       " 'ask': None,\n",
       " 'ytdReturn': None,\n",
       " 'askSize': None,\n",
       " 'volume': 100,\n",
       " 'fiftyTwoWeekHigh': 6,\n",
       " 'forwardPE': None,\n",
       " 'fromCurrency': None,\n",
       " 'fiveYearAvgDividendYield': None,\n",
       " 'fiftyTwoWeekLow': 3.99,\n",
       " 'bid': None,\n",
       " 'tradeable': True,\n",
       " 'dividendYield': 0.0792,\n",
       " 'bidSize': None,\n",
       " 'dayHigh': 5.33,\n",
       " 'exchange': 'PNK',\n",
       " 'shortName': 'ADVANT-E CORP',\n",
       " 'longName': 'Advant-e Corp.',\n",
       " 'exchangeTimezoneName': 'America/New_York',\n",
       " 'exchangeTimezoneShortName': 'EST',\n",
       " 'isEsgPopulated': False,\n",
       " 'gmtOffSetMilliseconds': '-18000000',\n",
       " 'quoteType': 'EQUITY',\n",
       " 'symbol': 'ADVC',\n",
       " 'messageBoardId': 'finmb_747508',\n",
       " 'market': 'us_market',\n",
       " 'annualHoldingsTurnover': None,\n",
       " 'enterpriseToRevenue': 2.714,\n",
       " 'beta3Year': None,\n",
       " 'profitMargins': 0.19798,\n",
       " 'enterpriseToEbitda': 8.523,\n",
       " '52WeekChange': 0,\n",
       " 'morningStarRiskRating': None,\n",
       " 'forwardEps': None,\n",
       " 'revenueQuarterlyGrowth': None,\n",
       " 'sharesOutstanding': 5967360,\n",
       " 'fundInceptionDate': None,\n",
       " 'annualReportExpenseRatio': None,\n",
       " 'bookValue': 0.772,\n",
       " 'sharesShort': None,\n",
       " 'sharesPercentSharesOut': None,\n",
       " 'fundFamily': None,\n",
       " 'lastFiscalYearEnd': 1356912000,\n",
       " 'heldPercentInstitutions': 0,\n",
       " 'netIncomeToCommon': 2000842,\n",
       " 'trailingEps': 0.302,\n",
       " 'lastDividendValue': None,\n",
       " 'SandP52WeekChange': 0.29242265,\n",
       " 'priceToBook': 6.904145,\n",
       " 'heldPercentInsiders': 0,\n",
       " 'nextFiscalYearEnd': 1419984000,\n",
       " 'mostRecentQuarter': 1356912000,\n",
       " 'shortRatio': None,\n",
       " 'sharesShortPreviousMonthDate': None,\n",
       " 'floatShares': None,\n",
       " 'enterpriseValue': 27425332,\n",
       " 'threeYearAverageReturn': None,\n",
       " 'lastSplitDate': 1465516800,\n",
       " 'lastSplitFactor': '10/1',\n",
       " 'legalType': None,\n",
       " 'morningStarOverallRating': None,\n",
       " 'earningsQuarterlyGrowth': 0.155,\n",
       " 'dateShortInterest': None,\n",
       " 'pegRatio': None,\n",
       " 'lastCapGain': None,\n",
       " 'shortPercentOfFloat': None,\n",
       " 'sharesShortPriorMonth': None,\n",
       " 'category': None,\n",
       " 'fiveYearAverageReturn': None,\n",
       " 'regularMarketPrice': 5.33,\n",
       " 'logo_url': 'https://logo.clearbit.com/advant-e.com'}"
      ]
     },
     "execution_count": 1,
     "metadata": {},
     "output_type": "execute_result"
    }
   ],
   "source": [
    "import yfinance as yf\n",
    "\n",
    "advc = yf.Ticker('ADVC')\n",
    "\n",
    "advc.info\n",
    "\n"
   ]
  },
  {
   "cell_type": "code",
   "execution_count": 2,
   "metadata": {},
   "outputs": [],
   "source": [
    "hist = advc.history(period='max')"
   ]
  },
  {
   "cell_type": "code",
   "execution_count": 3,
   "metadata": {},
   "outputs": [
    {
     "data": {
      "text/plain": [
       "pandas.core.frame.DataFrame"
      ]
     },
     "execution_count": 3,
     "metadata": {},
     "output_type": "execute_result"
    }
   ],
   "source": [
    "type(hist)"
   ]
  },
  {
   "cell_type": "code",
   "execution_count": 4,
   "metadata": {},
   "outputs": [],
   "source": [
    "import pandas as pd\n",
    "hist = pd.DataFrame(hist)\n"
   ]
  },
  {
   "cell_type": "code",
   "execution_count": 5,
   "metadata": {},
   "outputs": [
    {
     "data": {
      "text/plain": [
       "Index(['Open', 'High', 'Low', 'Close', 'Volume', 'Dividends', 'Stock Splits'], dtype='object')"
      ]
     },
     "execution_count": 5,
     "metadata": {},
     "output_type": "execute_result"
    }
   ],
   "source": [
    "hist.columns"
   ]
  },
  {
   "cell_type": "markdown",
   "metadata": {},
   "source": [
    "## history of stock values"
   ]
  },
  {
   "cell_type": "code",
   "execution_count": 6,
   "metadata": {},
   "outputs": [
    {
     "data": {
      "text/html": [
       "<div>\n",
       "<style scoped>\n",
       "    .dataframe tbody tr th:only-of-type {\n",
       "        vertical-align: middle;\n",
       "    }\n",
       "\n",
       "    .dataframe tbody tr th {\n",
       "        vertical-align: top;\n",
       "    }\n",
       "\n",
       "    .dataframe thead th {\n",
       "        text-align: right;\n",
       "    }\n",
       "</style>\n",
       "<table border=\"1\" class=\"dataframe\">\n",
       "  <thead>\n",
       "    <tr style=\"text-align: right;\">\n",
       "      <th></th>\n",
       "      <th>Open</th>\n",
       "      <th>High</th>\n",
       "      <th>Low</th>\n",
       "      <th>Close</th>\n",
       "      <th>Volume</th>\n",
       "      <th>Dividends</th>\n",
       "      <th>Stock Splits</th>\n",
       "    </tr>\n",
       "    <tr>\n",
       "      <th>Date</th>\n",
       "      <th></th>\n",
       "      <th></th>\n",
       "      <th></th>\n",
       "      <th></th>\n",
       "      <th></th>\n",
       "      <th></th>\n",
       "      <th></th>\n",
       "    </tr>\n",
       "  </thead>\n",
       "  <tbody>\n",
       "    <tr>\n",
       "      <th>2003-10-07</th>\n",
       "      <td>0.71</td>\n",
       "      <td>0.71</td>\n",
       "      <td>0.71</td>\n",
       "      <td>0.71</td>\n",
       "      <td>2500</td>\n",
       "      <td>0.0</td>\n",
       "      <td>0.0</td>\n",
       "    </tr>\n",
       "    <tr>\n",
       "      <th>2003-10-08</th>\n",
       "      <td>0.71</td>\n",
       "      <td>0.71</td>\n",
       "      <td>0.71</td>\n",
       "      <td>0.71</td>\n",
       "      <td>0</td>\n",
       "      <td>0.0</td>\n",
       "      <td>0.0</td>\n",
       "    </tr>\n",
       "    <tr>\n",
       "      <th>2003-10-09</th>\n",
       "      <td>0.71</td>\n",
       "      <td>0.71</td>\n",
       "      <td>0.71</td>\n",
       "      <td>0.71</td>\n",
       "      <td>0</td>\n",
       "      <td>0.0</td>\n",
       "      <td>0.0</td>\n",
       "    </tr>\n",
       "    <tr>\n",
       "      <th>2003-10-10</th>\n",
       "      <td>0.71</td>\n",
       "      <td>0.71</td>\n",
       "      <td>0.71</td>\n",
       "      <td>0.71</td>\n",
       "      <td>0</td>\n",
       "      <td>0.0</td>\n",
       "      <td>0.0</td>\n",
       "    </tr>\n",
       "    <tr>\n",
       "      <th>2003-10-13</th>\n",
       "      <td>0.71</td>\n",
       "      <td>0.71</td>\n",
       "      <td>0.71</td>\n",
       "      <td>0.71</td>\n",
       "      <td>0</td>\n",
       "      <td>0.0</td>\n",
       "      <td>0.0</td>\n",
       "    </tr>\n",
       "    <tr>\n",
       "      <th>...</th>\n",
       "      <td>...</td>\n",
       "      <td>...</td>\n",
       "      <td>...</td>\n",
       "      <td>...</td>\n",
       "      <td>...</td>\n",
       "      <td>...</td>\n",
       "      <td>...</td>\n",
       "    </tr>\n",
       "    <tr>\n",
       "      <th>2010-12-27</th>\n",
       "      <td>1.24</td>\n",
       "      <td>1.24</td>\n",
       "      <td>1.24</td>\n",
       "      <td>1.24</td>\n",
       "      <td>0</td>\n",
       "      <td>0.0</td>\n",
       "      <td>0.0</td>\n",
       "    </tr>\n",
       "    <tr>\n",
       "      <th>2010-12-28</th>\n",
       "      <td>1.24</td>\n",
       "      <td>1.24</td>\n",
       "      <td>1.24</td>\n",
       "      <td>1.24</td>\n",
       "      <td>6800</td>\n",
       "      <td>0.0</td>\n",
       "      <td>0.0</td>\n",
       "    </tr>\n",
       "    <tr>\n",
       "      <th>2010-12-29</th>\n",
       "      <td>1.41</td>\n",
       "      <td>1.41</td>\n",
       "      <td>1.35</td>\n",
       "      <td>1.35</td>\n",
       "      <td>500</td>\n",
       "      <td>0.0</td>\n",
       "      <td>0.0</td>\n",
       "    </tr>\n",
       "    <tr>\n",
       "      <th>2010-12-30</th>\n",
       "      <td>1.24</td>\n",
       "      <td>1.29</td>\n",
       "      <td>1.24</td>\n",
       "      <td>1.29</td>\n",
       "      <td>3400</td>\n",
       "      <td>0.0</td>\n",
       "      <td>0.0</td>\n",
       "    </tr>\n",
       "    <tr>\n",
       "      <th>2010-12-31</th>\n",
       "      <td>1.29</td>\n",
       "      <td>1.29</td>\n",
       "      <td>1.29</td>\n",
       "      <td>1.29</td>\n",
       "      <td>200</td>\n",
       "      <td>0.0</td>\n",
       "      <td>0.0</td>\n",
       "    </tr>\n",
       "  </tbody>\n",
       "</table>\n",
       "<p>1823 rows × 7 columns</p>\n",
       "</div>"
      ],
      "text/plain": [
       "            Open  High   Low  Close  Volume  Dividends  Stock Splits\n",
       "Date                                                                \n",
       "2003-10-07  0.71  0.71  0.71   0.71    2500        0.0           0.0\n",
       "2003-10-08  0.71  0.71  0.71   0.71       0        0.0           0.0\n",
       "2003-10-09  0.71  0.71  0.71   0.71       0        0.0           0.0\n",
       "2003-10-10  0.71  0.71  0.71   0.71       0        0.0           0.0\n",
       "2003-10-13  0.71  0.71  0.71   0.71       0        0.0           0.0\n",
       "...          ...   ...   ...    ...     ...        ...           ...\n",
       "2010-12-27  1.24  1.24  1.24   1.24       0        0.0           0.0\n",
       "2010-12-28  1.24  1.24  1.24   1.24    6800        0.0           0.0\n",
       "2010-12-29  1.41  1.41  1.35   1.35     500        0.0           0.0\n",
       "2010-12-30  1.24  1.29  1.24   1.29    3400        0.0           0.0\n",
       "2010-12-31  1.29  1.29  1.29   1.29     200        0.0           0.0\n",
       "\n",
       "[1823 rows x 7 columns]"
      ]
     },
     "execution_count": 6,
     "metadata": {},
     "output_type": "execute_result"
    }
   ],
   "source": [
    "hist['2003':'2010']"
   ]
  },
  {
   "cell_type": "markdown",
   "metadata": {},
   "source": [
    "## Assign features of high/low percentage, percentage change, Close and Volume"
   ]
  },
  {
   "cell_type": "code",
   "execution_count": 7,
   "metadata": {},
   "outputs": [],
   "source": [
    "hist['HL_PCT'] = (hist['High'] - hist['Close'])/ hist['Close'] * 100"
   ]
  },
  {
   "cell_type": "code",
   "execution_count": 8,
   "metadata": {},
   "outputs": [],
   "source": [
    "hist['PCT_change'] = (hist['Close'] - hist['Open'])/ hist['Open'] * 100"
   ]
  },
  {
   "cell_type": "code",
   "execution_count": 9,
   "metadata": {},
   "outputs": [],
   "source": [
    "hist = hist[['Close','HL_PCT',\"PCT_change\",'Volume']]"
   ]
  },
  {
   "cell_type": "code",
   "execution_count": 10,
   "metadata": {},
   "outputs": [
    {
     "data": {
      "text/html": [
       "<div>\n",
       "<style scoped>\n",
       "    .dataframe tbody tr th:only-of-type {\n",
       "        vertical-align: middle;\n",
       "    }\n",
       "\n",
       "    .dataframe tbody tr th {\n",
       "        vertical-align: top;\n",
       "    }\n",
       "\n",
       "    .dataframe thead th {\n",
       "        text-align: right;\n",
       "    }\n",
       "</style>\n",
       "<table border=\"1\" class=\"dataframe\">\n",
       "  <thead>\n",
       "    <tr style=\"text-align: right;\">\n",
       "      <th></th>\n",
       "      <th>Close</th>\n",
       "      <th>HL_PCT</th>\n",
       "      <th>PCT_change</th>\n",
       "      <th>Volume</th>\n",
       "    </tr>\n",
       "    <tr>\n",
       "      <th>Date</th>\n",
       "      <th></th>\n",
       "      <th></th>\n",
       "      <th></th>\n",
       "      <th></th>\n",
       "    </tr>\n",
       "  </thead>\n",
       "  <tbody>\n",
       "    <tr>\n",
       "      <th>2019-12-20</th>\n",
       "      <td>5.05</td>\n",
       "      <td>0.0</td>\n",
       "      <td>0.0</td>\n",
       "      <td>0</td>\n",
       "    </tr>\n",
       "    <tr>\n",
       "      <th>2019-12-23</th>\n",
       "      <td>5.05</td>\n",
       "      <td>0.0</td>\n",
       "      <td>0.0</td>\n",
       "      <td>0</td>\n",
       "    </tr>\n",
       "    <tr>\n",
       "      <th>2019-12-24</th>\n",
       "      <td>5.05</td>\n",
       "      <td>0.0</td>\n",
       "      <td>0.0</td>\n",
       "      <td>0</td>\n",
       "    </tr>\n",
       "    <tr>\n",
       "      <th>2019-12-26</th>\n",
       "      <td>5.05</td>\n",
       "      <td>0.0</td>\n",
       "      <td>0.0</td>\n",
       "      <td>0</td>\n",
       "    </tr>\n",
       "    <tr>\n",
       "      <th>2019-12-27</th>\n",
       "      <td>5.33</td>\n",
       "      <td>0.0</td>\n",
       "      <td>0.0</td>\n",
       "      <td>100</td>\n",
       "    </tr>\n",
       "  </tbody>\n",
       "</table>\n",
       "</div>"
      ],
      "text/plain": [
       "            Close  HL_PCT  PCT_change  Volume\n",
       "Date                                         \n",
       "2019-12-20   5.05     0.0         0.0       0\n",
       "2019-12-23   5.05     0.0         0.0       0\n",
       "2019-12-24   5.05     0.0         0.0       0\n",
       "2019-12-26   5.05     0.0         0.0       0\n",
       "2019-12-27   5.33     0.0         0.0     100"
      ]
     },
     "execution_count": 10,
     "metadata": {},
     "output_type": "execute_result"
    }
   ],
   "source": [
    "hist.tail()"
   ]
  },
  {
   "cell_type": "markdown",
   "metadata": {},
   "source": [
    "# Decide on Label"
   ]
  },
  {
   "cell_type": "code",
   "execution_count": 11,
   "metadata": {},
   "outputs": [],
   "source": [
    "forecast_col = 'Close'"
   ]
  },
  {
   "cell_type": "code",
   "execution_count": 12,
   "metadata": {},
   "outputs": [],
   "source": [
    "hist.fillna(-9999,inplace=True)"
   ]
  },
  {
   "cell_type": "markdown",
   "metadata": {},
   "source": [
    "filter and replace NaN values"
   ]
  },
  {
   "cell_type": "code",
   "execution_count": 13,
   "metadata": {},
   "outputs": [],
   "source": [
    "import math\n",
    "forecast_out = int(math.ceil(0.1*len(hist)))"
   ]
  },
  {
   "cell_type": "markdown",
   "metadata": {},
   "source": [
    "Decide on forcast futures by a portion of the maximum ceiling of row entries in dataframe"
   ]
  },
  {
   "cell_type": "code",
   "execution_count": 14,
   "metadata": {},
   "outputs": [
    {
     "data": {
      "text/plain": [
       "409"
      ]
     },
     "execution_count": 14,
     "metadata": {},
     "output_type": "execute_result"
    }
   ],
   "source": [
    "forecast_out"
   ]
  },
  {
   "cell_type": "markdown",
   "metadata": {},
   "source": [
    "forecasting out by 409 days\n"
   ]
  },
  {
   "cell_type": "code",
   "execution_count": 15,
   "metadata": {},
   "outputs": [],
   "source": [
    "hist['label'] = hist[forecast_col].shift(-forecast_out)"
   ]
  },
  {
   "cell_type": "markdown",
   "metadata": {},
   "source": [
    "shifting dataframe to unknown values above dataframe"
   ]
  },
  {
   "cell_type": "code",
   "execution_count": 16,
   "metadata": {},
   "outputs": [
    {
     "data": {
      "text/html": [
       "<div>\n",
       "<style scoped>\n",
       "    .dataframe tbody tr th:only-of-type {\n",
       "        vertical-align: middle;\n",
       "    }\n",
       "\n",
       "    .dataframe tbody tr th {\n",
       "        vertical-align: top;\n",
       "    }\n",
       "\n",
       "    .dataframe thead th {\n",
       "        text-align: right;\n",
       "    }\n",
       "</style>\n",
       "<table border=\"1\" class=\"dataframe\">\n",
       "  <thead>\n",
       "    <tr style=\"text-align: right;\">\n",
       "      <th></th>\n",
       "      <th>Close</th>\n",
       "      <th>HL_PCT</th>\n",
       "      <th>PCT_change</th>\n",
       "      <th>Volume</th>\n",
       "      <th>label</th>\n",
       "    </tr>\n",
       "    <tr>\n",
       "      <th>Date</th>\n",
       "      <th></th>\n",
       "      <th></th>\n",
       "      <th></th>\n",
       "      <th></th>\n",
       "      <th></th>\n",
       "    </tr>\n",
       "  </thead>\n",
       "  <tbody>\n",
       "    <tr>\n",
       "      <th>2003-10-07</th>\n",
       "      <td>0.71</td>\n",
       "      <td>0.0</td>\n",
       "      <td>0.0</td>\n",
       "      <td>2500</td>\n",
       "      <td>0.57</td>\n",
       "    </tr>\n",
       "    <tr>\n",
       "      <th>2003-10-08</th>\n",
       "      <td>0.71</td>\n",
       "      <td>0.0</td>\n",
       "      <td>0.0</td>\n",
       "      <td>0</td>\n",
       "      <td>0.58</td>\n",
       "    </tr>\n",
       "    <tr>\n",
       "      <th>2003-10-09</th>\n",
       "      <td>0.71</td>\n",
       "      <td>0.0</td>\n",
       "      <td>0.0</td>\n",
       "      <td>0</td>\n",
       "      <td>0.58</td>\n",
       "    </tr>\n",
       "    <tr>\n",
       "      <th>2003-10-10</th>\n",
       "      <td>0.71</td>\n",
       "      <td>0.0</td>\n",
       "      <td>0.0</td>\n",
       "      <td>0</td>\n",
       "      <td>0.58</td>\n",
       "    </tr>\n",
       "    <tr>\n",
       "      <th>2003-10-13</th>\n",
       "      <td>0.71</td>\n",
       "      <td>0.0</td>\n",
       "      <td>0.0</td>\n",
       "      <td>0</td>\n",
       "      <td>0.57</td>\n",
       "    </tr>\n",
       "  </tbody>\n",
       "</table>\n",
       "</div>"
      ],
      "text/plain": [
       "            Close  HL_PCT  PCT_change  Volume  label\n",
       "Date                                                \n",
       "2003-10-07   0.71     0.0         0.0    2500   0.57\n",
       "2003-10-08   0.71     0.0         0.0       0   0.58\n",
       "2003-10-09   0.71     0.0         0.0       0   0.58\n",
       "2003-10-10   0.71     0.0         0.0       0   0.58\n",
       "2003-10-13   0.71     0.0         0.0       0   0.57"
      ]
     },
     "execution_count": 16,
     "metadata": {},
     "output_type": "execute_result"
    }
   ],
   "source": [
    "hist.head()"
   ]
  },
  {
   "cell_type": "code",
   "execution_count": 17,
   "metadata": {
    "scrolled": true
   },
   "outputs": [],
   "source": [
    "import numpy as np\n",
    "from sklearn import preprocessing, svm\n",
    "from sklearn.linear_model import LinearRegression\n",
    "from sklearn.model_selection import train_test_split,cross_validate\n",
    "\n",
    "\n",
    "X = np.array(hist.drop(['label'],1))\n",
    "X = preprocessing.scale(X)\n",
    "X = X[:-forecast_out]\n",
    "X_lately = X[-forecast_out:]\n",
    "\n",
    "hist.dropna(inplace=True)\n",
    "y = np.array(hist['label'])\n",
    "\n",
    "\n",
    "# X = X[:-forecast_out + 1]\n"
   ]
  },
  {
   "cell_type": "markdown",
   "metadata": {},
   "source": [
    "define features and labels, X,y"
   ]
  },
  {
   "cell_type": "code",
   "execution_count": 18,
   "metadata": {},
   "outputs": [],
   "source": [
    "# hist.dropna(inplace=True)"
   ]
  },
  {
   "cell_type": "code",
   "execution_count": 19,
   "metadata": {},
   "outputs": [
    {
     "data": {
      "text/plain": [
       "3676"
      ]
     },
     "execution_count": 19,
     "metadata": {},
     "output_type": "execute_result"
    }
   ],
   "source": [
    "len(X)"
   ]
  },
  {
   "cell_type": "code",
   "execution_count": 20,
   "metadata": {},
   "outputs": [
    {
     "data": {
      "text/plain": [
       "3676"
      ]
     },
     "execution_count": 20,
     "metadata": {},
     "output_type": "execute_result"
    }
   ],
   "source": [
    "len(y)"
   ]
  },
  {
   "cell_type": "code",
   "execution_count": 21,
   "metadata": {},
   "outputs": [],
   "source": [
    "X_train,X_test,y_train,y_test = train_test_split(X,y,test_size=0.2, random_state=0)"
   ]
  },
  {
   "cell_type": "code",
   "execution_count": 22,
   "metadata": {},
   "outputs": [],
   "source": [
    "#clf = svm.SVR()#kernel='poly'\n",
    "clf = LinearRegression(n_jobs=-1)"
   ]
  },
  {
   "cell_type": "markdown",
   "metadata": {},
   "source": [
    "using linear regression"
   ]
  },
  {
   "cell_type": "code",
   "execution_count": 23,
   "metadata": {},
   "outputs": [
    {
     "data": {
      "text/plain": [
       "LinearRegression(copy_X=True, fit_intercept=True, n_jobs=-1, normalize=False)"
      ]
     },
     "execution_count": 23,
     "metadata": {},
     "output_type": "execute_result"
    }
   ],
   "source": [
    "\n",
    "clf.fit(X_train,y_train)"
   ]
  },
  {
   "cell_type": "markdown",
   "metadata": {},
   "source": [
    "training/fitting train data"
   ]
  },
  {
   "cell_type": "code",
   "execution_count": 24,
   "metadata": {},
   "outputs": [],
   "source": [
    "accuracy = clf.score(X_test,y_test)"
   ]
  },
  {
   "cell_type": "code",
   "execution_count": 25,
   "metadata": {},
   "outputs": [
    {
     "data": {
      "text/plain": [
       "0.8138107983853404"
      ]
     },
     "execution_count": 25,
     "metadata": {},
     "output_type": "execute_result"
    }
   ],
   "source": [
    "accuracy"
   ]
  },
  {
   "cell_type": "markdown",
   "metadata": {},
   "source": [
    "## Map unknown data entries  to existing dataframe "
   ]
  },
  {
   "cell_type": "code",
   "execution_count": 28,
   "metadata": {},
   "outputs": [],
   "source": [
    "forecast_set = clf.predict(X_lately)"
   ]
  },
  {
   "cell_type": "code",
   "execution_count": 29,
   "metadata": {},
   "outputs": [
    {
     "data": {
      "text/plain": [
       "array([4.28605565, 4.28583789, 4.08301864, 4.08301864, 4.07123235,\n",
       "       4.08258312, 4.08258312, 4.08258312, 4.08258312, 4.08258312,\n",
       "       4.08258312, 4.12214313, 4.12323408, 4.12323408, 4.12323408,\n",
       "       4.50922363, 4.4979474 , 4.48909266, 4.48909266, 4.1582154 ,\n",
       "       4.1029086 , 4.1029086 , 4.41611318, 4.40779075, 4.40779075,\n",
       "       4.40779075, 4.40779075, 4.40779075, 4.40779075, 4.40779075,\n",
       "       4.32757764, 4.32648884, 4.32648884, 4.32648884, 4.33019077,\n",
       "       4.32648884, 4.32648884, 4.32648884, 4.32648884, 4.32801316,\n",
       "       4.32648884, 4.32648884, 4.32648884, 4.33084405, 4.32692436,\n",
       "       4.32648884, 4.32648884, 4.32648884, 4.32648884, 4.32648884,\n",
       "       4.32648884, 4.32735988, 4.32735988, 4.32823092, 4.34173205,\n",
       "       4.32648884, 4.32648884, 4.32648884, 4.32648884, 4.32648884,\n",
       "       4.32648884, 4.40822627, 4.40779075, 4.40779075, 4.40779075,\n",
       "       4.77427725, 4.57083009, 4.57039457, 4.57039457, 4.57039457,\n",
       "       4.57039457, 4.57039457, 4.57039457, 4.57039457, 4.57039457,\n",
       "       4.57039457, 4.57039457, 4.49969092, 4.4992554 , 4.4992554 ,\n",
       "       4.32866645, 4.32648884, 4.32648884, 4.32648884, 4.32648884,\n",
       "       4.32648884, 4.32648884, 4.33650581, 4.33411045, 4.33193285,\n",
       "       4.32648884, 4.32648884, 4.47297448, 4.72572132, 4.87994075,\n",
       "       4.88478877, 5.09190777, 4.58633492, 4.631371  , 4.60328075,\n",
       "       4.5129023 , 4.60306038, 4.51094246, 4.57145353, 4.41236371,\n",
       "       4.40779075, 4.43166416, 4.40779075, 4.44437219, 4.44996603,\n",
       "       4.80566187, 4.80413755, 4.80413755, 4.4931831 , 4.44953051,\n",
       "       4.4484417 , 4.45564255, 4.4484417 , 4.49969092, 4.4795832 ,\n",
       "       4.47892992, 4.47892992, 4.45061931, 4.4484417 , 4.4484417 ,\n",
       "       4.44953051, 4.4484417 , 4.4484417 , 4.4484417 , 4.4484417 ,\n",
       "       4.52447057, 4.53990635, 4.77166445, 4.80413755, 4.80413755,\n",
       "       5.06148502, 4.80830568, 4.80413755, 4.80413755, 4.80413755,\n",
       "       4.71289066, 4.7126729 , 4.80435531, 4.98108055, 4.97821066,\n",
       "       4.9769041 , 5.08208491, 4.83743892, 4.80413755, 4.93886627,\n",
       "       4.93668867, 4.93625315, 4.93625315, 5.07032859, 5.06836875,\n",
       "       5.06836875, 4.9779929 , 4.97821066, 4.9769041 , 4.9769041 ,\n",
       "       4.9769041 , 4.9769041 , 4.9769041 , 4.9769041 , 4.9769041 ,\n",
       "       4.9769041 , 4.9769041 , 4.9769041 , 4.97821066, 4.9769041 ,\n",
       "       4.78423027, 4.75332386, 4.75332386, 4.75332386, 4.75332386,\n",
       "       4.75332386, 4.75332386, 4.75332386, 4.75332386, 4.75332386,\n",
       "       4.75332386, 4.75332386, 4.75332386, 4.72392703, 4.05265334,\n",
       "       4.14464835, 4.14355955, 4.14355955, 4.14355955, 4.14355955,\n",
       "       4.14355955, 4.14355955, 4.14355955, 4.14355955, 4.14355955,\n",
       "       4.14355955, 4.14355955, 4.14355955, 4.14355955, 4.14355955,\n",
       "       4.44865946, 4.4484417 , 4.4484417 , 4.4484417 , 4.4484417 ,\n",
       "       4.28263911, 4.38823407, 4.3671398 , 4.3671398 , 4.3671398 ,\n",
       "       4.3671398 , 4.3671398 , 4.3671398 , 4.3671398 , 4.3671398 ,\n",
       "       4.3671398 , 4.3671398 , 4.21507702, 4.18421051, 4.25752728,\n",
       "       4.25534967, 4.25534967, 4.27632843, 4.27567515, 4.27567515,\n",
       "       4.27567515, 4.27567515, 4.27567515, 4.27567515, 4.27567515,\n",
       "       4.27567515, 4.27567515, 4.27567515, 4.29185418, 4.27567515,\n",
       "       4.27567515, 4.27567515, 4.27567515, 4.27567515, 4.42994384,\n",
       "       4.4484417 , 4.4484417 , 4.40800851, 4.40779075, 4.36757532,\n",
       "       4.3671398 , 4.3671398 , 4.3671398 , 4.3671398 , 4.3671398 ,\n",
       "       4.37569802, 4.36866412, 4.40909731, 4.40779075, 4.80631515,\n",
       "       5.02517666, 4.84953279, 5.23140808, 5.23097256, 5.23097256,\n",
       "       5.23097256, 4.77773189, 5.01777282, 5.01755506, 5.01755506,\n",
       "       5.01755506, 5.01755506, 4.80500859, 4.80413755, 4.80413755,\n",
       "       4.80413755, 4.80413755, 4.80413755, 4.80413755, 4.80413755,\n",
       "       4.80457307, 4.80413755, 4.87501472, 4.88543946, 4.88543946,\n",
       "       4.88543946, 4.88543946, 4.88543946, 4.88543946, 4.88543946,\n",
       "       4.88543946, 4.88543946, 4.87747818, 4.88543946, 4.88543946,\n",
       "       4.88543946, 4.88543946, 4.88543946, 4.80849275, 4.80413755,\n",
       "       4.80413755, 4.80413755, 4.80435531, 4.80413755, 4.80413755,\n",
       "       4.80413755, 4.80413755, 4.80413755, 4.80522635, 4.97696496,\n",
       "       4.93647091, 4.93625315, 4.93625315, 4.93625315, 4.93625315,\n",
       "       4.93625315, 4.80544411, 4.80413755, 4.80675067, 4.80413755,\n",
       "       4.80413755, 4.80413755, 4.80413755, 4.80413755, 4.80435531,\n",
       "       4.95097976, 4.81001707, 4.80413755, 4.80413755, 4.80413755,\n",
       "       4.80413755, 4.80413755, 4.80413755, 4.80413755, 4.89741626,\n",
       "       5.02648322, 5.3060965 , 5.74927222, 5.05242677, 5.03788053,\n",
       "       5.03788053, 5.03788053, 5.41036782, 5.51717016, 5.42046989,\n",
       "       5.37346866, 5.32396153, 5.32243721, 5.15010618, 5.14967066,\n",
       "       5.14967066, 5.41891034, 5.41390185, 5.51770684, 5.515747  ,\n",
       "       5.51618252, 5.51552924, 5.51552924, 5.37368642, 5.3732509 ,\n",
       "       5.3732509 , 5.3732509 , 5.3732509 , 5.3732509 , 5.37368642,\n",
       "       5.3732509 , 5.3732509 , 5.3732509 , 5.3732509 , 5.3732509 ,\n",
       "       5.3732509 , 5.09851341, 5.08869423, 5.08869423, 5.08869423,\n",
       "       5.05130967, 5.04804327, 5.04804327, 5.04804327, 5.04804327,\n",
       "       5.04804327, 5.04804327, 5.04804327, 5.04804327, 5.04804327,\n",
       "       5.04804327, 5.04804327, 5.04804327, 5.04804327, 5.04804327,\n",
       "       5.04804327, 5.04804327, 5.04804327, 5.67347229, 5.6593319 ,\n",
       "       5.65780758, 5.55639795, 5.55618019, 5.55618019, 5.55618019,\n",
       "       5.55618019, 5.55618019, 5.55618019, 5.55618019, 5.55618019,\n",
       "       5.55618019, 5.55618019, 5.55618019, 5.55618019, 5.55618019,\n",
       "       5.55618019, 5.55618019, 5.55618019, 5.55618019])"
      ]
     },
     "execution_count": 29,
     "metadata": {},
     "output_type": "execute_result"
    }
   ],
   "source": [
    "forecast_set"
   ]
  },
  {
   "cell_type": "code",
   "execution_count": 30,
   "metadata": {},
   "outputs": [
    {
     "data": {
      "text/plain": [
       "0.8138107983853404"
      ]
     },
     "execution_count": 30,
     "metadata": {},
     "output_type": "execute_result"
    }
   ],
   "source": [
    "accuracy"
   ]
  },
  {
   "cell_type": "code",
   "execution_count": 31,
   "metadata": {},
   "outputs": [
    {
     "data": {
      "text/plain": [
       "409"
      ]
     },
     "execution_count": 31,
     "metadata": {},
     "output_type": "execute_result"
    }
   ],
   "source": [
    "forecast_out"
   ]
  },
  {
   "cell_type": "markdown",
   "metadata": {},
   "source": [
    "## Plotting stock Forecast for next year"
   ]
  },
  {
   "cell_type": "code",
   "execution_count": 34,
   "metadata": {},
   "outputs": [],
   "source": [
    "import matplotlib.pyplot as plt\n",
    "import datetime\n",
    "from matplotlib import style\n",
    "\n",
    "style.use('ggplot')"
   ]
  },
  {
   "cell_type": "code",
   "execution_count": 35,
   "metadata": {},
   "outputs": [],
   "source": [
    "hist['Forecast'] = np.nan"
   ]
  },
  {
   "cell_type": "code",
   "execution_count": 36,
   "metadata": {},
   "outputs": [],
   "source": [
    "last_date = hist.iloc[-1].name"
   ]
  },
  {
   "cell_type": "code",
   "execution_count": 37,
   "metadata": {},
   "outputs": [],
   "source": [
    "last_unix = last_date.timestamp()"
   ]
  },
  {
   "cell_type": "code",
   "execution_count": 38,
   "metadata": {},
   "outputs": [],
   "source": [
    "one_day = 86400"
   ]
  },
  {
   "cell_type": "code",
   "execution_count": 39,
   "metadata": {},
   "outputs": [],
   "source": [
    "next_unix = last_unix + one_day"
   ]
  },
  {
   "cell_type": "code",
   "execution_count": 41,
   "metadata": {},
   "outputs": [],
   "source": [
    "for i in forecast_set:\n",
    "    next_date = datetime.datetime.fromtimestamp(next_unix)\n",
    "    next_unix += one_day\n",
    "    hist.loc[next_date] = [np.nan for _ in range(len(hist.columns)-1)] + [i]\n",
    "    "
   ]
  },
  {
   "cell_type": "code",
   "execution_count": 42,
   "metadata": {},
   "outputs": [
    {
     "data": {
      "image/png": "[encoded data removed]",
      "text/plain": [
       "<Figure size 432x288 with 1 Axes>"
      ]
     },
     "metadata": {
      "needs_background": "light"
     },
     "output_type": "display_data"
    }
   ],
   "source": [
    "hist['Close'].plot()\n",
    "hist['Forecast'].plot()\n",
    "plt.legend(loc=4)\n",
    "plt.xlabel('Date')\n",
    "plt.ylabel('Price')\n",
    "plt.show()"
   ]
  },
  {
   "cell_type": "code",
   "execution_count": null,
   "metadata": {},
   "outputs": [],
   "source": []
  },
  {
   "cell_type": "code",
   "execution_count": 26,
   "metadata": {},
   "outputs": [],
   "source": [
    "import numpy as np\n",
    "import pandas as pd\n",
    "\n",
    "def prepare_X_y(data):\n",
    "    X = data.iloc[:,:-2]\n",
    "   \n",
    "    ind = list(data.columns).index('Open')\n",
    "    print(ind)\n",
    "\n",
    "    y = []\n",
    "    for i in range(X.shape[0]-1):\n",
    "        if (X.iloc[i+1,ind] - X.iloc[i,ind])>0:\n",
    "            y.append(1)\n",
    "        else:\n",
    "            y.append(0)\n",
    "    y = np.array(y)\n",
    "    print(len(y))\n",
    "    X = X[:-1].values\n",
    "    print(len(X))\n",
    "    return X,y"
   ]
  },
  {
   "cell_type": "code",
   "execution_count": 27,
   "metadata": {},
   "outputs": [
    {
     "ename": "ValueError",
     "evalue": "'Open' is not in list",
     "output_type": "error",
     "traceback": [
      "\u001b[1;31m---------------------------------------------------------------------------\u001b[0m",
      "\u001b[1;31mValueError\u001b[0m                                Traceback (most recent call last)",
      "\u001b[1;32m<ipython-input-27-37494d42dfe7>\u001b[0m in \u001b[0;36m<module>\u001b[1;34m\u001b[0m\n\u001b[1;32m----> 1\u001b[1;33m \u001b[0mX\u001b[0m\u001b[1;33m,\u001b[0m\u001b[0my\u001b[0m \u001b[1;33m=\u001b[0m \u001b[0mprepare_X_y\u001b[0m\u001b[1;33m(\u001b[0m\u001b[0mhist\u001b[0m\u001b[1;33m)\u001b[0m\u001b[1;33m\u001b[0m\u001b[1;33m\u001b[0m\u001b[0m\n\u001b[0m",
      "\u001b[1;32m<ipython-input-26-1fb3d0696ea5>\u001b[0m in \u001b[0;36mprepare_X_y\u001b[1;34m(data)\u001b[0m\n\u001b[0;32m      5\u001b[0m     \u001b[0mX\u001b[0m \u001b[1;33m=\u001b[0m \u001b[0mdata\u001b[0m\u001b[1;33m.\u001b[0m\u001b[0miloc\u001b[0m\u001b[1;33m[\u001b[0m\u001b[1;33m:\u001b[0m\u001b[1;33m,\u001b[0m\u001b[1;33m:\u001b[0m\u001b[1;33m-\u001b[0m\u001b[1;36m2\u001b[0m\u001b[1;33m]\u001b[0m\u001b[1;33m\u001b[0m\u001b[1;33m\u001b[0m\u001b[0m\n\u001b[0;32m      6\u001b[0m \u001b[1;33m\u001b[0m\u001b[0m\n\u001b[1;32m----> 7\u001b[1;33m     \u001b[0mind\u001b[0m \u001b[1;33m=\u001b[0m \u001b[0mlist\u001b[0m\u001b[1;33m(\u001b[0m\u001b[0mdata\u001b[0m\u001b[1;33m.\u001b[0m\u001b[0mcolumns\u001b[0m\u001b[1;33m)\u001b[0m\u001b[1;33m.\u001b[0m\u001b[0mindex\u001b[0m\u001b[1;33m(\u001b[0m\u001b[1;34m'Open'\u001b[0m\u001b[1;33m)\u001b[0m\u001b[1;33m\u001b[0m\u001b[1;33m\u001b[0m\u001b[0m\n\u001b[0m\u001b[0;32m      8\u001b[0m     \u001b[0mprint\u001b[0m\u001b[1;33m(\u001b[0m\u001b[0mind\u001b[0m\u001b[1;33m)\u001b[0m\u001b[1;33m\u001b[0m\u001b[1;33m\u001b[0m\u001b[0m\n\u001b[0;32m      9\u001b[0m \u001b[1;33m\u001b[0m\u001b[0m\n",
      "\u001b[1;31mValueError\u001b[0m: 'Open' is not in list"
     ]
    }
   ],
   "source": [
    "X,y = prepare_X_y(hist)"
   ]
  },
  {
   "cell_type": "code",
   "execution_count": null,
   "metadata": {},
   "outputs": [],
   "source": [
    "X.shape"
   ]
  },
  {
   "cell_type": "code",
   "execution_count": null,
   "metadata": {},
   "outputs": [],
   "source": [
    "y.shape"
   ]
  },
  {
   "cell_type": "code",
   "execution_count": null,
   "metadata": {},
   "outputs": [],
   "source": [
    "import xgboost as xgb\n",
    "from sklearn.metrics import accuracy_score\n",
    "from sklearn.model_selection import train_test_split\n",
    "import matplotlib.pyplot as plt\n",
    "import seaborn as sns\n",
    "\n",
    "def split_train_test(X,y):\n",
    "    split_ratio=0.9\n",
    "    train_size = int(round(split_ratio * X.shape[0]))\n",
    "    X_train = X[:train_size]\n",
    "    y_train = y[:train_size]\n",
    "    X_test = X[train_size:]\n",
    "    y_test = y[train_size:]\n",
    "\n",
    "    print(X_train.shape, y_train.shape)\n",
    "    print(X_test.shape, y_test.shape)\n",
    "    return X_train, X_test, y_train, y_test\n",
    "\n",
    "def train_model(X_train, y_train):\n",
    "    model = xgb.XGBClassifier()\n",
    "    model.fit(X_train, y_train)\n",
    "    return model\n",
    "  \n",
    "\n",
    "def predict(model):\n",
    "    y_pred = model.predict(X_test)\n",
    "    y_pred = [round(value) for value in y_pred]\n",
    "    accuracy = accuracy_score(y_test, y_pred)\n",
    "    return \"Accuracy: %.2f%%\" % (accuracy * 100.0)\n",
    "# view rawtraining.py hosted with ❤ by GitHub"
   ]
  },
  {
   "cell_type": "code",
   "execution_count": null,
   "metadata": {},
   "outputs": [],
   "source": [
    "X_train,X_test,y_train,y_test = split_train_test(X,y)"
   ]
  },
  {
   "cell_type": "code",
   "execution_count": null,
   "metadata": {},
   "outputs": [],
   "source": [
    "model = train_model(X_train,y_train)"
   ]
  },
  {
   "cell_type": "code",
   "execution_count": null,
   "metadata": {},
   "outputs": [],
   "source": [
    "prediction = predict(model)"
   ]
  },
  {
   "cell_type": "code",
   "execution_count": null,
   "metadata": {},
   "outputs": [],
   "source": [
    "print(prediction)"
   ]
  },
  {
   "cell_type": "code",
   "execution_count": null,
   "metadata": {},
   "outputs": [],
   "source": [
    "def plot_feature_imp(data, model):\n",
    "    imp_score = pd.DataFrame(model.feature_importances_, columns=['Importance Score'])\n",
    "    features = pd.DataFrame(data.columns, columns=['Features'])\n",
    "    feature_imp = pd.concat([features,imp_score], axis=1)\n",
    "    feature_imp = feature_imp.sort_index(by='Importance Score', ascending=False)\n",
    "    sns.barplot(x=feature_imp['Importance Score'], y=feature_imp['Features'])\n",
    "    plt.show()"
   ]
  },
  {
   "cell_type": "code",
   "execution_count": null,
   "metadata": {},
   "outputs": [],
   "source": [
    "plot_feature_imp(hist.iloc[:,:-2],model)"
   ]
  },
  {
   "cell_type": "code",
   "execution_count": null,
   "metadata": {},
   "outputs": [],
   "source": [
    "# Moving Averages (SMA & EWMA)\n",
    "\n",
    "\n",
    "# Simple Moving Average \n",
    "def SMA(data, days): \n",
    "    sma = pd.Series(data['Close'].rolling(window=days).mean())\n",
    "    name = 'SMA_' + str(days) + '_days'\n",
    "    data[name] = sma\n",
    "    return data\n",
    "\n",
    "# Exponentially-weighted Moving Average \n",
    "def EWMA(data, days):\n",
    "    ema = pd.Series(data['Close'].ewm(span = days , min_periods = days -1).mean())\n",
    "    name = 'EWMA_' + str(days) + '_days'\n",
    "    data[name] = ema\n",
    "    return data\n",
    "\n",
    "days_list = [1,2,4,6]\n",
    "for days in days_list:\n",
    "    SMA_ = SMA(hist,days)\n",
    "    EWMA_ = EWMA(hist,days)"
   ]
  },
  {
   "cell_type": "code",
   "execution_count": null,
   "metadata": {},
   "outputs": [],
   "source": [
    "hist.head()"
   ]
  },
  {
   "cell_type": "code",
   "execution_count": null,
   "metadata": {},
   "outputs": [],
   "source": [
    "#Bollinger Bands (UpperBB & LowerBB)\n",
    "def bbands(data, window=days):\n",
    "    MA = data.Close.rolling(window=days).mean()\n",
    "    SD = data.Close.rolling(window=days).std()\n",
    "    data['UpperBB'] = MA + (2 * SD) \n",
    "    data['LowerBB'] = MA - (2 * SD)\n",
    "    return data\n",
    "days = 12\n",
    "bbands_ = bbands(hist, days)"
   ]
  },
  {
   "cell_type": "code",
   "execution_count": null,
   "metadata": {},
   "outputs": [],
   "source": [
    "hist.tail(100)"
   ]
  },
  {
   "cell_type": "code",
   "execution_count": null,
   "metadata": {},
   "outputs": [],
   "source": [
    "# Force Index (ForceIndex)\n",
    "def ForceIndex(data, days): \n",
    "    FI = pd.Series(data['Close'].diff(periods=days) * data['Volume'])#, name = 'ForceIndex') \n",
    "    data['ForceIndex'] = FI \n",
    "    return data\n",
    "days = 1\n",
    "ForceIndex_ = ForceIndex(hist,days)"
   ]
  },
  {
   "cell_type": "code",
   "execution_count": null,
   "metadata": {},
   "outputs": [],
   "source": [
    "hist.head(1000)"
   ]
  },
  {
   "cell_type": "code",
   "execution_count": null,
   "metadata": {},
   "outputs": [],
   "source": [
    "# Commodity Channel Index (CCI)\n",
    "def CCI(data, days): \n",
    "    TP = (data['High'] + data['Low'] + data['Close']) / 3 \n",
    "    CCI = pd.Series((TP - TP.rolling(window=days).mean()) / (0.015 * TP.rolling(window=days).std()))#, name = 'CCI')\n",
    "    data['CCI'] = CCI\n",
    "    return data\n",
    "days = 2\n",
    "CCI_ = CCI(hist, days)"
   ]
  },
  {
   "cell_type": "code",
   "execution_count": null,
   "metadata": {},
   "outputs": [],
   "source": [
    "hist.tail(100)"
   ]
  },
  {
   "cell_type": "code",
   "execution_count": null,
   "metadata": {},
   "outputs": [],
   "source": [
    "# Ease Of Movement (EVM)\n",
    "def EVM(data, days): \n",
    "    dm = ((data['High'] + data['Low'])/2) - ((data['High'].shift(1) + data['Low'].shift(1))/2)\n",
    "    br = (data['Volume'] / 100000000) / ((data['High'] - data['Low']))\n",
    "    EVM = dm / br \n",
    "    EVM_MA = pd.Series(EVM.rolling(window=days).mean(), name = 'EVM') \n",
    "    data['EVM_MA'] = EVM_MA\n",
    "    return data \n",
    "days = 1\n",
    "EVM_ = EVM(hist, days)"
   ]
  },
  {
   "cell_type": "code",
   "execution_count": null,
   "metadata": {},
   "outputs": [],
   "source": [
    "hist.tail()"
   ]
  },
  {
   "cell_type": "code",
   "execution_count": null,
   "metadata": {},
   "outputs": [],
   "source": [
    "# Rate of Change (ROC)\n",
    "def ROC(data,days):\n",
    "    N = data['Close'].diff(days)\n",
    "    D = data['Close'].shift(days)\n",
    "    roc = pd.Series(N/D,name='ROW')\n",
    "    data = data.join(roc)\n",
    "    return data \n",
    "days = 1\n",
    "ROC_ = ROC(hist,days)"
   ]
  },
  {
   "cell_type": "code",
   "execution_count": null,
   "metadata": {},
   "outputs": [],
   "source": [
    "hist.tail()"
   ]
  },
  {
   "cell_type": "code",
   "execution_count": null,
   "metadata": {},
   "outputs": [],
   "source": [
    "hist.fillna(-9999)"
   ]
  },
  {
   "cell_type": "code",
   "execution_count": null,
   "metadata": {},
   "outputs": [],
   "source": []
  }
 ],
 "metadata": {
  "kernelspec": {
   "display_name": "Python 3",
   "language": "python",
   "name": "python3"
  },
  "language_info": {
   "codemirror_mode": {
    "name": "ipython",
    "version": 3
   },
   "file_extension": ".py",
   "mimetype": "text/x-python",
   "name": "python",
   "nbconvert_exporter": "python",
   "pygments_lexer": "ipython3",
   "version": "3.7.4"
  }
 },
 "nbformat": 4,
 "nbformat_minor": 2
}
