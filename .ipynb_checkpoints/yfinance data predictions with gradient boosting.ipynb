{
 "cells": [
  {
   "cell_type": "markdown",
   "metadata": {},
   "source": [
    "## stock ADVC from New York stock exchange"
   ]
  },
  {
   "cell_type": "code",
   "execution_count": 1,
   "metadata": {},
   "outputs": [
    {
     "data": {
      "text/plain": [
       "{'zip': '94304',\n",
       " 'sector': 'Consumer Cyclical',\n",
       " 'fullTimeEmployees': 48817,\n",
       " 'longBusinessSummary': 'Tesla, Inc. designs, develops, manufactures, and sells electric vehicles, and energy generation and storage systems in the United States, China, Netherlands, Norway, and internationally. The company operates in two segments, Automotive, and Energy Generation and Storage. The Automotive segment offers sedans and sport utility vehicles. It also provides electric vehicle powertrain components and systems to other manufacturers; and services for electric vehicles through its company-owned service centers, Service Plus locations, and Tesla mobile technicians. This segment sells its products through a network of company-owned stores and galleries. The Energy Generation and Storage segment offers energy storage products, such as rechargeable lithium-ion battery systems for use in homes, commercial facilities, and utility grids; designs, manufactures, installs, maintains, leases, and sells solar energy systems to residential and commercial customers; and sell renewable energy to residential and commercial customers. The company was formerly known as Tesla Motors, Inc. and changed its name to Tesla, Inc. in February 2017. Tesla, Inc. was founded in 2003 and is headquartered in Palo Alto, California.',\n",
       " 'city': 'Palo Alto',\n",
       " 'phone': '650-681-5000',\n",
       " 'state': 'CA',\n",
       " 'country': 'United States',\n",
       " 'companyOfficers': [],\n",
       " 'website': 'http://www.tesla.com',\n",
       " 'maxAge': 1,\n",
       " 'address1': '3500 Deer Creek Road',\n",
       " 'industry': 'Auto Manufacturers',\n",
       " 'previousClose': 469.06,\n",
       " 'regularMarketOpen': 473.7,\n",
       " 'twoHundredDayAverage': 284.41037,\n",
       " 'trailingAnnualDividendYield': None,\n",
       " 'payoutRatio': 0,\n",
       " 'volume24Hr': None,\n",
       " 'regularMarketDayHigh': 498.49,\n",
       " 'navPrice': None,\n",
       " 'averageDailyVolume10Day': 15620300,\n",
       " 'totalAssets': None,\n",
       " 'regularMarketPreviousClose': 469.06,\n",
       " 'fiftyDayAverage': 381.33878,\n",
       " 'trailingAnnualDividendRate': None,\n",
       " 'open': 473.7,\n",
       " 'averageVolume10days': 15620300,\n",
       " 'expireDate': None,\n",
       " 'yield': None,\n",
       " 'algorithm': None,\n",
       " 'dividendRate': None,\n",
       " 'exDividendDate': None,\n",
       " 'beta': 0.650468,\n",
       " 'circulatingSupply': None,\n",
       " 'startDate': None,\n",
       " 'regularMarketDayLow': 468.23,\n",
       " 'priceHint': 2,\n",
       " 'currency': 'USD',\n",
       " 'regularMarketVolume': 30557736,\n",
       " 'lastMarket': None,\n",
       " 'maxSupply': None,\n",
       " 'openInterest': None,\n",
       " 'marketCap': 84525047808,\n",
       " 'volumeAllCurrencies': None,\n",
       " 'strikePrice': None,\n",
       " 'averageVolume': 9963293,\n",
       " 'priceToSalesTrailing12Months': 3.4612663,\n",
       " 'dayLow': 468.23,\n",
       " 'ask': 0,\n",
       " 'ytdReturn': None,\n",
       " 'askSize': 1100,\n",
       " 'volume': 30557736,\n",
       " 'fiftyTwoWeekHigh': 498.49,\n",
       " 'forwardPE': 84.4151,\n",
       " 'fromCurrency': None,\n",
       " 'fiveYearAvgDividendYield': None,\n",
       " 'fiftyTwoWeekLow': 176.99,\n",
       " 'bid': 0,\n",
       " 'tradeable': True,\n",
       " 'dividendYield': None,\n",
       " 'bidSize': 2900,\n",
       " 'dayHigh': 498.49,\n",
       " 'exchange': 'NMS',\n",
       " 'shortName': 'Tesla, Inc.',\n",
       " 'longName': 'Tesla, Inc.',\n",
       " 'exchangeTimezoneName': 'America/New_York',\n",
       " 'exchangeTimezoneShortName': 'EST',\n",
       " 'isEsgPopulated': False,\n",
       " 'gmtOffSetMilliseconds': '-18000000',\n",
       " 'quoteType': 'EQUITY',\n",
       " 'symbol': 'TSLA',\n",
       " 'messageBoardId': 'finmb_27444752',\n",
       " 'market': 'us_market',\n",
       " 'annualHoldingsTurnover': None,\n",
       " 'enterpriseToRevenue': 3.902,\n",
       " 'beta3Year': None,\n",
       " 'profitMargins': -0.03387,\n",
       " 'enterpriseToEbitda': 43.731,\n",
       " '52WeekChange': 0.35971248,\n",
       " 'morningStarRiskRating': None,\n",
       " 'forwardEps': 5.83,\n",
       " 'revenueQuarterlyGrowth': None,\n",
       " 'sharesOutstanding': 180244992,\n",
       " 'fundInceptionDate': None,\n",
       " 'annualReportExpenseRatio': None,\n",
       " 'bookValue': 33.556,\n",
       " 'sharesShort': 27496754,\n",
       " 'sharesPercentSharesOut': 0.1526,\n",
       " 'fundFamily': None,\n",
       " 'lastFiscalYearEnd': 1546214400,\n",
       " 'heldPercentInstitutions': 0.58405,\n",
       " 'netIncomeToCommon': -835091008,\n",
       " 'trailingEps': -4.772,\n",
       " 'lastDividendValue': None,\n",
       " 'SandP52WeekChange': 0.24668038,\n",
       " 'priceToBook': 14.66623,\n",
       " 'heldPercentInsiders': 0.20957,\n",
       " 'nextFiscalYearEnd': 1609372800,\n",
       " 'mostRecentQuarter': 1569801600,\n",
       " 'shortRatio': 3.81,\n",
       " 'sharesShortPreviousMonthDate': 1573776000,\n",
       " 'floatShares': 142142897,\n",
       " 'enterpriseValue': 95285649408,\n",
       " 'threeYearAverageReturn': None,\n",
       " 'lastSplitDate': None,\n",
       " 'lastSplitFactor': None,\n",
       " 'legalType': None,\n",
       " 'morningStarOverallRating': None,\n",
       " 'earningsQuarterlyGrowth': -0.54,\n",
       " 'dateShortInterest': 1576195200,\n",
       " 'pegRatio': -11.64,\n",
       " 'lastCapGain': None,\n",
       " 'shortPercentOfFloat': 0.2039,\n",
       " 'sharesShortPriorMonth': 30614501,\n",
       " 'category': None,\n",
       " 'fiveYearAverageReturn': None,\n",
       " 'regularMarketPrice': 473.7,\n",
       " 'logo_url': 'https://logo.clearbit.com/tesla.com'}"
      ]
     },
     "execution_count": 1,
     "metadata": {},
     "output_type": "execute_result"
    }
   ],
   "source": [
    "import yfinance as yf\n",
    "\n",
    "advc = yf.Ticker('TSLA')\n",
    "\n",
    "advc.info\n",
    "\n"
   ]
  },
  {
   "cell_type": "code",
   "execution_count": 2,
   "metadata": {},
   "outputs": [],
   "source": [
    "hist = advc.history(period='max')"
   ]
  },
  {
   "cell_type": "code",
   "execution_count": 3,
   "metadata": {},
   "outputs": [
    {
     "data": {
      "text/plain": [
       "pandas.core.frame.DataFrame"
      ]
     },
     "execution_count": 3,
     "metadata": {},
     "output_type": "execute_result"
    }
   ],
   "source": [
    "type(hist)"
   ]
  },
  {
   "cell_type": "code",
   "execution_count": 4,
   "metadata": {},
   "outputs": [],
   "source": [
    "import pandas as pd\n",
    "hist = pd.DataFrame(hist)\n"
   ]
  },
  {
   "cell_type": "code",
   "execution_count": 5,
   "metadata": {},
   "outputs": [
    {
     "data": {
      "text/plain": [
       "Index(['Open', 'High', 'Low', 'Close', 'Volume', 'Dividends', 'Stock Splits'], dtype='object')"
      ]
     },
     "execution_count": 5,
     "metadata": {},
     "output_type": "execute_result"
    }
   ],
   "source": [
    "hist.columns"
   ]
  },
  {
   "cell_type": "markdown",
   "metadata": {},
   "source": [
    "## history of stock values"
   ]
  },
  {
   "cell_type": "code",
   "execution_count": 6,
   "metadata": {},
   "outputs": [
    {
     "data": {
      "text/html": [
       "<div>\n",
       "<style scoped>\n",
       "    .dataframe tbody tr th:only-of-type {\n",
       "        vertical-align: middle;\n",
       "    }\n",
       "\n",
       "    .dataframe tbody tr th {\n",
       "        vertical-align: top;\n",
       "    }\n",
       "\n",
       "    .dataframe thead th {\n",
       "        text-align: right;\n",
       "    }\n",
       "</style>\n",
       "<table border=\"1\" class=\"dataframe\">\n",
       "  <thead>\n",
       "    <tr style=\"text-align: right;\">\n",
       "      <th></th>\n",
       "      <th>Open</th>\n",
       "      <th>High</th>\n",
       "      <th>Low</th>\n",
       "      <th>Close</th>\n",
       "      <th>Volume</th>\n",
       "      <th>Dividends</th>\n",
       "      <th>Stock Splits</th>\n",
       "    </tr>\n",
       "    <tr>\n",
       "      <th>Date</th>\n",
       "      <th></th>\n",
       "      <th></th>\n",
       "      <th></th>\n",
       "      <th></th>\n",
       "      <th></th>\n",
       "      <th></th>\n",
       "      <th></th>\n",
       "    </tr>\n",
       "  </thead>\n",
       "  <tbody>\n",
       "    <tr>\n",
       "      <th>2010-06-29</th>\n",
       "      <td>19.00</td>\n",
       "      <td>25.00</td>\n",
       "      <td>17.54</td>\n",
       "      <td>23.89</td>\n",
       "      <td>18766300</td>\n",
       "      <td>0</td>\n",
       "      <td>0</td>\n",
       "    </tr>\n",
       "    <tr>\n",
       "      <th>2010-06-30</th>\n",
       "      <td>25.79</td>\n",
       "      <td>30.42</td>\n",
       "      <td>23.30</td>\n",
       "      <td>23.83</td>\n",
       "      <td>17187100</td>\n",
       "      <td>0</td>\n",
       "      <td>0</td>\n",
       "    </tr>\n",
       "    <tr>\n",
       "      <th>2010-07-01</th>\n",
       "      <td>25.00</td>\n",
       "      <td>25.92</td>\n",
       "      <td>20.27</td>\n",
       "      <td>21.96</td>\n",
       "      <td>8218800</td>\n",
       "      <td>0</td>\n",
       "      <td>0</td>\n",
       "    </tr>\n",
       "    <tr>\n",
       "      <th>2010-07-02</th>\n",
       "      <td>23.00</td>\n",
       "      <td>23.10</td>\n",
       "      <td>18.71</td>\n",
       "      <td>19.20</td>\n",
       "      <td>5139800</td>\n",
       "      <td>0</td>\n",
       "      <td>0</td>\n",
       "    </tr>\n",
       "    <tr>\n",
       "      <th>2010-07-06</th>\n",
       "      <td>20.00</td>\n",
       "      <td>20.00</td>\n",
       "      <td>15.83</td>\n",
       "      <td>16.11</td>\n",
       "      <td>6866900</td>\n",
       "      <td>0</td>\n",
       "      <td>0</td>\n",
       "    </tr>\n",
       "    <tr>\n",
       "      <th>...</th>\n",
       "      <td>...</td>\n",
       "      <td>...</td>\n",
       "      <td>...</td>\n",
       "      <td>...</td>\n",
       "      <td>...</td>\n",
       "      <td>...</td>\n",
       "      <td>...</td>\n",
       "    </tr>\n",
       "    <tr>\n",
       "      <th>2010-12-27</th>\n",
       "      <td>28.02</td>\n",
       "      <td>28.58</td>\n",
       "      <td>25.06</td>\n",
       "      <td>25.55</td>\n",
       "      <td>9301900</td>\n",
       "      <td>0</td>\n",
       "      <td>0</td>\n",
       "    </tr>\n",
       "    <tr>\n",
       "      <th>2010-12-28</th>\n",
       "      <td>25.85</td>\n",
       "      <td>26.75</td>\n",
       "      <td>25.00</td>\n",
       "      <td>26.41</td>\n",
       "      <td>4056300</td>\n",
       "      <td>0</td>\n",
       "      <td>0</td>\n",
       "    </tr>\n",
       "    <tr>\n",
       "      <th>2010-12-29</th>\n",
       "      <td>27.03</td>\n",
       "      <td>28.01</td>\n",
       "      <td>26.50</td>\n",
       "      <td>27.73</td>\n",
       "      <td>3319200</td>\n",
       "      <td>0</td>\n",
       "      <td>0</td>\n",
       "    </tr>\n",
       "    <tr>\n",
       "      <th>2010-12-30</th>\n",
       "      <td>27.70</td>\n",
       "      <td>27.90</td>\n",
       "      <td>26.38</td>\n",
       "      <td>26.50</td>\n",
       "      <td>2041100</td>\n",
       "      <td>0</td>\n",
       "      <td>0</td>\n",
       "    </tr>\n",
       "    <tr>\n",
       "      <th>2010-12-31</th>\n",
       "      <td>26.57</td>\n",
       "      <td>27.25</td>\n",
       "      <td>26.50</td>\n",
       "      <td>26.63</td>\n",
       "      <td>1417900</td>\n",
       "      <td>0</td>\n",
       "      <td>0</td>\n",
       "    </tr>\n",
       "  </tbody>\n",
       "</table>\n",
       "<p>130 rows × 7 columns</p>\n",
       "</div>"
      ],
      "text/plain": [
       "             Open   High    Low  Close    Volume  Dividends  Stock Splits\n",
       "Date                                                                     \n",
       "2010-06-29  19.00  25.00  17.54  23.89  18766300          0             0\n",
       "2010-06-30  25.79  30.42  23.30  23.83  17187100          0             0\n",
       "2010-07-01  25.00  25.92  20.27  21.96   8218800          0             0\n",
       "2010-07-02  23.00  23.10  18.71  19.20   5139800          0             0\n",
       "2010-07-06  20.00  20.00  15.83  16.11   6866900          0             0\n",
       "...           ...    ...    ...    ...       ...        ...           ...\n",
       "2010-12-27  28.02  28.58  25.06  25.55   9301900          0             0\n",
       "2010-12-28  25.85  26.75  25.00  26.41   4056300          0             0\n",
       "2010-12-29  27.03  28.01  26.50  27.73   3319200          0             0\n",
       "2010-12-30  27.70  27.90  26.38  26.50   2041100          0             0\n",
       "2010-12-31  26.57  27.25  26.50  26.63   1417900          0             0\n",
       "\n",
       "[130 rows x 7 columns]"
      ]
     },
     "execution_count": 6,
     "metadata": {},
     "output_type": "execute_result"
    }
   ],
   "source": [
    "hist['2003':'2010']"
   ]
  },
  {
   "cell_type": "markdown",
   "metadata": {},
   "source": [
    "## Assign features of high/low percentage, percentage change, Close and Volume"
   ]
  },
  {
   "cell_type": "code",
   "execution_count": 7,
   "metadata": {},
   "outputs": [],
   "source": [
    "hist['HL_PCT'] = (hist['High'] - hist['Close'])/ hist['Close'] * 100"
   ]
  },
  {
   "cell_type": "code",
   "execution_count": 8,
   "metadata": {},
   "outputs": [],
   "source": [
    "hist['PCT_change'] = (hist['Close'] - hist['Open'])/ hist['Open'] * 100"
   ]
  },
  {
   "cell_type": "code",
   "execution_count": 9,
   "metadata": {},
   "outputs": [],
   "source": [
    "linear_reg = hist[['Close','HL_PCT',\"PCT_change\",'Volume']]"
   ]
  },
  {
   "cell_type": "code",
   "execution_count": 10,
   "metadata": {},
   "outputs": [
    {
     "data": {
      "text/html": [
       "<div>\n",
       "<style scoped>\n",
       "    .dataframe tbody tr th:only-of-type {\n",
       "        vertical-align: middle;\n",
       "    }\n",
       "\n",
       "    .dataframe tbody tr th {\n",
       "        vertical-align: top;\n",
       "    }\n",
       "\n",
       "    .dataframe thead th {\n",
       "        text-align: right;\n",
       "    }\n",
       "</style>\n",
       "<table border=\"1\" class=\"dataframe\">\n",
       "  <thead>\n",
       "    <tr style=\"text-align: right;\">\n",
       "      <th></th>\n",
       "      <th>Close</th>\n",
       "      <th>HL_PCT</th>\n",
       "      <th>PCT_change</th>\n",
       "      <th>Volume</th>\n",
       "    </tr>\n",
       "    <tr>\n",
       "      <th>Date</th>\n",
       "      <th></th>\n",
       "      <th></th>\n",
       "      <th></th>\n",
       "      <th></th>\n",
       "    </tr>\n",
       "  </thead>\n",
       "  <tbody>\n",
       "    <tr>\n",
       "      <th>2020-01-02</th>\n",
       "      <td>430.26</td>\n",
       "      <td>0.102264</td>\n",
       "      <td>1.356890</td>\n",
       "      <td>9532100</td>\n",
       "    </tr>\n",
       "    <tr>\n",
       "      <th>2020-01-03</th>\n",
       "      <td>443.01</td>\n",
       "      <td>2.480757</td>\n",
       "      <td>0.569807</td>\n",
       "      <td>17778500</td>\n",
       "    </tr>\n",
       "    <tr>\n",
       "      <th>2020-01-06</th>\n",
       "      <td>451.54</td>\n",
       "      <td>0.004429</td>\n",
       "      <td>2.513225</td>\n",
       "      <td>10133000</td>\n",
       "    </tr>\n",
       "    <tr>\n",
       "      <th>2020-01-07</th>\n",
       "      <td>469.06</td>\n",
       "      <td>0.547904</td>\n",
       "      <td>1.660165</td>\n",
       "      <td>17882100</td>\n",
       "    </tr>\n",
       "    <tr>\n",
       "      <th>2020-01-08</th>\n",
       "      <td>492.14</td>\n",
       "      <td>1.290283</td>\n",
       "      <td>3.892759</td>\n",
       "      <td>31144300</td>\n",
       "    </tr>\n",
       "  </tbody>\n",
       "</table>\n",
       "</div>"
      ],
      "text/plain": [
       "             Close    HL_PCT  PCT_change    Volume\n",
       "Date                                              \n",
       "2020-01-02  430.26  0.102264    1.356890   9532100\n",
       "2020-01-03  443.01  2.480757    0.569807  17778500\n",
       "2020-01-06  451.54  0.004429    2.513225  10133000\n",
       "2020-01-07  469.06  0.547904    1.660165  17882100\n",
       "2020-01-08  492.14  1.290283    3.892759  31144300"
      ]
     },
     "execution_count": 10,
     "metadata": {},
     "output_type": "execute_result"
    }
   ],
   "source": [
    "linear_reg.tail()"
   ]
  },
  {
   "cell_type": "markdown",
   "metadata": {},
   "source": [
    "# Decide on Label"
   ]
  },
  {
   "cell_type": "code",
   "execution_count": 11,
   "metadata": {},
   "outputs": [],
   "source": [
    "forecast_col = 'Close'"
   ]
  },
  {
   "cell_type": "code",
   "execution_count": 12,
   "metadata": {},
   "outputs": [
    {
     "name": "stderr",
     "output_type": "stream",
     "text": [
      "/home/tony/Desktop/github_repos/Dataquest-modules/venv/lib/python3.7/site-packages/pandas/core/frame.py:4259: SettingWithCopyWarning: \n",
      "A value is trying to be set on a copy of a slice from a DataFrame\n",
      "\n",
      "See the caveats in the documentation: http://pandas.pydata.org/pandas-docs/stable/user_guide/indexing.html#returning-a-view-versus-a-copy\n",
      "  **kwargs\n"
     ]
    }
   ],
   "source": [
    "linear_reg.fillna(-9999,inplace=True)"
   ]
  },
  {
   "cell_type": "markdown",
   "metadata": {},
   "source": [
    "filter and replace NaN values"
   ]
  },
  {
   "cell_type": "code",
   "execution_count": 13,
   "metadata": {},
   "outputs": [],
   "source": [
    "import math\n",
    "forecast_out = int(math.ceil(0.1*len(linear_reg)))"
   ]
  },
  {
   "cell_type": "markdown",
   "metadata": {},
   "source": [
    "Decide on forcast futures by a portion of the maximum ceiling of row entries in dataframe"
   ]
  },
  {
   "cell_type": "code",
   "execution_count": 14,
   "metadata": {},
   "outputs": [
    {
     "data": {
      "text/plain": [
       "240"
      ]
     },
     "execution_count": 14,
     "metadata": {},
     "output_type": "execute_result"
    }
   ],
   "source": [
    "forecast_out"
   ]
  },
  {
   "cell_type": "markdown",
   "metadata": {},
   "source": [
    "forecasting out by 409 days\n"
   ]
  },
  {
   "cell_type": "code",
   "execution_count": 15,
   "metadata": {},
   "outputs": [
    {
     "name": "stderr",
     "output_type": "stream",
     "text": [
      "/home/tony/Desktop/github_repos/Dataquest-modules/venv/lib/python3.7/site-packages/ipykernel_launcher.py:1: SettingWithCopyWarning: \n",
      "A value is trying to be set on a copy of a slice from a DataFrame.\n",
      "Try using .loc[row_indexer,col_indexer] = value instead\n",
      "\n",
      "See the caveats in the documentation: http://pandas.pydata.org/pandas-docs/stable/user_guide/indexing.html#returning-a-view-versus-a-copy\n",
      "  \"\"\"Entry point for launching an IPython kernel.\n"
     ]
    }
   ],
   "source": [
    "linear_reg['label'] = linear_reg[forecast_col].shift(-forecast_out)"
   ]
  },
  {
   "cell_type": "markdown",
   "metadata": {},
   "source": [
    "shifting dataframe to unknown values above dataframe"
   ]
  },
  {
   "cell_type": "code",
   "execution_count": 16,
   "metadata": {},
   "outputs": [
    {
     "data": {
      "text/html": [
       "<div>\n",
       "<style scoped>\n",
       "    .dataframe tbody tr th:only-of-type {\n",
       "        vertical-align: middle;\n",
       "    }\n",
       "\n",
       "    .dataframe tbody tr th {\n",
       "        vertical-align: top;\n",
       "    }\n",
       "\n",
       "    .dataframe thead th {\n",
       "        text-align: right;\n",
       "    }\n",
       "</style>\n",
       "<table border=\"1\" class=\"dataframe\">\n",
       "  <thead>\n",
       "    <tr style=\"text-align: right;\">\n",
       "      <th></th>\n",
       "      <th>Close</th>\n",
       "      <th>HL_PCT</th>\n",
       "      <th>PCT_change</th>\n",
       "      <th>Volume</th>\n",
       "      <th>label</th>\n",
       "    </tr>\n",
       "    <tr>\n",
       "      <th>Date</th>\n",
       "      <th></th>\n",
       "      <th></th>\n",
       "      <th></th>\n",
       "      <th></th>\n",
       "      <th></th>\n",
       "    </tr>\n",
       "  </thead>\n",
       "  <tbody>\n",
       "    <tr>\n",
       "      <th>2010-06-29</th>\n",
       "      <td>23.89</td>\n",
       "      <td>4.646296</td>\n",
       "      <td>25.736842</td>\n",
       "      <td>18766300</td>\n",
       "      <td>27.86</td>\n",
       "    </tr>\n",
       "    <tr>\n",
       "      <th>2010-06-30</th>\n",
       "      <td>23.83</td>\n",
       "      <td>27.654217</td>\n",
       "      <td>-7.599845</td>\n",
       "      <td>17187100</td>\n",
       "      <td>28.43</td>\n",
       "    </tr>\n",
       "    <tr>\n",
       "      <th>2010-07-01</th>\n",
       "      <td>21.96</td>\n",
       "      <td>18.032787</td>\n",
       "      <td>-12.160000</td>\n",
       "      <td>8218800</td>\n",
       "      <td>28.60</td>\n",
       "    </tr>\n",
       "    <tr>\n",
       "      <th>2010-07-02</th>\n",
       "      <td>19.20</td>\n",
       "      <td>20.312500</td>\n",
       "      <td>-16.521739</td>\n",
       "      <td>5139800</td>\n",
       "      <td>27.32</td>\n",
       "    </tr>\n",
       "    <tr>\n",
       "      <th>2010-07-06</th>\n",
       "      <td>16.11</td>\n",
       "      <td>24.146493</td>\n",
       "      <td>-19.450000</td>\n",
       "      <td>6866900</td>\n",
       "      <td>26.50</td>\n",
       "    </tr>\n",
       "  </tbody>\n",
       "</table>\n",
       "</div>"
      ],
      "text/plain": [
       "            Close     HL_PCT  PCT_change    Volume  label\n",
       "Date                                                     \n",
       "2010-06-29  23.89   4.646296   25.736842  18766300  27.86\n",
       "2010-06-30  23.83  27.654217   -7.599845  17187100  28.43\n",
       "2010-07-01  21.96  18.032787  -12.160000   8218800  28.60\n",
       "2010-07-02  19.20  20.312500  -16.521739   5139800  27.32\n",
       "2010-07-06  16.11  24.146493  -19.450000   6866900  26.50"
      ]
     },
     "execution_count": 16,
     "metadata": {},
     "output_type": "execute_result"
    }
   ],
   "source": [
    "linear_reg.head()"
   ]
  },
  {
   "cell_type": "markdown",
   "metadata": {},
   "source": [
    "## Via regression analysis"
   ]
  },
  {
   "cell_type": "code",
   "execution_count": 17,
   "metadata": {
    "scrolled": true
   },
   "outputs": [
    {
     "name": "stderr",
     "output_type": "stream",
     "text": [
      "/home/tony/Desktop/github_repos/Dataquest-modules/venv/lib/python3.7/site-packages/ipykernel_launcher.py:12: SettingWithCopyWarning: \n",
      "A value is trying to be set on a copy of a slice from a DataFrame\n",
      "\n",
      "See the caveats in the documentation: http://pandas.pydata.org/pandas-docs/stable/user_guide/indexing.html#returning-a-view-versus-a-copy\n",
      "  if sys.path[0] == '':\n"
     ]
    }
   ],
   "source": [
    "import numpy as np\n",
    "from sklearn import preprocessing, svm\n",
    "from sklearn.linear_model import LinearRegression\n",
    "from sklearn.model_selection import train_test_split,cross_validate\n",
    "\n",
    "\n",
    "X = np.array(linear_reg.drop(['label'],1))\n",
    "X = preprocessing.scale(X)\n",
    "X = X[:-forecast_out]\n",
    "X_lately = X[-forecast_out:]\n",
    "\n",
    "linear_reg.dropna(inplace=True)\n",
    "y = np.array(linear_reg['label'])\n",
    "\n",
    "\n",
    "# X = X[:-forecast_out + 1]\n"
   ]
  },
  {
   "cell_type": "markdown",
   "metadata": {},
   "source": [
    "define features and labels, X,y"
   ]
  },
  {
   "cell_type": "code",
   "execution_count": 18,
   "metadata": {},
   "outputs": [
    {
     "data": {
      "text/plain": [
       "(2159, 4)"
      ]
     },
     "execution_count": 18,
     "metadata": {},
     "output_type": "execute_result"
    }
   ],
   "source": [
    "X.shape"
   ]
  },
  {
   "cell_type": "code",
   "execution_count": 19,
   "metadata": {},
   "outputs": [
    {
     "data": {
      "text/plain": [
       "(2159,)"
      ]
     },
     "execution_count": 19,
     "metadata": {},
     "output_type": "execute_result"
    }
   ],
   "source": [
    "y.shape"
   ]
  },
  {
   "cell_type": "code",
   "execution_count": 20,
   "metadata": {},
   "outputs": [],
   "source": [
    "X_train,X_test,y_train,y_test = train_test_split(X,y,test_size=0.2, random_state=0)"
   ]
  },
  {
   "cell_type": "code",
   "execution_count": 21,
   "metadata": {},
   "outputs": [
    {
     "data": {
      "text/plain": [
       "(1727, 4)"
      ]
     },
     "execution_count": 21,
     "metadata": {},
     "output_type": "execute_result"
    }
   ],
   "source": [
    "X_train.shape"
   ]
  },
  {
   "cell_type": "code",
   "execution_count": 22,
   "metadata": {},
   "outputs": [
    {
     "data": {
      "text/plain": [
       "(1727,)"
      ]
     },
     "execution_count": 22,
     "metadata": {},
     "output_type": "execute_result"
    }
   ],
   "source": [
    "y_train.shape"
   ]
  },
  {
   "cell_type": "code",
   "execution_count": 23,
   "metadata": {},
   "outputs": [
    {
     "data": {
      "text/plain": [
       "(432, 4)"
      ]
     },
     "execution_count": 23,
     "metadata": {},
     "output_type": "execute_result"
    }
   ],
   "source": [
    "X_test.shape"
   ]
  },
  {
   "cell_type": "code",
   "execution_count": 24,
   "metadata": {},
   "outputs": [
    {
     "data": {
      "text/plain": [
       "(432,)"
      ]
     },
     "execution_count": 24,
     "metadata": {},
     "output_type": "execute_result"
    }
   ],
   "source": [
    "y_test.shape"
   ]
  },
  {
   "cell_type": "code",
   "execution_count": 25,
   "metadata": {},
   "outputs": [
    {
     "data": {
      "text/plain": [
       "array([[ 1.14753595e+00, -5.97451293e-01, -5.30793559e-02,\n",
       "         1.61611011e-01],\n",
       "       [ 1.21647223e+00, -8.90668557e-01,  9.94406707e-01,\n",
       "        -1.88894771e-01],\n",
       "       [ 1.20473655e+00, -3.68506854e-01,  1.60382557e-01,\n",
       "        -3.17002994e-01],\n",
       "       [ 1.30696741e+00, -9.65814575e-01,  1.06978415e+00,\n",
       "         9.54235138e-02],\n",
       "       [ 1.31931161e+00,  1.75285666e-01,  3.21409549e-01,\n",
       "         3.86103015e-02],\n",
       "       [ 1.31305258e+00, -5.75994109e-02,  2.58593613e-02,\n",
       "        -3.04665090e-01],\n",
       "       [ 1.30027372e+00, -5.06945608e-03, -3.03485212e-01,\n",
       "        -4.70669807e-01],\n",
       "       [ 1.41215393e+00, -7.88080133e-01,  1.15081313e+00,\n",
       "         3.17568849e-01],\n",
       "       [ 1.46326936e+00, -5.51590577e-01,  4.36039682e-01,\n",
       "         7.53507732e-02],\n",
       "       [ 1.50995131e+00, -7.50106803e-01,  3.97952773e-01,\n",
       "        -2.35177676e-01],\n",
       "       [ 1.45405467e+00,  3.21698770e-01, -5.45920153e-01,\n",
       "        -1.39038707e-01],\n",
       "       [ 1.38511838e+00,  8.19804796e-01, -9.91623736e-01,\n",
       "         1.28380642e-01],\n",
       "       [ 1.27967107e+00,  1.73409724e+00, -1.49678351e+00,\n",
       "         2.99871207e-01],\n",
       "       [ 1.31609517e+00, -9.58302692e-01,  9.01956555e-01,\n",
       "        -7.69498322e-02],\n",
       "       [ 1.30070838e+00, -3.06722781e-01,  9.85548254e-02,\n",
       "        -3.43675568e-01],\n",
       "       [ 1.25593891e+00,  2.83899864e-01, -6.13981652e-01,\n",
       "        -2.46590763e-01],\n",
       "       [ 1.29158062e+00, -9.42975759e-01,  7.62667158e-01,\n",
       "        -9.49207151e-02],\n",
       "       [ 1.26376270e+00, -3.28807289e-01, -4.19279340e-01,\n",
       "        -3.97819421e-01],\n",
       "       [ 1.24698502e+00, -7.69600750e-01,  3.38929774e-01,\n",
       "         1.00670746e-02],\n",
       "       [ 1.40641648e+00, -7.24869104e-01,  1.87066336e+00,\n",
       "         5.89591266e-01],\n",
       "       [ 1.37451280e+00, -1.79963674e-01,  1.46293519e+00,\n",
       "         1.06542341e-01],\n",
       "       [ 1.24229074e+00,  1.06463325e+00, -1.10506811e+00,\n",
       "         5.27250168e-01],\n",
       "       [ 1.23333685e+00,  1.51231039e-01, -4.25853159e-01,\n",
       "         2.32443614e-01],\n",
       "       [ 1.19639117e+00, -2.24988513e-02, -1.85507640e-01,\n",
       "         1.38385484e-01],\n",
       "       [ 1.12867192e+00,  1.84748895e-01, -3.46010384e-01,\n",
       "         4.25709425e-01],\n",
       "       [ 1.10250568e+00, -4.63526191e-02, -5.07770824e-01,\n",
       "        -1.45995856e-01],\n",
       "       [ 1.15449043e+00, -3.03580670e-02,  7.32095037e-01,\n",
       "         1.04986966e-01],\n",
       "       [ 1.08990069e+00,  6.14856951e-01, -5.63999196e-01,\n",
       "        -1.09108254e-01],\n",
       "       [ 1.02418085e+00,  6.53001014e-01, -1.14581143e+00,\n",
       "         2.51381351e-01],\n",
       "       [ 1.04713063e+00, -4.07173559e-01, -3.82250676e-01,\n",
       "         6.12963923e-01],\n",
       "       [ 8.29803120e-01,  3.56565255e+00, -2.98755410e+00,\n",
       "         1.76831304e+00],\n",
       "       [ 6.43770768e-01,  1.16224444e+00, -9.45176501e-01,\n",
       "         3.26681143e+00],\n",
       "       [ 7.16358158e-01, -5.67320549e-02,  1.36523380e+00,\n",
       "         2.04128129e+00],\n",
       "       [ 5.97697335e-01,  5.96949287e-01, -5.45399246e-01,\n",
       "         2.23954952e+00],\n",
       "       [ 7.28528499e-01,  1.25370999e-01, -3.16732606e-01,\n",
       "         2.81344073e+00],\n",
       "       [ 8.97261581e-01, -7.21669147e-01,  4.92667592e+00,\n",
       "         3.03461922e+00],\n",
       "       [ 1.06051801e+00, -8.84163270e-01,  2.05987783e+00,\n",
       "         2.87159914e+00],\n",
       "       [ 1.00470830e+00,  7.10735078e-01, -2.13076101e-01,\n",
       "         1.69439070e+00],\n",
       "       [ 9.20906814e-01,  2.48601589e+00, -1.30860828e+00,\n",
       "         1.00697816e+00],\n",
       "       [ 1.05165105e+00, -5.75555181e-01,  6.92814931e-01,\n",
       "         1.16251562e+00],\n",
       "       [ 1.01887806e+00,  3.77692727e-01,  1.61787219e-02,\n",
       "         4.25415165e-01],\n",
       "       [ 9.59330318e-01,  7.21736661e-01, -1.00193794e+00,\n",
       "         4.51877553e-01],\n",
       "       [ 1.01374913e+00, -3.66301588e-01, -3.98899694e-01,\n",
       "         3.92689241e-01],\n",
       "       [ 9.34381120e-01,  4.92163123e-01, -9.58041861e-01,\n",
       "         1.84878575e-01],\n",
       "       [ 9.03781406e-01, -1.86872254e-01, -1.56015971e-01,\n",
       "         3.23916459e-01],\n",
       "       [ 9.52984355e-01,  2.12885055e-01,  2.77821528e-01,\n",
       "         2.30951295e-01],\n",
       "       [ 1.01148892e+00, -8.16845752e-01,  1.12191031e+00,\n",
       "         1.32773524e-01],\n",
       "       [ 9.25948812e-01,  7.21541627e-01, -6.16647666e-01,\n",
       "         3.55205707e-02],\n",
       "       [ 8.66227212e-01,  4.97063187e-01, -9.99510581e-01,\n",
       "        -1.18860874e-01],\n",
       "       [ 8.67009591e-01, -3.26586965e-01, -2.04156091e-01,\n",
       "         4.75852336e-02],\n",
       "       [ 8.42929702e-01, -1.69057415e-01, -3.68744402e-01,\n",
       "        -3.03782310e-01],\n",
       "       [ 8.84569654e-01, -9.18529420e-01,  8.74539533e-01,\n",
       "        -2.31814704e-01],\n",
       "       [ 9.59330318e-01, -9.06393778e-01,  1.10739641e+00,\n",
       "        -2.30007106e-01],\n",
       "       [ 9.57765560e-01, -1.43343630e-01,  2.91729297e-02,\n",
       "        -2.58676445e-01],\n",
       "       [ 1.01009803e+00, -8.21814235e-01,  7.90411802e-01,\n",
       "        -1.75148622e-01],\n",
       "       [ 1.02079054e+00, -1.74168749e-02,  3.08584675e-01,\n",
       "         7.38066490e-01],\n",
       "       [ 8.75615760e-01, -3.35940365e-01,  7.34295686e-01,\n",
       "         2.49978052e+00],\n",
       "       [ 9.59417249e-01, -4.97659908e-01,  1.42375460e+00,\n",
       "         6.53781999e-01],\n",
       "       [ 1.03487336e+00, -4.41235929e-01,  6.39823272e-01,\n",
       "         6.76650210e-01],\n",
       "       [ 1.02791888e+00, -6.63227148e-03,  1.35115693e-01,\n",
       "         9.90176903e-02],\n",
       "       [ 1.07034121e+00, -9.47038411e-01,  7.75744776e-01,\n",
       "         5.64340543e-02],\n",
       "       [ 1.05443284e+00,  3.46329624e-01, -3.01322712e-01,\n",
       "         4.05019734e-02],\n",
       "       [ 1.02000816e+00,  3.38524093e-01, -7.94704183e-01,\n",
       "        -1.63798590e-01],\n",
       "       [ 9.40987876e-01,  1.27023993e+00, -1.37297891e+00,\n",
       "         3.84197736e-01],\n",
       "       [ 8.73268623e-01, -4.79293419e-01, -1.13203153e-01,\n",
       "         8.53416438e-01],\n",
       "       [ 8.93262754e-01, -5.62595085e-01,  3.33971639e-01,\n",
       "         4.52101345e-02],\n",
       "       [ 8.76398139e-01, -1.47989965e-01, -1.80550132e-01,\n",
       "        -2.18236703e-01],\n",
       "       [ 8.09287403e-01,  4.55226173e-01, -1.01112248e+00,\n",
       "         3.76862253e-01],\n",
       "       [ 8.75963484e-01,  2.69357890e-01,  4.03182573e-01,\n",
       "         7.82667910e-01],\n",
       "       [ 7.93552891e-01,  1.41227774e+00, -1.62446382e+00,\n",
       "         7.32895921e-01],\n",
       "       [ 8.28846879e-01, -8.21349714e-01,  1.65295732e-01,\n",
       "         1.10598926e-01],\n",
       "       [ 8.18241296e-01, -3.80784880e-01, -7.90098270e-02,\n",
       "        -2.69501012e-01],\n",
       "       [ 8.26934397e-01, -8.30285967e-01,  1.53541539e-01,\n",
       "        -3.32893038e-01],\n",
       "       [ 8.69617521e-01, -4.85681711e-01,  6.81297018e-01,\n",
       "         4.36547598e-02],\n",
       "       [ 9.38814601e-01, -4.03765879e-01,  1.07949401e+00,\n",
       "         4.26844428e-01],\n",
       "       [ 8.78049828e-01,  2.70688823e-02, -3.22123245e-01,\n",
       "         9.68527770e-02],\n",
       "       [ 9.39683911e-01, -9.50874236e-01,  7.54278124e-01,\n",
       "        -7.25223247e-03],\n",
       "       [ 9.82453966e-01, -5.88712351e-01,  2.90792463e-01,\n",
       "        -1.38954633e-01],\n",
       "       [ 9.33685672e-01,  1.83764347e-01, -8.12583382e-01,\n",
       "         1.12721802e-01],\n",
       "       [ 1.18030893e+00, -5.51301629e-01,  2.30142625e+00,\n",
       "         2.79723541e+00],\n",
       "       [ 1.15066546e+00,  1.24923340e+00, -1.38145475e-02,\n",
       "         1.86779396e+00],\n",
       "       [ 1.16431363e+00,  1.10972945e-01, -1.60241546e-01,\n",
       "         5.77232343e-01],\n",
       "       [ 1.28984200e+00, -5.84044215e-01,  1.07869156e+00,\n",
       "         1.62360014e+00],\n",
       "       [ 1.38259738e+00,  8.24268868e-01, -2.11295657e-01,\n",
       "         3.54972147e+00],\n",
       "       [ 1.40007052e+00, -6.18871045e-01, -2.10110622e-01,\n",
       "         8.43033261e-01],\n",
       "       [ 1.51255924e+00, -8.27948400e-01,  1.05275647e+00,\n",
       "         1.16066599e+00],\n",
       "       [ 1.51647113e+00, -5.67935719e-02,  4.39865911e-01,\n",
       "         1.13277434e+00],\n",
       "       [ 1.62652579e+00, -5.78398940e-01,  1.57813104e+00,\n",
       "         1.39023088e+00],\n",
       "       [ 1.46761591e+00,  1.52651710e+00, -1.26760213e+00,\n",
       "         1.53498582e+00],\n",
       "       [ 1.55167819e+00, -6.72192757e-01,  4.19330426e-01,\n",
       "         6.14750502e-01],\n",
       "       [ 1.42380268e+00,  1.74444591e+00, -1.46820569e+00,\n",
       "         5.27187112e-01],\n",
       "       [ 1.30314245e+00,  1.84540454e+00, -1.86685738e+00,\n",
       "         1.01040419e+00],\n",
       "       [ 1.29775272e+00, -1.45275866e-01,  3.12717453e-01,\n",
       "         3.09476697e-01],\n",
       "       [ 1.37590370e+00, -7.44470588e-01,  6.39509774e-01,\n",
       "         4.19025518e-01],\n",
       "       [ 1.39763645e+00, -5.12106700e-02, -5.97958059e-02,\n",
       "         6.04241214e-01],\n",
       "       [ 1.44483998e+00,  4.99460411e-02,  1.26094233e-01,\n",
       "         6.17756158e-01],\n",
       "       [ 1.38416214e+00,  6.33346512e-01, -1.07939825e+00,\n",
       "         2.17226165e-01],\n",
       "       [ 1.31566051e+00,  3.50492897e+00, -2.54165563e+00,\n",
       "         2.79565902e+00],\n",
       "       [ 1.10520055e+00,  2.54091964e+00, -2.30574817e+00,\n",
       "         1.43424378e+00],\n",
       "       [ 1.09042227e+00, -1.18966945e-01, -5.42122432e-01,\n",
       "         2.52590661e+00],\n",
       "       [ 1.08816207e+00, -4.55066079e-01,  4.65997222e-01,\n",
       "         7.16018004e-01],\n",
       "       [ 1.17170276e+00, -9.71788120e-01,  7.56057473e-01,\n",
       "         4.49355324e-01],\n",
       "       [ 1.20612744e+00, -1.57365194e-01, -2.41977367e-01,\n",
       "         8.43390577e-01],\n",
       "       [ 1.17561466e+00, -5.01499457e-01,  3.58423032e-01,\n",
       "        -1.20815601e-01],\n",
       "       [ 1.15605518e+00,  6.63839257e-02, -5.42980069e-01,\n",
       "         5.51309026e-02],\n",
       "       [ 1.17483228e+00, -8.60915652e-01,  3.73716712e-01,\n",
       "         8.63645073e-02],\n",
       "       [ 1.09859379e+00, -1.49245014e-01, -1.95450755e-01,\n",
       "         4.95995545e-01],\n",
       "       [ 1.20803993e+00, -6.52514476e-01,  1.63401940e+00,\n",
       "         3.23117753e-01],\n",
       "       [ 1.21812392e+00, -7.16046215e-01, -1.36067356e-01,\n",
       "         3.47428834e-02],\n",
       "       [ 1.18665490e+00, -4.51323556e-01,  4.43214685e-01,\n",
       "         9.59279596e-02],\n",
       "       [ 1.12884578e+00,  5.82502663e-01, -8.76308261e-01,\n",
       "        -6.23629401e-02],\n",
       "       [ 1.03861140e+00, -5.90244862e-01,  1.57607067e-01,\n",
       "         1.16316720e+00],\n",
       "       [ 9.88452205e-01,  7.73964293e-01, -8.45166593e-01,\n",
       "         8.68465739e-01],\n",
       "       [ 1.08677117e+00, -8.29415723e-01,  1.46946828e+00,\n",
       "         3.39764466e-01],\n",
       "       [ 1.06860259e+00, -3.06323807e-01,  2.08675787e-01,\n",
       "        -1.74118711e-01],\n",
       "       [ 9.86278930e-01,  8.12823708e-01, -1.20341437e+00,\n",
       "         5.13685774e-02],\n",
       "       [ 9.25340295e-01,  5.87897543e-02, -7.13846376e-01,\n",
       "         2.84842925e-01],\n",
       "       [ 9.94624307e-01, -9.42880937e-01,  7.28891013e-01,\n",
       "        -8.02917858e-02],\n",
       "       [ 1.01809568e+00, -6.10743169e-01,  3.42277328e-01,\n",
       "         9.81671792e-01],\n",
       "       [ 1.44144968e+00, -9.08351580e-01,  2.33848658e+00,\n",
       "         3.73207864e+00],\n",
       "       [ 1.42954013e+00,  1.74026886e-02,  3.09013209e-02,\n",
       "         1.72301800e+00],\n",
       "       [ 1.37581677e+00,  9.45039098e-01, -3.73591235e-01,\n",
       "         6.52710051e-01],\n",
       "       [ 1.70250348e+00,  7.64863709e-02,  3.78680583e+00,\n",
       "         5.34226975e+00],\n",
       "       [ 1.62226617e+00,  7.04081013e-01,  1.16755207e-01,\n",
       "         4.01713257e+00],\n",
       "       [ 1.46674660e+00,  1.11308687e+00, -1.31519380e+00,\n",
       "         2.46440625e+00],\n",
       "       [ 1.49317362e+00, -3.32613667e-01,  1.46776712e-01,\n",
       "         1.28068206e+00],\n",
       "       [ 1.50117128e+00, -1.25889449e-02, -4.84045792e-01,\n",
       "         1.05197893e+00],\n",
       "       [ 1.42493278e+00,  7.06104643e-01, -1.10787386e+00,\n",
       "         3.21057933e-01],\n",
       "       [ 1.34712953e+00, -1.08461738e-01, -3.50704682e-01,\n",
       "         7.65579807e-01],\n",
       "       [ 1.31896389e+00,  5.49721544e-02, -4.85908957e-01,\n",
       "         1.27182583e-01],\n",
       "       [ 1.05860553e+00,  2.54306141e+00, -2.03823079e+00,\n",
       "         2.83744395e+00],\n",
       "       [ 1.08416324e+00, -9.63548956e-01,  2.08821256e+00,\n",
       "         2.51033184e+00],\n",
       "       [ 1.20117238e+00, -5.19930293e-01,  1.32009267e+00,\n",
       "         1.62122504e+00],\n",
       "       [ 1.19891217e+00, -6.21631760e-01,  8.07226810e-02,\n",
       "         1.02380663e-01],\n",
       "       [ 1.18552479e+00,  1.65820651e-01,  1.02932499e-01,\n",
       "        -6.54947080e-02],\n",
       "       [ 1.20917003e+00, -8.12226488e-01,  2.34450142e-01,\n",
       "        -3.90168659e-01],\n",
       "       [ 1.17830952e+00, -4.71900894e-01,  1.38915533e-01,\n",
       "         1.60169878e+00],\n",
       "       [ 1.11389365e+00,  1.63530149e-01, -7.57886140e-01,\n",
       "         4.60348039e-01],\n",
       "       [ 1.05434591e+00,  1.59256983e-01, -6.25801519e-01,\n",
       "         4.17953570e-01],\n",
       "       [ 1.03817674e+00, -7.31796164e-01,  1.00610628e-01,\n",
       "         3.69463714e-01],\n",
       "       [ 1.02522402e+00, -3.62260879e-01, -4.79874539e-02,\n",
       "        -1.76143907e-02],\n",
       "       [ 9.14734713e-01,  6.41712053e-01, -9.89229769e-01,\n",
       "         6.07772335e-01],\n",
       "       [ 8.43364357e-01,  1.13249417e-01, -5.58889253e-01,\n",
       "         4.75418358e-01],\n",
       "       [ 8.45189908e-01,  8.63875967e-01, -5.00407588e-01,\n",
       "         4.24973775e-01],\n",
       "       [ 6.91235097e-01,  7.05340549e-03,  4.33846163e-01,\n",
       "         3.58009331e+00],\n",
       "       [ 8.84743516e-01, -8.79614150e-01,  1.62838896e+00,\n",
       "         1.85480448e+00],\n",
       "       [ 8.32063326e-01, -5.10675702e-01, -1.08049453e-02,\n",
       "         7.80019569e-01],\n",
       "       [ 9.28556743e-01, -6.32654722e-01,  1.17354609e+00,\n",
       "         9.57710615e-01],\n",
       "       [ 9.19168194e-01, -6.72761209e-03,  1.75640247e-01,\n",
       "         1.85256910e-01],\n",
       "       [ 9.69066591e-01, -6.08947623e-01,  8.07319954e-01,\n",
       "         2.74648916e-01],\n",
       "       [ 9.65937075e-01,  5.95713148e-02,  5.97297394e-01,\n",
       "         3.00291579e-01],\n",
       "       [ 8.80049241e-01,  2.16023446e+00, -1.45026548e+00,\n",
       "         2.33066505e+00],\n",
       "       [ 1.00227424e+00, -8.07845554e-01,  2.40215118e+00,\n",
       "         5.96086006e-01],\n",
       "       [ 9.96275996e-01,  3.21748692e-01, -6.35874288e-01,\n",
       "         3.97355365e-01],\n",
       "       [ 1.00296968e+00, -7.23459215e-01,  1.64799921e-01,\n",
       "        -8.58406900e-02],\n",
       "       [ 1.00801168e+00, -4.13839583e-01,  1.39888801e-01,\n",
       "        -1.29454236e-01],\n",
       "       [ 1.01939964e+00, -3.67612585e-01,  1.13589696e-01,\n",
       "        -2.05394353e-01],\n",
       "       [ 1.09407338e+00, -2.70219390e-01,  9.20591332e-01,\n",
       "         5.01145096e-01],\n",
       "       [ 1.07616559e+00,  2.48555019e-01, -6.34600451e-01,\n",
       "         6.41107797e-01],\n",
       "       [ 7.04535541e-01,  1.55032437e+00, -7.48496702e-01,\n",
       "         5.92530404e+00],\n",
       "       [ 1.10380965e+00, -8.53081809e-01,  5.81737355e-01,\n",
       "         3.42995762e+00],\n",
       "       [ 1.01966044e+00,  1.68097182e+00, -1.51045534e+00,\n",
       "         1.32093264e+00],\n",
       "       [ 9.65589351e-01,  7.05603937e-01, -1.03352814e+00,\n",
       "         5.33051295e-01],\n",
       "       [ 8.52839837e-01,  1.20759624e+00, -1.51215659e+00,\n",
       "         9.15421239e-01],\n",
       "       [ 6.80020998e-01,  1.51965023e+00, -1.69503020e+00,\n",
       "         2.62429456e+00],\n",
       "       [ 5.81006582e-01,  2.49369972e+00, -1.93357815e+00,\n",
       "         1.68438586e+00],\n",
       "       [ 6.87410133e-01, -2.10396744e-01,  1.07297197e+00,\n",
       "         1.38758254e+00],\n",
       "       [ 6.35946978e-01,  7.23411309e-01, -1.07338060e+00,\n",
       "         1.54620974e+00],\n",
       "       [ 5.95524060e-01,  1.03302530e+00, -7.58220720e-01,\n",
       "         5.69350377e-01],\n",
       "       [ 6.52463869e-01, -3.46874410e-01, -3.17411927e-01,\n",
       "         3.66247872e-01],\n",
       "       [ 6.59505280e-01, -2.55439440e-01,  6.78037588e-02,\n",
       "         1.55767847e-01],\n",
       "       [ 8.07287990e-01, -8.29116805e-01,  1.48942463e+00,\n",
       "         8.54929776e-01],\n",
       "       [ 7.65474176e-01,  1.05595064e+00, -1.37980605e+00,\n",
       "         6.71878993e-01],\n",
       "       [ 6.97059475e-01,  3.83491474e-01, -7.36255277e-01,\n",
       "        -7.92482691e-03],\n",
       "       [ 6.63069452e-01,  9.03132903e-01, -1.01587097e+00,\n",
       "         8.23212744e-01],\n",
       "       [ 6.71327897e-01, -7.97245002e-01,  3.09270507e-02,\n",
       "         2.97194436e-02],\n",
       "       [ 9.59851905e-01, -3.22597915e-01,  4.18112520e+00,\n",
       "         2.85198880e+00],\n",
       "       [ 9.10822817e-01,  1.81717000e+00, -1.52880142e+00,\n",
       "         3.06858523e+00],\n",
       "       [ 1.13997295e+00,  1.15377170e-02, -2.78490423e-01,\n",
       "         3.23303458e+00],\n",
       "       [ 1.27941028e+00,  4.00326780e-01,  2.67568085e+00,\n",
       "         4.61706580e+00],\n",
       "       [ 1.31374803e+00,  8.83379016e-01, -2.90319720e-01,\n",
       "         1.89736710e+00],\n",
       "       [ 1.27071718e+00,  2.51394704e-01,  1.60983774e-01,\n",
       "         7.70918525e-01],\n",
       "       [ 1.33521999e+00, -2.72644798e-01,  5.17884544e-01,\n",
       "         4.55135432e-01],\n",
       "       [ 1.39572397e+00, -4.51116489e-01,  6.42841560e-01,\n",
       "         5.34123243e-01],\n",
       "       [ 1.41424027e+00, -5.66593323e-01,  2.76688156e-01,\n",
       "         4.93746557e-01],\n",
       "       [ 1.37068784e+00, -5.94649855e-01,  8.96103563e-02,\n",
       "         4.98580830e-01],\n",
       "       [ 1.36773218e+00,  1.72815924e-01,  2.07377986e-01,\n",
       "         2.74081414e-01],\n",
       "       [ 1.42945320e+00, -5.35272653e-01,  5.05630771e-01,\n",
       "         4.02631028e-01],\n",
       "       [ 1.45761884e+00, -8.51282254e-02,  2.96909036e-01,\n",
       "         3.42980308e-01],\n",
       "       [ 1.44988198e+00, -4.70485724e-01,  1.51070319e-01,\n",
       "        -7.56887176e-02],\n",
       "       [ 1.28271366e+00,  1.84710510e+00, -1.79784951e+00,\n",
       "         3.11620592e-01],\n",
       "       [ 1.34747726e+00, -8.32159962e-02,  6.03476418e-01,\n",
       "        -2.16573695e-03],\n",
       "       [ 1.39328990e+00, -5.16760804e-01,  1.31602828e-01,\n",
       "        -8.79845848e-02],\n",
       "       [ 1.43188726e+00, -9.53080822e-01,  6.44714925e-01,\n",
       "        -1.75127603e-01],\n",
       "       [ 1.48291576e+00, -7.75231282e-01,  9.57658059e-01,\n",
       "         3.67256764e-01],\n",
       "       [ 1.47561356e+00,  9.24170208e-01, -3.00923498e-01,\n",
       "         8.93288678e-01],\n",
       "       [ 1.42362882e+00, -6.37623831e-01,  6.06295174e-01,\n",
       "         5.35090097e-01],\n",
       "       [ 1.34278298e+00,  1.25333397e+00, -1.43919407e+00,\n",
       "        -1.62285253e-01],\n",
       "       [ 1.23533626e+00,  8.35574393e-01, -9.37187425e-01,\n",
       "        -2.64057200e-01],\n",
       "       [ 1.41067610e+00, -9.41259937e-01,  2.35207829e+00,\n",
       "         5.32441756e-01],\n",
       "       [ 1.39259445e+00, -5.26934445e-01,  4.08597361e-01,\n",
       "         1.89040254e-01],\n",
       "       [ 1.42693220e+00, -9.13846933e-01,  1.91485728e-01,\n",
       "        -2.79821133e-01],\n",
       "       [ 1.36868842e+00, -3.62883175e-02, -6.20258773e-01,\n",
       "        -4.99864610e-01],\n",
       "       [ 1.44962119e+00, -8.11974720e-01,  9.16942531e-01,\n",
       "         3.57727936e-02],\n",
       "       [ 1.51925293e+00,  8.46835979e-02, -1.60015836e-01,\n",
       "         5.98524161e-01],\n",
       "       [ 1.52977158e+00,  2.87530824e-01,  3.67368755e-01,\n",
       "         6.31187029e-01],\n",
       "       [ 1.55898039e+00, -3.72405352e-01,  7.16070823e-01,\n",
       "         5.00997966e-01],\n",
       "       [ 1.51473251e+00,  2.06290732e+00, -1.09816191e+00,\n",
       "         1.27210648e+00],\n",
       "       [ 1.57714897e+00, -8.58570855e-01,  5.15378100e-01,\n",
       "         2.42679661e-01],\n",
       "       [ 1.59114487e+00, -2.28364605e-01, -3.17771081e-01,\n",
       "         1.78636058e-01],\n",
       "       [ 1.58975397e+00, -2.41816426e-01, -2.85571325e-01,\n",
       "        -9.07800555e-02],\n",
       "       [ 1.67833667e+00, -8.86245308e-01,  6.48015172e-01,\n",
       "         4.00823430e-01],\n",
       "       [ 1.58201711e+00,  7.05983398e-01, -9.11305390e-01,\n",
       "         1.84689408e-01],\n",
       "       [ 1.43171340e+00,  1.53150666e+00, -1.37643199e+00,\n",
       "         4.65581665e-01],\n",
       "       [ 1.33269899e+00,  1.20255359e+00, -1.41391545e+00,\n",
       "         3.44935035e-01],\n",
       "       [ 1.29740500e+00,  1.15627674e+00, -5.07570289e-01,\n",
       "         5.91735161e-01],\n",
       "       [ 1.14449336e+00,  1.41438161e+00, -1.30957913e+00,\n",
       "         7.59400346e-01],\n",
       "       [ 1.18265607e+00, -3.88973629e-01,  2.65714649e-01,\n",
       "         5.37633345e-01],\n",
       "       [ 9.70718280e-01,  2.29409345e+00, -2.11583622e+00,\n",
       "         2.12279387e-02],\n",
       "       [ 1.23759647e+00, -8.37075183e-01,  3.16807398e+00,\n",
       "         5.68383522e-01],\n",
       "       [ 1.15101319e+00, -8.39546519e-03, -4.30359794e-01,\n",
       "         6.54980057e-01],\n",
       "       [ 1.30522879e+00, -6.14850601e-01,  1.21004003e+00,\n",
       "         9.41652422e-01],\n",
       "       [ 1.29592717e+00, -5.79431947e-04, -5.46196864e-01,\n",
       "         1.77269851e-01],\n",
       "       [ 1.09876765e+00, -1.57441203e-01,  4.72569352e-01,\n",
       "         1.30308786e+00],\n",
       "       [ 1.01392299e+00,  5.46728006e-01, -7.96500511e-01,\n",
       "         3.16601994e-01],\n",
       "       [ 1.16457442e+00, -9.24089993e-01,  1.38780667e+00,\n",
       "         4.06750669e-01],\n",
       "       [ 1.31470427e+00, -7.04979457e-01,  1.49554785e+00,\n",
       "         4.39770853e-01],\n",
       "       [ 1.31809458e+00,  3.30891441e-01, -7.12572106e-01,\n",
       "         3.25703038e-01],\n",
       "       [ 1.34573864e+00, -2.31883354e-01,  3.22826612e-01,\n",
       "        -5.46565346e-03],\n",
       "       [ 1.40172221e+00, -9.11882438e-01,  1.14708303e+00,\n",
       "         1.25585171e-01],\n",
       "       [ 1.42162941e+00, -8.06114854e-01,  5.44855446e-01,\n",
       "        -8.82368077e-02],\n",
       "       [ 1.30983613e+00,  2.50016657e-01, -8.57788739e-01,\n",
       "        -4.44761315e-02],\n",
       "       [ 1.39702793e+00, -3.32567468e-01,  1.02078079e+00,\n",
       "         1.25627208e-01],\n",
       "       [ 1.41111075e+00, -1.04964539e-01,  1.27590733e-01,\n",
       "        -1.61255343e-01],\n",
       "       [ 1.42206406e+00, -3.64057125e-01,  1.09108817e-01,\n",
       "        -3.74593894e-01],\n",
       "       [ 1.03043988e+00,  3.18230002e+00, -2.35106977e+00,\n",
       "         3.92877048e+00],\n",
       "       [ 1.00140493e+00,  5.60809373e-01, -7.13519087e-01,\n",
       "         1.38886467e+00],\n",
       "       [ 9.02912096e-01,  2.40156445e-01, -6.19717437e-01,\n",
       "         1.48624374e+00],\n",
       "       [ 9.36989050e-01, -5.97404320e-01,  1.08694145e+00,\n",
       "         5.36666490e-01],\n",
       "       [ 9.85061896e-01, -7.21726034e-01,  3.21744809e-01,\n",
       "         3.76378826e-01]])"
      ]
     },
     "execution_count": 25,
     "metadata": {},
     "output_type": "execute_result"
    }
   ],
   "source": [
    "X_lately"
   ]
  },
  {
   "cell_type": "code",
   "execution_count": 26,
   "metadata": {},
   "outputs": [],
   "source": [
    "#clf = svm.SVR()#kernel='poly'\n",
    "clf = LinearRegression(n_jobs=-1)"
   ]
  },
  {
   "cell_type": "markdown",
   "metadata": {},
   "source": [
    "using linear regression"
   ]
  },
  {
   "cell_type": "code",
   "execution_count": 27,
   "metadata": {},
   "outputs": [
    {
     "data": {
      "text/plain": [
       "LinearRegression(copy_X=True, fit_intercept=True, n_jobs=-1, normalize=False)"
      ]
     },
     "execution_count": 27,
     "metadata": {},
     "output_type": "execute_result"
    }
   ],
   "source": [
    "\n",
    "clf.fit(X_train,y_train)"
   ]
  },
  {
   "cell_type": "markdown",
   "metadata": {},
   "source": [
    "training/fitting train data"
   ]
  },
  {
   "cell_type": "code",
   "execution_count": 28,
   "metadata": {},
   "outputs": [],
   "source": [
    "accuracy_LR = clf.score(X_test,y_test)"
   ]
  },
  {
   "cell_type": "code",
   "execution_count": 29,
   "metadata": {},
   "outputs": [
    {
     "data": {
      "text/plain": [
       "0.6968826546419796"
      ]
     },
     "execution_count": 29,
     "metadata": {},
     "output_type": "execute_result"
    }
   ],
   "source": [
    "accuracy_LR"
   ]
  },
  {
   "cell_type": "markdown",
   "metadata": {},
   "source": [
    "## Via xgboost XGBRegressor"
   ]
  },
  {
   "cell_type": "code",
   "execution_count": 30,
   "metadata": {},
   "outputs": [],
   "source": [
    "import xgboost as xgb \n",
    "from xgboost.sklearn import XGBClassifier, XGBRegressor, XGBRFRegressor\n",
    "\n",
    "classifier = xgb.sklearn.XGBRegressor()"
   ]
  },
  {
   "cell_type": "code",
   "execution_count": 31,
   "metadata": {},
   "outputs": [
    {
     "name": "stdout",
     "output_type": "stream",
     "text": [
      "[16:15:30] WARNING: /workspace/src/objective/regression_obj.cu:152: reg:linear is now deprecated in favor of reg:squarederror.\n"
     ]
    },
    {
     "data": {
      "text/plain": [
       "XGBRegressor(base_score=0.5, booster='gbtree', colsample_bylevel=1,\n",
       "             colsample_bynode=1, colsample_bytree=1, gamma=0,\n",
       "             importance_type='gain', learning_rate=0.1, max_delta_step=0,\n",
       "             max_depth=3, min_child_weight=1, missing=None, n_estimators=100,\n",
       "             n_jobs=1, nthread=None, objective='reg:linear', random_state=0,\n",
       "             reg_alpha=0, reg_lambda=1, scale_pos_weight=1, seed=None,\n",
       "             silent=None, subsample=1, verbosity=1)"
      ]
     },
     "execution_count": 31,
     "metadata": {},
     "output_type": "execute_result"
    }
   ],
   "source": [
    "classifier.fit(X_train,y_train)"
   ]
  },
  {
   "cell_type": "code",
   "execution_count": 32,
   "metadata": {},
   "outputs": [],
   "source": [
    "predictions_xgb = classifier.predict(X_test)"
   ]
  },
  {
   "cell_type": "code",
   "execution_count": 33,
   "metadata": {},
   "outputs": [
    {
     "data": {
      "text/plain": [
       "0.8030928158432116"
      ]
     },
     "execution_count": 33,
     "metadata": {},
     "output_type": "execute_result"
    }
   ],
   "source": [
    "accuracy_xgb = classifier.score(X_test,y_test)\n",
    "accuracy_xgb"
   ]
  },
  {
   "cell_type": "code",
   "execution_count": 34,
   "metadata": {},
   "outputs": [],
   "source": [
    "# import os\n",
    "# os.environ[\"PATH\"] += os.pathsep + '~/Desktop/github_repos/Dataquest-modules/venv/lib/python3.7/site-packages/graphviz'"
   ]
  },
  {
   "cell_type": "code",
   "execution_count": 35,
   "metadata": {},
   "outputs": [
    {
     "data": {
      "image/png": "[encoded data removed]",
      "text/plain": [
       "<Figure size 432x288 with 1 Axes>"
      ]
     },
     "metadata": {
      "needs_background": "light"
     },
     "output_type": "display_data"
    }
   ],
   "source": [
    "import matplotlib.pyplot as plt\n",
    "xgb.plot_tree(classifier,num_trees=0)\n",
    "plt.rcParams['figure.figsize'] = [1000,5]\n",
    "plt.show()"
   ]
  },
  {
   "cell_type": "markdown",
   "metadata": {},
   "source": [
    "## Via XGBoost random forest prediction"
   ]
  },
  {
   "cell_type": "code",
   "execution_count": 36,
   "metadata": {},
   "outputs": [],
   "source": [
    "RF = xgb.sklearn.XGBRFRegressor()"
   ]
  },
  {
   "cell_type": "code",
   "execution_count": 37,
   "metadata": {},
   "outputs": [
    {
     "name": "stdout",
     "output_type": "stream",
     "text": [
      "[16:15:30] WARNING: /workspace/src/objective/regression_obj.cu:152: reg:linear is now deprecated in favor of reg:squarederror.\n"
     ]
    },
    {
     "data": {
      "text/plain": [
       "XGBRFRegressor(base_score=0.5, colsample_bylevel=1, colsample_bynode=0.8,\n",
       "               colsample_bytree=1, gamma=0, learning_rate=1, max_delta_step=0,\n",
       "               max_depth=3, min_child_weight=1, missing=None, n_estimators=100,\n",
       "               n_jobs=1, nthread=None, objective='reg:linear', random_state=0,\n",
       "               reg_alpha=0, reg_lambda=1, scale_pos_weight=1, seed=None,\n",
       "               silent=None, subsample=0.8, verbosity=1)"
      ]
     },
     "execution_count": 37,
     "metadata": {},
     "output_type": "execute_result"
    }
   ],
   "source": [
    "RF.fit(X_train,y_train)"
   ]
  },
  {
   "cell_type": "code",
   "execution_count": 38,
   "metadata": {},
   "outputs": [],
   "source": [
    "accuracy_RF = RF.score(X_test,y_test)"
   ]
  },
  {
   "cell_type": "code",
   "execution_count": 39,
   "metadata": {},
   "outputs": [
    {
     "data": {
      "text/plain": [
       "0.7857740797978094"
      ]
     },
     "execution_count": 39,
     "metadata": {},
     "output_type": "execute_result"
    }
   ],
   "source": [
    "accuracy_RF"
   ]
  },
  {
   "cell_type": "code",
   "execution_count": null,
   "metadata": {},
   "outputs": [],
   "source": []
  },
  {
   "cell_type": "markdown",
   "metadata": {},
   "source": [
    "## XGBoost Dmatrix plot importance"
   ]
  },
  {
   "cell_type": "code",
   "execution_count": 40,
   "metadata": {},
   "outputs": [],
   "source": [
    "def prepare_X_y(data):\n",
    "    X = data\n",
    "   \n",
    "    ind = list(data.columns).index('Close')\n",
    "    print(ind)\n",
    "\n",
    "    y = []\n",
    "    for i in range(X.shape[0]-1):\n",
    "        if (X.iloc[i+1,ind] - X.iloc[i,ind])>0:\n",
    "            y.append(1)\n",
    "        else:\n",
    "            y.append(0)\n",
    "    y = np.array(y)\n",
    "    print(len(y))\n",
    "    X = X[:-1].values\n",
    "    print(len(X))\n",
    "    return X,y"
   ]
  },
  {
   "cell_type": "code",
   "execution_count": 41,
   "metadata": {},
   "outputs": [
    {
     "name": "stdout",
     "output_type": "stream",
     "text": [
      "0\n",
      "2158\n",
      "2158\n"
     ]
    }
   ],
   "source": [
    "X,y = prepare_X_y(linear_reg)"
   ]
  },
  {
   "cell_type": "code",
   "execution_count": 42,
   "metadata": {},
   "outputs": [],
   "source": [
    "dtrain = xgb.DMatrix(X[:int(round(len(X)*0.7))], label=y[:int(round(len(y)*0.7))])\n",
    "dtest = xgb.DMatrix(X[int(round(len(X)*0.7)):], label=y[int(round(len(y)*0.7)):])"
   ]
  },
  {
   "cell_type": "code",
   "execution_count": 43,
   "metadata": {},
   "outputs": [],
   "source": [
    "params = {\n",
    "    'max_depth': 2,\n",
    "    'eta': 2,\n",
    "    'silent': 1,\n",
    "#     'objective': 'reg:logistic'\n",
    "}"
   ]
  },
  {
   "cell_type": "code",
   "execution_count": 44,
   "metadata": {},
   "outputs": [],
   "source": [
    "bst = xgb.train(params=params,dtrain=dtrain,num_boost_round=10)"
   ]
  },
  {
   "cell_type": "code",
   "execution_count": 45,
   "metadata": {},
   "outputs": [],
   "source": [
    "pred = bst.predict(dtest)"
   ]
  },
  {
   "cell_type": "code",
   "execution_count": 46,
   "metadata": {},
   "outputs": [
    {
     "data": {
      "text/plain": [
       "(647,)"
      ]
     },
     "execution_count": 46,
     "metadata": {},
     "output_type": "execute_result"
    }
   ],
   "source": [
    "pred.shape"
   ]
  },
  {
   "cell_type": "code",
   "execution_count": 47,
   "metadata": {},
   "outputs": [],
   "source": [
    "\n",
    "best_preds = np.asarray([np.argmax(line) for line in pred])"
   ]
  },
  {
   "cell_type": "code",
   "execution_count": 48,
   "metadata": {},
   "outputs": [
    {
     "data": {
      "text/plain": [
       "array([0, 0, 0, 0, 0, 0, 0, 0, 0, 0, 0, 0, 0, 0, 0, 0, 0, 0, 0, 0, 0, 0,\n",
       "       0, 0, 0, 0, 0, 0, 0, 0, 0, 0, 0, 0, 0, 0, 0, 0, 0, 0, 0, 0, 0, 0,\n",
       "       0, 0, 0, 0, 0, 0, 0, 0, 0, 0, 0, 0, 0, 0, 0, 0, 0, 0, 0, 0, 0, 0,\n",
       "       0, 0, 0, 0, 0, 0, 0, 0, 0, 0, 0, 0, 0, 0, 0, 0, 0, 0, 0, 0, 0, 0,\n",
       "       0, 0, 0, 0, 0, 0, 0, 0, 0, 0, 0, 0, 0, 0, 0, 0, 0, 0, 0, 0, 0, 0,\n",
       "       0, 0, 0, 0, 0, 0, 0, 0, 0, 0, 0, 0, 0, 0, 0, 0, 0, 0, 0, 0, 0, 0,\n",
       "       0, 0, 0, 0, 0, 0, 0, 0, 0, 0, 0, 0, 0, 0, 0, 0, 0, 0, 0, 0, 0, 0,\n",
       "       0, 0, 0, 0, 0, 0, 0, 0, 0, 0, 0, 0, 0, 0, 0, 0, 0, 0, 0, 0, 0, 0,\n",
       "       0, 0, 0, 0, 0, 0, 0, 0, 0, 0, 0, 0, 0, 0, 0, 0, 0, 0, 0, 0, 0, 0,\n",
       "       0, 0, 0, 0, 0, 0, 0, 0, 0, 0, 0, 0, 0, 0, 0, 0, 0, 0, 0, 0, 0, 0,\n",
       "       0, 0, 0, 0, 0, 0, 0, 0, 0, 0, 0, 0, 0, 0, 0, 0, 0, 0, 0, 0, 0, 0,\n",
       "       0, 0, 0, 0, 0, 0, 0, 0, 0, 0, 0, 0, 0, 0, 0, 0, 0, 0, 0, 0, 0, 0,\n",
       "       0, 0, 0, 0, 0, 0, 0, 0, 0, 0, 0, 0, 0, 0, 0, 0, 0, 0, 0, 0, 0, 0,\n",
       "       0, 0, 0, 0, 0, 0, 0, 0, 0, 0, 0, 0, 0, 0, 0, 0, 0, 0, 0, 0, 0, 0,\n",
       "       0, 0, 0, 0, 0, 0, 0, 0, 0, 0, 0, 0, 0, 0, 0, 0, 0, 0, 0, 0, 0, 0,\n",
       "       0, 0, 0, 0, 0, 0, 0, 0, 0, 0, 0, 0, 0, 0, 0, 0, 0, 0, 0, 0, 0, 0,\n",
       "       0, 0, 0, 0, 0, 0, 0, 0, 0, 0, 0, 0, 0, 0, 0, 0, 0, 0, 0, 0, 0, 0,\n",
       "       0, 0, 0, 0, 0, 0, 0, 0, 0, 0, 0, 0, 0, 0, 0, 0, 0, 0, 0, 0, 0, 0,\n",
       "       0, 0, 0, 0, 0, 0, 0, 0, 0, 0, 0, 0, 0, 0, 0, 0, 0, 0, 0, 0, 0, 0,\n",
       "       0, 0, 0, 0, 0, 0, 0, 0, 0, 0, 0, 0, 0, 0, 0, 0, 0, 0, 0, 0, 0, 0,\n",
       "       0, 0, 0, 0, 0, 0, 0, 0, 0, 0, 0, 0, 0, 0, 0, 0, 0, 0, 0, 0, 0, 0,\n",
       "       0, 0, 0, 0, 0, 0, 0, 0, 0, 0, 0, 0, 0, 0, 0, 0, 0, 0, 0, 0, 0, 0,\n",
       "       0, 0, 0, 0, 0, 0, 0, 0, 0, 0, 0, 0, 0, 0, 0, 0, 0, 0, 0, 0, 0, 0,\n",
       "       0, 0, 0, 0, 0, 0, 0, 0, 0, 0, 0, 0, 0, 0, 0, 0, 0, 0, 0, 0, 0, 0,\n",
       "       0, 0, 0, 0, 0, 0, 0, 0, 0, 0, 0, 0, 0, 0, 0, 0, 0, 0, 0, 0, 0, 0,\n",
       "       0, 0, 0, 0, 0, 0, 0, 0, 0, 0, 0, 0, 0, 0, 0, 0, 0, 0, 0, 0, 0, 0,\n",
       "       0, 0, 0, 0, 0, 0, 0, 0, 0, 0, 0, 0, 0, 0, 0, 0, 0, 0, 0, 0, 0, 0,\n",
       "       0, 0, 0, 0, 0, 0, 0, 0, 0, 0, 0, 0, 0, 0, 0, 0, 0, 0, 0, 0, 0, 0,\n",
       "       0, 0, 0, 0, 0, 0, 0, 0, 0, 0, 0, 0, 0, 0, 0, 0, 0, 0, 0, 0, 0, 0,\n",
       "       0, 0, 0, 0, 0, 0, 0, 0, 0])"
      ]
     },
     "execution_count": 48,
     "metadata": {},
     "output_type": "execute_result"
    }
   ],
   "source": [
    "best_preds"
   ]
  },
  {
   "cell_type": "code",
   "execution_count": 49,
   "metadata": {},
   "outputs": [
    {
     "data": {
      "text/plain": [
       "<matplotlib.axes._subplots.AxesSubplot at 0x7f6dc4860690>"
      ]
     },
     "execution_count": 49,
     "metadata": {},
     "output_type": "execute_result"
    },
    {
     "ename": "ValueError",
     "evalue": "Image size of 72000x360 pixels is too large. It must be less than 2^16 in each direction.",
     "output_type": "error",
     "traceback": [
      "\u001b[0;31m---------------------------------------------------------------------------\u001b[0m",
      "\u001b[0;31mValueError\u001b[0m                                Traceback (most recent call last)",
      "\u001b[0;32m~/Desktop/github_repos/Dataquest-modules/venv/lib/python3.7/site-packages/IPython/core/formatters.py\u001b[0m in \u001b[0;36m__call__\u001b[0;34m(self, obj)\u001b[0m\n\u001b[1;32m    339\u001b[0m                 \u001b[0;32mpass\u001b[0m\u001b[0;34m\u001b[0m\u001b[0;34m\u001b[0m\u001b[0m\n\u001b[1;32m    340\u001b[0m             \u001b[0;32melse\u001b[0m\u001b[0;34m:\u001b[0m\u001b[0;34m\u001b[0m\u001b[0;34m\u001b[0m\u001b[0m\n\u001b[0;32m--> 341\u001b[0;31m                 \u001b[0;32mreturn\u001b[0m \u001b[0mprinter\u001b[0m\u001b[0;34m(\u001b[0m\u001b[0mobj\u001b[0m\u001b[0;34m)\u001b[0m\u001b[0;34m\u001b[0m\u001b[0;34m\u001b[0m\u001b[0m\n\u001b[0m\u001b[1;32m    342\u001b[0m             \u001b[0;31m# Finally look for special method names\u001b[0m\u001b[0;34m\u001b[0m\u001b[0;34m\u001b[0m\u001b[0;34m\u001b[0m\u001b[0m\n\u001b[1;32m    343\u001b[0m             \u001b[0mmethod\u001b[0m \u001b[0;34m=\u001b[0m \u001b[0mget_real_method\u001b[0m\u001b[0;34m(\u001b[0m\u001b[0mobj\u001b[0m\u001b[0;34m,\u001b[0m \u001b[0mself\u001b[0m\u001b[0;34m.\u001b[0m\u001b[0mprint_method\u001b[0m\u001b[0;34m)\u001b[0m\u001b[0;34m\u001b[0m\u001b[0;34m\u001b[0m\u001b[0m\n",
      "\u001b[0;32m~/Desktop/github_repos/Dataquest-modules/venv/lib/python3.7/site-packages/IPython/core/pylabtools.py\u001b[0m in \u001b[0;36m<lambda>\u001b[0;34m(fig)\u001b[0m\n\u001b[1;32m    242\u001b[0m \u001b[0;34m\u001b[0m\u001b[0m\n\u001b[1;32m    243\u001b[0m     \u001b[0;32mif\u001b[0m \u001b[0;34m'png'\u001b[0m \u001b[0;32min\u001b[0m \u001b[0mformats\u001b[0m\u001b[0;34m:\u001b[0m\u001b[0;34m\u001b[0m\u001b[0;34m\u001b[0m\u001b[0m\n\u001b[0;32m--> 244\u001b[0;31m         \u001b[0mpng_formatter\u001b[0m\u001b[0;34m.\u001b[0m\u001b[0mfor_type\u001b[0m\u001b[0;34m(\u001b[0m\u001b[0mFigure\u001b[0m\u001b[0;34m,\u001b[0m \u001b[0;32mlambda\u001b[0m \u001b[0mfig\u001b[0m\u001b[0;34m:\u001b[0m \u001b[0mprint_figure\u001b[0m\u001b[0;34m(\u001b[0m\u001b[0mfig\u001b[0m\u001b[0;34m,\u001b[0m \u001b[0;34m'png'\u001b[0m\u001b[0;34m,\u001b[0m \u001b[0;34m**\u001b[0m\u001b[0mkwargs\u001b[0m\u001b[0;34m)\u001b[0m\u001b[0;34m)\u001b[0m\u001b[0;34m\u001b[0m\u001b[0;34m\u001b[0m\u001b[0m\n\u001b[0m\u001b[1;32m    245\u001b[0m     \u001b[0;32mif\u001b[0m \u001b[0;34m'retina'\u001b[0m \u001b[0;32min\u001b[0m \u001b[0mformats\u001b[0m \u001b[0;32mor\u001b[0m \u001b[0;34m'png2x'\u001b[0m \u001b[0;32min\u001b[0m \u001b[0mformats\u001b[0m\u001b[0;34m:\u001b[0m\u001b[0;34m\u001b[0m\u001b[0;34m\u001b[0m\u001b[0m\n\u001b[1;32m    246\u001b[0m         \u001b[0mpng_formatter\u001b[0m\u001b[0;34m.\u001b[0m\u001b[0mfor_type\u001b[0m\u001b[0;34m(\u001b[0m\u001b[0mFigure\u001b[0m\u001b[0;34m,\u001b[0m \u001b[0;32mlambda\u001b[0m \u001b[0mfig\u001b[0m\u001b[0;34m:\u001b[0m \u001b[0mretina_figure\u001b[0m\u001b[0;34m(\u001b[0m\u001b[0mfig\u001b[0m\u001b[0;34m,\u001b[0m \u001b[0;34m**\u001b[0m\u001b[0mkwargs\u001b[0m\u001b[0;34m)\u001b[0m\u001b[0;34m)\u001b[0m\u001b[0;34m\u001b[0m\u001b[0;34m\u001b[0m\u001b[0m\n",
      "\u001b[0;32m~/Desktop/github_repos/Dataquest-modules/venv/lib/python3.7/site-packages/IPython/core/pylabtools.py\u001b[0m in \u001b[0;36mprint_figure\u001b[0;34m(fig, fmt, bbox_inches, **kwargs)\u001b[0m\n\u001b[1;32m    126\u001b[0m \u001b[0;34m\u001b[0m\u001b[0m\n\u001b[1;32m    127\u001b[0m     \u001b[0mbytes_io\u001b[0m \u001b[0;34m=\u001b[0m \u001b[0mBytesIO\u001b[0m\u001b[0;34m(\u001b[0m\u001b[0;34m)\u001b[0m\u001b[0;34m\u001b[0m\u001b[0;34m\u001b[0m\u001b[0m\n\u001b[0;32m--> 128\u001b[0;31m     \u001b[0mfig\u001b[0m\u001b[0;34m.\u001b[0m\u001b[0mcanvas\u001b[0m\u001b[0;34m.\u001b[0m\u001b[0mprint_figure\u001b[0m\u001b[0;34m(\u001b[0m\u001b[0mbytes_io\u001b[0m\u001b[0;34m,\u001b[0m \u001b[0;34m**\u001b[0m\u001b[0mkw\u001b[0m\u001b[0;34m)\u001b[0m\u001b[0;34m\u001b[0m\u001b[0;34m\u001b[0m\u001b[0m\n\u001b[0m\u001b[1;32m    129\u001b[0m     \u001b[0mdata\u001b[0m \u001b[0;34m=\u001b[0m \u001b[0mbytes_io\u001b[0m\u001b[0;34m.\u001b[0m\u001b[0mgetvalue\u001b[0m\u001b[0;34m(\u001b[0m\u001b[0;34m)\u001b[0m\u001b[0;34m\u001b[0m\u001b[0;34m\u001b[0m\u001b[0m\n\u001b[1;32m    130\u001b[0m     \u001b[0;32mif\u001b[0m \u001b[0mfmt\u001b[0m \u001b[0;34m==\u001b[0m \u001b[0;34m'svg'\u001b[0m\u001b[0;34m:\u001b[0m\u001b[0;34m\u001b[0m\u001b[0;34m\u001b[0m\u001b[0m\n",
      "\u001b[0;32m~/Desktop/github_repos/Dataquest-modules/venv/lib/python3.7/site-packages/matplotlib/backend_bases.py\u001b[0m in \u001b[0;36mprint_figure\u001b[0;34m(self, filename, dpi, facecolor, edgecolor, orientation, format, bbox_inches, **kwargs)\u001b[0m\n\u001b[1;32m   2061\u001b[0m                         \u001b[0morientation\u001b[0m\u001b[0;34m=\u001b[0m\u001b[0morientation\u001b[0m\u001b[0;34m,\u001b[0m\u001b[0;34m\u001b[0m\u001b[0;34m\u001b[0m\u001b[0m\n\u001b[1;32m   2062\u001b[0m                         \u001b[0mdryrun\u001b[0m\u001b[0;34m=\u001b[0m\u001b[0;32mTrue\u001b[0m\u001b[0;34m,\u001b[0m\u001b[0;34m\u001b[0m\u001b[0;34m\u001b[0m\u001b[0m\n\u001b[0;32m-> 2063\u001b[0;31m                         **kwargs)\n\u001b[0m\u001b[1;32m   2064\u001b[0m                     \u001b[0mrenderer\u001b[0m \u001b[0;34m=\u001b[0m \u001b[0mself\u001b[0m\u001b[0;34m.\u001b[0m\u001b[0mfigure\u001b[0m\u001b[0;34m.\u001b[0m\u001b[0m_cachedRenderer\u001b[0m\u001b[0;34m\u001b[0m\u001b[0;34m\u001b[0m\u001b[0m\n\u001b[1;32m   2065\u001b[0m                     \u001b[0mbbox_artists\u001b[0m \u001b[0;34m=\u001b[0m \u001b[0mkwargs\u001b[0m\u001b[0;34m.\u001b[0m\u001b[0mpop\u001b[0m\u001b[0;34m(\u001b[0m\u001b[0;34m\"bbox_extra_artists\"\u001b[0m\u001b[0;34m,\u001b[0m \u001b[0;32mNone\u001b[0m\u001b[0;34m)\u001b[0m\u001b[0;34m\u001b[0m\u001b[0;34m\u001b[0m\u001b[0m\n",
      "\u001b[0;32m~/Desktop/github_repos/Dataquest-modules/venv/lib/python3.7/site-packages/matplotlib/backends/backend_agg.py\u001b[0m in \u001b[0;36mprint_png\u001b[0;34m(self, filename_or_obj, metadata, pil_kwargs, *args, **kwargs)\u001b[0m\n\u001b[1;32m    525\u001b[0m \u001b[0;34m\u001b[0m\u001b[0m\n\u001b[1;32m    526\u001b[0m         \u001b[0;32melse\u001b[0m\u001b[0;34m:\u001b[0m\u001b[0;34m\u001b[0m\u001b[0;34m\u001b[0m\u001b[0m\n\u001b[0;32m--> 527\u001b[0;31m             \u001b[0mFigureCanvasAgg\u001b[0m\u001b[0;34m.\u001b[0m\u001b[0mdraw\u001b[0m\u001b[0;34m(\u001b[0m\u001b[0mself\u001b[0m\u001b[0;34m)\u001b[0m\u001b[0;34m\u001b[0m\u001b[0;34m\u001b[0m\u001b[0m\n\u001b[0m\u001b[1;32m    528\u001b[0m             \u001b[0mrenderer\u001b[0m \u001b[0;34m=\u001b[0m \u001b[0mself\u001b[0m\u001b[0;34m.\u001b[0m\u001b[0mget_renderer\u001b[0m\u001b[0;34m(\u001b[0m\u001b[0;34m)\u001b[0m\u001b[0;34m\u001b[0m\u001b[0;34m\u001b[0m\u001b[0m\n\u001b[1;32m    529\u001b[0m             \u001b[0;32mwith\u001b[0m \u001b[0mcbook\u001b[0m\u001b[0;34m.\u001b[0m\u001b[0m_setattr_cm\u001b[0m\u001b[0;34m(\u001b[0m\u001b[0mrenderer\u001b[0m\u001b[0;34m,\u001b[0m \u001b[0mdpi\u001b[0m\u001b[0;34m=\u001b[0m\u001b[0mself\u001b[0m\u001b[0;34m.\u001b[0m\u001b[0mfigure\u001b[0m\u001b[0;34m.\u001b[0m\u001b[0mdpi\u001b[0m\u001b[0;34m)\u001b[0m\u001b[0;34m,\u001b[0m\u001b[0;31m \u001b[0m\u001b[0;31m\\\u001b[0m\u001b[0;34m\u001b[0m\u001b[0;34m\u001b[0m\u001b[0m\n",
      "\u001b[0;32m~/Desktop/github_repos/Dataquest-modules/venv/lib/python3.7/site-packages/matplotlib/backends/backend_agg.py\u001b[0m in \u001b[0;36mdraw\u001b[0;34m(self)\u001b[0m\n\u001b[1;32m    384\u001b[0m         \u001b[0mDraw\u001b[0m \u001b[0mthe\u001b[0m \u001b[0mfigure\u001b[0m \u001b[0musing\u001b[0m \u001b[0mthe\u001b[0m \u001b[0mrenderer\u001b[0m\u001b[0;34m.\u001b[0m\u001b[0;34m\u001b[0m\u001b[0;34m\u001b[0m\u001b[0m\n\u001b[1;32m    385\u001b[0m         \"\"\"\n\u001b[0;32m--> 386\u001b[0;31m         \u001b[0mself\u001b[0m\u001b[0;34m.\u001b[0m\u001b[0mrenderer\u001b[0m \u001b[0;34m=\u001b[0m \u001b[0mself\u001b[0m\u001b[0;34m.\u001b[0m\u001b[0mget_renderer\u001b[0m\u001b[0;34m(\u001b[0m\u001b[0mcleared\u001b[0m\u001b[0;34m=\u001b[0m\u001b[0;32mTrue\u001b[0m\u001b[0;34m)\u001b[0m\u001b[0;34m\u001b[0m\u001b[0;34m\u001b[0m\u001b[0m\n\u001b[0m\u001b[1;32m    387\u001b[0m         \u001b[0;32mwith\u001b[0m \u001b[0mRendererAgg\u001b[0m\u001b[0;34m.\u001b[0m\u001b[0mlock\u001b[0m\u001b[0;34m:\u001b[0m\u001b[0;34m\u001b[0m\u001b[0;34m\u001b[0m\u001b[0m\n\u001b[1;32m    388\u001b[0m             \u001b[0mself\u001b[0m\u001b[0;34m.\u001b[0m\u001b[0mfigure\u001b[0m\u001b[0;34m.\u001b[0m\u001b[0mdraw\u001b[0m\u001b[0;34m(\u001b[0m\u001b[0mself\u001b[0m\u001b[0;34m.\u001b[0m\u001b[0mrenderer\u001b[0m\u001b[0;34m)\u001b[0m\u001b[0;34m\u001b[0m\u001b[0;34m\u001b[0m\u001b[0m\n",
      "\u001b[0;32m~/Desktop/github_repos/Dataquest-modules/venv/lib/python3.7/site-packages/matplotlib/backends/backend_agg.py\u001b[0m in \u001b[0;36mget_renderer\u001b[0;34m(self, cleared)\u001b[0m\n\u001b[1;32m    397\u001b[0m                           and getattr(self, \"_lastKey\", None) == key)\n\u001b[1;32m    398\u001b[0m         \u001b[0;32mif\u001b[0m \u001b[0;32mnot\u001b[0m \u001b[0mreuse_renderer\u001b[0m\u001b[0;34m:\u001b[0m\u001b[0;34m\u001b[0m\u001b[0;34m\u001b[0m\u001b[0m\n\u001b[0;32m--> 399\u001b[0;31m             \u001b[0mself\u001b[0m\u001b[0;34m.\u001b[0m\u001b[0mrenderer\u001b[0m \u001b[0;34m=\u001b[0m \u001b[0mRendererAgg\u001b[0m\u001b[0;34m(\u001b[0m\u001b[0mw\u001b[0m\u001b[0;34m,\u001b[0m \u001b[0mh\u001b[0m\u001b[0;34m,\u001b[0m \u001b[0mself\u001b[0m\u001b[0;34m.\u001b[0m\u001b[0mfigure\u001b[0m\u001b[0;34m.\u001b[0m\u001b[0mdpi\u001b[0m\u001b[0;34m)\u001b[0m\u001b[0;34m\u001b[0m\u001b[0;34m\u001b[0m\u001b[0m\n\u001b[0m\u001b[1;32m    400\u001b[0m             \u001b[0mself\u001b[0m\u001b[0;34m.\u001b[0m\u001b[0m_lastKey\u001b[0m \u001b[0;34m=\u001b[0m \u001b[0mkey\u001b[0m\u001b[0;34m\u001b[0m\u001b[0;34m\u001b[0m\u001b[0m\n\u001b[1;32m    401\u001b[0m         \u001b[0;32melif\u001b[0m \u001b[0mcleared\u001b[0m\u001b[0;34m:\u001b[0m\u001b[0;34m\u001b[0m\u001b[0;34m\u001b[0m\u001b[0m\n",
      "\u001b[0;32m~/Desktop/github_repos/Dataquest-modules/venv/lib/python3.7/site-packages/matplotlib/backends/backend_agg.py\u001b[0m in \u001b[0;36m__init__\u001b[0;34m(self, width, height, dpi)\u001b[0m\n\u001b[1;32m     84\u001b[0m         \u001b[0mself\u001b[0m\u001b[0;34m.\u001b[0m\u001b[0mwidth\u001b[0m \u001b[0;34m=\u001b[0m \u001b[0mwidth\u001b[0m\u001b[0;34m\u001b[0m\u001b[0;34m\u001b[0m\u001b[0m\n\u001b[1;32m     85\u001b[0m         \u001b[0mself\u001b[0m\u001b[0;34m.\u001b[0m\u001b[0mheight\u001b[0m \u001b[0;34m=\u001b[0m \u001b[0mheight\u001b[0m\u001b[0;34m\u001b[0m\u001b[0;34m\u001b[0m\u001b[0m\n\u001b[0;32m---> 86\u001b[0;31m         \u001b[0mself\u001b[0m\u001b[0;34m.\u001b[0m\u001b[0m_renderer\u001b[0m \u001b[0;34m=\u001b[0m \u001b[0m_RendererAgg\u001b[0m\u001b[0;34m(\u001b[0m\u001b[0mint\u001b[0m\u001b[0;34m(\u001b[0m\u001b[0mwidth\u001b[0m\u001b[0;34m)\u001b[0m\u001b[0;34m,\u001b[0m \u001b[0mint\u001b[0m\u001b[0;34m(\u001b[0m\u001b[0mheight\u001b[0m\u001b[0;34m)\u001b[0m\u001b[0;34m,\u001b[0m \u001b[0mdpi\u001b[0m\u001b[0;34m)\u001b[0m\u001b[0;34m\u001b[0m\u001b[0;34m\u001b[0m\u001b[0m\n\u001b[0m\u001b[1;32m     87\u001b[0m         \u001b[0mself\u001b[0m\u001b[0;34m.\u001b[0m\u001b[0m_filter_renderers\u001b[0m \u001b[0;34m=\u001b[0m \u001b[0;34m[\u001b[0m\u001b[0;34m]\u001b[0m\u001b[0;34m\u001b[0m\u001b[0;34m\u001b[0m\u001b[0m\n\u001b[1;32m     88\u001b[0m \u001b[0;34m\u001b[0m\u001b[0m\n",
      "\u001b[0;31mValueError\u001b[0m: Image size of 72000x360 pixels is too large. It must be less than 2^16 in each direction."
     ]
    },
    {
     "data": {
      "text/plain": [
       "<Figure size 72000x360 with 1 Axes>"
      ]
     },
     "metadata": {
      "needs_background": "light"
     },
     "output_type": "display_data"
    }
   ],
   "source": [
    "xgb.plot_importance(bst)"
   ]
  },
  {
   "cell_type": "code",
   "execution_count": 50,
   "metadata": {},
   "outputs": [
    {
     "ename": "ValueError",
     "evalue": "Image size of 72000x360 pixels is too large. It must be less than 2^16 in each direction.",
     "output_type": "error",
     "traceback": [
      "\u001b[0;31m---------------------------------------------------------------------------\u001b[0m",
      "\u001b[0;31mValueError\u001b[0m                                Traceback (most recent call last)",
      "\u001b[0;32m~/Desktop/github_repos/Dataquest-modules/venv/lib/python3.7/site-packages/IPython/core/formatters.py\u001b[0m in \u001b[0;36m__call__\u001b[0;34m(self, obj)\u001b[0m\n\u001b[1;32m    339\u001b[0m                 \u001b[0;32mpass\u001b[0m\u001b[0;34m\u001b[0m\u001b[0;34m\u001b[0m\u001b[0m\n\u001b[1;32m    340\u001b[0m             \u001b[0;32melse\u001b[0m\u001b[0;34m:\u001b[0m\u001b[0;34m\u001b[0m\u001b[0;34m\u001b[0m\u001b[0m\n\u001b[0;32m--> 341\u001b[0;31m                 \u001b[0;32mreturn\u001b[0m \u001b[0mprinter\u001b[0m\u001b[0;34m(\u001b[0m\u001b[0mobj\u001b[0m\u001b[0;34m)\u001b[0m\u001b[0;34m\u001b[0m\u001b[0;34m\u001b[0m\u001b[0m\n\u001b[0m\u001b[1;32m    342\u001b[0m             \u001b[0;31m# Finally look for special method names\u001b[0m\u001b[0;34m\u001b[0m\u001b[0;34m\u001b[0m\u001b[0;34m\u001b[0m\u001b[0m\n\u001b[1;32m    343\u001b[0m             \u001b[0mmethod\u001b[0m \u001b[0;34m=\u001b[0m \u001b[0mget_real_method\u001b[0m\u001b[0;34m(\u001b[0m\u001b[0mobj\u001b[0m\u001b[0;34m,\u001b[0m \u001b[0mself\u001b[0m\u001b[0;34m.\u001b[0m\u001b[0mprint_method\u001b[0m\u001b[0;34m)\u001b[0m\u001b[0;34m\u001b[0m\u001b[0;34m\u001b[0m\u001b[0m\n",
      "\u001b[0;32m~/Desktop/github_repos/Dataquest-modules/venv/lib/python3.7/site-packages/IPython/core/pylabtools.py\u001b[0m in \u001b[0;36m<lambda>\u001b[0;34m(fig)\u001b[0m\n\u001b[1;32m    242\u001b[0m \u001b[0;34m\u001b[0m\u001b[0m\n\u001b[1;32m    243\u001b[0m     \u001b[0;32mif\u001b[0m \u001b[0;34m'png'\u001b[0m \u001b[0;32min\u001b[0m \u001b[0mformats\u001b[0m\u001b[0;34m:\u001b[0m\u001b[0;34m\u001b[0m\u001b[0;34m\u001b[0m\u001b[0m\n\u001b[0;32m--> 244\u001b[0;31m         \u001b[0mpng_formatter\u001b[0m\u001b[0;34m.\u001b[0m\u001b[0mfor_type\u001b[0m\u001b[0;34m(\u001b[0m\u001b[0mFigure\u001b[0m\u001b[0;34m,\u001b[0m \u001b[0;32mlambda\u001b[0m \u001b[0mfig\u001b[0m\u001b[0;34m:\u001b[0m \u001b[0mprint_figure\u001b[0m\u001b[0;34m(\u001b[0m\u001b[0mfig\u001b[0m\u001b[0;34m,\u001b[0m \u001b[0;34m'png'\u001b[0m\u001b[0;34m,\u001b[0m \u001b[0;34m**\u001b[0m\u001b[0mkwargs\u001b[0m\u001b[0;34m)\u001b[0m\u001b[0;34m)\u001b[0m\u001b[0;34m\u001b[0m\u001b[0;34m\u001b[0m\u001b[0m\n\u001b[0m\u001b[1;32m    245\u001b[0m     \u001b[0;32mif\u001b[0m \u001b[0;34m'retina'\u001b[0m \u001b[0;32min\u001b[0m \u001b[0mformats\u001b[0m \u001b[0;32mor\u001b[0m \u001b[0;34m'png2x'\u001b[0m \u001b[0;32min\u001b[0m \u001b[0mformats\u001b[0m\u001b[0;34m:\u001b[0m\u001b[0;34m\u001b[0m\u001b[0;34m\u001b[0m\u001b[0m\n\u001b[1;32m    246\u001b[0m         \u001b[0mpng_formatter\u001b[0m\u001b[0;34m.\u001b[0m\u001b[0mfor_type\u001b[0m\u001b[0;34m(\u001b[0m\u001b[0mFigure\u001b[0m\u001b[0;34m,\u001b[0m \u001b[0;32mlambda\u001b[0m \u001b[0mfig\u001b[0m\u001b[0;34m:\u001b[0m \u001b[0mretina_figure\u001b[0m\u001b[0;34m(\u001b[0m\u001b[0mfig\u001b[0m\u001b[0;34m,\u001b[0m \u001b[0;34m**\u001b[0m\u001b[0mkwargs\u001b[0m\u001b[0;34m)\u001b[0m\u001b[0;34m)\u001b[0m\u001b[0;34m\u001b[0m\u001b[0;34m\u001b[0m\u001b[0m\n",
      "\u001b[0;32m~/Desktop/github_repos/Dataquest-modules/venv/lib/python3.7/site-packages/IPython/core/pylabtools.py\u001b[0m in \u001b[0;36mprint_figure\u001b[0;34m(fig, fmt, bbox_inches, **kwargs)\u001b[0m\n\u001b[1;32m    126\u001b[0m \u001b[0;34m\u001b[0m\u001b[0m\n\u001b[1;32m    127\u001b[0m     \u001b[0mbytes_io\u001b[0m \u001b[0;34m=\u001b[0m \u001b[0mBytesIO\u001b[0m\u001b[0;34m(\u001b[0m\u001b[0;34m)\u001b[0m\u001b[0;34m\u001b[0m\u001b[0;34m\u001b[0m\u001b[0m\n\u001b[0;32m--> 128\u001b[0;31m     \u001b[0mfig\u001b[0m\u001b[0;34m.\u001b[0m\u001b[0mcanvas\u001b[0m\u001b[0;34m.\u001b[0m\u001b[0mprint_figure\u001b[0m\u001b[0;34m(\u001b[0m\u001b[0mbytes_io\u001b[0m\u001b[0;34m,\u001b[0m \u001b[0;34m**\u001b[0m\u001b[0mkw\u001b[0m\u001b[0;34m)\u001b[0m\u001b[0;34m\u001b[0m\u001b[0;34m\u001b[0m\u001b[0m\n\u001b[0m\u001b[1;32m    129\u001b[0m     \u001b[0mdata\u001b[0m \u001b[0;34m=\u001b[0m \u001b[0mbytes_io\u001b[0m\u001b[0;34m.\u001b[0m\u001b[0mgetvalue\u001b[0m\u001b[0;34m(\u001b[0m\u001b[0;34m)\u001b[0m\u001b[0;34m\u001b[0m\u001b[0;34m\u001b[0m\u001b[0m\n\u001b[1;32m    130\u001b[0m     \u001b[0;32mif\u001b[0m \u001b[0mfmt\u001b[0m \u001b[0;34m==\u001b[0m \u001b[0;34m'svg'\u001b[0m\u001b[0;34m:\u001b[0m\u001b[0;34m\u001b[0m\u001b[0;34m\u001b[0m\u001b[0m\n",
      "\u001b[0;32m~/Desktop/github_repos/Dataquest-modules/venv/lib/python3.7/site-packages/matplotlib/backend_bases.py\u001b[0m in \u001b[0;36mprint_figure\u001b[0;34m(self, filename, dpi, facecolor, edgecolor, orientation, format, bbox_inches, **kwargs)\u001b[0m\n\u001b[1;32m   2061\u001b[0m                         \u001b[0morientation\u001b[0m\u001b[0;34m=\u001b[0m\u001b[0morientation\u001b[0m\u001b[0;34m,\u001b[0m\u001b[0;34m\u001b[0m\u001b[0;34m\u001b[0m\u001b[0m\n\u001b[1;32m   2062\u001b[0m                         \u001b[0mdryrun\u001b[0m\u001b[0;34m=\u001b[0m\u001b[0;32mTrue\u001b[0m\u001b[0;34m,\u001b[0m\u001b[0;34m\u001b[0m\u001b[0;34m\u001b[0m\u001b[0m\n\u001b[0;32m-> 2063\u001b[0;31m                         **kwargs)\n\u001b[0m\u001b[1;32m   2064\u001b[0m                     \u001b[0mrenderer\u001b[0m \u001b[0;34m=\u001b[0m \u001b[0mself\u001b[0m\u001b[0;34m.\u001b[0m\u001b[0mfigure\u001b[0m\u001b[0;34m.\u001b[0m\u001b[0m_cachedRenderer\u001b[0m\u001b[0;34m\u001b[0m\u001b[0;34m\u001b[0m\u001b[0m\n\u001b[1;32m   2065\u001b[0m                     \u001b[0mbbox_artists\u001b[0m \u001b[0;34m=\u001b[0m \u001b[0mkwargs\u001b[0m\u001b[0;34m.\u001b[0m\u001b[0mpop\u001b[0m\u001b[0;34m(\u001b[0m\u001b[0;34m\"bbox_extra_artists\"\u001b[0m\u001b[0;34m,\u001b[0m \u001b[0;32mNone\u001b[0m\u001b[0;34m)\u001b[0m\u001b[0;34m\u001b[0m\u001b[0;34m\u001b[0m\u001b[0m\n",
      "\u001b[0;32m~/Desktop/github_repos/Dataquest-modules/venv/lib/python3.7/site-packages/matplotlib/backends/backend_agg.py\u001b[0m in \u001b[0;36mprint_png\u001b[0;34m(self, filename_or_obj, metadata, pil_kwargs, *args, **kwargs)\u001b[0m\n\u001b[1;32m    525\u001b[0m \u001b[0;34m\u001b[0m\u001b[0m\n\u001b[1;32m    526\u001b[0m         \u001b[0;32melse\u001b[0m\u001b[0;34m:\u001b[0m\u001b[0;34m\u001b[0m\u001b[0;34m\u001b[0m\u001b[0m\n\u001b[0;32m--> 527\u001b[0;31m             \u001b[0mFigureCanvasAgg\u001b[0m\u001b[0;34m.\u001b[0m\u001b[0mdraw\u001b[0m\u001b[0;34m(\u001b[0m\u001b[0mself\u001b[0m\u001b[0;34m)\u001b[0m\u001b[0;34m\u001b[0m\u001b[0;34m\u001b[0m\u001b[0m\n\u001b[0m\u001b[1;32m    528\u001b[0m             \u001b[0mrenderer\u001b[0m \u001b[0;34m=\u001b[0m \u001b[0mself\u001b[0m\u001b[0;34m.\u001b[0m\u001b[0mget_renderer\u001b[0m\u001b[0;34m(\u001b[0m\u001b[0;34m)\u001b[0m\u001b[0;34m\u001b[0m\u001b[0;34m\u001b[0m\u001b[0m\n\u001b[1;32m    529\u001b[0m             \u001b[0;32mwith\u001b[0m \u001b[0mcbook\u001b[0m\u001b[0;34m.\u001b[0m\u001b[0m_setattr_cm\u001b[0m\u001b[0;34m(\u001b[0m\u001b[0mrenderer\u001b[0m\u001b[0;34m,\u001b[0m \u001b[0mdpi\u001b[0m\u001b[0;34m=\u001b[0m\u001b[0mself\u001b[0m\u001b[0;34m.\u001b[0m\u001b[0mfigure\u001b[0m\u001b[0;34m.\u001b[0m\u001b[0mdpi\u001b[0m\u001b[0;34m)\u001b[0m\u001b[0;34m,\u001b[0m\u001b[0;31m \u001b[0m\u001b[0;31m\\\u001b[0m\u001b[0;34m\u001b[0m\u001b[0;34m\u001b[0m\u001b[0m\n",
      "\u001b[0;32m~/Desktop/github_repos/Dataquest-modules/venv/lib/python3.7/site-packages/matplotlib/backends/backend_agg.py\u001b[0m in \u001b[0;36mdraw\u001b[0;34m(self)\u001b[0m\n\u001b[1;32m    384\u001b[0m         \u001b[0mDraw\u001b[0m \u001b[0mthe\u001b[0m \u001b[0mfigure\u001b[0m \u001b[0musing\u001b[0m \u001b[0mthe\u001b[0m \u001b[0mrenderer\u001b[0m\u001b[0;34m.\u001b[0m\u001b[0;34m\u001b[0m\u001b[0;34m\u001b[0m\u001b[0m\n\u001b[1;32m    385\u001b[0m         \"\"\"\n\u001b[0;32m--> 386\u001b[0;31m         \u001b[0mself\u001b[0m\u001b[0;34m.\u001b[0m\u001b[0mrenderer\u001b[0m \u001b[0;34m=\u001b[0m \u001b[0mself\u001b[0m\u001b[0;34m.\u001b[0m\u001b[0mget_renderer\u001b[0m\u001b[0;34m(\u001b[0m\u001b[0mcleared\u001b[0m\u001b[0;34m=\u001b[0m\u001b[0;32mTrue\u001b[0m\u001b[0;34m)\u001b[0m\u001b[0;34m\u001b[0m\u001b[0;34m\u001b[0m\u001b[0m\n\u001b[0m\u001b[1;32m    387\u001b[0m         \u001b[0;32mwith\u001b[0m \u001b[0mRendererAgg\u001b[0m\u001b[0;34m.\u001b[0m\u001b[0mlock\u001b[0m\u001b[0;34m:\u001b[0m\u001b[0;34m\u001b[0m\u001b[0;34m\u001b[0m\u001b[0m\n\u001b[1;32m    388\u001b[0m             \u001b[0mself\u001b[0m\u001b[0;34m.\u001b[0m\u001b[0mfigure\u001b[0m\u001b[0;34m.\u001b[0m\u001b[0mdraw\u001b[0m\u001b[0;34m(\u001b[0m\u001b[0mself\u001b[0m\u001b[0;34m.\u001b[0m\u001b[0mrenderer\u001b[0m\u001b[0;34m)\u001b[0m\u001b[0;34m\u001b[0m\u001b[0;34m\u001b[0m\u001b[0m\n",
      "\u001b[0;32m~/Desktop/github_repos/Dataquest-modules/venv/lib/python3.7/site-packages/matplotlib/backends/backend_agg.py\u001b[0m in \u001b[0;36mget_renderer\u001b[0;34m(self, cleared)\u001b[0m\n\u001b[1;32m    397\u001b[0m                           and getattr(self, \"_lastKey\", None) == key)\n\u001b[1;32m    398\u001b[0m         \u001b[0;32mif\u001b[0m \u001b[0;32mnot\u001b[0m \u001b[0mreuse_renderer\u001b[0m\u001b[0;34m:\u001b[0m\u001b[0;34m\u001b[0m\u001b[0;34m\u001b[0m\u001b[0m\n\u001b[0;32m--> 399\u001b[0;31m             \u001b[0mself\u001b[0m\u001b[0;34m.\u001b[0m\u001b[0mrenderer\u001b[0m \u001b[0;34m=\u001b[0m \u001b[0mRendererAgg\u001b[0m\u001b[0;34m(\u001b[0m\u001b[0mw\u001b[0m\u001b[0;34m,\u001b[0m \u001b[0mh\u001b[0m\u001b[0;34m,\u001b[0m \u001b[0mself\u001b[0m\u001b[0;34m.\u001b[0m\u001b[0mfigure\u001b[0m\u001b[0;34m.\u001b[0m\u001b[0mdpi\u001b[0m\u001b[0;34m)\u001b[0m\u001b[0;34m\u001b[0m\u001b[0;34m\u001b[0m\u001b[0m\n\u001b[0m\u001b[1;32m    400\u001b[0m             \u001b[0mself\u001b[0m\u001b[0;34m.\u001b[0m\u001b[0m_lastKey\u001b[0m \u001b[0;34m=\u001b[0m \u001b[0mkey\u001b[0m\u001b[0;34m\u001b[0m\u001b[0;34m\u001b[0m\u001b[0m\n\u001b[1;32m    401\u001b[0m         \u001b[0;32melif\u001b[0m \u001b[0mcleared\u001b[0m\u001b[0;34m:\u001b[0m\u001b[0;34m\u001b[0m\u001b[0;34m\u001b[0m\u001b[0m\n",
      "\u001b[0;32m~/Desktop/github_repos/Dataquest-modules/venv/lib/python3.7/site-packages/matplotlib/backends/backend_agg.py\u001b[0m in \u001b[0;36m__init__\u001b[0;34m(self, width, height, dpi)\u001b[0m\n\u001b[1;32m     84\u001b[0m         \u001b[0mself\u001b[0m\u001b[0;34m.\u001b[0m\u001b[0mwidth\u001b[0m \u001b[0;34m=\u001b[0m \u001b[0mwidth\u001b[0m\u001b[0;34m\u001b[0m\u001b[0;34m\u001b[0m\u001b[0m\n\u001b[1;32m     85\u001b[0m         \u001b[0mself\u001b[0m\u001b[0;34m.\u001b[0m\u001b[0mheight\u001b[0m \u001b[0;34m=\u001b[0m \u001b[0mheight\u001b[0m\u001b[0;34m\u001b[0m\u001b[0;34m\u001b[0m\u001b[0m\n\u001b[0;32m---> 86\u001b[0;31m         \u001b[0mself\u001b[0m\u001b[0;34m.\u001b[0m\u001b[0m_renderer\u001b[0m \u001b[0;34m=\u001b[0m \u001b[0m_RendererAgg\u001b[0m\u001b[0;34m(\u001b[0m\u001b[0mint\u001b[0m\u001b[0;34m(\u001b[0m\u001b[0mwidth\u001b[0m\u001b[0;34m)\u001b[0m\u001b[0;34m,\u001b[0m \u001b[0mint\u001b[0m\u001b[0;34m(\u001b[0m\u001b[0mheight\u001b[0m\u001b[0;34m)\u001b[0m\u001b[0;34m,\u001b[0m \u001b[0mdpi\u001b[0m\u001b[0;34m)\u001b[0m\u001b[0;34m\u001b[0m\u001b[0;34m\u001b[0m\u001b[0m\n\u001b[0m\u001b[1;32m     87\u001b[0m         \u001b[0mself\u001b[0m\u001b[0;34m.\u001b[0m\u001b[0m_filter_renderers\u001b[0m \u001b[0;34m=\u001b[0m \u001b[0;34m[\u001b[0m\u001b[0;34m]\u001b[0m\u001b[0;34m\u001b[0m\u001b[0;34m\u001b[0m\u001b[0m\n\u001b[1;32m     88\u001b[0m \u001b[0;34m\u001b[0m\u001b[0m\n",
      "\u001b[0;31mValueError\u001b[0m: Image size of 72000x360 pixels is too large. It must be less than 2^16 in each direction."
     ]
    },
    {
     "data": {
      "text/plain": [
       "<Figure size 72000x360 with 1 Axes>"
      ]
     },
     "metadata": {
      "needs_background": "light"
     },
     "output_type": "display_data"
    }
   ],
   "source": [
    "xgb.plot_tree(bst,num_trees=0)\n",
    "plt.rcParams['figure.figsize'] = [10,5]\n",
    "plt.show()"
   ]
  },
  {
   "cell_type": "code",
   "execution_count": 51,
   "metadata": {},
   "outputs": [
    {
     "data": {
      "image/svg+xml": [
       "<?xml version=\"1.0\" encoding=\"UTF-8\" standalone=\"no\"?>\n",
       "<!DOCTYPE svg PUBLIC \"-//W3C//DTD SVG 1.1//EN\"\n",
       " \"http://www.w3.org/Graphics/SVG/1.1/DTD/svg11.dtd\">\n",
       "<!-- Generated by graphviz version 2.40.1 (20161225.0304)\n",
       " -->\n",
       "<!-- Title: %3 Pages: 1 -->\n",
       "<svg width=\"687pt\" height=\"218pt\"\n",
       " viewBox=\"0.00 0.00 687.29 218.00\" xmlns=\"http://www.w3.org/2000/svg\" xmlns:xlink=\"http://www.w3.org/1999/xlink\">\n",
       "<g id=\"graph0\" class=\"graph\" transform=\"scale(1 1) rotate(0) translate(4 214)\">\n",
       "<title>%3</title>\n",
       "<polygon fill=\"#ffffff\" stroke=\"transparent\" points=\"-4,4 -4,-214 683.286,-214 683.286,4 -4,4\"/>\n",
       "<!-- 0 -->\n",
       "<g id=\"node1\" class=\"node\">\n",
       "<title>0</title>\n",
       "<ellipse fill=\"none\" stroke=\"#000000\" cx=\"336.643\" cy=\"-192\" rx=\"69.5877\" ry=\"18\"/>\n",
       "<text text-anchor=\"middle\" x=\"336.643\" y=\"-188.3\" font-family=\"Times,serif\" font-size=\"14.00\" fill=\"#000000\">f1&lt;0.130332857</text>\n",
       "</g>\n",
       "<!-- 1 -->\n",
       "<g id=\"node2\" class=\"node\">\n",
       "<title>1</title>\n",
       "<ellipse fill=\"none\" stroke=\"#000000\" cx=\"250.643\" cy=\"-105\" rx=\"58.4896\" ry=\"18\"/>\n",
       "<text text-anchor=\"middle\" x=\"250.643\" y=\"-101.3\" font-family=\"Times,serif\" font-size=\"14.00\" fill=\"#000000\">f3&lt;12744000</text>\n",
       "</g>\n",
       "<!-- 0&#45;&gt;1 -->\n",
       "<g id=\"edge1\" class=\"edge\">\n",
       "<title>0&#45;&gt;1</title>\n",
       "<path fill=\"none\" stroke=\"#0000ff\" d=\"M319.2396,-174.3943C306.4502,-161.4561 288.9109,-143.7129 274.7693,-129.4068\"/>\n",
       "<polygon fill=\"#0000ff\" stroke=\"#0000ff\" points=\"277.2463,-126.934 267.727,-122.2827 272.268,-131.855 277.2463,-126.934\"/>\n",
       "<text text-anchor=\"middle\" x=\"334.143\" y=\"-144.8\" font-family=\"Times,serif\" font-size=\"14.00\" fill=\"#000000\">yes, missing</text>\n",
       "</g>\n",
       "<!-- 2 -->\n",
       "<g id=\"node3\" class=\"node\">\n",
       "<title>2</title>\n",
       "<ellipse fill=\"none\" stroke=\"#000000\" cx=\"423.643\" cy=\"-105\" rx=\"65.7887\" ry=\"18\"/>\n",
       "<text text-anchor=\"middle\" x=\"423.643\" y=\"-101.3\" font-family=\"Times,serif\" font-size=\"14.00\" fill=\"#000000\">f0&lt;266.929993</text>\n",
       "</g>\n",
       "<!-- 0&#45;&gt;2 -->\n",
       "<g id=\"edge2\" class=\"edge\">\n",
       "<title>0&#45;&gt;2</title>\n",
       "<path fill=\"none\" stroke=\"#ff0000\" d=\"M354.2488,-174.3943C367.1023,-161.5407 384.6984,-143.9446 398.9552,-129.6878\"/>\n",
       "<polygon fill=\"#ff0000\" stroke=\"#ff0000\" points=\"401.4672,-132.1255 406.0635,-122.5796 396.5175,-127.1758 401.4672,-132.1255\"/>\n",
       "<text text-anchor=\"middle\" x=\"392.643\" y=\"-144.8\" font-family=\"Times,serif\" font-size=\"14.00\" fill=\"#000000\">no</text>\n",
       "</g>\n",
       "<!-- 3 -->\n",
       "<g id=\"node4\" class=\"node\">\n",
       "<title>3</title>\n",
       "<ellipse fill=\"none\" stroke=\"#000000\" cx=\"78.643\" cy=\"-18\" rx=\"78.7863\" ry=\"18\"/>\n",
       "<text text-anchor=\"middle\" x=\"78.643\" y=\"-14.3\" font-family=\"Times,serif\" font-size=\"14.00\" fill=\"#000000\">leaf=&#45;0.542222559</text>\n",
       "</g>\n",
       "<!-- 1&#45;&gt;3 -->\n",
       "<g id=\"edge3\" class=\"edge\">\n",
       "<title>1&#45;&gt;3</title>\n",
       "<path fill=\"none\" stroke=\"#0000ff\" d=\"M219.3223,-89.7038C206.3926,-83.3504 191.2708,-75.8698 177.643,-69 158.5307,-59.3654 137.4351,-48.5265 119.6455,-39.3265\"/>\n",
       "<polygon fill=\"#0000ff\" stroke=\"#0000ff\" points=\"121.1615,-36.1702 110.672,-34.68 117.9427,-42.3863 121.1615,-36.1702\"/>\n",
       "<text text-anchor=\"middle\" x=\"212.143\" y=\"-57.8\" font-family=\"Times,serif\" font-size=\"14.00\" fill=\"#000000\">yes, missing</text>\n",
       "</g>\n",
       "<!-- 4 -->\n",
       "<g id=\"node5\" class=\"node\">\n",
       "<title>4</title>\n",
       "<ellipse fill=\"none\" stroke=\"#000000\" cx=\"250.643\" cy=\"-18\" rx=\"75.2868\" ry=\"18\"/>\n",
       "<text text-anchor=\"middle\" x=\"250.643\" y=\"-14.3\" font-family=\"Times,serif\" font-size=\"14.00\" fill=\"#000000\">leaf=0.578585207</text>\n",
       "</g>\n",
       "<!-- 1&#45;&gt;4 -->\n",
       "<g id=\"edge4\" class=\"edge\">\n",
       "<title>1&#45;&gt;4</title>\n",
       "<path fill=\"none\" stroke=\"#ff0000\" d=\"M250.643,-86.9735C250.643,-75.1918 250.643,-59.5607 250.643,-46.1581\"/>\n",
       "<polygon fill=\"#ff0000\" stroke=\"#ff0000\" points=\"254.1431,-46.0033 250.643,-36.0034 247.1431,-46.0034 254.1431,-46.0033\"/>\n",
       "<text text-anchor=\"middle\" x=\"257.643\" y=\"-57.8\" font-family=\"Times,serif\" font-size=\"14.00\" fill=\"#000000\">no</text>\n",
       "</g>\n",
       "<!-- 5 -->\n",
       "<g id=\"node6\" class=\"node\">\n",
       "<title>5</title>\n",
       "<ellipse fill=\"none\" stroke=\"#000000\" cx=\"423.643\" cy=\"-18\" rx=\"79.8859\" ry=\"18\"/>\n",
       "<text text-anchor=\"middle\" x=\"423.643\" y=\"-14.3\" font-family=\"Times,serif\" font-size=\"14.00\" fill=\"#000000\">leaf=0.0611726493</text>\n",
       "</g>\n",
       "<!-- 2&#45;&gt;5 -->\n",
       "<g id=\"edge5\" class=\"edge\">\n",
       "<title>2&#45;&gt;5</title>\n",
       "<path fill=\"none\" stroke=\"#0000ff\" d=\"M423.643,-86.9735C423.643,-75.1918 423.643,-59.5607 423.643,-46.1581\"/>\n",
       "<polygon fill=\"#0000ff\" stroke=\"#0000ff\" points=\"427.1431,-46.0033 423.643,-36.0034 420.1431,-46.0034 427.1431,-46.0033\"/>\n",
       "<text text-anchor=\"middle\" x=\"458.143\" y=\"-57.8\" font-family=\"Times,serif\" font-size=\"14.00\" fill=\"#000000\">yes, missing</text>\n",
       "</g>\n",
       "<!-- 6 -->\n",
       "<g id=\"node7\" class=\"node\">\n",
       "<title>6</title>\n",
       "<ellipse fill=\"none\" stroke=\"#000000\" cx=\"600.643\" cy=\"-18\" rx=\"78.7863\" ry=\"18\"/>\n",
       "<text text-anchor=\"middle\" x=\"600.643\" y=\"-14.3\" font-family=\"Times,serif\" font-size=\"14.00\" fill=\"#000000\">leaf=&#45;0.469692856</text>\n",
       "</g>\n",
       "<!-- 2&#45;&gt;6 -->\n",
       "<g id=\"edge6\" class=\"edge\">\n",
       "<title>2&#45;&gt;6</title>\n",
       "<path fill=\"none\" stroke=\"#ff0000\" d=\"M455.6964,-89.245C484.4393,-75.1171 526.8158,-54.288 558.3331,-38.7964\"/>\n",
       "<polygon fill=\"#ff0000\" stroke=\"#ff0000\" points=\"559.8949,-41.9287 567.3255,-34.3764 556.8071,-35.6466 559.8949,-41.9287\"/>\n",
       "<text text-anchor=\"middle\" x=\"529.643\" y=\"-57.8\" font-family=\"Times,serif\" font-size=\"14.00\" fill=\"#000000\">no</text>\n",
       "</g>\n",
       "</g>\n",
       "</svg>\n"
      ],
      "text/plain": [
       "<graphviz.dot.Digraph at 0x7f6dc4734190>"
      ]
     },
     "execution_count": 51,
     "metadata": {},
     "output_type": "execute_result"
    }
   ],
   "source": [
    "xgb.to_graphviz(bst,num_trees=2)"
   ]
  },
  {
   "cell_type": "code",
   "execution_count": null,
   "metadata": {},
   "outputs": [],
   "source": []
  },
  {
   "cell_type": "code",
   "execution_count": null,
   "metadata": {},
   "outputs": [],
   "source": []
  },
  {
   "cell_type": "markdown",
   "metadata": {},
   "source": [
    "## Map unknown data entries  to existing dataframe "
   ]
  },
  {
   "cell_type": "code",
   "execution_count": 52,
   "metadata": {},
   "outputs": [],
   "source": [
    "forecast_set = clf.predict(X_lately)"
   ]
  },
  {
   "cell_type": "code",
   "execution_count": 53,
   "metadata": {},
   "outputs": [
    {
     "data": {
      "text/plain": [
       "array([313.71233677, 308.10534053, 305.96022964, 320.06628002,\n",
       "       312.09185803, 312.01191708, 310.73187888, 328.88937048,\n",
       "       332.66909025, 334.55092833, 326.15220546, 322.31196289,\n",
       "       309.16061417, 319.56248393, 313.00891481, 309.69572521,\n",
       "       318.38541423, 314.21267347, 318.0271192 , 325.25276376,\n",
       "       311.81217076, 314.85444314, 315.31432389, 310.97126655,\n",
       "       308.73714269, 302.28055112, 298.82995086, 293.71426321,\n",
       "       298.82204066, 313.151831  , 285.43216847, 306.47360687,\n",
       "       288.19915284, 290.61535932, 314.07855074, 294.32592963,\n",
       "       333.16042592, 310.33905291, 279.76419803, 314.42248735,\n",
       "       294.09622045, 294.50965543, 306.68008021, 290.9728389 ,\n",
       "       292.22915216, 285.56427325, 294.50060365, 281.87607688,\n",
       "       281.11358757, 287.26364533, 279.33392718, 282.25043963,\n",
       "       285.99983807, 285.28924105, 292.70895881, 301.58565133,\n",
       "       317.47987688, 291.46370246, 304.28333564, 293.706594  ,\n",
       "       302.89969421, 294.2963186 , 292.96889375, 288.20572605,\n",
       "       301.40508964, 287.51324692, 281.3546599 , 284.86752148,\n",
       "       286.04003978, 282.20263301, 288.27124478, 278.00769506,\n",
       "       281.47701059, 281.42052978, 288.20796656, 285.36776553,\n",
       "       291.66978825, 292.5581527 , 292.50319608, 335.07707378,\n",
       "       315.89057957, 313.21467518, 337.27667798, 367.89631627,\n",
       "       346.24555964, 351.4147877 , 346.80901904, 356.06972346,\n",
       "       343.99047261, 349.84387659, 323.85514942, 323.96173444,\n",
       "       318.82045049, 331.63969796, 333.56841691, 334.5517135 ,\n",
       "       326.84615169, 337.0705677 , 309.54439291, 343.92893709,\n",
       "       310.93591759, 317.62211464, 324.9418053 , 306.59124763,\n",
       "       308.54109066, 314.2911037 , 310.40115565, 306.4129564 ,\n",
       "       319.72143102, 309.40420624, 300.8335719 , 318.45544319,\n",
       "       301.18476574, 300.74515186, 295.98978649, 291.12032774,\n",
       "       295.230066  , 295.07713015, 312.583765  , 374.83936642,\n",
       "       351.72377967, 322.41224086, 394.65607111, 392.95328101,\n",
       "       364.14123724, 353.50232561, 352.17311082, 331.03564825,\n",
       "       335.40994029, 322.36449171, 325.05668389, 330.24576344,\n",
       "       327.08334732, 316.01672895, 301.85416258, 310.30516886,\n",
       "       335.0833334 , 312.11782556, 305.53280818, 308.5038893 ,\n",
       "       297.9995071 , 294.27185594, 289.47467793, 278.50162782,\n",
       "       317.65589059, 307.18303947, 296.43753892, 297.73428159,\n",
       "       285.94223384, 293.44199756, 286.76858971, 302.51941372,\n",
       "       289.14649336, 298.52089519, 297.93594748, 293.84800029,\n",
       "       293.22265903, 301.52671498, 309.65233737, 345.6391945 ,\n",
       "       358.34432237, 304.90853475, 296.7672689 , 291.4380172 ,\n",
       "       301.60400225, 268.55588763, 280.42788334, 286.1144175 ,\n",
       "       260.83179782, 276.2683455 , 268.87046594, 286.09483916,\n",
       "       281.42894822, 268.33331485, 274.22917429, 275.2825937 ,\n",
       "       298.10585758, 321.60932612, 354.74478478, 355.35903943,\n",
       "       336.74090477, 319.99326558, 323.8770972 , 331.14991281,\n",
       "       336.85718068, 335.50691263, 320.69559679, 334.17250128,\n",
       "       331.53231762, 330.7941124 , 310.85437941, 314.52819363,\n",
       "       326.84220371, 329.61556028, 336.93217521, 333.75859207,\n",
       "       336.17475781, 312.82972309, 303.51016149, 323.14938741,\n",
       "       328.68266031, 331.21543394, 319.06759615, 329.97933009,\n",
       "       342.38212342, 336.2757269 , 342.04867195, 335.15289107,\n",
       "       347.68911975, 347.18208815, 342.78254341, 357.41352425,\n",
       "       339.74655155, 325.48202134, 320.30407414, 313.63468804,\n",
       "       307.891009  , 316.72328155, 278.36971349, 301.01193156,\n",
       "       317.37147212, 327.16187463, 322.56540767, 316.92638586,\n",
       "       297.21268403, 310.00951141, 318.72957391, 323.82881011,\n",
       "       318.83748023, 326.73153724, 329.12716008, 319.81599466,\n",
       "       319.93853659, 321.79590991, 322.92625923, 334.18790901,\n",
       "       311.86435546, 308.7980203 , 292.22299413, 302.19960649])"
      ]
     },
     "execution_count": 53,
     "metadata": {},
     "output_type": "execute_result"
    }
   ],
   "source": [
    "forecast_set"
   ]
  },
  {
   "cell_type": "markdown",
   "metadata": {},
   "source": [
    "for regression analysis\n"
   ]
  },
  {
   "cell_type": "code",
   "execution_count": 54,
   "metadata": {},
   "outputs": [],
   "source": [
    "forecast_xgb = classifier.predict(X_lately)"
   ]
  },
  {
   "cell_type": "code",
   "execution_count": 55,
   "metadata": {},
   "outputs": [
    {
     "data": {
      "text/plain": [
       "array([309.19025, 288.74417, 295.745  , 318.41013, 307.04697, 312.91544,\n",
       "       316.91092, 322.60013, 312.25507, 315.86533, 312.8769 , 301.10477,\n",
       "       304.79846, 318.41013, 311.06448, 315.71582, 316.69058, 316.51382,\n",
       "       310.75156, 291.91144, 331.99765, 304.83218, 307.6492 , 295.51947,\n",
       "       294.03778, 301.42575, 302.79486, 302.456  , 279.94507, 274.2245 ,\n",
       "       267.1121 , 247.73172, 245.36377, 251.66078, 252.27776, 264.04172,\n",
       "       279.97534, 288.61285, 268.5108 , 261.55798, 270.98694, 275.08685,\n",
       "       276.83636, 279.71283, 268.35992, 278.5756 , 275.4312 , 276.88693,\n",
       "       266.70074, 269.85294, 271.51175, 278.9777 , 279.02356, 283.32834,\n",
       "       282.68878, 266.31915, 262.64865, 262.7121 , 274.3816 , 274.71112,\n",
       "       293.2681 , 287.66635, 283.46164, 266.82053, 258.2872 , 268.34158,\n",
       "       269.12354, 279.14383, 252.9861 , 254.33847, 265.9019 , 283.95938,\n",
       "       267.44174, 268.34158, 270.03705, 265.40955, 286.12225, 280.18323,\n",
       "       280.00476, 238.93047, 265.69843, 298.20355, 256.914  , 247.04031,\n",
       "       283.50742, 254.29503, 251.17699, 241.52586, 259.26913, 281.83118,\n",
       "       287.79462, 268.1933 , 305.89056, 291.34134, 276.91238, 279.0612 ,\n",
       "       304.5836 , 251.17961, 302.2144 , 283.2701 , 283.42667, 268.86786,\n",
       "       276.35638, 287.87643, 307.13925, 285.31085, 287.05847, 269.41483,\n",
       "       289.1522 , 291.45187, 310.91196, 257.87854, 260.2848 , 307.38443,\n",
       "       288.59488, 270.53647, 276.17407, 286.12225, 269.93158, 272.1676 ,\n",
       "       259.5279 , 278.61884, 255.38603, 256.8481 , 252.97694, 260.0891 ,\n",
       "       270.40125, 310.76834, 280.2344 , 308.89774, 286.6108 , 298.78412,\n",
       "       255.42508, 289.5922 , 289.26868, 296.68405, 257.20938, 295.7131 ,\n",
       "       275.57986, 285.4694 , 280.3804 , 264.19434, 260.4593 , 275.53745,\n",
       "       246.84142, 243.1975 , 258.2872 , 260.10922, 269.06067, 280.18323,\n",
       "       275.98657, 263.55032, 261.27563, 265.98648, 276.50378, 278.32355,\n",
       "       279.58936, 285.36777, 263.28043, 246.48096, 285.11853, 284.48483,\n",
       "       276.8044 , 256.6876 , 244.02365, 251.89929, 248.8123 , 253.23213,\n",
       "       248.67365, 257.2638 , 253.89288, 257.60837, 269.08163, 248.13641,\n",
       "       243.88869, 257.91858, 274.21088, 273.1334 , 290.34155, 249.16339,\n",
       "       259.26544, 276.70898, 291.34134, 293.0589 , 292.84485, 289.48166,\n",
       "       305.79843, 299.83954, 307.39407, 311.3699 , 308.97653, 304.55334,\n",
       "       311.68616, 318.47864, 301.24536, 281.79077, 294.5624 , 303.92337,\n",
       "       304.38168, 309.4076 , 310.75156, 337.73608, 309.03275, 312.25507,\n",
       "       285.43088, 280.2235 , 292.84485, 260.95837, 311.09326, 313.7664 ,\n",
       "       313.7664 , 299.92627, 313.93338, 291.1397 , 313.6621 , 291.35007,\n",
       "       288.79297, 283.44904, 283.6777 , 305.2055 , 288.73642, 281.84442,\n",
       "       308.98987, 293.14465, 283.16696, 315.5329 , 293.33658, 311.51562,\n",
       "       310.75156, 337.57645, 312.25507, 312.66998, 305.46356, 309.86176,\n",
       "       317.4406 , 331.3488 , 292.1731 , 292.3895 , 276.3311 , 280.18323],\n",
       "      dtype=float32)"
      ]
     },
     "execution_count": 55,
     "metadata": {},
     "output_type": "execute_result"
    }
   ],
   "source": [
    "forecast_xgb"
   ]
  },
  {
   "cell_type": "markdown",
   "metadata": {},
   "source": [
    "for xgboost regressor analysis"
   ]
  },
  {
   "cell_type": "code",
   "execution_count": 56,
   "metadata": {},
   "outputs": [],
   "source": [
    "RF_forecast = RF.predict(X_lately)"
   ]
  },
  {
   "cell_type": "code",
   "execution_count": 57,
   "metadata": {},
   "outputs": [
    {
     "data": {
      "text/plain": [
       "array([291.2974 , 291.2974 , 291.2974 , 291.2974 , 291.2974 , 291.2974 ,\n",
       "       291.2974 , 291.2974 , 291.2974 , 291.2974 , 291.2974 , 291.2974 ,\n",
       "       288.5646 , 291.2974 , 291.2974 , 291.2974 , 291.2974 , 291.2974 ,\n",
       "       291.2974 , 291.2974 , 291.2974 , 291.2974 , 291.2974 , 291.2974 ,\n",
       "       291.2974 , 291.2974 , 291.2974 , 291.2974 , 286.42636, 290.40784,\n",
       "       256.78674, 255.33914, 255.33914, 255.33914, 255.33914, 260.66034,\n",
       "       290.64307, 285.772  , 273.56824, 290.19467, 286.42636, 279.55093,\n",
       "       286.42636, 279.55093, 276.95538, 279.55093, 286.42636, 276.95538,\n",
       "       260.82925, 260.82925, 260.82925, 260.82925, 279.55093, 279.55093,\n",
       "       286.42636, 285.772  , 260.17493, 278.89658, 289.33624, 286.42636,\n",
       "       291.2974 , 290.849  , 286.42636, 277.83295, 260.17493, 260.82925,\n",
       "       260.82925, 260.82925, 260.17493, 257.72693, 260.82925, 260.82925,\n",
       "       260.82925, 260.82925, 279.55093, 260.82925, 279.55093, 281.18225,\n",
       "       279.55093, 290.64307, 289.16364, 291.2974 , 290.64307, 290.64307,\n",
       "       290.64307, 290.64307, 290.64307, 290.64307, 288.19507, 290.64307,\n",
       "       288.5646 , 287.91025, 291.2974 , 291.2974 , 290.85623, 290.64307,\n",
       "       291.2974 , 287.25488, 287.91025, 290.64307, 290.64307, 291.2974 ,\n",
       "       290.64307, 291.2974 , 291.2974 , 291.2974 , 291.2974 , 291.2974 ,\n",
       "       291.2974 , 291.2974 , 291.2974 , 289.33624, 282.8566 , 291.2974 ,\n",
       "       291.2974 , 283.51096, 276.95538, 283.96085, 285.772  , 290.64307,\n",
       "       290.64307, 290.64307, 290.64307, 290.64307, 290.64307, 290.64307,\n",
       "       290.64307, 291.2974 , 290.64307, 291.2974 , 287.91025, 290.64307,\n",
       "       290.64307, 291.2974 , 291.2974 , 291.2974 , 290.64307, 291.2974 ,\n",
       "       290.849  , 289.99057, 286.42636, 276.5142 , 260.82925, 260.82925,\n",
       "       255.33914, 260.17493, 260.17493, 276.30106, 276.95538, 279.9401 ,\n",
       "       279.9401 , 257.4421 , 286.20642, 284.35214, 286.42636, 286.42636,\n",
       "       286.42636, 291.2974 , 290.64307, 252.6063 , 290.64307, 283.0392 ,\n",
       "       279.9401 , 260.17493, 252.89113, 252.6063 , 255.33914, 255.33914,\n",
       "       255.9935 , 255.9935 , 255.9935 , 260.17493, 260.17493, 255.9935 ,\n",
       "       255.33914, 255.9935 , 278.89658, 273.56824, 290.64307, 290.64307,\n",
       "       290.64307, 290.64307, 291.2974 , 291.2974 , 291.2974 , 291.2974 ,\n",
       "       291.2974 , 291.2974 , 291.2974 , 291.2974 , 288.5646 , 291.2974 ,\n",
       "       291.2974 , 291.2974 , 291.2974 , 290.64307, 291.2974 , 289.818  ,\n",
       "       291.2974 , 291.2974 , 291.2974 , 291.2974 , 291.2974 , 291.2974 ,\n",
       "       291.07748, 290.64307, 291.2974 , 287.91025, 291.2974 , 291.2974 ,\n",
       "       291.2974 , 291.2974 , 291.2974 , 288.84943, 291.2974 , 291.07748,\n",
       "       288.19507, 291.2974 , 278.44943, 291.2974 , 290.64307, 290.64307,\n",
       "       291.2974 , 290.64307, 286.42636, 291.2974 , 291.2974 , 291.2974 ,\n",
       "       291.2974 , 291.2974 , 291.2974 , 291.2974 , 291.2974 , 291.2974 ,\n",
       "       291.2974 , 286.60342, 285.772  , 276.30106, 279.55093, 283.51096],\n",
       "      dtype=float32)"
      ]
     },
     "execution_count": 57,
     "metadata": {},
     "output_type": "execute_result"
    }
   ],
   "source": [
    "RF_forecast"
   ]
  },
  {
   "cell_type": "code",
   "execution_count": null,
   "metadata": {},
   "outputs": [],
   "source": []
  },
  {
   "cell_type": "markdown",
   "metadata": {},
   "source": [
    "## Plotting stock Forecast for next year from linear regression analysis"
   ]
  },
  {
   "cell_type": "code",
   "execution_count": 58,
   "metadata": {},
   "outputs": [],
   "source": [
    "import matplotlib.pyplot as plt\n",
    "import datetime\n",
    "from matplotlib import style\n",
    "\n",
    "style.use('ggplot')"
   ]
  },
  {
   "cell_type": "code",
   "execution_count": 59,
   "metadata": {},
   "outputs": [
    {
     "name": "stderr",
     "output_type": "stream",
     "text": [
      "/home/tony/Desktop/github_repos/Dataquest-modules/venv/lib/python3.7/site-packages/ipykernel_launcher.py:1: SettingWithCopyWarning: \n",
      "A value is trying to be set on a copy of a slice from a DataFrame.\n",
      "Try using .loc[row_indexer,col_indexer] = value instead\n",
      "\n",
      "See the caveats in the documentation: http://pandas.pydata.org/pandas-docs/stable/user_guide/indexing.html#returning-a-view-versus-a-copy\n",
      "  \"\"\"Entry point for launching an IPython kernel.\n"
     ]
    }
   ],
   "source": [
    "linear_reg['Forecast'] = np.nan"
   ]
  },
  {
   "cell_type": "code",
   "execution_count": 60,
   "metadata": {},
   "outputs": [],
   "source": [
    "last_date = linear_reg.iloc[-1].name"
   ]
  },
  {
   "cell_type": "code",
   "execution_count": 61,
   "metadata": {},
   "outputs": [],
   "source": [
    "last_unix = last_date.timestamp()"
   ]
  },
  {
   "cell_type": "code",
   "execution_count": 62,
   "metadata": {},
   "outputs": [],
   "source": [
    "one_day = 86400"
   ]
  },
  {
   "cell_type": "code",
   "execution_count": 63,
   "metadata": {},
   "outputs": [],
   "source": [
    "next_unix = last_unix + one_day"
   ]
  },
  {
   "cell_type": "code",
   "execution_count": 64,
   "metadata": {},
   "outputs": [
    {
     "name": "stderr",
     "output_type": "stream",
     "text": [
      "/home/tony/Desktop/github_repos/Dataquest-modules/venv/lib/python3.7/site-packages/pandas/core/indexing.py:205: SettingWithCopyWarning: \n",
      "A value is trying to be set on a copy of a slice from a DataFrame\n",
      "\n",
      "See the caveats in the documentation: http://pandas.pydata.org/pandas-docs/stable/user_guide/indexing.html#returning-a-view-versus-a-copy\n",
      "  self._setitem_with_indexer(indexer, value)\n"
     ]
    }
   ],
   "source": [
    "for i in forecast_set:\n",
    "    next_date = datetime.datetime.fromtimestamp(next_unix)\n",
    "    next_unix += one_day\n",
    "    linear_reg.loc[next_date] = [np.nan for _ in range(len(linear_reg.columns)-1)] + [i]\n",
    "    "
   ]
  },
  {
   "cell_type": "code",
   "execution_count": 65,
   "metadata": {},
   "outputs": [
    {
     "data": {
      "image/png": "[encoded data removed]",
      "text/plain": [
       "<Figure size 720x360 with 1 Axes>"
      ]
     },
     "metadata": {},
     "output_type": "display_data"
    }
   ],
   "source": [
    "linear_reg['Close'].plot()\n",
    "linear_reg['Forecast'].plot()\n",
    "plt.legend(loc=4)\n",
    "plt.xlabel('Date')\n",
    "plt.ylabel('Price')\n",
    "plt.show()"
   ]
  },
  {
   "cell_type": "markdown",
   "metadata": {},
   "source": [
    "## Plotting data from gradient boosted forcast"
   ]
  },
  {
   "cell_type": "code",
   "execution_count": 66,
   "metadata": {},
   "outputs": [
    {
     "name": "stderr",
     "output_type": "stream",
     "text": [
      "/home/tony/Desktop/github_repos/Dataquest-modules/venv/lib/python3.7/site-packages/pandas/core/indexing.py:205: SettingWithCopyWarning: \n",
      "A value is trying to be set on a copy of a slice from a DataFrame\n",
      "\n",
      "See the caveats in the documentation: http://pandas.pydata.org/pandas-docs/stable/user_guide/indexing.html#returning-a-view-versus-a-copy\n",
      "  self._setitem_with_indexer(indexer, value)\n"
     ]
    }
   ],
   "source": [
    "for i in forecast_xgb:\n",
    "    next_date = datetime.datetime.fromtimestamp(next_unix)\n",
    "    next_unix += one_day\n",
    "    linear_reg.loc[next_date] = [np.nan for _ in range(len(linear_reg.columns)-1)] + [i]"
   ]
  },
  {
   "cell_type": "code",
   "execution_count": 67,
   "metadata": {},
   "outputs": [
    {
     "data": {
      "image/png": "[encoded data removed]",
      "text/plain": [
       "<Figure size 720x360 with 1 Axes>"
      ]
     },
     "metadata": {},
     "output_type": "display_data"
    }
   ],
   "source": [
    "linear_reg['Close'].plot()\n",
    "linear_reg['Forecast'].plot()\n",
    "plt.legend(loc=4)\n",
    "plt.xlabel('Date')\n",
    "plt.ylabel('Price')\n",
    "plt.show()"
   ]
  },
  {
   "cell_type": "markdown",
   "metadata": {},
   "source": [
    "## Plotting forecast from random forest gradient boosting"
   ]
  },
  {
   "cell_type": "code",
   "execution_count": 68,
   "metadata": {},
   "outputs": [
    {
     "name": "stderr",
     "output_type": "stream",
     "text": [
      "/home/tony/Desktop/github_repos/Dataquest-modules/venv/lib/python3.7/site-packages/pandas/core/indexing.py:205: SettingWithCopyWarning: \n",
      "A value is trying to be set on a copy of a slice from a DataFrame\n",
      "\n",
      "See the caveats in the documentation: http://pandas.pydata.org/pandas-docs/stable/user_guide/indexing.html#returning-a-view-versus-a-copy\n",
      "  self._setitem_with_indexer(indexer, value)\n"
     ]
    }
   ],
   "source": [
    "for i in RF_forecast:\n",
    "    next_date = datetime.datetime.fromtimestamp(next_unix)\n",
    "    next_unix += one_day\n",
    "    linear_reg.loc[next_date] = [np.nan for _ in range(len(linear_reg.columns)-1)] + [i]"
   ]
  },
  {
   "cell_type": "code",
   "execution_count": 69,
   "metadata": {},
   "outputs": [
    {
     "data": {
      "image/png": "[encoded data removed]",
      "text/plain": [
       "<Figure size 720x360 with 1 Axes>"
      ]
     },
     "metadata": {},
     "output_type": "display_data"
    }
   ],
   "source": [
    "linear_reg['Close'].plot()\n",
    "linear_reg['Forecast'].plot()\n",
    "plt.legend(loc=4)\n",
    "plt.xlabel('Date')\n",
    "plt.ylabel('Price')\n",
    "plt.show()"
   ]
  },
  {
   "cell_type": "code",
   "execution_count": 70,
   "metadata": {},
   "outputs": [
    {
     "data": {
      "text/html": [
       "<div>\n",
       "<style scoped>\n",
       "    .dataframe tbody tr th:only-of-type {\n",
       "        vertical-align: middle;\n",
       "    }\n",
       "\n",
       "    .dataframe tbody tr th {\n",
       "        vertical-align: top;\n",
       "    }\n",
       "\n",
       "    .dataframe thead th {\n",
       "        text-align: right;\n",
       "    }\n",
       "</style>\n",
       "<table border=\"1\" class=\"dataframe\">\n",
       "  <thead>\n",
       "    <tr style=\"text-align: right;\">\n",
       "      <th></th>\n",
       "      <th>Close</th>\n",
       "      <th>HL_PCT</th>\n",
       "      <th>PCT_change</th>\n",
       "      <th>Volume</th>\n",
       "      <th>label</th>\n",
       "      <th>Forecast</th>\n",
       "    </tr>\n",
       "    <tr>\n",
       "      <th>Date</th>\n",
       "      <th></th>\n",
       "      <th></th>\n",
       "      <th></th>\n",
       "      <th></th>\n",
       "      <th></th>\n",
       "      <th></th>\n",
       "    </tr>\n",
       "  </thead>\n",
       "  <tbody>\n",
       "    <tr>\n",
       "      <th>2018-05-15</th>\n",
       "      <td>284.18</td>\n",
       "      <td>0.978253</td>\n",
       "      <td>-0.291218</td>\n",
       "      <td>9519200.0</td>\n",
       "      <td>238.69</td>\n",
       "      <td>NaN</td>\n",
       "    </tr>\n",
       "    <tr>\n",
       "      <th>2018-05-16</th>\n",
       "      <td>286.48</td>\n",
       "      <td>0.813320</td>\n",
       "      <td>0.933657</td>\n",
       "      <td>5674000.0</td>\n",
       "      <td>234.01</td>\n",
       "      <td>NaN</td>\n",
       "    </tr>\n",
       "    <tr>\n",
       "      <th>2018-05-17</th>\n",
       "      <td>284.54</td>\n",
       "      <td>1.634217</td>\n",
       "      <td>-0.475691</td>\n",
       "      <td>4420600.0</td>\n",
       "      <td>244.10</td>\n",
       "      <td>NaN</td>\n",
       "    </tr>\n",
       "    <tr>\n",
       "      <th>2018-05-18</th>\n",
       "      <td>276.82</td>\n",
       "      <td>2.828553</td>\n",
       "      <td>-2.750747</td>\n",
       "      <td>7251900.0</td>\n",
       "      <td>255.03</td>\n",
       "      <td>NaN</td>\n",
       "    </tr>\n",
       "  </tbody>\n",
       "</table>\n",
       "</div>"
      ],
      "text/plain": [
       "             Close    HL_PCT  PCT_change     Volume   label  Forecast\n",
       "Date                                                                 \n",
       "2018-05-15  284.18  0.978253   -0.291218  9519200.0  238.69       NaN\n",
       "2018-05-16  286.48  0.813320    0.933657  5674000.0  234.01       NaN\n",
       "2018-05-17  284.54  1.634217   -0.475691  4420600.0  244.10       NaN\n",
       "2018-05-18  276.82  2.828553   -2.750747  7251900.0  255.03       NaN"
      ]
     },
     "execution_count": 70,
     "metadata": {},
     "output_type": "execute_result"
    }
   ],
   "source": [
    "linear_reg['2018-05-15':'2018-05-18']"
   ]
  },
  {
   "cell_type": "markdown",
   "metadata": {},
   "source": [
    "Don't know why there is a sudden drop in forecast values"
   ]
  },
  {
   "cell_type": "markdown",
   "metadata": {},
   "source": [
    "## Applying custom functions for accuracy predictions\n",
    "\n"
   ]
  },
  {
   "cell_type": "code",
   "execution_count": 71,
   "metadata": {},
   "outputs": [],
   "source": [
    "import numpy as np\n",
    "import pandas as pd\n",
    "\n",
    "def prepare_X_y(data):\n",
    "    X = data\n",
    "   \n",
    "    ind = list(data.columns).index('Close')\n",
    "    print(ind)\n",
    "\n",
    "    y = []\n",
    "    for i in range(X.shape[0]-1):\n",
    "        if (X.iloc[i+1,ind] - X.iloc[i,ind])>0:\n",
    "            y.append(1)\n",
    "        else:\n",
    "            y.append(0)\n",
    "    y = np.array(y)\n",
    "    print(len(y))\n",
    "    X = X[:-1].values\n",
    "    print(len(X))\n",
    "    return X,y"
   ]
  },
  {
   "cell_type": "code",
   "execution_count": 72,
   "metadata": {},
   "outputs": [
    {
     "name": "stdout",
     "output_type": "stream",
     "text": [
      "3\n",
      "2398\n",
      "2398\n"
     ]
    }
   ],
   "source": [
    "X,y = prepare_X_y(hist)"
   ]
  },
  {
   "cell_type": "code",
   "execution_count": 73,
   "metadata": {},
   "outputs": [
    {
     "data": {
      "text/plain": [
       "(2398, 9)"
      ]
     },
     "execution_count": 73,
     "metadata": {},
     "output_type": "execute_result"
    }
   ],
   "source": [
    "X.shape"
   ]
  },
  {
   "cell_type": "code",
   "execution_count": 74,
   "metadata": {},
   "outputs": [
    {
     "data": {
      "text/plain": [
       "(2398,)"
      ]
     },
     "execution_count": 74,
     "metadata": {},
     "output_type": "execute_result"
    }
   ],
   "source": [
    "y.shape"
   ]
  },
  {
   "cell_type": "code",
   "execution_count": 75,
   "metadata": {},
   "outputs": [],
   "source": [
    "import xgboost as xgb\n",
    "from sklearn.metrics import accuracy_score\n",
    "from sklearn.model_selection import train_test_split\n",
    "import matplotlib.pyplot as plt\n",
    "import seaborn as sns\n",
    "\n",
    "def split_train_test(X,y):\n",
    "    split_ratio=0.9\n",
    "    train_size = int(round(split_ratio * X.shape[0]))\n",
    "    X_train = X[:train_size]\n",
    "    y_train = y[:train_size]\n",
    "    X_test = X[train_size:]\n",
    "    y_test = y[train_size:]\n",
    "\n",
    "    print(X_train.shape, y_train.shape)\n",
    "    print(X_test.shape, y_test.shape)\n",
    "    return X_train, X_test, y_train, y_test\n",
    "\n",
    "def train_model(X_train, y_train):\n",
    "    model = xgb.XGBClassifier()\n",
    "    model.fit(X_train, y_train)\n",
    "    return model\n",
    "  \n",
    "\n",
    "def predict(model):\n",
    "    y_pred = model.predict(X_test)\n",
    "    y_pred = [round(value) for value in y_pred]\n",
    "    accuracy = accuracy_score(y_test, y_pred)\n",
    "    return \"Accuracy: %.2f%%\" % (accuracy * 100.0)\n",
    "# view rawtraining.py hosted with ❤ by GitHub"
   ]
  },
  {
   "cell_type": "code",
   "execution_count": 76,
   "metadata": {},
   "outputs": [
    {
     "name": "stdout",
     "output_type": "stream",
     "text": [
      "(2158, 9) (2158,)\n",
      "(240, 9) (240,)\n"
     ]
    }
   ],
   "source": [
    "X_train,X_test,y_train,y_test = split_train_test(X,y)"
   ]
  },
  {
   "cell_type": "code",
   "execution_count": 77,
   "metadata": {},
   "outputs": [],
   "source": [
    "model = train_model(X_train,y_train)"
   ]
  },
  {
   "cell_type": "code",
   "execution_count": 78,
   "metadata": {},
   "outputs": [],
   "source": [
    "prediction = predict(model)"
   ]
  },
  {
   "cell_type": "code",
   "execution_count": 79,
   "metadata": {},
   "outputs": [
    {
     "name": "stdout",
     "output_type": "stream",
     "text": [
      "Accuracy: 44.58%\n"
     ]
    }
   ],
   "source": [
    "print(prediction)"
   ]
  },
  {
   "cell_type": "markdown",
   "metadata": {},
   "source": [
    "## Plot feature importance from custom function"
   ]
  },
  {
   "cell_type": "code",
   "execution_count": 80,
   "metadata": {},
   "outputs": [],
   "source": [
    "def plot_feature_imp(data, model):\n",
    "    imp_score = pd.DataFrame(model.feature_importances_, columns=['Importance Score'])\n",
    "    features = pd.DataFrame(data.columns, columns=['Features'])\n",
    "    feature_imp = pd.concat([features,imp_score], axis=1)\n",
    "    feature_imp = feature_imp.sort_index(by='Importance Score', ascending=False)\n",
    "    sns.barplot(x=feature_imp['Importance Score'], y=feature_imp['Features'])\n",
    "    plt.show()"
   ]
  },
  {
   "cell_type": "code",
   "execution_count": null,
   "metadata": {},
   "outputs": [],
   "source": [
    "plot_feature_imp(hist,model)"
   ]
  },
  {
   "cell_type": "code",
   "execution_count": null,
   "metadata": {},
   "outputs": [],
   "source": []
  },
  {
   "cell_type": "markdown",
   "metadata": {},
   "source": [
    "## Adding key financial Indicators and Indices"
   ]
  },
  {
   "cell_type": "code",
   "execution_count": null,
   "metadata": {},
   "outputs": [],
   "source": [
    "# Moving Averages (SMA & EWMA)\n",
    "\n",
    "\n",
    "# Simple Moving Average \n",
    "def SMA(data, days): \n",
    "    sma = pd.Series(data['Close'].rolling(window=days).mean())\n",
    "    name = 'SMA_' + str(days) + '_days'\n",
    "    data[name] = sma\n",
    "    return data\n",
    "\n",
    "# Exponentially-weighted Moving Average \n",
    "def EWMA(data, days):\n",
    "    ema = pd.Series(data['Close'].ewm(span = days , min_periods = days -1).mean())\n",
    "    name = 'EWMA_' + str(days) + '_days'\n",
    "    data[name] = ema\n",
    "    return data\n",
    "\n",
    "days_list = [1,2,4,6]\n",
    "for days in days_list:\n",
    "    SMA_ = SMA(hist,days)\n",
    "    EWMA_ = EWMA(hist,days)"
   ]
  },
  {
   "cell_type": "code",
   "execution_count": null,
   "metadata": {},
   "outputs": [],
   "source": [
    "hist.head()"
   ]
  },
  {
   "cell_type": "code",
   "execution_count": null,
   "metadata": {},
   "outputs": [],
   "source": [
    "#Bollinger Bands (UpperBB & LowerBB)\n",
    "def bbands(data, window=days):\n",
    "    MA = data.Close.rolling(window=days).mean()\n",
    "    SD = data.Close.rolling(window=days).std()\n",
    "    data['UpperBB'] = MA + (2 * SD) \n",
    "    data['LowerBB'] = MA - (2 * SD)\n",
    "    return data\n",
    "days = 12\n",
    "bbands_ = bbands(hist, days)"
   ]
  },
  {
   "cell_type": "code",
   "execution_count": null,
   "metadata": {},
   "outputs": [],
   "source": [
    "hist.tail(100)"
   ]
  },
  {
   "cell_type": "code",
   "execution_count": null,
   "metadata": {},
   "outputs": [],
   "source": [
    "# Force Index (ForceIndex)\n",
    "def ForceIndex(data, days): \n",
    "    FI = pd.Series(data['Close'].diff(periods=days) * data['Volume'])#, name = 'ForceIndex') \n",
    "    data['ForceIndex'] = FI \n",
    "    return data\n",
    "days = 1\n",
    "ForceIndex_ = ForceIndex(hist,days)"
   ]
  },
  {
   "cell_type": "code",
   "execution_count": null,
   "metadata": {},
   "outputs": [],
   "source": [
    "hist.head(1000)"
   ]
  },
  {
   "cell_type": "code",
   "execution_count": null,
   "metadata": {},
   "outputs": [],
   "source": [
    "# Commodity Channel Index (CCI)\n",
    "def CCI(data, days): \n",
    "    TP = (data['High'] + data['Low'] + data['Close']) / 3 \n",
    "    CCI = pd.Series((TP - TP.rolling(window=days).mean()) / (0.015 * TP.rolling(window=days).std()))#, name = 'CCI')\n",
    "    data['CCI'] = CCI\n",
    "    return data\n",
    "days = 2\n",
    "CCI_ = CCI(hist, days)"
   ]
  },
  {
   "cell_type": "code",
   "execution_count": null,
   "metadata": {},
   "outputs": [],
   "source": [
    "hist.tail(100)"
   ]
  },
  {
   "cell_type": "code",
   "execution_count": null,
   "metadata": {},
   "outputs": [],
   "source": [
    "# Ease Of Movement (EVM)\n",
    "def EVM(data, days): \n",
    "    dm = ((data['High'] + data['Low'])/2) - ((data['High'].shift(1) + data['Low'].shift(1))/2)\n",
    "    br = (data['Volume'] / 100000000) / ((data['High'] - data['Low']))\n",
    "    EVM = dm / br \n",
    "    EVM_MA = pd.Series(EVM.rolling(window=days).mean(), name = 'EVM') \n",
    "    data['EVM_MA'] = EVM_MA\n",
    "    return data \n",
    "days = 1\n",
    "EVM_ = EVM(hist, days)"
   ]
  },
  {
   "cell_type": "code",
   "execution_count": null,
   "metadata": {},
   "outputs": [],
   "source": [
    "hist.tail()"
   ]
  },
  {
   "cell_type": "code",
   "execution_count": null,
   "metadata": {},
   "outputs": [],
   "source": [
    "# Rate of Change (ROC)\n",
    "def ROC(data,days):\n",
    "    N = data['Close'].diff(days)\n",
    "    D = data['Close'].shift(days)\n",
    "    roc = pd.Series(N/D,name='ROW')\n",
    "    data = data.join(roc)\n",
    "    return data \n",
    "days = 1\n",
    "ROC_ = ROC(hist,days)"
   ]
  },
  {
   "cell_type": "code",
   "execution_count": null,
   "metadata": {},
   "outputs": [],
   "source": [
    "hist.tail()"
   ]
  },
  {
   "cell_type": "code",
   "execution_count": null,
   "metadata": {},
   "outputs": [],
   "source": [
    "hist.fillna(-9999)"
   ]
  },
  {
   "cell_type": "code",
   "execution_count": null,
   "metadata": {},
   "outputs": [],
   "source": []
  }
 ],
 "metadata": {
  "kernelspec": {
   "display_name": "Python 3",
   "language": "python",
   "name": "python3"
  },
  "language_info": {
   "codemirror_mode": {
    "name": "ipython",
    "version": 3
   },
   "file_extension": ".py",
   "mimetype": "text/x-python",
   "name": "python",
   "nbconvert_exporter": "python",
   "pygments_lexer": "ipython3",
   "version": "3.7.5"
  }
 },
 "nbformat": 4,
 "nbformat_minor": 2
}
