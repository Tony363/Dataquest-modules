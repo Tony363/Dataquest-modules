{
 "cells": [
  {
   "cell_type": "code",
   "execution_count": 2,
   "metadata": {},
   "outputs": [
    {
     "data": {
      "text/plain": [
       "<bound method DataFrame.dropna of           Date  Time DryBulbCelsius\n",
       "0   2014-06-01  0057           17.0\n",
       "1   2014-06-01  0119           17.0\n",
       "2   2014-06-01  0157           16.0\n",
       "3   2014-06-01  0217           16.0\n",
       "4   2014-06-01  0239           16.0\n",
       "..         ...   ...            ...\n",
       "495 2014-06-09  1217           17.0\n",
       "496 2014-06-09  1257           17.0\n",
       "497 2014-06-09  1317           18.0\n",
       "498 2014-06-09  1337           18.0\n",
       "499 2014-06-09  1357           18.0\n",
       "\n",
       "[500 rows x 3 columns]>"
      ]
     },
     "execution_count": 2,
     "metadata": {},
     "output_type": "execute_result"
    }
   ],
   "source": [
    "import numpy as np\n",
    "import pandas as pd\n",
    "from datetime import datetime\n",
    "\n",
    "fullpath = r\"C:\\Users\\Tony\\Downloads\\201406hourlySS.txt\"\n",
    "\n",
    "dateCols = ['Date','Time']\n",
    "df = pd.read_csv(fullpath, nrows=500, usecols=[1, 2, 12], parse_dates=dateCols)\n",
    "\n",
    "\n",
    "\n",
    "df.dropna\n",
    "# time = df['Time'].apply(lambda x: x.strptime('%H:%M'))\n",
    "# print(time)\n"
   ]
  },
  {
   "cell_type": "code",
   "execution_count": 13,
   "metadata": {},
   "outputs": [
    {
     "data": {
      "text/plain": [
       "str"
      ]
     },
     "execution_count": 13,
     "metadata": {},
     "output_type": "execute_result"
    }
   ],
   "source": [
    "type(df.loc[1,'Time'])"
   ]
  },
  {
   "cell_type": "code",
   "execution_count": 14,
   "metadata": {},
   "outputs": [],
   "source": [
    "df['Time'] = pd.to_datetime(df['Time'],format='%H%M')"
   ]
  }
 ],
 "metadata": {
  "kernelspec": {
   "display_name": "Python 3",
   "language": "python",
   "name": "python3"
  },
  "language_info": {
   "codemirror_mode": {
    "name": "ipython",
    "version": 3
   },
   "file_extension": ".py",
   "mimetype": "text/x-python",
   "name": "python",
   "nbconvert_exporter": "python",
   "pygments_lexer": "ipython3",
   "version": "3.7.4"
  }
 },
 "nbformat": 4,
 "nbformat_minor": 2
}
