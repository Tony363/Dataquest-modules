{
 "cells": [
  {
   "cell_type": "code",
   "execution_count": null,
   "metadata": {},
   "outputs": [],
   "source": [
    "\n",
    "import pandas as pd\n",
    "path = r'/home/tony/Downloads/AMEX_20190905.csv'\n",
    "\n",
    "df = pd.read_csv(path,names=['stock','date','open','high','low','close','volume','dividends'])\n",
    "\n",
    "\n",
    "\n",
    "df.head()\n",
    "\n",
    "\n",
    "\n",
    "\n",
    "\n",
    "\n",
    "\n"
   ]
  },
  {
   "cell_type": "code",
   "execution_count": null,
   "metadata": {},
   "outputs": [],
   "source": [
    "\n",
    "\n",
    "df['stock'].value_counts(normalize=True).sort_values()\n",
    "\n",
    "\n",
    "\n",
    "df = df.loc[:10,'stock']\n",
    "df\n"
   ]
  },
  {
   "cell_type": "code",
   "execution_count": null,
   "metadata": {},
   "outputs": [],
   "source": [
    "import yfinance as yf\n",
    "\n",
    "data= []\n",
    "\n",
    "for i,stock in enumerate(df):\n",
    "    names = yf.Ticker(stock)\n",
    "    history = names.history(start='2018-01-01',end='2020-02-01')\n",
    "    names = pd.DataFrame(history)\n",
    "\n",
    "    names['PCT_Change_Close'] =  names.Close.rolling(2).apply(lambda x:(x[1]-x[0])/x[0] * 100)\n",
    "    names['PCT_Change_Low'] = names.Low.rolling(2).apply(lambda x:(x[1]-x[0])/x[0] * 100)\n",
    "    names['PCT_Change_Open'] = names.Open.rolling(2).apply(lambda x:(x[1]-x[0])/x[0] * 100)\n",
    "    names['PCT_Change_High'] = names.High.rolling(2).apply(lambda x:(x[1]-x[0])/x[0] * 100)\n",
    "    names['PCT_Change_Vol'] = names.Volume.rolling(2).apply(lambda x:(x[1]-x[0])/x[0] * 100)\n",
    "    names['Stock'] = stock\n",
    "    names.drop(names.index[0],inplace=True)\n",
    "    names = names.reset_index()\n",
    "    names = names[['Stock','PCT_Change_Close','PCT_Change_Open','PCT_Change_Low','PCT_Change_High','PCT_Change_Vol','Date']]\n",
    "\n",
    "    matrix = []\n",
    "    for i in range(100):\n",
    "#         days = names.PCT_Change_Close.iloc[i:]\n",
    "        days = names.PCT_Change_Close.shift(-i)\n",
    "        df = pd.DataFrame({f'Days {i}':days.values})\n",
    "        # print(df)\n",
    "        \n",
    "        matrix.append(df)\n",
    "    matrix = pd.concat(matrix,axis=1)\n",
    "    matrix.insert(loc=0, column='Stock', value=stock)\n",
    "    data.append(matrix)\n",
    "\n",
    "#     names = names[['Stock','Date','PCT_Change_Close']]\n",
    "#     matrix = pd.pivot_table(names,index='Stock',columns='Date',values='PCT_Change_Close')\n",
    "\n",
    "# pd.options.display.float_format = '${:,.2f}'.format\n",
    "    \n"
   ]
  },
  {
   "cell_type": "code",
   "execution_count": null,
   "metadata": {},
   "outputs": [],
   "source": [
    "stock = data[0]"
   ]
  },
  {
   "cell_type": "code",
   "execution_count": null,
   "metadata": {},
   "outputs": [],
   "source": [
    "\n",
    "list_data = pd.concat(data)\n",
    "\n",
    "\n",
    "\n",
    "\n",
    "# import numpy as np\n",
    "\n",
    "\n",
    "\n",
    "# array = np.concatenate((list_data.PCT_Change_Close.values[1:], np.array([np.nan])))\n",
    "\n",
    "\n",
    "\n",
    "# list_data = list_data.reset_index()\n",
    "\n",
    "\n",
    "\n",
    "# Close_array = list_data.PCT_Change_Close\n",
    "\n",
    "\n",
    "\n",
    "# type(Close_array)\n",
    "\n",
    "\n",
    "\n",
    "# data.corr()\n",
    "\n",
    "\n"
   ]
  },
  {
   "cell_type": "code",
   "execution_count": null,
   "metadata": {},
   "outputs": [],
   "source": [
    "# import pandas_profiling as pp\n",
    "# pp.ProfileReport(list_data)\n"
   ]
  },
  {
   "cell_type": "code",
   "execution_count": null,
   "metadata": {},
   "outputs": [],
   "source": [
    "from sklearn.model_selection import train_test_split\n",
    "import numpy as np \n",
    "\n",
    "X = np.array(stock.loc[:,'Days 1':])\n",
    "y = np.array(stock['Days 0'])\n",
    "\n",
    "X_train,X_test,y_train,y_test = train_test_split(X,y, test_size=0.2, random_state = 0)"
   ]
  },
  {
   "cell_type": "code",
   "execution_count": null,
   "metadata": {},
   "outputs": [],
   "source": []
  }
 ],
 "metadata": {
  "kernelspec": {
   "display_name": "Python 3",
   "language": "python",
   "name": "python3"
  },
  "language_info": {
   "codemirror_mode": {
    "name": "ipython",
    "version": 3
   },
   "file_extension": ".py",
   "mimetype": "text/x-python",
   "name": "python",
   "nbconvert_exporter": "python",
   "pygments_lexer": "ipython3",
   "version": "3.7.5"
  }
 },
 "nbformat": 4,
 "nbformat_minor": 2
}