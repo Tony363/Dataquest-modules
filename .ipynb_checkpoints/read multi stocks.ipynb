{
 "cells": [
  {
   "cell_type": "code",
   "execution_count": 1,
   "metadata": {},
   "outputs": [],
   "source": [
    "import pandas as pd\n",
    "# path = r'/home/tony/Downloads/AMEX_20190905.csv'\n",
    "path = r'C:\\Users\\Tony\\AppData\\Local\\Packages\\microsoft.windowscommunicationsapps_8wekyb3d8bbwe\\LocalState\\Files\\S0\\7535\\Attachments\\AMEX_20190905[9799].csv'\n",
    "df = pd.read_csv(path,names=['stock','date','open','high','low','close','volume','dividends'])"
   ]
  },
  {
   "cell_type": "code",
   "execution_count": 2,
   "metadata": {
    "scrolled": true
   },
   "outputs": [
    {
     "data": {
      "text/html": [
       "<div>\n",
       "<style scoped>\n",
       "    .dataframe tbody tr th:only-of-type {\n",
       "        vertical-align: middle;\n",
       "    }\n",
       "\n",
       "    .dataframe tbody tr th {\n",
       "        vertical-align: top;\n",
       "    }\n",
       "\n",
       "    .dataframe thead th {\n",
       "        text-align: right;\n",
       "    }\n",
       "</style>\n",
       "<table border=\"1\" class=\"dataframe\">\n",
       "  <thead>\n",
       "    <tr style=\"text-align: right;\">\n",
       "      <th></th>\n",
       "      <th>stock</th>\n",
       "      <th>date</th>\n",
       "      <th>open</th>\n",
       "      <th>high</th>\n",
       "      <th>low</th>\n",
       "      <th>close</th>\n",
       "      <th>volume</th>\n",
       "      <th>dividends</th>\n",
       "    </tr>\n",
       "  </thead>\n",
       "  <tbody>\n",
       "    <tr>\n",
       "      <th>0</th>\n",
       "      <td>AAAU</td>\n",
       "      <td>05-Sep-2019</td>\n",
       "      <td>15.35</td>\n",
       "      <td>15.3500</td>\n",
       "      <td>15.0600</td>\n",
       "      <td>15.1550</td>\n",
       "      <td>162700</td>\n",
       "      <td>NaN</td>\n",
       "    </tr>\n",
       "    <tr>\n",
       "      <th>1</th>\n",
       "      <td>AADR</td>\n",
       "      <td>05-Sep-2019</td>\n",
       "      <td>50.14</td>\n",
       "      <td>50.1400</td>\n",
       "      <td>49.8300</td>\n",
       "      <td>49.9600</td>\n",
       "      <td>8500</td>\n",
       "      <td>NaN</td>\n",
       "    </tr>\n",
       "    <tr>\n",
       "      <th>2</th>\n",
       "      <td>AAMC</td>\n",
       "      <td>05-Sep-2019</td>\n",
       "      <td>10.70</td>\n",
       "      <td>10.9550</td>\n",
       "      <td>10.7000</td>\n",
       "      <td>10.7000</td>\n",
       "      <td>2000</td>\n",
       "      <td>NaN</td>\n",
       "    </tr>\n",
       "    <tr>\n",
       "      <th>3</th>\n",
       "      <td>AAU</td>\n",
       "      <td>05-Sep-2019</td>\n",
       "      <td>0.72</td>\n",
       "      <td>0.7301</td>\n",
       "      <td>0.6400</td>\n",
       "      <td>0.6701</td>\n",
       "      <td>704900</td>\n",
       "      <td>NaN</td>\n",
       "    </tr>\n",
       "    <tr>\n",
       "      <th>4</th>\n",
       "      <td>ACES</td>\n",
       "      <td>05-Sep-2019</td>\n",
       "      <td>31.05</td>\n",
       "      <td>31.0700</td>\n",
       "      <td>30.7164</td>\n",
       "      <td>30.8064</td>\n",
       "      <td>11100</td>\n",
       "      <td>NaN</td>\n",
       "    </tr>\n",
       "  </tbody>\n",
       "</table>\n",
       "</div>"
      ],
      "text/plain": [
       "  stock         date   open     high      low    close  volume  dividends\n",
       "0  AAAU  05-Sep-2019  15.35  15.3500  15.0600  15.1550  162700        NaN\n",
       "1  AADR  05-Sep-2019  50.14  50.1400  49.8300  49.9600    8500        NaN\n",
       "2  AAMC  05-Sep-2019  10.70  10.9550  10.7000  10.7000    2000        NaN\n",
       "3   AAU  05-Sep-2019   0.72   0.7301   0.6400   0.6701  704900        NaN\n",
       "4  ACES  05-Sep-2019  31.05  31.0700  30.7164  30.8064   11100        NaN"
      ]
     },
     "execution_count": 2,
     "metadata": {},
     "output_type": "execute_result"
    }
   ],
   "source": [
    "df.head()"
   ]
  },
  {
   "cell_type": "code",
   "execution_count": 3,
   "metadata": {},
   "outputs": [
    {
     "data": {
      "text/plain": [
       "NUGT    0.000452\n",
       "EEMX    0.000452\n",
       "TMFC    0.000452\n",
       "CEV     0.000452\n",
       "ESGW    0.000452\n",
       "          ...   \n",
       "REGL    0.000452\n",
       "EMEM    0.000452\n",
       "XPP     0.000452\n",
       "FLRT    0.000452\n",
       "GGN     0.000452\n",
       "Name: stock, Length: 2213, dtype: float64"
      ]
     },
     "execution_count": 3,
     "metadata": {},
     "output_type": "execute_result"
    }
   ],
   "source": [
    "df['stock'].value_counts(normalize=True).sort_values()"
   ]
  },
  {
   "cell_type": "code",
   "execution_count": 4,
   "metadata": {},
   "outputs": [
    {
     "data": {
      "text/plain": [
       "0     AAAU\n",
       "1     AADR\n",
       "2     AAMC\n",
       "3      AAU\n",
       "4     ACES\n",
       "5     ACIM\n",
       "6     ACIO\n",
       "7     ACSG\n",
       "8     ACSI\n",
       "9      ACU\n",
       "10    ACWF\n",
       "Name: stock, dtype: object"
      ]
     },
     "execution_count": 4,
     "metadata": {},
     "output_type": "execute_result"
    }
   ],
   "source": [
    "df = df.loc[:10,'stock']\n",
    "df"
   ]
  },
  {
   "cell_type": "code",
   "execution_count": 5,
   "metadata": {},
   "outputs": [
    {
     "name": "stdout",
     "output_type": "stream",
     "text": [
      "(25, 7)\n"
     ]
    },
    {
     "name": "stderr",
     "output_type": "stream",
     "text": [
      "c:\\users\\tony\\desktop\\github\\dataquest-modules\\venv\\lib\\site-packages\\ipykernel_launcher.py:14: FutureWarning: Currently, 'apply' passes the values as ndarrays to the applied function. In the future, this will change to passing it as Series objects. You need to specify 'raw=True' to keep the current behaviour, and you can pass 'raw=False' to silence this warning\n",
      "  \n",
      "c:\\users\\tony\\desktop\\github\\dataquest-modules\\venv\\lib\\site-packages\\ipykernel_launcher.py:15: FutureWarning: Currently, 'apply' passes the values as ndarrays to the applied function. In the future, this will change to passing it as Series objects. You need to specify 'raw=True' to keep the current behaviour, and you can pass 'raw=False' to silence this warning\n",
      "  from ipykernel import kernelapp as app\n",
      "c:\\users\\tony\\desktop\\github\\dataquest-modules\\venv\\lib\\site-packages\\ipykernel_launcher.py:16: FutureWarning: Currently, 'apply' passes the values as ndarrays to the applied function. In the future, this will change to passing it as Series objects. You need to specify 'raw=True' to keep the current behaviour, and you can pass 'raw=False' to silence this warning\n",
      "  app.launch_new_instance()\n",
      "c:\\users\\tony\\desktop\\github\\dataquest-modules\\venv\\lib\\site-packages\\ipykernel_launcher.py:17: FutureWarning: Currently, 'apply' passes the values as ndarrays to the applied function. In the future, this will change to passing it as Series objects. You need to specify 'raw=True' to keep the current behaviour, and you can pass 'raw=False' to silence this warning\n",
      "c:\\users\\tony\\desktop\\github\\dataquest-modules\\venv\\lib\\site-packages\\ipykernel_launcher.py:18: FutureWarning: Currently, 'apply' passes the values as ndarrays to the applied function. In the future, this will change to passing it as Series objects. You need to specify 'raw=True' to keep the current behaviour, and you can pass 'raw=False' to silence this warning\n"
     ]
    },
    {
     "name": "stdout",
     "output_type": "stream",
     "text": [
      "(25, 7)\n",
      "(25, 7)\n",
      "(25, 7)\n",
      "(25, 7)\n",
      "(25, 7)\n",
      "(25, 7)\n",
      "(25, 7)\n",
      "(25, 7)\n",
      "(25, 7)\n"
     ]
    }
   ],
   "source": [
    "import yfinance as yf\n",
    "AAAU = []\n",
    "data= []\n",
    "\n",
    "for i,stock in enumerate(df):\n",
    "    if stock == 'ACIM':\n",
    "        continue\n",
    "    names = yf.Ticker(stock)\n",
    "    history = names.history(start='2019-12-01',end='2020-01-08')\n",
    "    print(history.shape)\n",
    "    names = pd.DataFrame(history)\n",
    "#     print(names.columns)\n",
    "        \n",
    "    names['PCT_Change_Close'] =  names.Close.rolling(2).apply(lambda x:(x[1]-x[0])/x[0] * 100)\n",
    "    names['PCT_Change_Low'] = names.Low.rolling(2).apply(lambda x:(x[1]-x[0])/x[0] * 100)\n",
    "    names['PCT_Change_Open'] = names.Open.rolling(2).apply(lambda x:(x[1]-x[0])/x[0] * 100)\n",
    "    names['PCT_Change_High'] = names.High.rolling(2).apply(lambda x:(x[1]-x[0])/x[0] * 100)\n",
    "    names['PCT_Change_Vol'] = names.Volume.rolling(2).apply(lambda x:(x[1]-x[0])/x[0] * 100)\n",
    "    names['Stock'] = stock\n",
    "    names['VMs'] = [f'VM{x}'for x in range(25)]\n",
    "#     names.drop(names.index[0],inplace=True)\n",
    "    names = names.reset_index()\n",
    "    names = names[['Date','Stock','PCT_Change_Close','PCT_Change_Open','PCT_Change_Low','PCT_Change_High','PCT_Change_Vol']]\n",
    "#     print(names)\n",
    "    if stock == 'AAAU':\n",
    "        names = names[['Date','Stock','PCT_Change_Close']]\n",
    "        names = names.pivot(index='Stock',columns='Date',values='PCT_Change_Close')\n",
    "        AAAU.append(names)\n",
    "  \n",
    "        \n",
    "#     matrix = []\n",
    "#     for i in range(1,101):\n",
    "#         days = names.PCT_Change_Close.shift(i)\n",
    "#         df = pd.DataFrame({f'Days {i}':days.values})\n",
    "        \n",
    "#         matrix.append(df)\n",
    "#     matrix = pd.concat(matrix,axis=1)\n",
    "#     matrix.insert(loc=0, column='Stock', value=stock)\n",
    "    \n",
    "# #     print(matrix)\n",
    "#     data.append(matrix)\n",
    "\n",
    "# pd.options.display.float_format = '${:,.2f}'.format\n",
    "    "
   ]
  },
  {
   "cell_type": "code",
   "execution_count": 6,
   "metadata": {},
   "outputs": [
    {
     "data": {
      "text/html": [
       "<div>\n",
       "<style scoped>\n",
       "    .dataframe tbody tr th:only-of-type {\n",
       "        vertical-align: middle;\n",
       "    }\n",
       "\n",
       "    .dataframe tbody tr th {\n",
       "        vertical-align: top;\n",
       "    }\n",
       "\n",
       "    .dataframe thead th {\n",
       "        text-align: right;\n",
       "    }\n",
       "</style>\n",
       "<table border=\"1\" class=\"dataframe\">\n",
       "  <thead>\n",
       "    <tr style=\"text-align: right;\">\n",
       "      <th>Date</th>\n",
       "      <th>2019-12-02</th>\n",
       "      <th>2019-12-03</th>\n",
       "      <th>2019-12-04</th>\n",
       "      <th>2019-12-05</th>\n",
       "      <th>2019-12-06</th>\n",
       "      <th>2019-12-09</th>\n",
       "      <th>2019-12-10</th>\n",
       "      <th>2019-12-11</th>\n",
       "      <th>2019-12-12</th>\n",
       "      <th>2019-12-13</th>\n",
       "      <th>...</th>\n",
       "      <th>2019-12-23</th>\n",
       "      <th>2019-12-24</th>\n",
       "      <th>2019-12-26</th>\n",
       "      <th>2019-12-27</th>\n",
       "      <th>2019-12-30</th>\n",
       "      <th>2019-12-31</th>\n",
       "      <th>2020-01-02</th>\n",
       "      <th>2020-01-03</th>\n",
       "      <th>2020-01-06</th>\n",
       "      <th>2020-01-07</th>\n",
       "    </tr>\n",
       "    <tr>\n",
       "      <th>Stock</th>\n",
       "      <th></th>\n",
       "      <th></th>\n",
       "      <th></th>\n",
       "      <th></th>\n",
       "      <th></th>\n",
       "      <th></th>\n",
       "      <th></th>\n",
       "      <th></th>\n",
       "      <th></th>\n",
       "      <th></th>\n",
       "      <th></th>\n",
       "      <th></th>\n",
       "      <th></th>\n",
       "      <th></th>\n",
       "      <th></th>\n",
       "      <th></th>\n",
       "      <th></th>\n",
       "      <th></th>\n",
       "      <th></th>\n",
       "      <th></th>\n",
       "      <th></th>\n",
       "    </tr>\n",
       "  </thead>\n",
       "  <tbody>\n",
       "    <tr>\n",
       "      <th>AAAU</th>\n",
       "      <td>NaN</td>\n",
       "      <td>1.028101</td>\n",
       "      <td>-0.135685</td>\n",
       "      <td>0.067935</td>\n",
       "      <td>-1.086219</td>\n",
       "      <td>0.068634</td>\n",
       "      <td>0.205761</td>\n",
       "      <td>0.684463</td>\n",
       "      <td>-0.339905</td>\n",
       "      <td>0.545703</td>\n",
       "      <td>...</td>\n",
       "      <td>0.542741</td>\n",
       "      <td>0.944669</td>\n",
       "      <td>0.735294</td>\n",
       "      <td>0.066357</td>\n",
       "      <td>0.198939</td>\n",
       "      <td>0.264725</td>\n",
       "      <td>0.660066</td>\n",
       "      <td>1.311475</td>\n",
       "      <td>1.100324</td>\n",
       "      <td>0.384123</td>\n",
       "    </tr>\n",
       "  </tbody>\n",
       "</table>\n",
       "<p>1 rows × 25 columns</p>\n",
       "</div>"
      ],
      "text/plain": [
       "Date   2019-12-02  2019-12-03  2019-12-04  2019-12-05  2019-12-06  2019-12-09  \\\n",
       "Stock                                                                           \n",
       "AAAU          NaN    1.028101   -0.135685    0.067935   -1.086219    0.068634   \n",
       "\n",
       "Date   2019-12-10  2019-12-11  2019-12-12  2019-12-13  ...  2019-12-23  \\\n",
       "Stock                                                  ...               \n",
       "AAAU     0.205761    0.684463   -0.339905    0.545703  ...    0.542741   \n",
       "\n",
       "Date   2019-12-24  2019-12-26  2019-12-27  2019-12-30  2019-12-31  2020-01-02  \\\n",
       "Stock                                                                           \n",
       "AAAU     0.944669    0.735294    0.066357    0.198939    0.264725    0.660066   \n",
       "\n",
       "Date   2020-01-03  2020-01-06  2020-01-07  \n",
       "Stock                                      \n",
       "AAAU     1.311475    1.100324    0.384123  \n",
       "\n",
       "[1 rows x 25 columns]"
      ]
     },
     "execution_count": 6,
     "metadata": {},
     "output_type": "execute_result"
    }
   ],
   "source": [
    "AAAU[0]"
   ]
  },
  {
   "cell_type": "code",
   "execution_count": 7,
   "metadata": {},
   "outputs": [
    {
     "ename": "IndexError",
     "evalue": "list index out of range",
     "output_type": "error",
     "traceback": [
      "\u001b[1;31m---------------------------------------------------------------------------\u001b[0m",
      "\u001b[1;31mIndexError\u001b[0m                                Traceback (most recent call last)",
      "\u001b[1;32m<ipython-input-7-768eac87c00b>\u001b[0m in \u001b[0;36m<module>\u001b[1;34m\u001b[0m\n\u001b[1;32m----> 1\u001b[1;33m \u001b[0mdata\u001b[0m\u001b[1;33m[\u001b[0m\u001b[1;36m1\u001b[0m\u001b[1;33m]\u001b[0m\u001b[1;33m.\u001b[0m\u001b[0mcorr\u001b[0m\u001b[1;33m(\u001b[0m\u001b[1;33m)\u001b[0m\u001b[1;33m\u001b[0m\u001b[1;33m\u001b[0m\u001b[0m\n\u001b[0m",
      "\u001b[1;31mIndexError\u001b[0m: list index out of range"
     ]
    }
   ],
   "source": [
    "data[1].corr()"
   ]
  },
  {
   "cell_type": "code",
   "execution_count": null,
   "metadata": {},
   "outputs": [],
   "source": [
    "list_data = pd.concat(data)"
   ]
  },
  {
   "cell_type": "code",
   "execution_count": null,
   "metadata": {},
   "outputs": [],
   "source": [
    "# list_data.index"
   ]
  },
  {
   "cell_type": "code",
   "execution_count": null,
   "metadata": {},
   "outputs": [],
   "source": [
    "# list_data.drop(list_data.index[0],inplace=True)"
   ]
  },
  {
   "cell_type": "markdown",
   "metadata": {},
   "source": [
    "percent change matrix row index days percent till 100. column day percent of previous days"
   ]
  },
  {
   "cell_type": "code",
   "execution_count": null,
   "metadata": {},
   "outputs": [],
   "source": [
    "list_data"
   ]
  },
  {
   "cell_type": "code",
   "execution_count": null,
   "metadata": {},
   "outputs": [],
   "source": [
    "# import numpy as np"
   ]
  },
  {
   "cell_type": "code",
   "execution_count": null,
   "metadata": {},
   "outputs": [],
   "source": [
    "# array = np.concatenate((list_data.PCT_Change_Close.values[1:], np.array([np.nan])))"
   ]
  },
  {
   "cell_type": "code",
   "execution_count": null,
   "metadata": {},
   "outputs": [],
   "source": [
    "# list_data = list_data.reset_index()"
   ]
  },
  {
   "cell_type": "code",
   "execution_count": null,
   "metadata": {},
   "outputs": [],
   "source": [
    "# Close_array = list_data.PCT_Change_Close"
   ]
  },
  {
   "cell_type": "code",
   "execution_count": null,
   "metadata": {},
   "outputs": [],
   "source": [
    "# type(Close_array)"
   ]
  },
  {
   "cell_type": "code",
   "execution_count": null,
   "metadata": {},
   "outputs": [],
   "source": [
    "# data = []\n",
    "# for i in range(100):\n",
    "#     days = list_data.PCT_Change_Close.shift(i)\n",
    "#     df = pd.DataFrame({f'Days {i}':days.values})\n",
    "#     print(df)\n",
    "#     data.append(df)\n",
    "    \n",
    "    "
   ]
  },
  {
   "cell_type": "code",
   "execution_count": null,
   "metadata": {},
   "outputs": [],
   "source": [
    "# data = pd.concat(data,axis=1)"
   ]
  },
  {
   "cell_type": "code",
   "execution_count": null,
   "metadata": {},
   "outputs": [],
   "source": [
    "# data"
   ]
  },
  {
   "cell_type": "code",
   "execution_count": null,
   "metadata": {},
   "outputs": [],
   "source": [
    "# data.corr()"
   ]
  },
  {
   "cell_type": "code",
   "execution_count": null,
   "metadata": {},
   "outputs": [],
   "source": []
  }
 ],
 "metadata": {
  "kernelspec": {
   "display_name": "Python 3",
   "language": "python",
   "name": "python3"
  },
  "language_info": {
   "codemirror_mode": {
    "name": "ipython",
    "version": 3
   },
   "file_extension": ".py",
   "mimetype": "text/x-python",
   "name": "python",
   "nbconvert_exporter": "python",
   "pygments_lexer": "ipython3",
   "version": "3.7.4"
  }
 },
 "nbformat": 4,
 "nbformat_minor": 2
}
