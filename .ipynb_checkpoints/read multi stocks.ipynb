{
 "cells": [
  {
   "cell_type": "code",
   "execution_count": 1,
   "metadata": {},
   "outputs": [],
   "source": [
    "import pandas as pd\n",
    "path = r'C:\\Users\\Tony\\AppData\\Local\\Packages\\microsoft.windowscommunicationsapps_8wekyb3d8bbwe\\LocalState\\Files\\S0\\7535\\Attachments\\TONY.csv'\n",
    "\n",
    "df = pd.read_csv(path,names=['stock','date','open','high','low','close','volume','dividends'])"
   ]
  },
  {
   "cell_type": "code",
   "execution_count": 2,
   "metadata": {
    "scrolled": true
   },
   "outputs": [
    {
     "data": {
      "text/html": [
       "<div>\n",
       "<style scoped>\n",
       "    .dataframe tbody tr th:only-of-type {\n",
       "        vertical-align: middle;\n",
       "    }\n",
       "\n",
       "    .dataframe tbody tr th {\n",
       "        vertical-align: top;\n",
       "    }\n",
       "\n",
       "    .dataframe thead th {\n",
       "        text-align: right;\n",
       "    }\n",
       "</style>\n",
       "<table border=\"1\" class=\"dataframe\">\n",
       "  <thead>\n",
       "    <tr style=\"text-align: right;\">\n",
       "      <th></th>\n",
       "      <th>stock</th>\n",
       "      <th>date</th>\n",
       "      <th>open</th>\n",
       "      <th>high</th>\n",
       "      <th>low</th>\n",
       "      <th>close</th>\n",
       "      <th>volume</th>\n",
       "      <th>dividends</th>\n",
       "    </tr>\n",
       "  </thead>\n",
       "  <tbody>\n",
       "    <tr>\n",
       "      <th>0</th>\n",
       "      <td>AAAU</td>\n",
       "      <td>5-Sep-19</td>\n",
       "      <td>15.35</td>\n",
       "      <td>15.3500</td>\n",
       "      <td>15.0600</td>\n",
       "      <td>15.1550</td>\n",
       "      <td>162700</td>\n",
       "      <td>NaN</td>\n",
       "    </tr>\n",
       "    <tr>\n",
       "      <th>1</th>\n",
       "      <td>AADR</td>\n",
       "      <td>5-Sep-19</td>\n",
       "      <td>50.14</td>\n",
       "      <td>50.1400</td>\n",
       "      <td>49.8300</td>\n",
       "      <td>49.9600</td>\n",
       "      <td>8500</td>\n",
       "      <td>NaN</td>\n",
       "    </tr>\n",
       "    <tr>\n",
       "      <th>2</th>\n",
       "      <td>AAMC</td>\n",
       "      <td>5-Sep-19</td>\n",
       "      <td>10.70</td>\n",
       "      <td>10.9550</td>\n",
       "      <td>10.7000</td>\n",
       "      <td>10.7000</td>\n",
       "      <td>2000</td>\n",
       "      <td>NaN</td>\n",
       "    </tr>\n",
       "    <tr>\n",
       "      <th>3</th>\n",
       "      <td>AAU</td>\n",
       "      <td>5-Sep-19</td>\n",
       "      <td>0.72</td>\n",
       "      <td>0.7301</td>\n",
       "      <td>0.6400</td>\n",
       "      <td>0.6701</td>\n",
       "      <td>704900</td>\n",
       "      <td>NaN</td>\n",
       "    </tr>\n",
       "    <tr>\n",
       "      <th>4</th>\n",
       "      <td>ACES</td>\n",
       "      <td>5-Sep-19</td>\n",
       "      <td>31.05</td>\n",
       "      <td>31.0700</td>\n",
       "      <td>30.7164</td>\n",
       "      <td>30.8064</td>\n",
       "      <td>11100</td>\n",
       "      <td>NaN</td>\n",
       "    </tr>\n",
       "  </tbody>\n",
       "</table>\n",
       "</div>"
      ],
      "text/plain": [
       "  stock      date   open     high      low    close  volume  dividends\n",
       "0  AAAU  5-Sep-19  15.35  15.3500  15.0600  15.1550  162700        NaN\n",
       "1  AADR  5-Sep-19  50.14  50.1400  49.8300  49.9600    8500        NaN\n",
       "2  AAMC  5-Sep-19  10.70  10.9550  10.7000  10.7000    2000        NaN\n",
       "3   AAU  5-Sep-19   0.72   0.7301   0.6400   0.6701  704900        NaN\n",
       "4  ACES  5-Sep-19  31.05  31.0700  30.7164  30.8064   11100        NaN"
      ]
     },
     "execution_count": 2,
     "metadata": {},
     "output_type": "execute_result"
    }
   ],
   "source": [
    "df.head()"
   ]
  },
  {
   "cell_type": "code",
   "execution_count": 3,
   "metadata": {},
   "outputs": [
    {
     "data": {
      "text/plain": [
       "FLDR    0.000452\n",
       "SPXU    0.000452\n",
       "IHYD    0.000452\n",
       "AOIL    0.000452\n",
       "EMQQ    0.000452\n",
       "          ...   \n",
       "CJNK    0.000452\n",
       "GLL     0.000452\n",
       "JHCS    0.000452\n",
       "ULE     0.000452\n",
       "GSAT    0.000452\n",
       "Name: stock, Length: 2213, dtype: float64"
      ]
     },
     "execution_count": 3,
     "metadata": {},
     "output_type": "execute_result"
    }
   ],
   "source": [
    "df['stock'].value_counts(normalize=True).sort_values()"
   ]
  },
  {
   "cell_type": "code",
   "execution_count": 4,
   "metadata": {},
   "outputs": [
    {
     "data": {
      "text/plain": [
       "0     AAAU\n",
       "1     AADR\n",
       "2     AAMC\n",
       "3      AAU\n",
       "4     ACES\n",
       "5     ACIM\n",
       "6     ACIO\n",
       "7     ACSG\n",
       "8     ACSI\n",
       "9      ACU\n",
       "10    ACWF\n",
       "Name: stock, dtype: object"
      ]
     },
     "execution_count": 4,
     "metadata": {},
     "output_type": "execute_result"
    }
   ],
   "source": [
    "df = df.loc[:10,'stock']\n",
    "df"
   ]
  },
  {
   "cell_type": "code",
   "execution_count": 5,
   "metadata": {},
   "outputs": [
    {
     "name": "stderr",
     "output_type": "stream",
     "text": [
      "c:\\users\\tony\\desktop\\github\\dataquest-modules\\venv\\lib\\site-packages\\ipykernel_launcher.py:9: FutureWarning: Currently, 'apply' passes the values as ndarrays to the applied function. In the future, this will change to passing it as Series objects. You need to specify 'raw=True' to keep the current behaviour, and you can pass 'raw=False' to silence this warning\n",
      "  if __name__ == '__main__':\n",
      "c:\\users\\tony\\desktop\\github\\dataquest-modules\\venv\\lib\\site-packages\\ipykernel_launcher.py:10: FutureWarning: Currently, 'apply' passes the values as ndarrays to the applied function. In the future, this will change to passing it as Series objects. You need to specify 'raw=True' to keep the current behaviour, and you can pass 'raw=False' to silence this warning\n",
      "  # Remove the CWD from sys.path while we load stuff.\n",
      "c:\\users\\tony\\desktop\\github\\dataquest-modules\\venv\\lib\\site-packages\\ipykernel_launcher.py:11: FutureWarning: Currently, 'apply' passes the values as ndarrays to the applied function. In the future, this will change to passing it as Series objects. You need to specify 'raw=True' to keep the current behaviour, and you can pass 'raw=False' to silence this warning\n",
      "  # This is added back by InteractiveShellApp.init_path()\n",
      "c:\\users\\tony\\desktop\\github\\dataquest-modules\\venv\\lib\\site-packages\\ipykernel_launcher.py:12: FutureWarning: Currently, 'apply' passes the values as ndarrays to the applied function. In the future, this will change to passing it as Series objects. You need to specify 'raw=True' to keep the current behaviour, and you can pass 'raw=False' to silence this warning\n",
      "  if sys.path[0] == '':\n",
      "c:\\users\\tony\\desktop\\github\\dataquest-modules\\venv\\lib\\site-packages\\ipykernel_launcher.py:13: FutureWarning: Currently, 'apply' passes the values as ndarrays to the applied function. In the future, this will change to passing it as Series objects. You need to specify 'raw=True' to keep the current behaviour, and you can pass 'raw=False' to silence this warning\n",
      "  del sys.path[0]\n"
     ]
    }
   ],
   "source": [
    "import yfinance as yf\n",
    "\n",
    "# list_data= []\n",
    "\n",
    "for i,stock in enumerate(df):\n",
    "    names = yf.Ticker(stock)\n",
    "    history = names.history(start='2018-01-01',end='2020-02-01')\n",
    "    list_data = pd.DataFrame(history)\n",
    "    list_data['PCT_Change_Close'] = list_data.Close.rolling(2).apply(lambda x:(x[1]-x[0])/x[0] * 100)\n",
    "    list_data['PCT_Change_Low'] = list_data.Low.rolling(2).apply(lambda x:(x[1]-x[0])/x[0] * 100)\n",
    "    list_data['PCT_Change_Open'] = list_data.Open.rolling(2).apply(lambda x:(x[1]-x[0])/x[0] * 100)\n",
    "    list_data['PCT_Change_High'] = list_data.High.rolling(2).apply(lambda x:(x[1]-x[0])/x[0] * 100)\n",
    "    list_data['PCT_Change_Vol'] = list_data.Volume.rolling(2).apply(lambda x:(x[1]-x[0])/x[0] * 100)\n",
    "    list_data = [['PCT_Change_Close','PCT_Change_Open','PCT_Change_Low','PCT_Change_High','PCT_Change_Vol']]\n",
    "#     names['Stock'] = stock\n",
    "    \n",
    "#     list_data.append(names)\n",
    "# pd.options.display.float_format = '${:,.2f}'.format\n",
    "    "
   ]
  },
  {
   "cell_type": "code",
   "execution_count": 6,
   "metadata": {},
   "outputs": [],
   "source": [
    "# list_data = pd.concat(list_data)"
   ]
  },
  {
   "cell_type": "code",
   "execution_count": 7,
   "metadata": {},
   "outputs": [],
   "source": [
    "# list_data = list_data[['Stock','Close','Dividends','High','Low','Open','Stock Splits','Volume']]"
   ]
  },
  {
   "cell_type": "code",
   "execution_count": 8,
   "metadata": {},
   "outputs": [],
   "source": [
    "# list_data.drop(['Close','Open','High'],axis=1)"
   ]
  },
  {
   "cell_type": "code",
   "execution_count": 9,
   "metadata": {},
   "outputs": [],
   "source": [
    "# list_data.index"
   ]
  },
  {
   "cell_type": "code",
   "execution_count": 10,
   "metadata": {},
   "outputs": [],
   "source": [
    "# list_data.drop(list_data.index[0])"
   ]
  },
  {
   "cell_type": "markdown",
   "metadata": {},
   "source": [
    "percent change matrix row index days percent till 100. column day percent of previous days"
   ]
  },
  {
   "cell_type": "code",
   "execution_count": 11,
   "metadata": {},
   "outputs": [
    {
     "ename": "AttributeError",
     "evalue": "'list' object has no attribute 'head'",
     "output_type": "error",
     "traceback": [
      "\u001b[1;31m---------------------------------------------------------------------------\u001b[0m",
      "\u001b[1;31mAttributeError\u001b[0m                            Traceback (most recent call last)",
      "\u001b[1;32m<ipython-input-11-eb7c4cb5d6d2>\u001b[0m in \u001b[0;36m<module>\u001b[1;34m\u001b[0m\n\u001b[1;32m----> 1\u001b[1;33m \u001b[0mlist_data\u001b[0m\u001b[1;33m.\u001b[0m\u001b[0mhead\u001b[0m\u001b[1;33m(\u001b[0m\u001b[1;33m)\u001b[0m\u001b[1;33m\u001b[0m\u001b[1;33m\u001b[0m\u001b[0m\n\u001b[0m",
      "\u001b[1;31mAttributeError\u001b[0m: 'list' object has no attribute 'head'"
     ]
    }
   ],
   "source": [
    "list_data.head()"
   ]
  }
 ],
 "metadata": {
  "kernelspec": {
   "display_name": "Python 3",
   "language": "python",
   "name": "python3"
  },
  "language_info": {
   "codemirror_mode": {
    "name": "ipython",
    "version": 3
   },
   "file_extension": ".py",
   "mimetype": "text/x-python",
   "name": "python",
   "nbconvert_exporter": "python",
   "pygments_lexer": "ipython3",
   "version": "3.7.4"
  }
 },
 "nbformat": 4,
 "nbformat_minor": 2
}
