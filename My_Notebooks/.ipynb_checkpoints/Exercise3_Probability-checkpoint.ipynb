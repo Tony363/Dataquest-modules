{
 "cells": [
  {
   "cell_type": "markdown",
   "metadata": {},
   "source": [
    "# Exercise 3: Probability and the Stochastic Processes\n",
    "\n",
    "![](assets/kenya_landscape.png)\n",
    "\n",
    "Rainfall in many dryland ecosystems exhibits pronounced variability from year to year. Because rainfall occurs intermittently and with a low degree of predictability, we often are forced to characterize the occurrence and amount of rainfall in terms of **probability**. In this exercise, we will investigate the probabilistic nature of rainfall at various locations in Kenya. We will use these data to explore the concepts of probability and conditional probability, as well as probability density functions and cumulative density functions. We will use these data to develop a stochastic model of rainfall that can be used to generate  novel time series of rainfall and develop inference into the likelihood of various daily, monthly, seasonal, and annual rainfall totals. \n",
    "\n",
    "\n",
    "<div class=\"boxhead2\">\n",
    "    Exercise 3 Topics\n",
    "</div>\n",
    "\n",
    "<div class=\"boxtext2\">\n",
    "<ul class=\"a\">\n",
    "    <li> 📌 Analyze the probabilities and distribution of daily rainfall. </li>\n",
    "    <li> 📌 Fit an exponential distribution to rainfall depths. </li>\n",
    "    <li> 📌 Use our fitted distribution and rainfall probabilities to generate a stochastic model of daily rainfall. </li>\n",
    "    <li> 📌 Use conditional probabilities to examine the independent nature of the daily rainfall process. </li>\n",
    "    <li> 📌 Modify our model to generate monthly variation in rainfall probabilities and plot the results. </li>\n",
    "</ul>\n",
    "</div>\n",
    "\n",
    "<hr style=\"border-top: 0.2px solid gray; margin-top: 12pt; margin-bottom: 0pt\"></hr>\n",
    "\n",
    "### Instructions\n",
    "Work through the exercise, writing code where indicated. To run a cell, click on the cell and press \"Shift\" + \"Enter\" or click the \"Run\" button in the toolbar at the top. Note: Do not restart the kernel and clear all outputs. If this happens, run the last cell in the notebook before proceeding.\n",
    "\n",
    "<p style=\"color:#408000; font-weight: bold\"> 🐍 &nbsp; &nbsp; This symbol designates an important note about Python structure, syntax, or another quirk.  </p>\n",
    "\n",
    "<p style=\"color:#008C96; font-weight: bold\"> ▶️ &nbsp; &nbsp; This symbol designates a cell with code to be run.  </p>\n",
    "\n",
    "<p style=\"color:#008C96; font-weight: bold\"> ✏️ &nbsp; &nbsp; This symbol designates a partially coded cell with an example.  </p>\n",
    "\n",
    "<p style=\"color:#008C96; font-weight: bold\"> 📚 &nbsp; &nbsp; This symbol designates a practice question.  </p>\n",
    "\n",
    "\n",
    "<hr style=\"border-top: 1px solid gray; margin-top: 24px; margin-bottom: 1px\"></hr>"
   ]
  },
  {
   "cell_type": "markdown",
   "metadata": {},
   "source": [
    "### Imports\n",
    "\n",
    "First, let's load <span class=\"code\">pandas</span> into our notebook. As usual, we use `pd` as the shortname for pandas and `np` as the shortname for <span class=\"code\">numpy</span>. \n",
    "\n",
    "<div class=\"run\">\n",
    "    ▶️ <b> Run the cell below. </b>\n",
    "</div>"
   ]
  },
  {
   "cell_type": "code",
   "execution_count": 1,
   "metadata": {},
   "outputs": [],
   "source": [
    "import pandas as pd\n",
    "import numpy as np\n",
    "import matplotlib.pyplot as plt\n",
    "%matplotlib inline"
   ]
  },
  {
   "cell_type": "markdown",
   "metadata": {},
   "source": [
    "### Reading in the data\n",
    "\n",
    "All the data for our exercise are stored as `.csv` files. We will read the `.csv` file into a `DataFrame`. Note: be sure you have copied the file from the `data` folder.\n",
    "\n",
    "<div class=\"run\">\n",
    "    ▶️ <b> Run the cell below. </b>\n",
    "</div>"
   ]
  },
  {
   "cell_type": "code",
   "execution_count": 2,
   "metadata": {},
   "outputs": [],
   "source": [
    "df = pd.read_csv(\n",
    "    \"/home/tony/Desktop/My_repos/Dataquest-modules/excel_files/mpala_ranch_house_rainfall.csv\",\n",
    "    usecols=['Rainfall (mm)', 'Date', 'Year', 'Month', 'Day']\n",
    ")"
   ]
  },
  {
   "cell_type": "markdown",
   "metadata": {},
   "source": [
    "```python\n",
    "> df.info()\n",
    "\n",
    "<class 'pandas.core.frame.DataFrame'>\n",
    "RangeIndex: 16602 entries, 0 to 16601\n",
    "Data columns (total 5 columns):\n",
    "Rainfall (mm)    15751 non-null float64\n",
    "Date             16602 non-null object\n",
    "Year             16602 non-null int64\n",
    "Month            16602 non-null int64\n",
    "Day              16602 non-null int64\n",
    "dtypes: float64(1), int64(3), object(1)\n",
    "memory usage: 648.6+ KB\n",
    "```\n",
    "\n",
    "Here we see that the `DataFrame` has 16,602 entries (this is the number of rows in the `.csv` file), and contains 5 columns that are called `Rainfall (mm)`, `Date`, `Year`, `Month`, and `Day`. These column names are taken directly from the `.csv` header row.\n",
    "\n",
    "<span class=\"code\">Pandas</span> has auto-detected that `Year`, `Month`, and `Day` are all integers and the data in the `Rainfall (mm)` column are detected to be floating point numbers. The `Date` column has been categorized as an indeterminant `object` type (this is the default type, which means <span class=\"code\">pandas</span> has no idea what to do with this column). We will come back to this in a bit, but first let's keep exploring our new `DataFrame`.\n",
    "\n",
    "\n",
    "Let's take a look at the first few rows of the dataframe using the `head()` command.\n",
    "\n",
    "<div class=\"run\">\n",
    "    ▶️ <b> Run the cell below. </b>\n",
    "</div>"
   ]
  },
  {
   "cell_type": "code",
   "execution_count": 3,
   "metadata": {
    "scrolled": true
   },
   "outputs": [
    {
     "data": {
      "text/html": [
       "<div>\n",
       "<style scoped>\n",
       "    .dataframe tbody tr th:only-of-type {\n",
       "        vertical-align: middle;\n",
       "    }\n",
       "\n",
       "    .dataframe tbody tr th {\n",
       "        vertical-align: top;\n",
       "    }\n",
       "\n",
       "    .dataframe thead th {\n",
       "        text-align: right;\n",
       "    }\n",
       "</style>\n",
       "<table border=\"1\" class=\"dataframe\">\n",
       "  <thead>\n",
       "    <tr style=\"text-align: right;\">\n",
       "      <th></th>\n",
       "      <th>Rainfall (mm)</th>\n",
       "      <th>Date</th>\n",
       "      <th>Year</th>\n",
       "      <th>Month</th>\n",
       "      <th>Day</th>\n",
       "    </tr>\n",
       "  </thead>\n",
       "  <tbody>\n",
       "    <tr>\n",
       "      <th>0</th>\n",
       "      <td>0.0</td>\n",
       "      <td>1972-01-01</td>\n",
       "      <td>1972</td>\n",
       "      <td>1</td>\n",
       "      <td>1</td>\n",
       "    </tr>\n",
       "    <tr>\n",
       "      <th>1</th>\n",
       "      <td>0.0</td>\n",
       "      <td>1972-01-02</td>\n",
       "      <td>1972</td>\n",
       "      <td>1</td>\n",
       "      <td>2</td>\n",
       "    </tr>\n",
       "    <tr>\n",
       "      <th>2</th>\n",
       "      <td>0.0</td>\n",
       "      <td>1972-01-03</td>\n",
       "      <td>1972</td>\n",
       "      <td>1</td>\n",
       "      <td>3</td>\n",
       "    </tr>\n",
       "    <tr>\n",
       "      <th>3</th>\n",
       "      <td>0.0</td>\n",
       "      <td>1972-01-04</td>\n",
       "      <td>1972</td>\n",
       "      <td>1</td>\n",
       "      <td>4</td>\n",
       "    </tr>\n",
       "    <tr>\n",
       "      <th>4</th>\n",
       "      <td>0.0</td>\n",
       "      <td>1972-01-05</td>\n",
       "      <td>1972</td>\n",
       "      <td>1</td>\n",
       "      <td>5</td>\n",
       "    </tr>\n",
       "  </tbody>\n",
       "</table>\n",
       "</div>"
      ],
      "text/plain": [
       "   Rainfall (mm)        Date  Year  Month  Day\n",
       "0            0.0  1972-01-01  1972      1    1\n",
       "1            0.0  1972-01-02  1972      1    2\n",
       "2            0.0  1972-01-03  1972      1    3\n",
       "3            0.0  1972-01-04  1972      1    4\n",
       "4            0.0  1972-01-05  1972      1    5"
      ]
     },
     "execution_count": 3,
     "metadata": {},
     "output_type": "execute_result"
    }
   ],
   "source": [
    "df.head()"
   ]
  },
  {
   "cell_type": "markdown",
   "metadata": {},
   "source": [
    "## Determine yearly rainfall totals.\n",
    "\n",
    "The most common – but not always the most useful – interval of rainfall characterization is annual. Let's see what years we have available to investigate annual rainfall, using the [`pd.unique()`](https://pandas.pydata.org/pandas-docs/stable/reference/api/pandas.Series.unique.html) function.\n",
    "\n",
    "\n",
    "<div class=\"example\">\n",
    "    ✏️ <b> Try it. </b> \n",
    "    Use the <code>pd.unique()</code> function to get a list of the unique years contained in the <code>Year</code> column of our dataframe, <code>df</code>. Assign this list of years to a new array called <code>all_years</code>\n",
    "</div>"
   ]
  },
  {
   "cell_type": "code",
   "execution_count": 4,
   "metadata": {},
   "outputs": [
    {
     "name": "stdout",
     "output_type": "stream",
     "text": [
      "[1972 1973 1974 1975 1976 1977 1978 1979 1980 1981 1982 1983 1984 1985\n",
      " 1986 1987 1988 1989 1990 1991 1992 1993 1994 1995 1996 1997 1998 1999\n",
      " 2000 2001 2002 2003 2004 2005 2006 2007 2008 2009 2010 2011 2012 2013\n",
      " 2014 2015 2016 2017]\n"
     ]
    }
   ],
   "source": [
    "all_years = pd.unique(df.Year)\n",
    "print(all_years)"
   ]
  },
  {
   "cell_type": "markdown",
   "metadata": {},
   "source": [
    "\n",
    "If all goes well, you should get results that look like this: \n",
    "```python\n",
    "\n",
    "> print(all_years)\n",
    "\n",
    "[1972 1973 1974 1975 1976 1977 1978 1979 1980 1981 1982 1983 1984 1985\n",
    " 1986 1987 1988 1989 1990 1991 1992 1993 1994 1995 1996 1997 1998 1999\n",
    " 2000 2001 2002 2003 2004 2005 2006 2007 2008 2009 2010 2011 2012 2013\n",
    " 2014 2015 2016 2017]\n",
    "```\n",
    "\n",
    "It looks like we have almost five decades of rainfall data. The first thing we might want to do with this data is look at yearly summaries. \n",
    "\n",
    "\n",
    "<hr style=\"border-top: 1px solid gray; margin-top: 24px; margin-bottom: 1px\"></hr>\n",
    "\n",
    "\n",
    "\n",
    "<div class=\"practice\">\n",
    "    📚  <b> Practice 1. (The following steps can be combined into a single line of code)</b> \n",
    "<ol class=\"alpha\">\n",
    "<li>Determine the annual rainfall totals for each year.</li>\n",
    "<li>Use method chaining combined with the <code>df.groupby()</code> function to get the sum of every year's rainfall. </li>    \n",
    "<li>Use the argument <code>min_count</code> in the <a href=\"https://pandas.pydata.org/pandas-docs/stable/reference/api/pandas.DataFrame.sum.html\"><code>sum()</code></a> command to force pandas to only include sums of rainfall for years with at least 350 days of data.</li>\n",
    "    \n",
    "<li>Assign these totals to a new <code>Series</code> variable called <code>yearly_rainfall_total</code>.</li> \n",
    "\n",
    "</ol>\n",
    "</div>\n"
   ]
  },
  {
   "cell_type": "code",
   "execution_count": 5,
   "metadata": {},
   "outputs": [
    {
     "data": {
      "text/plain": [
       "Year\n",
       "1972    681.228\n",
       "1973        NaN\n",
       "1974    378.968\n",
       "1975    791.464\n",
       "1976    363.220\n",
       "Name: Rainfall (mm), dtype: float64"
      ]
     },
     "execution_count": 5,
     "metadata": {},
     "output_type": "execute_result"
    }
   ],
   "source": [
    "#yearly_rainfall_total = df.groupby('Year').agg('sum')['Rainfall (mm)']\n",
    "yearly_rainfall_total = df.groupby('Year').sum(min_count = 350)['Rainfall (mm)']\n",
    "yearly_rainfall_total.head()"
   ]
  },
  {
   "cell_type": "markdown",
   "metadata": {},
   "source": [
    "If all goes correctly, you should get results that look like this: \n",
    "\n",
    "```python\n",
    "> yearly_rainfall_total.head()\n",
    "\n",
    "Year\n",
    "1972    681.228\n",
    "1973        NaN\n",
    "1974    378.968\n",
    "1975    791.464\n",
    "1976    363.220\n",
    "Name: Rainfall (mm), dtype: float64\n",
    "\n",
    "```        \n",
    "\n",
    "\n",
    "<hr style=\"border-top: 1px solid gray; margin-top: 24px; margin-bottom: 1px\"></hr>\n",
    "\n",
    "\n",
    "## Quantifying rainfall variability\n",
    "\n",
    "We can use the [coefficient of variation](https://en.wikipedia.org/wiki/Coefficient_of_variation) to describe rainfall variability. The coefficient of variation, $CV$, of a group of numbers is the ratio of the standard deviation, $\\sigma$, to the mean, $\\mu$. We can calculate the population CV of a sample, $\\widehat{CV}$, as the ratio of standard deviation of the sample, $s$, and the sample mean, $\\bar{x}$:\n",
    "\n",
    "$$ \\widehat{CV} = \\frac{s}{\\bar{x}} $$ \n",
    "\n",
    "\n",
    "<div class=\"example\">\n",
    "    ✏️ <b> Try it. </b>    \n",
    "Create a histogram of yearly rainfall amounts using the  <a href=\"https://pandas.pydata.org/pandas-docs/stable/reference/api/pandas.DataFrame.hist.html\"><code>hist()</code></a> command that is a built-in method of any <code>pandas.Series</code>. <br>\n",
    "    <br>\n",
    "    Note: Your variable, <code>yearly_rainfall_total</code> should be a <code>pandas.Series</code> object.\n",
    "</div>"
   ]
  },
  {
   "cell_type": "code",
   "execution_count": 6,
   "metadata": {},
   "outputs": [
    {
     "data": {
      "text/plain": [
       "<matplotlib.axes._subplots.AxesSubplot at 0x7ff0cd217210>"
      ]
     },
     "execution_count": 6,
     "metadata": {},
     "output_type": "execute_result"
    },
    {
     "data": {
      "image/png": "[encoded data removed]",
      "text/plain": [
       "<Figure size 432x288 with 1 Axes>"
      ]
     },
     "metadata": {
      "needs_background": "light"
     },
     "output_type": "display_data"
    }
   ],
   "source": [
    "yearly_rainfall_total.hist()"
   ]
  },
  {
   "cell_type": "markdown",
   "metadata": {},
   "source": [
    "We have a very pronounced mode, with a large degree of variation. Let's calculate the $\\widehat{CV}$.\n",
    "\n",
    "<div class=\"example\">\n",
    "    ✏️ <b> Try it. </b>    \n",
    "Use the formula above to calculate the $\\widehat{CV}$ for the data in <code>yearly_rainfall_total</code>.\n",
    "</div>"
   ]
  },
  {
   "cell_type": "code",
   "execution_count": 7,
   "metadata": {},
   "outputs": [
    {
     "data": {
      "text/plain": [
       "0.3555534303411825"
      ]
     },
     "execution_count": 7,
     "metadata": {},
     "output_type": "execute_result"
    }
   ],
   "source": [
    "cv = yearly_rainfall_total.std()/yearly_rainfall_total.mean()\n",
    "cv"
   ]
  },
  {
   "cell_type": "markdown",
   "metadata": {},
   "source": [
    "$\\widehat{CV}$ has some problems dealing with small sample sizes (n) and tends to be biased low. We can create an unbiased estimator, $\\widehat{CV}^{*}$ using the following function${^1}$:\n",
    "\n",
    "$$ \\widehat{CV}^{*} = \\left(1 + \\frac{1}{4n}\\right)\\widehat{CV} $$\n",
    "\n",
    "${^1}$ _technically, $\\widehat{CV}^{*}$ is only valid for normally-distributed data, but we will use it anyway as an example._\n",
    "\n",
    "<div class=\"practice\">\n",
    "    📚  <b> Practice 2.</b>\n",
    "    Create a function that calculates the $\\widehat{CV}^{*}$ for a set of data and use the function to determine the $\\widehat{CV}^{*}$ value for our yearly rainfall data.\n",
    "</div>"
   ]
  },
  {
   "cell_type": "code",
   "execution_count": 8,
   "metadata": {},
   "outputs": [
    {
     "name": "stdout",
     "output_type": "stream",
     "text": [
      "0.3574857859408628\n"
     ]
    }
   ],
   "source": [
    "#cv_star = cv*(1+1/(4*len(yearly_rainfall_total)))\n",
    "#print(cv_star)\n",
    "def getCV(df):\n",
    "    cv = df.std()/df.mean()\n",
    "    return cv*(1+1/(4*len(df)))\n",
    "\n",
    "print(getCV(yearly_rainfall_total))"
   ]
  },
  {
   "cell_type": "markdown",
   "metadata": {},
   "source": [
    "## Examining daily rainfall probabilities and amounts\n",
    "\n",
    "As we see from the analysis of yearly and monthly rainfall, the climatology of this location is characterized by a fairly high degree of variability. The same is true of many tropical drylands.\n",
    "\n",
    "### 1. What is the chance that it will rain?\n",
    "In order to get at the rainfall process itself, let's look at the distribution of rainfall events. We can find all the days of rainfall by simply filtering our `DataFrame` to find days when rain was greater than zero. To do this, we can use the `loc()` function.\n",
    "\n",
    "The following line of code returns a new dataframe that contains only the rows where `'Rainfall (mm)'` is greater than zero:\n",
    "\n",
    "```python\n",
    "rainy_days = df.loc[ (df['Rainfall (mm)'] > 0) ]\n",
    "\n",
    "```\n",
    "\n",
    "\n",
    "<div class=\"practice\">\n",
    "    📚  <b> Practice 3.</b>\n",
    "    Calculate the overall probability of daily rainfall.\n",
    "    <ol class=\"alpha\">\n",
    "        <li> Create a <code>DataFrame</code> containing only rainy days (when rainfall is greater than zero) called <code>rainy_days</code></li>\n",
    "        <li> Create a <code>DataFrame</code> consisting of all observation days (when rainfall is not equal to <code>NaN</code>) called <code>all_days</code></li>\n",
    "        <li> Use the ratio of the length of <code>rainy_days</code> and <code>all_days</code> to determine the probability of rainfall and save this as a new variable called <code>prob_rain</code>.</li>\n",
    "    </ol>\n",
    "</div>"
   ]
  },
  {
   "cell_type": "code",
   "execution_count": 9,
   "metadata": {},
   "outputs": [
    {
     "name": "stdout",
     "output_type": "stream",
     "text": [
      "0.13211859564472098\n"
     ]
    }
   ],
   "source": [
    "rainy_days = df.loc[df['Rainfall (mm)'] > 0]\n",
    "all_days = df.dropna()\n",
    "\n",
    "prob_rain = len(rainy_days)/len(all_days)\n",
    "print(prob_rain)"
   ]
  },
  {
   "cell_type": "markdown",
   "metadata": {},
   "source": [
    "If all goes well, then you should get the following value for `prob_rain`:\n",
    "```python\n",
    "\n",
    "> print(prob_rain)\n",
    "0.13211859564472098\n",
    "```\n",
    "\n",
    "<hr style=\"border-top: 1px solid gray; margin-top: 24px; margin-bottom: 1px\"></hr>\n",
    "\n",
    "### Monthly Rainfall Totals and Probabilities\n",
    "\n",
    "Over the entire time period, the probability of rainfall was about 13%, which means that it rains - on average - a little less than once per week (approximately every 7.7 days). However, most regions have strong seasonality in rainfall. Our data comes from a site that is located very close to the equator in central Kenya. This means that the movement of the ITCZ across the tropics causes changes in the likelihood of rainfall from month to month. We should therefore look at monthly rainfall probabilies rather than simply the annual average.\n",
    "\n",
    "<div class=\"practice\">\n",
    "    📚  <b> Practice 4.</b>\n",
    "    <ol class=\"alpha\">\n",
    "        <li> Determine the probability of rainfall for each month. Add these values to a list called <code>lambda_by_month</code>. Hint: You can combine test criteria using logical operators (i.e. <code>&</code> and <code>|</code>).\n",
    "        <li>Create a bar graph of the monthly rainfall probabilites. Label your plot appropriately.\n",
    "    </ol>\n",
    "</div>"
   ]
  },
  {
   "cell_type": "code",
   "execution_count": 10,
   "metadata": {},
   "outputs": [
    {
     "data": {
      "text/plain": [
       "<matplotlib.axes._subplots.AxesSubplot at 0x7ff0cca59f10>"
      ]
     },
     "execution_count": 10,
     "metadata": {},
     "output_type": "execute_result"
    },
    {
     "data": {
      "image/png": "[encoded data removed]",
      "text/plain": [
       "<Figure size 432x288 with 1 Axes>"
      ]
     },
     "metadata": {
      "needs_background": "light"
     },
     "output_type": "display_data"
    }
   ],
   "source": [
    "count_rainy_by_month = rainy_days.groupby('Month').agg('count')['Rainfall (mm)']\n",
    "count_total_by_month = all_days.groupby('Month').agg('count')['Rainfall (mm)']\n",
    "\n",
    "lambda_by_month = count_rainy_by_month/count_total_by_month\n",
    "lambda_by_month.plot.bar()"
   ]
  },
  {
   "cell_type": "markdown",
   "metadata": {},
   "source": [
    "### 2. What is the amount that it will rain?\n",
    "\n",
    "We've already subsetted all of our data for days with rain and stored this in the variable `rainy_days`. Let's look at the distribution of rain amounts:\n",
    "\n",
    "<div class=\"run\">\n",
    "    ▶️ <b> Run the cell below. </b>\n",
    "</div>"
   ]
  },
  {
   "cell_type": "code",
   "execution_count": 11,
   "metadata": {},
   "outputs": [
    {
     "data": {
      "text/plain": [
       "<matplotlib.axes._subplots.AxesSubplot at 0x7ff0cd26e090>"
      ]
     },
     "execution_count": 11,
     "metadata": {},
     "output_type": "execute_result"
    },
    {
     "data": {
      "image/png": "[encoded data removed]",
      "text/plain": [
       "<Figure size 432x288 with 1 Axes>"
      ]
     },
     "metadata": {
      "needs_background": "light"
     },
     "output_type": "display_data"
    }
   ],
   "source": [
    "rainy_days['Rainfall (mm)'].hist(bins=50)"
   ]
  },
  {
   "cell_type": "markdown",
   "metadata": {},
   "source": [
    "As opposed to the annual rainfall distribution, the distribution of daily storm totals (or daily rainfall) has a much clearer distribution. This pattern of daily rainfall – a positively skewed distribution with a short-tail – is _very_ consistent with what we see across tropical drylands, and even more broadly across any location where rainfall is dominated by convective processes. We might ask what the average storm total is...\n",
    "\n",
    "<div class=\"example\">\n",
    "    ✏️ <b> Try it. </b>    \n",
    "    Calculate the average rainfall amount on rainy days over the data record. Save this quantity as a new variable called <code>avg_rainfall_depth</code>.\n",
    "</div>"
   ]
  },
  {
   "cell_type": "code",
   "execution_count": 12,
   "metadata": {},
   "outputs": [
    {
     "data": {
      "text/plain": [
       "11.676554541086016"
      ]
     },
     "execution_count": 12,
     "metadata": {},
     "output_type": "execute_result"
    }
   ],
   "source": [
    "avg_rainfall_depth = rainy_days['Rainfall (mm)'].mean()\n",
    "avg_rainfall_depth"
   ]
  },
  {
   "cell_type": "markdown",
   "metadata": {},
   "source": [
    "## Fitting rainfall depths to an exponential distribution\n",
    "\n",
    "A simple rainfall model makes two assumptions; (1) that events arrive according to a Poisson process, and (2) that rainfall depths are distributed according to an exponential distribution. These two assumptions are accompanied by the need for two rainfall parameters; (1) the probability of rainfall events, $\\lambda_r$, and the average depth of rainfall events $\\alpha$. We've already seen how to estimate both of these parameters from rainfall data, so here we are going to focus on testing the appropriateness of the model assumptions during the growing season for Laikipia, Kenya.\n",
    "\n",
    "### Step 1. Fit the distribution\n",
    "\n",
    "To fit the distribution, we are going to use some more functions from <span class=\"code\">python</span>'s suite of numerical analysis. In this case we are going to use some functions from <span class=\"code\">scipy</span>. The [`scipy.stats`](https://docs.scipy.org/doc/scipy/reference/stats.html) module has a large suite of distribution functions pre-defined, which we can use to develop a fit for our data. Using any of these distributions for fitting our data is very easy. The distribution we are most interested in is the exponential distribution, which is called `expon` in the `stats` module.\n",
    "\n",
    "<div class=\"run\">\n",
    "    ▶️ <b> Run the cell below. </b>\n",
    "</div>"
   ]
  },
  {
   "cell_type": "code",
   "execution_count": 13,
   "metadata": {},
   "outputs": [
    {
     "name": "stdout",
     "output_type": "stream",
     "text": [
      "(0.254, 11.422554541086017)\n"
     ]
    }
   ],
   "source": [
    "import scipy.stats as st\n",
    "\n",
    "distribution = st.expon\n",
    "data = rainy_days['Rainfall (mm)']\n",
    "params = distribution.fit(data, loc=0) # Force the distribution to be built off of zero\n",
    "\n",
    "print(params)\n",
    "\n",
    "arg = params[:-2]\n",
    "loc = params[-2]\n",
    "scale = params[-1]"
   ]
  },
  {
   "cell_type": "markdown",
   "metadata": {},
   "source": [
    "### Step 2. Calculate fitted PDF and error with fit in distribution\n",
    "\n",
    "To test the fit of our distribution, we can compare the empirical histogram to that predicted by our model. To do this, we first use our `data` to generate the empirical histogram. In this exampkle, we break the data into `30` bins, and we generate a histrogram of `density` rather than counts. This allows for an easier comparison between our empirical data and the fitted probability distribution function. Here are the steps:\n",
    "\n",
    "1. Generate a histogram, from the `data`. Save the bin locations in `x` and the density of values in `y`\n",
    "2. Shift the `x` bin locations generated from the histogram to the center of bins.\n",
    "3. Calculate the value of the fitted `pdf(x)` for each of the bins in `x`.\n",
    "4. Determine the residual sum of the squares, $SS_{error}$, and total sum of squares, $SS_{yy}$, according to:\n",
    "\n",
    "$$ SS_{error} = \\sum_{i=1}^{n} \\left(y_i - f(x_i)\\right)^2 $$\n",
    "$$ SS_{yy} = \\sum_{i=1}^{n} \\left(y_i - \\bar{y}\\right)^2 $$\n",
    "\n",
    "5. Calculate the $r^2$ of the fit, according to\n",
    "\n",
    "$$ r^2 = 1- \\frac{SS_{error}}{SS_{yy}} $$ \n",
    "\n",
    "<div class=\"run\">\n",
    "    ▶️ <b> Run the cell below. </b>\n",
    "</div>"
   ]
  },
  {
   "cell_type": "code",
   "execution_count": 14,
   "metadata": {},
   "outputs": [
    {
     "name": "stdout",
     "output_type": "stream",
     "text": [
      "0.9946931314612523\n"
     ]
    }
   ],
   "source": [
    "# Step 1. Generate a density histogram of the data \n",
    "y, x = np.histogram(data, bins=30, density=True)\n",
    "\n",
    "# Step 2. Shift the x bin locations to the center of bins.\n",
    "x = (x + np.roll(x, -1))[:-1] / 2.0\n",
    "\n",
    "# Step 3. Calculate the values of pdx(x) for all x.\n",
    "pdf = distribution.pdf(x, loc=loc, scale=scale, *arg)\n",
    "\n",
    "# Step 4. Determine the residual and total sum of the squares.\n",
    "ss_error = np.sum(np.power(y - pdf, 2.0))\n",
    "ss_yy = np.sum(np.power(y - y.mean(), 2.0))\n",
    "\n",
    "r_2 = 1 - ( ss_error / ss_yy )\n",
    "print(r_2)"
   ]
  },
  {
   "cell_type": "markdown",
   "metadata": {},
   "source": [
    "These results suggest that an exponential distribution is a really good fit for our observed data on rainfall amounts.\n",
    "\n",
    "\n",
    "\n",
    "<hr style=\"border-top: 1px solid gray; margin-top: 24px; margin-bottom: 1px\"></hr>\n",
    "\n",
    "\n",
    "\n",
    "## Modeling rainfall\n",
    "\n",
    "Let's make a very simple model of rainfall that assumes a Poisson process (i.e. a memoryless process). We just saw that this approach is probably too simple, and later we will look at how we could improve the model. But it helps to start with the most simple approach and then add complexity as needed.\n",
    "\n",
    "Our model will be built with the following assumptions:\n",
    "\n",
    "1. The probability of an \"event\" (i.e. rainfall) occuring on any given day is given by the parameter $\\lambda_r$, which has units day$^{-1}$\n",
    "\n",
    "2. The total depth of rainfall on days with rain is a random variable, drawn from an exponential distribution with mean, $\\alpha$, which has units of mm.\n",
    "\n",
    "This type of model is a [\"marked Poisson process\"](http://www.math.kit.edu/stoch/~last/seite/lectures_on_the_poisson_process/media/lastpenrose2017.pdf) and is a special case of a Poisson process on a number line (in our case, the number line is time), where each event is characterized by a random \"mark\" that is independent of the event.\n",
    "\n",
    "### Step 1. Simulating Poisson events\n",
    "\n",
    "We have a variety of means to simulate a Poisson process, and all of them will require the use of a random number generator. The <span class=\"code\">numpy</span> package has lots of different builtin functions to generate pseudo-random numbers, and we can use one of these. \n",
    "\n",
    "To simulate the likelihood of a Poisson event, we can draw a sample from a uniform distribution in $[0,1]$ and compare that to our probability of an event. If the value we draw is less than or equal to our probability, then an event occurs, otherwise no event occurs. The probability density function, $f(x)$ of a uniform distribution sampled over the half open interval from $a$ to $b$, $[a,b)$ is given by \n",
    "\n",
    "$$\n",
    "f(x) = \\frac{1}{b - a}\n",
    "$$\n",
    "\n",
    "\n",
    "We can sample from this distribution using the [**`np.random.uniform()`**](https://docs.scipy.org/doc/numpy/reference/generated/numpy.random.uniform.html) function:\n",
    "\n",
    "```python\n",
    "\n",
    "s = np.random.uniform(low=0,high=1)\n",
    "\n",
    "```\n",
    "\n",
    "The `np.random.uniform()` function also takes the optional argument `size`, which specifies the number of random samples to return. This allows for the generation of large lists of random samples without using a `for` loop or list comprehension approaches.\n",
    "\n",
    "```python\n",
    "# Returns an array of 2 random draws.\n",
    "s = np.random.uniform(low=0, high=1, size=2) \n",
    "\n",
    "# Returns an array of 2 rows each with 10 random draws\n",
    "s_mat = np.random.uniform(low=0, high=1, size=[2, 10])\n",
    "```\n",
    "\n",
    "<div class=\"example\">\n",
    "    ✏️ <b> Try it. </b>    \n",
    "    Using a $\\lambda_r$ value equal to your calculated value of <code>prob_rain</code> and assuming that the length of a growing season, $T_{seas}$, is 160 days, simulate a season of rainfall \"events\", where the value of a day is <code>1</code> if rainfall occurs, and <code>0</code> if not.</div>\n",
    "</div>\n",
    "\n",
    "\n",
    "<div class=\"alert alert-info\">💡 You can use the <code>pd.astype()</code> command to force Boolean (<code>True</code>/<code>False</code>) values into integers (<code>1</code>,<code>0</code>)</div>"
   ]
  },
  {
   "cell_type": "code",
   "execution_count": 15,
   "metadata": {},
   "outputs": [
    {
     "name": "stdout",
     "output_type": "stream",
     "text": [
      "[[1 0 1 0 0 1 1 1 0 0 0 1 0 0 1 1 0 0 1 0 0 0 0 1 1 1 1 0 1 1 0 0 1 1 1 0\n",
      "  1 1 0 1 0 0 0 0 1 1 1 1 1 0 0 0 1 1 0 1 1 0 0 0 0 0 1 0 1 0 0 1 1 0 1 1\n",
      "  1 1 1 0 0 1 1 1 1 0 1 0 1 0 0 1 1 0 1 1 0 0 0 1 0 0 0 0 1 0 0 1 0 0 0 1\n",
      "  0 1 1 1 1 0 0 1 1 1 0 1 1 1 1 1 1 0 0 0 1 1 0 0 1 1 1 0 0 0 0 0 1 0 0 1\n",
      "  0 0 1 0 1 0 1 1 0 1 0 0 1 1 1 0]\n",
      " [0 1 1 0 1 0 0 1 1 0 0 1 1 0 0 1 1 0 1 1 0 1 1 0 0 1 1 0 1 0 1 1 1 0 1 0\n",
      "  1 0 0 1 1 1 1 0 1 0 1 1 0 1 0 0 1 0 1 1 0 1 1 1 1 1 1 0 0 0 1 1 1 1 0 1\n",
      "  1 0 0 1 1 0 1 0 0 0 1 1 0 1 0 1 1 1 1 0 0 0 0 0 0 0 1 0 1 1 1 0 0 0 0 0\n",
      "  0 0 0 1 1 0 1 1 1 0 1 0 1 1 1 1 0 0 1 0 1 1 0 1 0 0 0 1 0 1 1 0 0 1 1 0\n",
      "  0 1 0 1 0 0 0 1 0 0 1 1 1 1 1 1]\n",
      " [1 0 0 0 0 1 0 0 1 0 1 1 0 0 1 0 0 1 1 0 1 1 0 1 1 0 0 1 0 0 0 0 0 0 1 0\n",
      "  1 0 0 0 1 0 1 1 0 0 1 1 1 1 1 1 1 1 0 1 0 1 1 1 0 0 0 0 0 0 1 1 1 1 0 0\n",
      "  1 0 0 1 0 1 0 1 0 0 1 1 0 1 0 0 0 1 0 0 1 0 0 1 0 0 0 0 0 0 0 0 0 0 1 1\n",
      "  0 0 0 1 0 1 0 0 1 0 0 1 0 0 1 1 0 1 1 0 0 1 0 0 1 0 1 1 0 0 1 1 0 1 1 0\n",
      "  0 1 1 0 0 0 1 0 1 1 1 1 0 0 1 0]\n",
      " [1 0 1 1 0 0 1 1 0 0 1 1 1 1 0 1 1 1 1 0 1 0 1 1 1 1 0 0 0 0 1 0 1 0 1 1\n",
      "  1 0 0 0 0 0 0 0 0 0 1 1 1 1 1 0 0 1 0 1 1 1 1 0 0 0 0 1 1 0 0 1 0 1 1 0\n",
      "  0 1 0 0 0 1 0 1 0 0 0 0 1 0 1 1 0 1 0 1 0 0 1 1 1 1 0 0 0 1 1 1 1 0 0 1\n",
      "  1 1 0 0 1 0 0 1 1 1 0 0 1 0 0 1 0 1 0 1 1 1 1 1 1 1 0 1 0 1 0 1 1 0 1 0\n",
      "  1 1 0 0 1 1 0 1 1 0 0 0 0 0 1 0]]\n"
     ]
    }
   ],
   "source": [
    "events = np.random.uniform(low=0, high=1, size= [4,160])\n",
    "rain_days= np.matrix.round(events,0).astype(int)\n",
    "\n",
    "print(rain_days)"
   ]
  },
  {
   "cell_type": "markdown",
   "metadata": {},
   "source": [
    "### Step 2. Adding marks to events\n",
    "\n",
    "Our approach for creating marks (i.e. daily rainfall depths) is to sample them randomly from an exponential distribution with mean $\\alpha$. The exponential probability density function $f(x)$ for $x\\gt0$ as a function of $\\alpha$ is expressed as \n",
    "\n",
    "$$\n",
    "f(x) = \\frac{1}{\\alpha} \\exp\\left(-\\frac{x}{\\alpha}\\right),\n",
    "$$\n",
    "\n",
    "Just as with sampling from a uniform distribution (and as with most everything in `python/pandas`), there's a **function** for that. In this case, we are going to use the... you guessed it... [`np.random.exponential()`](https://docs.scipy.org/doc/numpy/reference/generated/numpy.random.exponential.html) function. It is used similarly to the `np.random.uniform()` function, but with a single parameter to describe the distribution:\n",
    "\n",
    "```python\n",
    "s = np.random.exponential(scale=11.5) \n",
    "```\n",
    "\n",
    "The `scale` parameter is the mean of the distribution, which in our simulations will be $\\alpha$ (mm), the average rainfall depth on days with rain. Just as with `np.random.uniform()`, we can generate lists or arrays of samples from the exponential distribution.\n",
    "\n",
    "```python\n",
    "\n",
    "s = np.random.exponential(scale=11.5, size=2) # Returns an array of 2 random draws.\n",
    "\n",
    "s_mat = np.random.uniform(scale=11.5, size=[2, 10]) # Returns an array of 2 rows each with 10 random draws.\n",
    "\n",
    "```\n",
    "\n",
    "\n",
    "<div class=\"example\">\n",
    "    ✏️ <b> Try it. </b>    \n",
    "    Use the average storm depth (<code>avg_rainfall_depth</code>), probability of rainfall you calculated earlier, and the same $T_{seas}$ as before, generate a season of rainfall.</div>\n",
    "\n",
    "<div class=\"alert alert-info\">💡 The product of <code>0</code> and any rainfall amount is still <code>0</code>. That means you don't need to worry about which days have rain and which don't when multiplying a list of <code>rainfall_amounts</code> and a binary list of <code>rain_days</code>.</div>"
   ]
  },
  {
   "cell_type": "code",
   "execution_count": 16,
   "metadata": {},
   "outputs": [
    {
     "name": "stdout",
     "output_type": "stream",
     "text": [
      "[[2.71849346e+01 4.00316102e+00 1.31280934e+01 1.10620432e+01\n",
      "  2.56028274e+01 2.75010089e-01 2.96944337e+01 1.03868030e+00\n",
      "  5.41304331e+00 7.18660946e+00 1.64864407e+01 2.23504613e-01\n",
      "  4.74352205e+00 4.14700323e+00 1.41603949e+01 2.24249846e+01\n",
      "  1.53646748e+01 3.27973398e+00 3.94969326e+00 1.39797207e+01\n",
      "  3.57311435e+00 8.25342326e+00 3.40711161e+00 7.27294012e+00\n",
      "  5.23403158e+01 8.95178788e+00 7.13011109e+00 3.20020400e+00\n",
      "  4.87538682e+00 4.08406806e+01 6.72665578e+01 5.78818717e-01\n",
      "  2.41892842e+00 1.32614139e+01 5.49218855e+00 1.19777184e+01\n",
      "  1.38380294e+01 5.21878860e+00 2.97380593e-01 1.28613193e+01\n",
      "  1.45385973e+01 8.07386222e+00 5.25719213e+00 1.19825697e+00\n",
      "  1.33382836e+00 7.39140657e+00 4.92026743e+00 1.46296282e+00\n",
      "  1.61424080e+01 7.28996132e+00 2.61015170e+00 2.04505276e+01\n",
      "  1.06105160e+01 8.79508127e+00 2.31719705e+01 2.76464490e+01\n",
      "  2.42880688e-01 1.71996786e+01 1.06613694e+01 3.88582986e-03\n",
      "  2.44882988e+01 3.03901739e+00 1.00177957e+01 1.45149889e+01\n",
      "  2.59602740e+01 6.60150945e+00 2.68629769e+00 2.27331581e+00\n",
      "  1.68212969e+00 3.21994455e+01 3.88530668e+00 7.21522579e+00\n",
      "  1.75235219e+01 1.92833992e+01 1.66790698e+01 1.62596311e+01\n",
      "  6.26656839e+00 5.38159839e+00 2.43140463e+01 5.80362883e-01\n",
      "  6.44592982e+00 1.05963357e+00 1.60890930e+00 9.84960762e+00\n",
      "  7.56862669e+00 9.37827371e+00 4.65878603e+00 3.30008070e+01\n",
      "  4.52205956e+01 3.79477052e+01 1.79795118e+01 1.84367964e+00\n",
      "  6.73122824e+00 1.73980104e+01 7.50125520e+00 3.70331178e+00\n",
      "  2.27108138e+01 3.22689923e+01 1.13803357e+01 4.19409232e+00\n",
      "  1.67166948e+01 1.34157108e+00 2.83512737e+00 1.75096330e+01\n",
      "  3.10972056e+01 9.26131915e-02 4.95893194e-01 3.41986408e+00\n",
      "  1.48108716e+00 2.77319544e+01 1.98450916e+01 1.82724680e+01\n",
      "  3.48194795e+00 3.79897147e+00 1.26211222e+01 4.80218060e+00\n",
      "  2.94530773e+00 6.55733497e+00 1.27367472e+01 4.10580382e+01\n",
      "  8.61484457e+00 8.81574072e+00 1.82834689e-01 8.08716074e+00\n",
      "  4.17824331e+01 1.69398418e+01 1.97055622e+01 4.03899523e+01\n",
      "  2.20428845e+01 1.31177583e+01 2.71071185e+01 8.10417061e+00\n",
      "  5.33925760e+00 9.53357356e+00 2.57687731e+01 9.48196234e-01\n",
      "  2.43061328e+01 8.01539897e+00 1.54011219e+00 6.89433770e-01\n",
      "  2.15400645e+00 3.74672242e+00 2.20009487e+00 6.72676595e+00\n",
      "  4.03061717e+00 5.28738529e+00 1.20295967e+01 6.38942710e+00\n",
      "  2.02627640e+00 2.44632617e+01 2.36265642e+00 1.13236605e+01\n",
      "  1.83904449e+01 1.68572474e+00 2.48768864e+01 1.12447231e+01\n",
      "  2.61861268e+01 1.42699601e+00 2.00695666e+01 4.87537825e+00]\n",
      " [9.44146105e+00 3.40309154e+00 5.22519905e-01 4.58152856e+01\n",
      "  1.88489476e+01 5.44960077e+00 2.13551692e+01 2.51121976e+01\n",
      "  1.68807210e+01 1.11255145e+01 4.06776071e+00 3.49710500e+00\n",
      "  2.21500373e+01 1.75805973e+01 5.16326914e+00 6.61869791e+00\n",
      "  1.10635360e+01 1.64717280e+00 1.14762153e+01 1.54112045e+01\n",
      "  8.43387901e-01 1.46939450e+01 8.78368518e+00 1.32011177e+01\n",
      "  7.96002604e+00 1.97504648e+01 2.57548675e+00 2.38122224e+00\n",
      "  2.19197402e+00 5.46454833e+00 1.62606667e+00 2.48248390e+01\n",
      "  9.63856643e+00 4.96396655e+00 1.30168379e+01 5.62987161e+00\n",
      "  9.61164871e+00 1.33367232e+01 1.33453216e+01 3.90213703e+00\n",
      "  4.61722085e-01 8.51035512e+00 7.22794803e+00 4.80221847e-01\n",
      "  3.41193776e+00 6.39074577e+00 3.45370497e+00 9.26903163e+00\n",
      "  1.25575552e+01 5.28717829e+00 2.07206433e+00 1.15556472e+01\n",
      "  1.47515603e+00 4.47714212e+00 4.68032706e+00 2.69611258e+00\n",
      "  6.52361594e-01 5.44393267e+00 2.35665326e+00 1.16019259e+00\n",
      "  5.24840352e+00 3.92724784e-01 4.04345328e+01 1.55502247e+00\n",
      "  2.14677639e+01 2.91583163e+01 4.11381435e+00 1.05714636e+01\n",
      "  7.08452966e+00 1.09067926e+01 1.43912059e+01 8.91588588e+00\n",
      "  5.42064836e+01 1.73145875e+00 9.21104711e+00 6.16195373e+00\n",
      "  7.49389827e+00 1.61789901e+00 2.78806453e+01 6.77006542e-01\n",
      "  1.44858077e+01 5.75528312e+00 3.51096080e+01 9.90584515e+00\n",
      "  2.05227944e+01 3.14828398e+00 2.62433567e+01 1.35674441e+01\n",
      "  5.15826437e+01 2.21758551e+00 7.69304111e+01 1.79010751e+01\n",
      "  1.87228407e+00 3.83265266e+00 1.09127418e-01 2.74588732e+01\n",
      "  3.47208475e+00 5.65153668e+00 1.07059890e+00 2.41295105e+01\n",
      "  3.11663870e+01 6.22788667e+00 2.24154343e+01 8.54691423e+00\n",
      "  2.04326802e+01 4.42228749e-01 5.53667079e+00 4.19123634e+00\n",
      "  4.85258742e+00 5.28399194e-01 7.11621652e+00 6.80523039e+00\n",
      "  2.37461506e+00 6.09053054e-01 1.16880988e+01 1.38290068e+01\n",
      "  1.22046206e+01 2.69366255e+01 1.89983705e-01 3.46428358e+00\n",
      "  5.42018397e+00 8.10645196e-01 5.65491104e+00 1.16766931e+01\n",
      "  2.70948472e+01 2.14785943e+01 2.22714135e+01 7.28520207e+00\n",
      "  9.73808640e+00 8.64267429e+00 1.62581180e+01 3.94582686e+01\n",
      "  1.04069893e+01 4.49396825e+00 3.59240889e+00 1.97134517e+01\n",
      "  4.05447500e+01 1.57274302e+01 1.60840981e+01 6.73563999e+00\n",
      "  6.42084999e+00 6.63341241e+00 2.02006169e+01 2.08946845e+01\n",
      "  8.82785962e+00 7.03277887e+00 4.92519096e+00 2.05331800e+01\n",
      "  1.59323423e+01 1.50312359e+01 1.91682740e+01 2.76389211e+01\n",
      "  1.16144547e+00 8.00057302e+00 2.67342417e+01 1.74759078e+00\n",
      "  8.22805392e+00 1.32239842e+00 1.64850099e+01 2.04120724e+01]\n",
      " [2.22949595e+01 1.75645603e+01 8.23174106e+00 1.16040373e+01\n",
      "  3.24948668e+01 1.11597296e+01 1.39076279e+00 3.18088766e+00\n",
      "  5.45774742e+01 5.28567847e+00 3.22347986e+00 1.79751905e+01\n",
      "  1.43659284e+01 8.18097145e+00 8.65459543e-01 7.04354970e+00\n",
      "  5.97975717e+01 3.94568100e-01 1.62741077e+01 5.07148167e+00\n",
      "  1.22962114e+01 5.82045512e+00 7.95013918e+00 1.85142525e+01\n",
      "  2.33198260e+00 5.02910215e+00 3.11222423e+00 1.41208119e+01\n",
      "  3.35960953e+00 2.31592666e+00 8.46729566e+00 1.46827969e+01\n",
      "  2.15224627e+01 4.23176915e+01 7.48530119e-01 4.02722649e+00\n",
      "  3.46033945e+01 1.97937847e+00 2.93327542e+00 1.45268884e+00\n",
      "  2.22708578e+01 5.15172971e+00 8.27596099e-01 7.65298820e+00\n",
      "  1.28023571e+01 2.83182435e+00 7.50021399e+00 3.51790676e+00\n",
      "  1.19277428e+00 2.50930887e+00 1.17375618e+01 1.75876601e+00\n",
      "  1.28994537e+01 8.80562039e+00 1.69187289e+01 2.01527827e+01\n",
      "  3.08324034e+00 1.37905101e+00 1.62761879e+01 4.89362829e+00\n",
      "  1.05704328e+01 2.46982962e+00 1.19736700e+01 1.43935968e+01\n",
      "  6.97870292e+00 2.89322265e+01 1.45051505e+00 1.84853144e+00\n",
      "  1.04321127e+01 2.32700535e+00 2.57400331e+01 4.56407722e+01\n",
      "  1.46794372e-01 7.07492571e+00 3.62644638e+01 1.17750390e+01\n",
      "  1.71729349e+01 1.27461990e+00 9.23974642e+00 3.89890463e+00\n",
      "  5.21576397e+00 6.12496490e+00 5.63061803e+00 7.37919139e-01\n",
      "  2.04078956e+01 1.29592848e+01 2.93317217e+01 1.33810845e+00\n",
      "  2.24215261e+00 6.62440052e-01 2.10234485e+00 1.10098677e+01\n",
      "  2.79622525e+01 1.26302834e+01 3.00022887e+00 2.51276644e+01\n",
      "  2.45022774e+01 1.05561078e+01 3.34882513e+01 3.19024440e-01\n",
      "  7.52279721e+00 5.58050612e+00 1.23521292e+00 1.35931895e+01\n",
      "  7.01782859e+00 1.19298438e+01 2.41203371e+01 1.03208533e+01\n",
      "  4.40808203e+01 1.41754579e+01 1.26395020e+01 1.58559791e+00\n",
      "  3.54043318e+00 4.52803013e+00 6.47350497e+00 7.62472197e+00\n",
      "  1.52005811e+00 3.06458592e+01 3.01936833e+00 7.06427260e+00\n",
      "  2.68700197e+00 2.22912293e+00 1.87320393e-02 2.76204177e-01\n",
      "  1.54587782e+01 1.17447235e+01 6.62519704e+00 3.79735668e-01\n",
      "  4.76107924e+00 2.98718449e+01 2.17038578e+01 2.22831083e+01\n",
      "  6.74866995e-02 9.79122835e+00 4.35436493e+00 3.32257802e+00\n",
      "  5.25525438e+00 9.10245751e+00 6.20723516e+00 2.61370232e+00\n",
      "  3.29365561e+01 6.35918204e+00 5.48020115e+00 5.09593400e+01\n",
      "  9.07176211e-01 9.87265223e+00 1.33999876e+01 7.19648661e-01\n",
      "  2.04188666e+01 2.93248304e+01 1.99676761e-01 3.19704909e-01\n",
      "  2.99016503e+01 1.72162126e+00 1.13522590e+01 5.82103923e-01\n",
      "  6.42147205e+00 1.53571167e+01 1.46999128e+01 9.75646835e+00]\n",
      " [1.80776976e+00 9.94285544e+00 1.50588886e+01 2.40564007e+01\n",
      "  2.67032220e+00 1.60812599e+01 2.88808955e+00 9.85578007e+00\n",
      "  1.47079000e+01 3.82990839e+00 4.64102423e+00 3.66005833e+01\n",
      "  1.14973589e+01 2.81208926e+01 3.46861499e+00 8.26692484e-01\n",
      "  3.10439531e+01 1.63638346e+01 1.31550731e+01 1.41282394e+00\n",
      "  2.03327751e+01 7.51483572e+01 4.58319834e+00 1.22431765e+01\n",
      "  2.71728395e+01 8.96724050e-01 3.30820057e+00 2.88235139e+00\n",
      "  6.56069217e+00 6.31960821e+00 1.37929020e+00 6.36093095e+00\n",
      "  5.80811752e-02 1.31166618e+01 9.93607100e+00 1.44447030e+01\n",
      "  1.72985809e+01 9.81742557e+00 5.80257321e+00 1.18343235e+00\n",
      "  1.22129501e+01 3.51781764e+01 8.22160665e+00 1.76508672e+01\n",
      "  3.37473237e+01 3.41045732e+01 8.85645639e+00 5.73402825e+00\n",
      "  3.44899098e-02 7.64639173e-01 3.87430181e+00 6.03744602e+00\n",
      "  1.01906961e+01 2.37246195e+01 2.59724065e-01 8.71516825e+00\n",
      "  1.97383507e+01 9.21058816e-01 2.86119671e+00 6.16373214e+00\n",
      "  7.12993568e+00 7.53576638e+00 1.23325539e+01 3.96538878e+01\n",
      "  2.47176618e+01 6.00088846e+00 1.16729925e+01 1.90106981e+00\n",
      "  1.51574369e+01 4.48967342e+01 2.25626544e+01 2.27166940e+00\n",
      "  1.95761106e+00 2.02541551e+01 2.64316735e+01 2.21869875e+01\n",
      "  2.26558960e+01 1.72076406e+01 7.39400519e+00 1.74811762e-01\n",
      "  1.66302658e+00 2.04692171e+01 6.19473954e+00 7.56046920e+00\n",
      "  1.83090302e+01 2.62620826e+01 1.41455261e+01 1.25510305e+01\n",
      "  9.58982089e-01 2.19087271e+01 2.53705886e-01 6.32821671e-01\n",
      "  1.95352926e+00 2.99642541e+00 6.44169039e+00 1.76085733e+01\n",
      "  1.03396799e+01 1.50894117e+00 1.03215002e+00 4.43411597e+00\n",
      "  1.20056414e+01 1.90799059e+01 6.97378685e+00 6.53617515e+00\n",
      "  1.34998168e+01 1.36672355e+01 9.33603233e+00 4.41520478e+00\n",
      "  4.37786215e+00 1.56287375e+01 1.09047342e+01 6.02832583e+00\n",
      "  4.62047730e+00 1.21799136e+00 3.95961996e+01 5.31991288e+00\n",
      "  1.88108208e+01 2.68768713e+01 3.19831288e+00 3.08686609e+00\n",
      "  1.17709655e+00 1.04996806e+01 5.16611474e+00 3.00148787e+01\n",
      "  4.86325754e+00 2.94855171e+01 1.27242458e+00 3.93487202e+00\n",
      "  7.12064961e+00 2.11568848e+00 2.72715836e-01 1.02593756e+01\n",
      "  2.02142535e+01 1.29148599e+01 7.17647402e+00 4.05393095e+01\n",
      "  8.74831805e+01 1.86398447e+01 4.20194464e+00 1.44481113e+00\n",
      "  1.21102417e+01 6.43529156e+00 5.34191392e+00 2.98604444e+00\n",
      "  7.60929346e+00 1.60133474e+01 2.64255552e+01 2.92967317e+00\n",
      "  2.60760975e+01 2.62662924e+01 8.84710682e+00 7.79667872e+00\n",
      "  1.25373063e+01 2.30919758e+01 1.63111476e-01 1.09573054e+01\n",
      "  1.63753478e+01 1.89652798e+00 4.05919306e+00 3.47430005e+00]]\n"
     ]
    }
   ],
   "source": [
    "storm = np.random.exponential(scale=avg_rainfall_depth, size=[4,160])\n",
    "print(storm)"
   ]
  },
  {
   "cell_type": "markdown",
   "metadata": {},
   "source": [
    "### Simulating multiple years of rainfall\n",
    "\n",
    "<div class=\"practice\">\n",
    "    📚  <b> Practice 5.</b>\n",
    "    Using your <code>prob_rain</code> and your <code>avg_rainfall_depth</code>:\n",
    "    <ol class=\"alpha\">\n",
    "        <li> Generate 100 years of rainfall.</li>\n",
    "        <li> Plot a histogram of the annual totals.</li>\n",
    "        <li>Calculate the $\\widehat{CV}$ of seasonal rainfall.</li>\n",
    "    </ol>\n",
    "</div>"
   ]
  },
  {
   "cell_type": "code",
   "execution_count": 17,
   "metadata": {},
   "outputs": [
    {
     "name": "stdout",
     "output_type": "stream",
     "text": [
      "0     47.425647\n",
      "1     49.702225\n",
      "2     54.473106\n",
      "3     49.399009\n",
      "4     48.465741\n",
      "5     50.167810\n",
      "6     46.966804\n",
      "7     53.291816\n",
      "8     52.296550\n",
      "9     50.742402\n",
      "10    49.957325\n",
      "11    45.513837\n",
      "12    49.241409\n",
      "13    49.610031\n",
      "14    48.509111\n",
      "15    46.115704\n",
      "16    50.404941\n",
      "17    55.165500\n",
      "18    47.956398\n",
      "19    50.253237\n",
      "20    53.125724\n",
      "21    49.676269\n",
      "22    48.021863\n",
      "23    45.810387\n",
      "24    50.938830\n",
      "25    56.105102\n",
      "26    46.291024\n",
      "27    55.503199\n",
      "28    45.045705\n",
      "29    46.247281\n",
      "dtype: float64\n"
     ]
    },
    {
     "data": {
      "text/plain": [
       "<matplotlib.axes._subplots.AxesSubplot at 0x7ff0ca0bed10>"
      ]
     },
     "execution_count": 17,
     "metadata": {},
     "output_type": "execute_result"
    },
    {
     "data": {
      "image/png": "[encoded data removed]",
      "text/plain": [
       "<Figure size 432x288 with 1 Axes>"
      ]
     },
     "metadata": {
      "needs_background": "light"
     },
     "output_type": "display_data"
    }
   ],
   "source": [
    "rainfall = np.random.uniform(low=0,high=1,size=[365,100])\n",
    "rainfall = pd.DataFrame(rainfall,columns=[f\"{i}_Year\" for i in range(100)]).sum(axis=1)[:30]\n",
    "print(rainfall)\n",
    "rainfall.plot.bar()"
   ]
  },
  {
   "cell_type": "markdown",
   "metadata": {},
   "source": [
    "## Conditional Probabilities: Given that today was rainy, will it rain tomorrow?\n",
    "\n",
    "Finally, we want to look to see if we can predict rainfall. The easiest way to think about predictability is to ask whether or not knowing what happened today significantly alters our expectation about what will happen tomorrow. There are two options:\n",
    "\n",
    "1. If every day is random and unpredictable, then rainfall tomorrow will be independent of what happened today.\n",
    "2. If what happens today affects tomorrow, then we should see dependency between today and tomorrow's rainfall.\n",
    "\n",
    "We can test the independence of rainfall likelihood by testing to see if rainfall on day $t$ affects the probability of rainfall on day $t+1$. \n",
    "\n",
    "Formally, we can write the probability that rainfall, $R$, on some day $t$,is greater than zero as $P[R_t>0]$. If $ P[R_t>0] = P[R_t>0 | R_{t-1} >0] $, then we can say that $P[R_t]$ and $P[R_{t-1}]$ are independent.\n",
    "\n",
    "First, we use the **index** property of `rainy_days`, which is just a list of all the index values (or rows) in our original data, `df`, where rainfall was greater than zero. Then we increment the index and save all these rows from the original data into a new variable, `days_after_rain`.\n",
    "\n",
    "<div class=\"practice\">\n",
    "    📚  <b> Practice 6.</b>\n",
    "    <ol class=\"alpha\">\n",
    "        <li> Make a list of the index locations of <code>rainy_days</code> using the <code>index</code> attribute of <code>rainy_days</code>.</li>\n",
    "        <li> Create a new dataframe called <code>days_after_rain</code> that contains only the days after rainy days. You will need to use our original <code>df</code> dataframe to get this new dataframe.</li>\n",
    "        <li>Calculate the probability of rainfall following rainy days using your new <code>days_after_rain</code> variable. Call this new probability <code>prob_rain_after_rain</code></li>\n",
    "        <li>Compare the probability of rainfall following rainy days (<code>prob_rain_after_rain</code>) to the overall probability of rainfall (<code>prob_rain</code>). Based on these values, is an assumption of independence in the rainfall process valid?</li>\n",
    "    </ol>\n",
    "</div>"
   ]
  },
  {
   "cell_type": "code",
   "execution_count": 55,
   "metadata": {},
   "outputs": [
    {
     "name": "stdout",
     "output_type": "stream",
     "text": [
      "after rain : 0.1253463438139983, rain :0.13211859564472098\n"
     ]
    }
   ],
   "source": [
    "lst_rainy = rainy_days.Day.index\n",
    "days_after_rain = df.iloc[lst_rainy,:]\n",
    "\n",
    "prob_rain_after_rain = len(days_after_rain)/len(df)\n",
    "print(f\"after rain:{prob_rain_after_rain}, rain:{prob_rain}\")"
   ]
  },
  {
   "cell_type": "markdown",
   "metadata": {},
   "source": [
    "## Simulating annual rainfall with monthly values\n",
    "\n",
    "One improvement we can make to our model is to have monthly values for our rainfall probabilities. To get these monthly $\\lambda_r$ values, we need to determine the probability of rainfall for each month by dividing the number of rainy days per month by the total number of observations in each month, which we did in Practice 4. For now, we assume stationarity in the monthly values, which means that we are assuming that the values of $\\lambda_r$ in each month are the same through out the entire record (i.e. Jan 1938 has the same properties as Jan 2008). \n",
    "\n",
    "<div class=\"alert alert-info\">💡 It's worth thinking about how you could test our stationarity assumption. If you have an idea of how to do so, go ahead and give it a shot!</div>\n",
    "\n",
    "To improve our simulation of annual rainfall, we are going to use our monthly values to specify daily values of $\\lambda_r$ using the monthly values we just calculated. The use of a variable $\\lambda$ value in a Poisson process creates what is known as an \"inhomogenous Poisson process\" (or, alternatively, \"nonhomogeneous\"... unfortunatetly, there isn't much homogeneity in what we call it!). These types of processes allow the properties of the process to change in space and time. Our implementation – using monthly values – is a little clunky, and we'd prefer to have the $\\lambda$ values change more smoothly throughout the year. However, we probably don't have sufficient data to allow for this, even if we could accomodate the more complicated coding it would require. \n",
    "\n",
    "In order to generate our nonhomogenous process, we will first generate a daily array of month numbers for the year `2018`. This is really easy in python using `datetime` + `timedelta` (which we need to import).\n",
    "\n",
    "```python\n",
    "    from datetime import timedelta, datetime\n",
    "    datetimes = np.arange(\n",
    "        datetime(2018,1,1), datetime(2018,12,31),\n",
    "        timedelta(days=1)).astype(datetime)\n",
    "    month_value_by_day = np.array([datetime.month for datetime in datetimes])\n",
    "```\n",
    "<div class=\"run\">\n",
    "    ▶️ <b> Run the cell below. </b>\n",
    "</div>"
   ]
  },
  {
   "cell_type": "code",
   "execution_count": 56,
   "metadata": {},
   "outputs": [],
   "source": [
    "from datetime import timedelta, datetime\n",
    "datetimes = np.arange(datetime(2018,1,1), datetime(2019,1,1), timedelta(days=1)).astype(datetime)\n",
    "month_value_by_day = np.array([datetime.month for datetime in datetimes])"
   ]
  },
  {
   "cell_type": "markdown",
   "metadata": {},
   "source": [
    "Now we have a 12-element `np.array` of $\\lambda_r$ values, organized by month number, which we've stored in `lambda_by_month` and we have a list of 365 days that contains the month number for each day, which we've stored in `month_value_by_day`. We can use these two variables to get a new variable that contains the correct $\\lambda$ value for each day. \n",
    "\n",
    "<div class=\"run\">\n",
    "    ▶️ <b> Run the cell below. </b>\n",
    "</div>"
   ]
  },
  {
   "cell_type": "code",
   "execution_count": 73,
   "metadata": {},
   "outputs": [
    {
     "name": "stdout",
     "output_type": "stream",
     "text": [
      "[0.05776444 0.05776444 0.05776444 0.05776444 0.05776444 0.05776444\n",
      " 0.05776444 0.05776444 0.05776444 0.05776444 0.05776444 0.05776444\n",
      " 0.05776444 0.05776444 0.05776444 0.05776444 0.05776444 0.05776444\n",
      " 0.05776444 0.05776444 0.05776444 0.05776444 0.05776444 0.05776444\n",
      " 0.05776444 0.05776444 0.05776444 0.05776444 0.05776444 0.05776444\n",
      " 0.05776444 0.04691358 0.04691358 0.04691358 0.04691358 0.04691358\n",
      " 0.04691358 0.04691358 0.04691358 0.04691358 0.04691358 0.04691358\n",
      " 0.04691358 0.04691358 0.04691358 0.04691358 0.04691358 0.04691358\n",
      " 0.04691358 0.04691358 0.04691358 0.04691358 0.04691358 0.04691358\n",
      " 0.04691358 0.04691358 0.04691358 0.04691358 0.04691358 0.08777194\n",
      " 0.08777194 0.08777194 0.08777194 0.08777194 0.08777194 0.08777194\n",
      " 0.08777194 0.08777194 0.08777194 0.08777194 0.08777194 0.08777194\n",
      " 0.08777194 0.08777194 0.08777194 0.08777194 0.08777194 0.08777194\n",
      " 0.08777194 0.08777194 0.08777194 0.08777194 0.08777194 0.08777194\n",
      " 0.08777194 0.08777194 0.08777194 0.08777194 0.08777194 0.08777194\n",
      " 0.2496124  0.2496124  0.2496124  0.2496124  0.2496124  0.2496124\n",
      " 0.2496124  0.2496124  0.2496124  0.2496124  0.2496124  0.2496124\n",
      " 0.2496124  0.2496124  0.2496124  0.2496124  0.2496124  0.2496124\n",
      " 0.2496124  0.2496124  0.2496124  0.2496124  0.2496124  0.2496124\n",
      " 0.2496124  0.2496124  0.2496124  0.2496124  0.2496124  0.2496124\n",
      " 0.23826979 0.23826979 0.23826979 0.23826979 0.23826979 0.23826979\n",
      " 0.23826979 0.23826979 0.23826979 0.23826979 0.23826979 0.23826979\n",
      " 0.23826979 0.23826979 0.23826979 0.23826979 0.23826979 0.23826979\n",
      " 0.23826979 0.23826979 0.23826979 0.23826979 0.23826979 0.23826979\n",
      " 0.23826979 0.23826979 0.23826979 0.23826979 0.23826979 0.23826979\n",
      " 0.23826979 0.09432515 0.09432515 0.09432515 0.09432515 0.09432515\n",
      " 0.09432515 0.09432515 0.09432515 0.09432515 0.09432515 0.09432515\n",
      " 0.09432515 0.09432515 0.09432515 0.09432515 0.09432515 0.09432515\n",
      " 0.09432515 0.09432515 0.09432515 0.09432515 0.09432515 0.09432515\n",
      " 0.09432515 0.09432515 0.09432515 0.09432515 0.09432515 0.09432515\n",
      " 0.09432515 0.13503376 0.13503376 0.13503376 0.13503376 0.13503376\n",
      " 0.13503376 0.13503376 0.13503376 0.13503376 0.13503376 0.13503376\n",
      " 0.13503376 0.13503376 0.13503376 0.13503376 0.13503376 0.13503376\n",
      " 0.13503376 0.13503376 0.13503376 0.13503376 0.13503376 0.13503376\n",
      " 0.13503376 0.13503376 0.13503376 0.13503376 0.13503376 0.13503376\n",
      " 0.13503376 0.13503376 0.13053263 0.13053263 0.13053263 0.13053263\n",
      " 0.13053263 0.13053263 0.13053263 0.13053263 0.13053263 0.13053263\n",
      " 0.13053263 0.13053263 0.13053263 0.13053263 0.13053263 0.13053263\n",
      " 0.13053263 0.13053263 0.13053263 0.13053263 0.13053263 0.13053263\n",
      " 0.13053263 0.13053263 0.13053263 0.13053263 0.13053263 0.13053263\n",
      " 0.13053263 0.13053263 0.13053263 0.09302326 0.09302326 0.09302326\n",
      " 0.09302326 0.09302326 0.09302326 0.09302326 0.09302326 0.09302326\n",
      " 0.09302326 0.09302326 0.09302326 0.09302326 0.09302326 0.09302326\n",
      " 0.09302326 0.09302326 0.09302326 0.09302326 0.09302326 0.09302326\n",
      " 0.09302326 0.09302326 0.09302326 0.09302326 0.09302326 0.09302326\n",
      " 0.09302326 0.09302326 0.09302326 0.16054014 0.16054014 0.16054014\n",
      " 0.16054014 0.16054014 0.16054014 0.16054014 0.16054014 0.16054014\n",
      " 0.16054014 0.16054014 0.16054014 0.16054014 0.16054014 0.16054014\n",
      " 0.16054014 0.16054014 0.16054014 0.16054014 0.16054014 0.16054014\n",
      " 0.16054014 0.16054014 0.16054014 0.16054014 0.16054014 0.16054014\n",
      " 0.16054014 0.16054014 0.16054014 0.16054014 0.20542636 0.20542636\n",
      " 0.20542636 0.20542636 0.20542636 0.20542636 0.20542636 0.20542636\n",
      " 0.20542636 0.20542636 0.20542636 0.20542636 0.20542636 0.20542636\n",
      " 0.20542636 0.20542636 0.20542636 0.20542636 0.20542636 0.20542636\n",
      " 0.20542636 0.20542636 0.20542636 0.20542636 0.20542636 0.20542636\n",
      " 0.20542636 0.20542636 0.20542636 0.20542636 0.08027007 0.08027007\n",
      " 0.08027007 0.08027007 0.08027007 0.08027007 0.08027007 0.08027007\n",
      " 0.08027007 0.08027007 0.08027007 0.08027007 0.08027007 0.08027007\n",
      " 0.08027007 0.08027007 0.08027007 0.08027007 0.08027007 0.08027007\n",
      " 0.08027007 0.08027007 0.08027007 0.08027007 0.08027007 0.08027007\n",
      " 0.08027007 0.08027007 0.08027007 0.08027007 0.08027007]\n"
     ]
    }
   ],
   "source": [
    "\n",
    "daily_lambda_values = np.array([lambda_by_month[i] for i in month_value_by_day])\n",
    "print(daily_lambda_values)\n",
    "\n",
    "# daily_lambda_values = np.array([lambda_by_month[i-1] for i in month_value_by_day])"
   ]
  },
  {
   "cell_type": "markdown",
   "metadata": {},
   "source": [
    "With daily values of $\\lambda_r$, we only need to follow the same cookbook we used to make the stationary simulation. \n",
    "\n",
    "```python\n",
    "    simulated_rainy_days = (\n",
    "        np.random.uniform(\n",
    "            low=0, high=1, size=len(daily_lambda_values)\n",
    "        ) <= daily_lambda_values).astype(int)\n",
    "    simulated_rainfall_values = np.random.exponential(\n",
    "        scale=alpha, size=len(daily_lambda_values)\n",
    "    )\n",
    "```\n",
    "\n",
    "\n"
   ]
  },
  {
   "cell_type": "markdown",
   "metadata": {},
   "source": [
    "<div class=\"example\">\n",
    "    ✏️ <b> Try it. </b>    \n",
    "    Use the code above to create a new daily rainfall simulation using our daily values of $\\lambda_r$. Plot the daily rainfall data. You can easily plot your rainfall data using the <code>datetimes</code> object we already created as the basis of our x-axis.</div>\n",
    "\n"
   ]
  },
  {
   "cell_type": "code",
   "execution_count": 92,
   "metadata": {},
   "outputs": [
    {
     "data": {
      "text/plain": [
       "[Text(0, 0, '2018-01-01 00:00:00'),\n",
       " Text(0, 0, '2018-01-02 00:00:00'),\n",
       " Text(0, 0, '2018-01-03 00:00:00'),\n",
       " Text(0, 0, '2018-01-04 00:00:00'),\n",
       " Text(0, 0, '2018-01-05 00:00:00')]"
      ]
     },
     "execution_count": 92,
     "metadata": {},
     "output_type": "execute_result"
    },
    {
     "data": {
      "image/png": "[encoded data removed]",
      "text/plain": [
       "<Figure size 432x288 with 1 Axes>"
      ]
     },
     "metadata": {
      "needs_background": "light"
     },
     "output_type": "display_data"
    }
   ],
   "source": [
    "simulated_rainy_days = (np.random.uniform(low=0, high=1, size=len(daily_lambda_values)) <= daily_lambda_values).astype(int)\n",
    "simulated_rainfall_values = np.random.exponential(scale=avg_rainfall_depth, size=len(daily_lambda_values))\n",
    "plot = pd.DataFrame({\"values\":simulated_rainfall_values,\"date\":datetimes})\n",
    "ax = plot.head().plot.bar(x='date',y='values',rot=0)\n",
    "ax.set_xticklabels(plot['date'], rotation=90)"
   ]
  },
  {
   "cell_type": "markdown",
   "metadata": {},
   "source": [
    "# The End\n",
    "\n",
    "You've made it to the end of the assignment. We've covered a ton of material, so definitely go back and play around with the simulations."
   ]
  },
  {
   "cell_type": "code",
   "execution_count": null,
   "metadata": {},
   "outputs": [],
   "source": [
    "# IGNORE THIS CELL\n",
    "from IPython.core.display import HTML\n",
    "def css_styling():\n",
    "    styles = open(\"./styles/exercises.css\", \"r\").read()\n",
    "    return HTML(styles)\n",
    "css_styling()"
   ]
  }
 ],
 "metadata": {
  "kernelspec": {
   "display_name": "Python 3",
   "language": "python",
   "name": "python3"
  },
  "language_info": {
   "codemirror_mode": {
    "name": "ipython",
    "version": 3
   },
   "file_extension": ".py",
   "mimetype": "text/x-python",
   "name": "python",
   "nbconvert_exporter": "python",
   "pygments_lexer": "ipython3",
   "version": "3.7.6"
  }
 },
 "nbformat": 4,
 "nbformat_minor": 4
}
