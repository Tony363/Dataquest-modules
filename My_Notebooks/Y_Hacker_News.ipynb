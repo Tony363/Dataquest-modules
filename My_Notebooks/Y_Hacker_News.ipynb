{
 "cells": [
  {
   "cell_type": "markdown",
   "metadata": {
    "collapsed": true
   },
   "source": [
    "## Y Hacker News\n",
    "Hacker News is a site started by the startup incubator Y Combinator, where user-submitted stories (known as \"posts\") are voted and commented upon, similar to reddit. Hacker News is extremely popular in technology and startup circles, and posts that make it to the top of Hacker News' listings can get hundreds of thousands of visitors as a result.\n",
    "\n",
    "You can find the data set [here](https://www.kaggle.com/hacker-news/hacker-news-posts), but note that it has been reduced from almost 300,000 rows to approximately 20,000 rows by removing all submissions that did not receive any comments, and then randomly sampling from the remaining submissions. Below are descriptions of the columns:\n",
    "\n",
    "\n",
    "\n",
    "- id: The unique identifier from Hacker News for the post\n",
    "- title: The title of the post\n",
    "- url: The URL that the posts links to, if it the post has a URL\n",
    "- num_points: The number of points the post acquired, calculated as the total \\\n",
    "- number of upvotes minus the total number of downvotes \n",
    "- num_comments: The number of comments that were made on the post\n",
    "- author: The username of the person who submitted the post\n",
    "- created_at: The date and time at which the post was submitted"
   ]
  },
  {
   "cell_type": "code",
   "execution_count": 1,
   "metadata": {
    "collapsed": false
   },
   "outputs": [],
   "source": [
    "import csv\n",
    "\n",
    "opened = open('hacker_news.csv')\n",
    "read = csv.reader(opened)\n",
    "hn = list(read)\n",
    "hn_header = hn[0]\n",
    "hn_content = hn[1:]\n",
    "# print(hn)\n",
    "# print(hn[1:5])"
   ]
  },
  {
   "cell_type": "code",
   "execution_count": 2,
   "metadata": {
    "collapsed": false
   },
   "outputs": [
    {
     "name": "stdout",
     "output_type": "stream",
     "text": [
      "['id', 'title', 'url', 'num_points', 'num_comments', 'author', 'created_at']\n"
     ]
    }
   ],
   "source": [
    "print(hn_header)"
   ]
  },
  {
   "cell_type": "code",
   "execution_count": 3,
   "metadata": {
    "collapsed": false
   },
   "outputs": [
    {
     "name": "stdout",
     "output_type": "stream",
     "text": [
      "[['12224879', 'Interactive Dynamic Video', 'http://www.interactivedynamicvideo.com/', '386', '52', 'ne0phyte', '8/4/2016 11:52'], ['10975351', 'How to Use Open Source and Shut the Fuck Up at the Same Time', 'http://hueniverse.com/2016/01/26/how-to-use-open-source-and-shut-the-fuck-up-at-the-same-time/', '39', '10', 'josep2', '1/26/2016 19:30'], ['11964716', \"Florida DJs May Face Felony for April Fools' Water Joke\", 'http://www.thewire.com/entertainment/2013/04/florida-djs-april-fools-water-joke/63798/', '2', '1', 'vezycash', '6/23/2016 22:20'], ['11919867', 'Technology ventures: From Idea to Enterprise', 'https://www.amazon.com/Technology-Ventures-Enterprise-Thomas-Byers/dp/0073523429', '3', '1', 'hswarna', '6/17/2016 0:01'], ['10301696', 'Note by Note: The Making of Steinway L1037 (2007)', 'http://www.nytimes.com/2007/11/07/movies/07stein.html?_r=0', '8', '2', 'walterbell', '9/30/2015 4:12']]\n"
     ]
    }
   ],
   "source": [
    "print(hn_content[:5])"
   ]
  },
  {
   "cell_type": "code",
   "execution_count": 4,
   "metadata": {
    "collapsed": false
   },
   "outputs": [
    {
     "name": "stdout",
     "output_type": "stream",
     "text": [
      "1745 1165 17190\n"
     ]
    }
   ],
   "source": [
    "ask_posts = []\n",
    "show_posts = []\n",
    "other_posts = []\n",
    "\n",
    "for hn in hn_content:\n",
    "    title = hn[1]\n",
    "    if \"ask hn\" in title.lower():\n",
    "#         print(title.lower())\n",
    "        ask_posts.append(hn)\n",
    "    elif \"show hn\" in title.lower():\n",
    "#         print(title.lower())\n",
    "        show_posts.append(hn)\n",
    "    else:\n",
    "#         print(title)\n",
    "        other_posts.append(hn)\n",
    "print(len(ask_posts), len(show_posts), len(other_posts))\n",
    "# print(ask_posts)\n"
   ]
  },
  {
   "cell_type": "code",
   "execution_count": 5,
   "metadata": {
    "collapsed": false
   },
   "outputs": [
    {
     "name": "stdout",
     "output_type": "stream",
     "text": [
      "Average asked comments: 14.031518624641834\n",
      "Average show comments: 10.302145922746782\n"
     ]
    }
   ],
   "source": [
    "import statistics\n",
    "\n",
    "total_ask_comment = 0\n",
    "comments_list = []\n",
    "for posts in ask_posts:\n",
    "    num_comments = int(posts[4])\n",
    "    comments_list.append(num_comments)\n",
    "    total_ask_comment += num_comments\n",
    "\n",
    "avg_ask_comments = total_ask_comment / len(ask_posts)\n",
    "print('Average asked comments:',avg_ask_comments)\n",
    "\n",
    "total_show_comments = 0\n",
    "for posts in show_posts:\n",
    "    num_comments = int(posts[4])\n",
    "    total_show_comments += num_comments\n",
    "    \n",
    "avg_show_comments = total_show_comments/ len(show_posts)\n",
    "print('Average show comments:', avg_show_comments)\n",
    "    \n",
    "    "
   ]
  },
  {
   "cell_type": "markdown",
   "metadata": {},
   "source": [
    "On average show comments receive more comments"
   ]
  },
  {
   "cell_type": "code",
   "execution_count": 6,
   "metadata": {
    "collapsed": false
   },
   "outputs": [
    {
     "name": "stdout",
     "output_type": "stream",
     "text": [
      "{'06:00': 44, '08:00': 48, '12:00': 73, '21:00': 109, '02:00': 58, '14:00': 107, '19:00': 110, '16:00': 108, '17:00': 100, '03:00': 54, '11:00': 58, '04:00': 47, '22:00': 71, '13:00': 85, '00:00': 55, '09:00': 45, '10:00': 59, '01:00': 60, '23:00': 69, '18:00': 109, '05:00': 46, '20:00': 80, '07:00': 34, '15:00': 116}\n",
      "\n",
      "{'06:00': 397, '08:00': 492, '12:00': 687, '21:00': 1745, '02:00': 1381, '14:00': 1416, '19:00': 1188, '16:00': 1814, '17:00': 1146, '03:00': 421, '11:00': 641, '04:00': 337, '22:00': 479, '13:00': 1253, '00:00': 447, '09:00': 251, '10:00': 793, '01:00': 683, '23:00': 545, '18:00': 1439, '05:00': 464, '20:00': 1722, '07:00': 267, '15:00': 4477}\n"
     ]
    }
   ],
   "source": [
    "import datetime as dt\n",
    "\n",
    "result_list = []\n",
    "\n",
    "for posts in ask_posts:\n",
    "    List = []\n",
    "    List.append(posts[6])\n",
    "    List.append(int(posts[4]))\n",
    "    result_list.append(List)\n",
    "   \n",
    "\n",
    "counts_by_hour = {}\n",
    "comments_by_hour = {}\n",
    "\n",
    "for result in result_list:\n",
    "    date = dt.datetime.strptime(result[0], '%m/%d/%Y %H:%M')\n",
    "#     print(type(date))\n",
    "    \n",
    "    hour = date.strftime('%H:00')\n",
    "    \n",
    "    if hour not in counts_by_hour:\n",
    "        counts_by_hour[hour] = 1\n",
    "        comments_by_hour[hour] = result[1]\n",
    "    elif hour in counts_by_hour:\n",
    "        counts_by_hour[hour] +=1\n",
    "        comments_by_hour[hour] += result[1]\n",
    "print(counts_by_hour)\n",
    "print()\n",
    "print(comments_by_hour)"
   ]
  },
  {
   "cell_type": "code",
   "execution_count": 7,
   "metadata": {
    "collapsed": false
   },
   "outputs": [
    {
     "name": "stdout",
     "output_type": "stream",
     "text": [
      "[['06:00', 3.4224137931034484], ['08:00', 4.241379310344827], ['12:00', 5.922413793103448], ['21:00', 15.043103448275861], ['02:00', 11.905172413793103], ['14:00', 12.206896551724139], ['19:00', 10.241379310344827], ['16:00', 15.637931034482758], ['17:00', 9.879310344827585], ['03:00', 3.6293103448275863], ['11:00', 5.525862068965517], ['04:00', 2.9051724137931036], ['22:00', 4.129310344827586], ['13:00', 10.801724137931034], ['00:00', 3.853448275862069], ['09:00', 2.163793103448276], ['10:00', 6.836206896551724], ['01:00', 5.887931034482759], ['23:00', 4.698275862068965], ['18:00', 12.405172413793103], ['05:00', 4.0], ['20:00', 14.844827586206897], ['07:00', 2.3017241379310347], ['15:00', 38.5948275862069]]\n"
     ]
    }
   ],
   "source": [
    "avg_by_hour = []\n",
    "for comments in comments_by_hour.items():\n",
    "    List = []\n",
    "    List.append(comments[0])\n",
    "    for counts in counts_by_hour.items():\n",
    "        average = comments[1]/counts[1]\n",
    "    List.append(average)\n",
    "    avg_by_hour.append(List)\n",
    "print(avg_by_hour)\n",
    "# average = comments_by_hour.items()    \n",
    "# print(comments_by_hour.items())"
   ]
  },
  {
   "cell_type": "code",
   "execution_count": 8,
   "metadata": {
    "collapsed": false
   },
   "outputs": [
    {
     "name": "stdout",
     "output_type": "stream",
     "text": [
      "[[38.5948275862069, '15:00'], [15.637931034482758, '16:00'], [15.043103448275861, '21:00'], [14.844827586206897, '20:00'], [12.405172413793103, '18:00']]\n",
      "15:00:38.59 average comments per post.\n",
      "16:00:15.64 average comments per post.\n",
      "21:00:15.04 average comments per post.\n",
      "20:00:14.84 average comments per post.\n",
      "18:00:12.41 average comments per post.\n",
      "14:00:12.21 average comments per post.\n",
      "02:00:11.91 average comments per post.\n",
      "13:00:10.80 average comments per post.\n",
      "19:00:10.24 average comments per post.\n",
      "17:00:9.88 average comments per post.\n",
      "10:00:6.84 average comments per post.\n",
      "12:00:5.92 average comments per post.\n",
      "01:00:5.89 average comments per post.\n",
      "11:00:5.53 average comments per post.\n",
      "23:00:4.70 average comments per post.\n",
      "08:00:4.24 average comments per post.\n",
      "22:00:4.13 average comments per post.\n",
      "05:00:4.00 average comments per post.\n",
      "00:00:3.85 average comments per post.\n",
      "03:00:3.63 average comments per post.\n",
      "06:00:3.42 average comments per post.\n",
      "04:00:2.91 average comments per post.\n",
      "07:00:2.30 average comments per post.\n",
      "09:00:2.16 average comments per post.\n"
     ]
    }
   ],
   "source": [
    "def swapPositions(list, pos1, pos2): \n",
    "    list[pos1], list[pos2] = list[pos2], list[pos1] \n",
    "    return list\n",
    "\n",
    "def take_first(elem):\n",
    "    return elem[0]\n",
    "\n",
    "swap_avg_by_hour = []\n",
    "\n",
    "for row in avg_by_hour:\n",
    "    swapped = swapPositions(row, 0,1)\n",
    "    swap_avg_by_hour.append(swapped)\n",
    "    \n",
    "sorted_swap = sorted(swap_avg_by_hour,reverse=True)\n",
    "print(sorted_swap[:5])\n",
    "\n",
    "for row in sorted_swap:\n",
    "    average = row[0]\n",
    "    hour = row[1]\n",
    "    print('{}:{:.2f} average comments per post.'.format(hour,average))\n",
    "    \n",
    "\n",
    "\n",
    "\n",
    "\n",
    "\n",
    "\n",
    "    "
   ]
  },
  {
   "cell_type": "markdown",
   "metadata": {},
   "source": [
    "The hours to create a post to have a higher chance of receiving comments are from 1500-1600 and 2000-2100.\n",
    "\n",
    "Im from Hong Kong and this dataset times data is EST time. This means for me to make posts with a higher chance of receiving comments, I would have to make posts 300-400 in the morning and 800-900 also in the morning"
   ]
  },
  {
   "cell_type": "code",
   "execution_count": 53,
   "metadata": {
    "collapsed": false,
    "scrolled": false
   },
   "outputs": [
    {
     "name": "stdout",
     "output_type": "stream",
     "text": [
      "['id', 'title', 'url', 'num_points', 'num_comments', 'author', 'created_at']\n",
      "\n",
      "28.97107114933542 19.36207820032137\n",
      "\n",
      "On average Show comments receive more points\n",
      "\n",
      "This is average of points from other posts,55.31131296449215\n",
      ", compared to average of points from show posts, \n",
      "28.97107114933542 \n",
      "\n",
      "This is the average number \n",
      "of comments from other posts: 26.801580747906097\n",
      "\n",
      "Average asked comments: 14.031518624641834\n",
      "Average show comments: 10.302145922746782\n",
      "\n"
     ]
    }
   ],
   "source": [
    "print(hn_header)\n",
    "print()\n",
    "show = []\n",
    "ask = []\n",
    "other = []\n",
    "total_comments = 0\n",
    "for hn in hn_content:\n",
    "    points = hn[3]\n",
    "    title = hn[1]\n",
    "    comments = int(hn[4])\n",
    "    \n",
    "    \n",
    "#     print(title)\n",
    "    if 'show' in title.lower():\n",
    "        show.append(int(points))\n",
    "    elif 'ask' in title.lower():\n",
    "        ask.append(int(points))\n",
    "    else:\n",
    "        other.append(int(points))\n",
    "        total_comments += comments\n",
    "\n",
    "\n",
    "avg_show = sum(show)/len(show)\n",
    "avg_ask = sum(ask)/len(ask)\n",
    "avg_other = sum(other)/len(other)\n",
    "avg_comments = total_comments/len(other)\n",
    "print(avg_show,avg_ask)\n",
    "print()\n",
    "if avg_show > avg_ask:\n",
    "    print('On average Show comments receive more points')\n",
    "elif avg_show < avg_ask:\n",
    "    print('On average Ask comments receive more points')\n",
    "print()\n",
    "print('''This is average of points from other posts,{}\n",
    ", compared to average of points from show posts, \n",
    "{} '''.format(avg_other, avg_show))\n",
    "print()\n",
    "print('''This is the average number \n",
    "of comments from other posts: {}\n",
    "'''.format(avg_comments))\n",
    "\n",
    "print('''Average asked comments: 14.031518624641834\n",
    "Average show comments: 10.302145922746782\n",
    "''')\n",
    "\n",
    "\n",
    "\n",
    "    \n",
    "    "
   ]
  },
  {
   "cell_type": "markdown",
   "metadata": {},
   "source": [
    "## General summary of stats\n",
    "On average Show comments receive more points\n",
    "\n",
    "- Average of other posts comments: 55\n",
    "- Average of show posts comments:22\n",
    "- Average of ask posts comments:\n",
    "\n",
    "- Average of other comments: 26.801580747906097\n",
    "- Average asked comments: 14.031518624641834\n",
    "Average show comments: 10.302145922746782\n"
   ]
  },
  {
   "cell_type": "code",
   "execution_count": 46,
   "metadata": {
    "collapsed": false
   },
   "outputs": [
    {
     "name": "stdout",
     "output_type": "stream",
     "text": [
      "[('17:00', 72239), ('15:00', 68671), ('16:00', 64811), ('14:00', 62660), ('18:00', 62415), ('19:00', 62026), ('13:00', 61898), ('12:00', 48612), ('21:00', 45736), ('20:00', 44188), ('22:00', 40446), ('11:00', 40300), ('10:00', 37529), ('00:00', 37342), ('23:00', 37175), ('09:00', 29684), ('08:00', 27864), ('02:00', 26919), ('01:00', 26703), ('07:00', 26316), ('03:00', 24220), ('04:00', 23324), ('05:00', 20043), ('06:00', 19830)]\n"
     ]
    }
   ],
   "source": [
    "import datetime as dt\n",
    "import operator\n",
    "\n",
    "dic = {}\n",
    "List = []\n",
    "count=0\n",
    "for hn in hn_content:\n",
    "    points = int(hn[3])\n",
    "    time = hn[6]\n",
    "    \n",
    "#     print(time, type(time))\n",
    "    time_parsed = dt.datetime.strptime(time,'%m/%d/%Y %H:%M')\n",
    "#     print(type(time_parsed))\n",
    "    time_stringed = time_parsed.strftime('%H:00')\n",
    "    count+=1\n",
    "#     print(time_stringed, count)   \n",
    "    \n",
    "    if time_stringed not in dic:\n",
    "        dic[time_stringed] = []\n",
    "    if time_stringed in dic:\n",
    "        dic[time_stringed].append(points)\n",
    "\n",
    "for time in dic:\n",
    "    dic[time] = sum(dic[time])\n",
    "    \n",
    "sorted_dic = sorted(dic.items(),key=operator.itemgetter(1),reverse=True)\n",
    "print(sorted_dic)\n",
    "\n"
   ]
  },
  {
   "cell_type": "markdown",
   "metadata": {},
   "source": [
    "It seems that to get more points off my posts, i should make my posts around 1700 EST or 500 HKT in the morning."
   ]
  },
  {
   "cell_type": "code",
   "execution_count": 48,
   "metadata": {
    "collapsed": false
   },
   "outputs": [
    {
     "name": "stdout",
     "output_type": "stream",
     "text": [
      "50.29606965174129\n"
     ]
    }
   ],
   "source": [
    "points_avg = sum([int(hn[3])for hn in hn_content])/len(hn_content)\n",
    "print(points_avg)"
   ]
  }
 ],
 "metadata": {
  "kernelspec": {
   "display_name": "Python 3",
   "language": "python",
   "name": "python3"
  },
  "language_info": {
   "codemirror_mode": {
    "name": "ipython",
    "version": 3
   },
   "file_extension": ".py",
   "mimetype": "text/x-python",
   "name": "python",
   "nbconvert_exporter": "python",
   "pygments_lexer": "ipython3",
   "version": "3.4.3"
  }
 },
 "nbformat": 4,
 "nbformat_minor": 2
}
