{
 "cells": [
  {
   "cell_type": "code",
   "execution_count": 1,
   "metadata": {},
   "outputs": [],
   "source": [
    "import pandas as pd\n",
    "import numpy as np\n",
    "import matplotlib.pyplot as plt"
   ]
  },
  {
   "cell_type": "code",
   "execution_count": 2,
   "metadata": {},
   "outputs": [],
   "source": [
    "filepath = r'/home/tony/Desktop/DV_homework/homework1'\n",
    "\n",
    "players = pd.read_csv(filepath + '/players.csv',encoding='utf8')\n",
    "teams = pd.read_csv(filepath + '/teams.csv',encoding='utf8')\n",
    "pitching = pd.read_csv(filepath +'/pitching.csv',encoding='utf8')"
   ]
  },
  {
   "cell_type": "markdown",
   "metadata": {},
   "source": [
    "# Your analysis and visualization results will provide evidence for you to answer the followiung questions\n"
   ]
  },
  {
   "cell_type": "markdown",
   "metadata": {},
   "source": [
    "### In the year of 2011-2015, Is a team's win-loss record related to its payrolls?"
   ]
  },
  {
   "cell_type": "code",
   "execution_count": 3,
   "metadata": {},
   "outputs": [
    {
     "data": {
      "text/html": [
       "<div>\n",
       "<style scoped>\n",
       "    .dataframe tbody tr th:only-of-type {\n",
       "        vertical-align: middle;\n",
       "    }\n",
       "\n",
       "    .dataframe tbody tr th {\n",
       "        vertical-align: top;\n",
       "    }\n",
       "\n",
       "    .dataframe thead th {\n",
       "        text-align: right;\n",
       "    }\n",
       "</style>\n",
       "<table border=\"1\" class=\"dataframe\">\n",
       "  <thead>\n",
       "    <tr style=\"text-align: right;\">\n",
       "      <th></th>\n",
       "      <th>yearID</th>\n",
       "      <th>lgID</th>\n",
       "      <th>teamID</th>\n",
       "      <th>franchID</th>\n",
       "      <th>franchName</th>\n",
       "      <th>divID</th>\n",
       "      <th>Rank</th>\n",
       "      <th>G</th>\n",
       "      <th>Ghome</th>\n",
       "      <th>W</th>\n",
       "      <th>...</th>\n",
       "      <th>DP</th>\n",
       "      <th>FP</th>\n",
       "      <th>name</th>\n",
       "      <th>park</th>\n",
       "      <th>attendance</th>\n",
       "      <th>BPF</th>\n",
       "      <th>PPF</th>\n",
       "      <th>teamIDBR</th>\n",
       "      <th>teamIDlahman45</th>\n",
       "      <th>teamIDretro</th>\n",
       "    </tr>\n",
       "  </thead>\n",
       "  <tbody>\n",
       "    <tr>\n",
       "      <th>0</th>\n",
       "      <td>1871</td>\n",
       "      <td>NaN</td>\n",
       "      <td>BS1</td>\n",
       "      <td>BNA</td>\n",
       "      <td>Boston Red Stockings</td>\n",
       "      <td>NaN</td>\n",
       "      <td>3</td>\n",
       "      <td>31</td>\n",
       "      <td>NaN</td>\n",
       "      <td>20</td>\n",
       "      <td>...</td>\n",
       "      <td>NaN</td>\n",
       "      <td>0.83</td>\n",
       "      <td>Boston Red Stockings</td>\n",
       "      <td>South End Grounds I</td>\n",
       "      <td>NaN</td>\n",
       "      <td>103</td>\n",
       "      <td>98</td>\n",
       "      <td>BOS</td>\n",
       "      <td>BS1</td>\n",
       "      <td>BS1</td>\n",
       "    </tr>\n",
       "    <tr>\n",
       "      <th>1</th>\n",
       "      <td>1871</td>\n",
       "      <td>NaN</td>\n",
       "      <td>CH1</td>\n",
       "      <td>CNA</td>\n",
       "      <td>Chicago White Stockings</td>\n",
       "      <td>NaN</td>\n",
       "      <td>2</td>\n",
       "      <td>28</td>\n",
       "      <td>NaN</td>\n",
       "      <td>19</td>\n",
       "      <td>...</td>\n",
       "      <td>NaN</td>\n",
       "      <td>0.82</td>\n",
       "      <td>Chicago White Stockings</td>\n",
       "      <td>Union Base-Ball Grounds</td>\n",
       "      <td>NaN</td>\n",
       "      <td>104</td>\n",
       "      <td>102</td>\n",
       "      <td>CHI</td>\n",
       "      <td>CH1</td>\n",
       "      <td>CH1</td>\n",
       "    </tr>\n",
       "    <tr>\n",
       "      <th>2</th>\n",
       "      <td>1871</td>\n",
       "      <td>NaN</td>\n",
       "      <td>CL1</td>\n",
       "      <td>CFC</td>\n",
       "      <td>Cleveland Forest Citys</td>\n",
       "      <td>NaN</td>\n",
       "      <td>8</td>\n",
       "      <td>29</td>\n",
       "      <td>NaN</td>\n",
       "      <td>10</td>\n",
       "      <td>...</td>\n",
       "      <td>NaN</td>\n",
       "      <td>0.81</td>\n",
       "      <td>Cleveland Forest Citys</td>\n",
       "      <td>National Association Grounds</td>\n",
       "      <td>NaN</td>\n",
       "      <td>96</td>\n",
       "      <td>100</td>\n",
       "      <td>CLE</td>\n",
       "      <td>CL1</td>\n",
       "      <td>CL1</td>\n",
       "    </tr>\n",
       "    <tr>\n",
       "      <th>3</th>\n",
       "      <td>1871</td>\n",
       "      <td>NaN</td>\n",
       "      <td>FW1</td>\n",
       "      <td>KEK</td>\n",
       "      <td>Fort Wayne Kekiongas</td>\n",
       "      <td>NaN</td>\n",
       "      <td>7</td>\n",
       "      <td>19</td>\n",
       "      <td>NaN</td>\n",
       "      <td>7</td>\n",
       "      <td>...</td>\n",
       "      <td>NaN</td>\n",
       "      <td>0.80</td>\n",
       "      <td>Fort Wayne Kekiongas</td>\n",
       "      <td>Hamilton Field</td>\n",
       "      <td>NaN</td>\n",
       "      <td>101</td>\n",
       "      <td>107</td>\n",
       "      <td>KEK</td>\n",
       "      <td>FW1</td>\n",
       "      <td>FW1</td>\n",
       "    </tr>\n",
       "    <tr>\n",
       "      <th>4</th>\n",
       "      <td>1871</td>\n",
       "      <td>NaN</td>\n",
       "      <td>NY2</td>\n",
       "      <td>NNA</td>\n",
       "      <td>New York Mutuals</td>\n",
       "      <td>NaN</td>\n",
       "      <td>5</td>\n",
       "      <td>33</td>\n",
       "      <td>NaN</td>\n",
       "      <td>16</td>\n",
       "      <td>...</td>\n",
       "      <td>NaN</td>\n",
       "      <td>0.83</td>\n",
       "      <td>New York Mutuals</td>\n",
       "      <td>Union Grounds (Brooklyn)</td>\n",
       "      <td>NaN</td>\n",
       "      <td>90</td>\n",
       "      <td>88</td>\n",
       "      <td>NYU</td>\n",
       "      <td>NY2</td>\n",
       "      <td>NY2</td>\n",
       "    </tr>\n",
       "  </tbody>\n",
       "</table>\n",
       "<p>5 rows × 49 columns</p>\n",
       "</div>"
      ],
      "text/plain": [
       "   yearID lgID teamID franchID               franchName divID  Rank   G  \\\n",
       "0    1871  NaN    BS1      BNA     Boston Red Stockings   NaN     3  31   \n",
       "1    1871  NaN    CH1      CNA  Chicago White Stockings   NaN     2  28   \n",
       "2    1871  NaN    CL1      CFC   Cleveland Forest Citys   NaN     8  29   \n",
       "3    1871  NaN    FW1      KEK     Fort Wayne Kekiongas   NaN     7  19   \n",
       "4    1871  NaN    NY2      NNA         New York Mutuals   NaN     5  33   \n",
       "\n",
       "   Ghome   W  ...  DP    FP                     name  \\\n",
       "0    NaN  20  ... NaN  0.83     Boston Red Stockings   \n",
       "1    NaN  19  ... NaN  0.82  Chicago White Stockings   \n",
       "2    NaN  10  ... NaN  0.81   Cleveland Forest Citys   \n",
       "3    NaN   7  ... NaN  0.80     Fort Wayne Kekiongas   \n",
       "4    NaN  16  ... NaN  0.83         New York Mutuals   \n",
       "\n",
       "                           park attendance  BPF  PPF  teamIDBR  \\\n",
       "0           South End Grounds I        NaN  103   98       BOS   \n",
       "1       Union Base-Ball Grounds        NaN  104  102       CHI   \n",
       "2  National Association Grounds        NaN   96  100       CLE   \n",
       "3                Hamilton Field        NaN  101  107       KEK   \n",
       "4      Union Grounds (Brooklyn)        NaN   90   88       NYU   \n",
       "\n",
       "   teamIDlahman45  teamIDretro  \n",
       "0             BS1          BS1  \n",
       "1             CH1          CH1  \n",
       "2             CL1          CL1  \n",
       "3             FW1          FW1  \n",
       "4             NY2          NY2  \n",
       "\n",
       "[5 rows x 49 columns]"
      ]
     },
     "execution_count": 3,
     "metadata": {},
     "output_type": "execute_result"
    }
   ],
   "source": [
    "teams.head()"
   ]
  },
  {
   "cell_type": "code",
   "execution_count": 4,
   "metadata": {},
   "outputs": [
    {
     "data": {
      "text/plain": [
       "Index(['yearID', 'lgID', 'teamID', 'franchID', 'franchName', 'divID', 'Rank',\n",
       "       'G', 'Ghome', 'W', 'L', 'DivWin', 'WCWin', 'LgWin', 'WSWin', 'R', 'AB',\n",
       "       'H', '2B', '3B', 'HR', 'BB', 'SO', 'SB', 'CS', 'HBP', 'SF', 'RA', 'ER',\n",
       "       'ERA', 'CG', 'SHO', 'SV', 'IPouts', 'HA', 'HRA', 'BBA', 'SOA', 'E',\n",
       "       'DP', 'FP', 'name', 'park', 'attendance', 'BPF', 'PPF', 'teamIDBR',\n",
       "       'teamIDlahman45', 'teamIDretro'],\n",
       "      dtype='object')"
      ]
     },
     "execution_count": 4,
     "metadata": {},
     "output_type": "execute_result"
    }
   ],
   "source": [
    "teams.columns"
   ]
  },
  {
   "cell_type": "code",
   "execution_count": 5,
   "metadata": {},
   "outputs": [
    {
     "data": {
      "text/plain": [
       "teamID\n",
       "SLN    465\n",
       "NYA    448\n",
       "LAN    446\n",
       "WAS    443\n",
       "DET    440\n",
       "LAA    436\n",
       "TEX    435\n",
       "PIT    431\n",
       "TBA    430\n",
       "SFN    428\n",
       "ATL    425\n",
       "BAL    424\n",
       "OAK    420\n",
       "KCA    413\n",
       "CLE    406\n",
       "CIN    406\n",
       "BOS    405\n",
       "TOR    404\n",
       "MIL    403\n",
       "ARI    399\n",
       "NYN    394\n",
       "PHI    392\n",
       "CHA    376\n",
       "SEA    376\n",
       "SDN    374\n",
       "CHN    368\n",
       "MIN    348\n",
       "COL    345\n",
       "HOU    318\n",
       "MIA    279\n",
       "FLO     72\n",
       "Name: W, dtype: int64"
      ]
     },
     "execution_count": 5,
     "metadata": {},
     "output_type": "execute_result"
    }
   ],
   "source": [
    "wins = teams.loc[(teams.yearID >= 2011) & (teams.yearID <= 2015),['teamID','W']].groupby(['teamID'])['W'].sum().sort_values(ascending=False)\n",
    "wins"
   ]
  },
  {
   "cell_type": "code",
   "execution_count": 6,
   "metadata": {},
   "outputs": [
    {
     "data": {
      "text/plain": [
       "teamID\n",
       "NYA    7.638713e+06\n",
       "PHI    5.721195e+06\n",
       "LAN    5.642426e+06\n",
       "DET    5.513730e+06\n",
       "BOS    5.184631e+06\n",
       "SFN    5.056022e+06\n",
       "LAA    4.835898e+06\n",
       "TEX    4.265301e+06\n",
       "CHA    4.114336e+06\n",
       "SLN    3.926359e+06\n",
       "WAS    3.865897e+06\n",
       "CHN    3.801728e+06\n",
       "MIN    3.593669e+06\n",
       "TOR    3.564357e+06\n",
       "CIN    3.533832e+06\n",
       "SEA    3.519141e+06\n",
       "BAL    3.443053e+06\n",
       "MIL    3.389451e+06\n",
       "ATL    3.322769e+06\n",
       "NYN    3.128360e+06\n",
       "COL    3.088083e+06\n",
       "ARI    2.730161e+06\n",
       "KCA    2.675523e+06\n",
       "CLE    2.610912e+06\n",
       "SDN    2.589910e+06\n",
       "MIA    2.541346e+06\n",
       "PIT    2.501889e+06\n",
       "OAK    2.362453e+06\n",
       "TBA    2.272961e+06\n",
       "FLO    2.190154e+06\n",
       "HOU    2.116815e+06\n",
       "Name: salary, dtype: float64"
      ]
     },
     "execution_count": 6,
     "metadata": {},
     "output_type": "execute_result"
    }
   ],
   "source": [
    "pay = players.loc[(players.yearID >= 2011) & (players.yearID <= 2015),['teamID','salary']].groupby(['teamID'])['salary'].mean().sort_values(ascending=False)\n",
    "pay"
   ]
  },
  {
   "cell_type": "code",
   "execution_count": 7,
   "metadata": {},
   "outputs": [
    {
     "data": {
      "image/png": "[encoded data removed]",
      "text/plain": [
       "<Figure size 432x288 with 1 Axes>"
      ]
     },
     "metadata": {
      "needs_background": "light"
     },
     "output_type": "display_data"
    }
   ],
   "source": [
    "plt.plot(pay,wins)\n",
    "plt.title('Relation of Payroll to Wins')\n",
    "plt.ylabel('Wins; 2011-2015')\n",
    "plt.xlabel('Pay; 2011-2015')\n",
    "plt.show()"
   ]
  },
  {
   "cell_type": "markdown",
   "metadata": {},
   "source": [
    "It is rather difficult to see a direct relationship between payroll and wins of teams. All teams have a standard pay to wins to a certain point. It would seem between the ranges of 350 - 450 wins, teams pay do have some what of a relationship but it is not very significant"
   ]
  },
  {
   "cell_type": "markdown",
   "metadata": {},
   "source": [
    "### In the year of 2011-2015, Is a players's batting performance related to his win-loss record?"
   ]
  },
  {
   "cell_type": "code",
   "execution_count": 8,
   "metadata": {},
   "outputs": [],
   "source": [
    "batting_average = pitching.loc[(pitching.yearID >= 2011) & (pitching.yearID <= 2015),['teamID','BAOpp']].groupby(['teamID'])['BAOpp'].mean().sort_values(ascending=False)"
   ]
  },
  {
   "cell_type": "code",
   "execution_count": 9,
   "metadata": {},
   "outputs": [
    {
     "data": {
      "text/plain": [
       "teamID\n",
       "COL    0.289504\n",
       "ARI    0.278350\n",
       "MIA    0.276564\n",
       "TOR    0.274907\n",
       "DET    0.274476\n",
       "CHA    0.271562\n",
       "HOU    0.271504\n",
       "PHI    0.270138\n",
       "LAA    0.269088\n",
       "BAL    0.268727\n",
       "MIN    0.267303\n",
       "KCA    0.267026\n",
       "NYA    0.265404\n",
       "CLE    0.262593\n",
       "NYN    0.261891\n",
       "SLN    0.261733\n",
       "PIT    0.260754\n",
       "OAK    0.259777\n",
       "TEX    0.258000\n",
       "MIL    0.257292\n",
       "BOS    0.257155\n",
       "CHN    0.256863\n",
       "SEA    0.255945\n",
       "WAS    0.254991\n",
       "LAN    0.252750\n",
       "SFN    0.252627\n",
       "ATL    0.252033\n",
       "CIN    0.249865\n",
       "SDN    0.249688\n",
       "FLO    0.246273\n",
       "TBA    0.242136\n",
       "Name: BAOpp, dtype: float64"
      ]
     },
     "execution_count": 9,
     "metadata": {},
     "output_type": "execute_result"
    }
   ],
   "source": [
    "batting_average"
   ]
  },
  {
   "cell_type": "code",
   "execution_count": 10,
   "metadata": {},
   "outputs": [],
   "source": [
    "win_loss = pitching.loc[(pitching.yearID >= 2011) & (pitching.yearID <= 2015),['teamID','W','L']].groupby(['teamID']).agg({'W':sum,'L':sum})"
   ]
  },
  {
   "cell_type": "code",
   "execution_count": 11,
   "metadata": {},
   "outputs": [],
   "source": [
    "WL_ratio = win_loss['W']/win_loss['L']"
   ]
  },
  {
   "cell_type": "code",
   "execution_count": 12,
   "metadata": {},
   "outputs": [],
   "source": [
    "WL_ratio = WL_ratio.sort_values(ascending=False)"
   ]
  },
  {
   "cell_type": "markdown",
   "metadata": {},
   "source": [
    "+ Sklearn MinMaxScaler normalization method"
   ]
  },
  {
   "cell_type": "code",
   "execution_count": 13,
   "metadata": {},
   "outputs": [
    {
     "data": {
      "text/html": [
       "<div>\n",
       "<style scoped>\n",
       "    .dataframe tbody tr th:only-of-type {\n",
       "        vertical-align: middle;\n",
       "    }\n",
       "\n",
       "    .dataframe tbody tr th {\n",
       "        vertical-align: top;\n",
       "    }\n",
       "\n",
       "    .dataframe thead th {\n",
       "        text-align: right;\n",
       "    }\n",
       "</style>\n",
       "<table border=\"1\" class=\"dataframe\">\n",
       "  <thead>\n",
       "    <tr style=\"text-align: right;\">\n",
       "      <th></th>\n",
       "      <th>batting_average</th>\n",
       "      <th>WinLoss</th>\n",
       "    </tr>\n",
       "  </thead>\n",
       "  <tbody>\n",
       "    <tr>\n",
       "      <th>0</th>\n",
       "      <td>0.764519</td>\n",
       "      <td>0.462535</td>\n",
       "    </tr>\n",
       "    <tr>\n",
       "      <th>1</th>\n",
       "      <td>0.208941</td>\n",
       "      <td>0.652266</td>\n",
       "    </tr>\n",
       "    <tr>\n",
       "      <th>2</th>\n",
       "      <td>0.561376</td>\n",
       "      <td>0.644496</td>\n",
       "    </tr>\n",
       "    <tr>\n",
       "      <th>3</th>\n",
       "      <td>0.317068</td>\n",
       "      <td>0.504157</td>\n",
       "    </tr>\n",
       "    <tr>\n",
       "      <th>4</th>\n",
       "      <td>0.621222</td>\n",
       "      <td>0.313646</td>\n",
       "    </tr>\n",
       "    <tr>\n",
       "      <th>5</th>\n",
       "      <td>0.310909</td>\n",
       "      <td>0.265491</td>\n",
       "    </tr>\n",
       "    <tr>\n",
       "      <th>6</th>\n",
       "      <td>0.163161</td>\n",
       "      <td>0.511214</td>\n",
       "    </tr>\n",
       "    <tr>\n",
       "      <th>7</th>\n",
       "      <td>0.431883</td>\n",
       "      <td>0.514769</td>\n",
       "    </tr>\n",
       "    <tr>\n",
       "      <th>8</th>\n",
       "      <td>1.000000</td>\n",
       "      <td>0.136274</td>\n",
       "    </tr>\n",
       "    <tr>\n",
       "      <th>9</th>\n",
       "      <td>0.682745</td>\n",
       "      <td>0.778450</td>\n",
       "    </tr>\n",
       "    <tr>\n",
       "      <th>10</th>\n",
       "      <td>0.087325</td>\n",
       "      <td>0.219048</td>\n",
       "    </tr>\n",
       "    <tr>\n",
       "      <th>11</th>\n",
       "      <td>0.619996</td>\n",
       "      <td>0.000000</td>\n",
       "    </tr>\n",
       "    <tr>\n",
       "      <th>12</th>\n",
       "      <td>0.525462</td>\n",
       "      <td>0.561610</td>\n",
       "    </tr>\n",
       "    <tr>\n",
       "      <th>13</th>\n",
       "      <td>0.568992</td>\n",
       "      <td>0.740478</td>\n",
       "    </tr>\n",
       "    <tr>\n",
       "      <th>14</th>\n",
       "      <td>0.224071</td>\n",
       "      <td>0.830109</td>\n",
       "    </tr>\n",
       "    <tr>\n",
       "      <th>15</th>\n",
       "      <td>0.726830</td>\n",
       "      <td>0.156463</td>\n",
       "    </tr>\n",
       "    <tr>\n",
       "      <th>16</th>\n",
       "      <td>0.319960</td>\n",
       "      <td>0.490147</td>\n",
       "    </tr>\n",
       "    <tr>\n",
       "      <th>17</th>\n",
       "      <td>0.531298</td>\n",
       "      <td>0.152399</td>\n",
       "    </tr>\n",
       "    <tr>\n",
       "      <th>18</th>\n",
       "      <td>0.491222</td>\n",
       "      <td>0.842823</td>\n",
       "    </tr>\n",
       "    <tr>\n",
       "      <th>19</th>\n",
       "      <td>0.417044</td>\n",
       "      <td>0.428768</td>\n",
       "    </tr>\n",
       "    <tr>\n",
       "      <th>20</th>\n",
       "      <td>0.372419</td>\n",
       "      <td>0.613815</td>\n",
       "    </tr>\n",
       "    <tr>\n",
       "      <th>21</th>\n",
       "      <td>0.591169</td>\n",
       "      <td>0.415487</td>\n",
       "    </tr>\n",
       "    <tr>\n",
       "      <th>22</th>\n",
       "      <td>0.393050</td>\n",
       "      <td>0.699747</td>\n",
       "    </tr>\n",
       "    <tr>\n",
       "      <th>23</th>\n",
       "      <td>0.159427</td>\n",
       "      <td>0.301442</td>\n",
       "    </tr>\n",
       "    <tr>\n",
       "      <th>24</th>\n",
       "      <td>0.291521</td>\n",
       "      <td>0.313646</td>\n",
       "    </tr>\n",
       "    <tr>\n",
       "      <th>25</th>\n",
       "      <td>0.221484</td>\n",
       "      <td>0.675820</td>\n",
       "    </tr>\n",
       "    <tr>\n",
       "      <th>26</th>\n",
       "      <td>0.413723</td>\n",
       "      <td>1.000000</td>\n",
       "    </tr>\n",
       "    <tr>\n",
       "      <th>27</th>\n",
       "      <td>0.000000</td>\n",
       "      <td>0.687495</td>\n",
       "    </tr>\n",
       "    <tr>\n",
       "      <th>28</th>\n",
       "      <td>0.334907</td>\n",
       "      <td>0.727847</td>\n",
       "    </tr>\n",
       "    <tr>\n",
       "      <th>29</th>\n",
       "      <td>0.691833</td>\n",
       "      <td>0.497135</td>\n",
       "    </tr>\n",
       "    <tr>\n",
       "      <th>30</th>\n",
       "      <td>0.271376</td>\n",
       "      <td>0.804068</td>\n",
       "    </tr>\n",
       "  </tbody>\n",
       "</table>\n",
       "</div>"
      ],
      "text/plain": [
       "    batting_average   WinLoss\n",
       "0          0.764519  0.462535\n",
       "1          0.208941  0.652266\n",
       "2          0.561376  0.644496\n",
       "3          0.317068  0.504157\n",
       "4          0.621222  0.313646\n",
       "5          0.310909  0.265491\n",
       "6          0.163161  0.511214\n",
       "7          0.431883  0.514769\n",
       "8          1.000000  0.136274\n",
       "9          0.682745  0.778450\n",
       "10         0.087325  0.219048\n",
       "11         0.619996  0.000000\n",
       "12         0.525462  0.561610\n",
       "13         0.568992  0.740478\n",
       "14         0.224071  0.830109\n",
       "15         0.726830  0.156463\n",
       "16         0.319960  0.490147\n",
       "17         0.531298  0.152399\n",
       "18         0.491222  0.842823\n",
       "19         0.417044  0.428768\n",
       "20         0.372419  0.613815\n",
       "21         0.591169  0.415487\n",
       "22         0.393050  0.699747\n",
       "23         0.159427  0.301442\n",
       "24         0.291521  0.313646\n",
       "25         0.221484  0.675820\n",
       "26         0.413723  1.000000\n",
       "27         0.000000  0.687495\n",
       "28         0.334907  0.727847\n",
       "29         0.691833  0.497135\n",
       "30         0.271376  0.804068"
      ]
     },
     "execution_count": 13,
     "metadata": {},
     "output_type": "execute_result"
    }
   ],
   "source": [
    "from sklearn import preprocessing\n",
    "BW = pd.DataFrame({'batting_average':batting_average,'WinLoss':WL_ratio})\n",
    "cols = BW.columns\n",
    "\n",
    "min_max_scaler = preprocessing.MinMaxScaler()\n",
    "scaled = min_max_scaler.fit_transform(BW)\n",
    "BW_scaled = pd.DataFrame(scaled,columns=cols)\n",
    "BW_scaled"
   ]
  },
  {
   "cell_type": "markdown",
   "metadata": {},
   "source": [
    "+ Pandas manual MinMax Normalization"
   ]
  },
  {
   "cell_type": "code",
   "execution_count": 14,
   "metadata": {},
   "outputs": [],
   "source": [
    "# BW.WinLoss = (BW.WinLoss - BW.WinLoss.min())/(BW.WinLoss.max() - BW.WinLoss.min())\n",
    "# BW.batting_average = (BW.batting_average - BW.batting_average.min())/(BW.batting_average.max() - BW.batting_average.min())\n"
   ]
  },
  {
   "cell_type": "markdown",
   "metadata": {},
   "source": [
    "+ Decided to use manual MinMax normalization"
   ]
  },
  {
   "cell_type": "code",
   "execution_count": 15,
   "metadata": {},
   "outputs": [
    {
     "data": {
      "image/png": "[encoded data removed]",
      "text/plain": [
       "<Figure size 864x720 with 1 Axes>"
      ]
     },
     "metadata": {
      "needs_background": "light"
     },
     "output_type": "display_data"
    }
   ],
   "source": [
    "ax = BW.plot.bar(rot=0,figsize=(12,10))\n",
    "\n",
    "plt.title('Relative Bar Plot')\n",
    "plt.xlabel('teams')\n",
    "plt.ylabel('Normalized Metrics')\n",
    "plt.xticks(rotation=90)\n",
    "plt.show()\n"
   ]
  },
  {
   "cell_type": "code",
   "execution_count": 16,
   "metadata": {},
   "outputs": [
    {
     "data": {
      "text/plain": [
       "Text(0.5, 1.0, 'Scatter Plot')"
      ]
     },
     "execution_count": 16,
     "metadata": {},
     "output_type": "execute_result"
    },
    {
     "data": {
      "image/png": "[encoded data removed]",
      "text/plain": [
       "<Figure size 432x288 with 1 Axes>"
      ]
     },
     "metadata": {
      "needs_background": "light"
     },
     "output_type": "display_data"
    }
   ],
   "source": [
    "ax1 = BW.plot.scatter(x='WinLoss',y='batting_average',c='red')\n",
    "# ax1.plot([batting_average.min(),batting_average.max()],[batting_average.min(),batting_average.max()],'k--',lw=4)\n",
    "plt.title('Scatter Plot')"
   ]
  },
  {
   "cell_type": "code",
   "execution_count": 17,
   "metadata": {},
   "outputs": [
    {
     "data": {
      "image/png": "[encoded data removed]",
      "text/plain": [
       "<Figure size 432x288 with 2 Axes>"
      ]
     },
     "metadata": {
      "needs_background": "light"
     },
     "output_type": "display_data"
    }
   ],
   "source": [
    "ax3 = BW.plot.line(subplots=True)"
   ]
  },
  {
   "cell_type": "markdown",
   "metadata": {},
   "source": [
    "There may be alot more factors to a teams win/loss ratio. There is no direct correlation between batting average and the win/loss ratio"
   ]
  },
  {
   "cell_type": "markdown",
   "metadata": {},
   "source": [
    "### In the year of 2011-2015, is a team's win-loss record related to its pitching performance?"
   ]
  },
  {
   "cell_type": "code",
   "execution_count": 18,
   "metadata": {},
   "outputs": [],
   "source": [
    "ERA = pitching.loc[(pitching.yearID >= 2011) & (pitching.yearID <= 2015),['teamID','ERA']].groupby(['teamID'])['ERA'].mean().sort_values(ascending=False)"
   ]
  },
  {
   "cell_type": "code",
   "execution_count": 19,
   "metadata": {},
   "outputs": [
    {
     "data": {
      "text/plain": [
       "teamID\n",
       "TOR    6.277933\n",
       "LAA    6.012016\n",
       "NYN    5.886875\n",
       "NYA    5.846667\n",
       "COL    5.826370\n",
       "DET    5.565317\n",
       "CHN    5.385108\n",
       "HOU    5.266063\n",
       "PHI    5.153769\n",
       "ARI    5.130488\n",
       "BAL    5.106033\n",
       "KCA    5.076522\n",
       "BOS    5.001085\n",
       "CIN    4.987568\n",
       "MIA    4.916634\n",
       "CHA    4.757583\n",
       "SLN    4.738403\n",
       "FLO    4.736818\n",
       "LAN    4.726172\n",
       "MIN    4.699244\n",
       "TEX    4.680000\n",
       "SEA    4.630275\n",
       "CLE    4.500081\n",
       "OAK    4.472810\n",
       "MIL    4.418673\n",
       "ATL    4.332167\n",
       "TBA    4.267455\n",
       "SFN    4.239903\n",
       "SDN    4.213520\n",
       "PIT    4.145950\n",
       "WAS    4.095741\n",
       "Name: ERA, dtype: float64"
      ]
     },
     "execution_count": 19,
     "metadata": {},
     "output_type": "execute_result"
    }
   ],
   "source": [
    "ERA"
   ]
  },
  {
   "cell_type": "code",
   "execution_count": 20,
   "metadata": {},
   "outputs": [],
   "source": [
    "ERA_WL = pd.DataFrame({'ERA':ERA/5,'WinLoss':WL_ratio})\n",
    "# ERA_WL.WinLoss = (ERA_WL.WinLoss - ERA_WL.WinLoss.min())/(ERA_WL.WinLoss.max() - ERA_WL.WinLoss.min())\n",
    "# ERA_WL.ERA = (ERA_WL.ERA - ERA_WL.ERA.min())/(ERA_WL.ERA.max() - ERA_WL.ERA.min())"
   ]
  },
  {
   "cell_type": "code",
   "execution_count": 21,
   "metadata": {},
   "outputs": [
    {
     "data": {
      "image/png": "[encoded data removed]",
      "text/plain": [
       "<Figure size 864x720 with 1 Axes>"
      ]
     },
     "metadata": {
      "needs_background": "light"
     },
     "output_type": "display_data"
    }
   ],
   "source": [
    "ax = ERA_WL.plot.bar(rot=0,figsize=(12,10))\n",
    "plt.title('relationship of ERA and win/loss ratio')\n",
    "plt.xlabel('teams')\n",
    "plt.xticks(rotation=90)\n",
    "plt.show()"
   ]
  },
  {
   "cell_type": "code",
   "execution_count": 22,
   "metadata": {},
   "outputs": [
    {
     "data": {
      "text/plain": [
       "Text(0.5, 1.0, 'Scatter Plot')"
      ]
     },
     "execution_count": 22,
     "metadata": {},
     "output_type": "execute_result"
    },
    {
     "data": {
      "image/png": "[encoded data removed]",
      "text/plain": [
       "<Figure size 864x720 with 1 Axes>"
      ]
     },
     "metadata": {
      "needs_background": "light"
     },
     "output_type": "display_data"
    }
   ],
   "source": [
    "ax1 = ERA_WL.plot.scatter(x='WinLoss',y='ERA',c='red',figsize=(12,10))\n",
    "# ax1.plot([ERA.min(),ERA.max()],[ERA.min(),ERA.max()],'k--',lw=4)\n",
    "plt.title('Scatter Plot')"
   ]
  },
  {
   "cell_type": "code",
   "execution_count": 23,
   "metadata": {},
   "outputs": [
    {
     "data": {
      "image/png": "[encoded data removed]",
      "text/plain": [
       "<Figure size 432x288 with 2 Axes>"
      ]
     },
     "metadata": {
      "needs_background": "light"
     },
     "output_type": "display_data"
    }
   ],
   "source": [
    "ax3 = ERA_WL.plot.line(subplots=True)"
   ]
  },
  {
   "cell_type": "markdown",
   "metadata": {},
   "source": [
    "There may be alot more factors to a teams win/loss ratio. There is no direct correlation between ERA and the win/loss ratio"
   ]
  }
 ],
 "metadata": {
  "kernelspec": {
   "display_name": "Python 3",
   "language": "python",
   "name": "python3"
  },
  "language_info": {
   "codemirror_mode": {
    "name": "ipython",
    "version": 3
   },
   "file_extension": ".py",
   "mimetype": "text/x-python",
   "name": "python",
   "nbconvert_exporter": "python",
   "pygments_lexer": "ipython3",
   "version": "3.7.6"
  }
 },
 "nbformat": 4,
 "nbformat_minor": 4
}
