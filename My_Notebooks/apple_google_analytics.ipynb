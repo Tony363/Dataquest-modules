{
 "cells": [
  {
   "cell_type": "markdown",
   "metadata": {},
   "source": [
    "\n",
    "# Profitable App Profiles for the App Store and Google Play Markets\n",
    "Our aim in this project is to find mobile app profiles that are profitable for the App Store and Google Play markets. We're working as data analysts for a company that builds Android and iOS mobile apps, and our job is to enable our team of developers to make data-driven decisions with respect to the kind of apps they build.\n",
    "\n",
    "At our company, we only build apps that are free to download and install, and our main source of revenue consists of in-app ads. This means that our revenue for any given app is mostly influenced by the number of users that use our app. Our goal for this project is to analyze data to help our developers understand what kinds of apps are likely to attract more users.\n"
   ]
  },
  {
   "cell_type": "code",
   "execution_count": 1,
   "metadata": {
    "collapsed": false
   },
   "outputs": [],
   "source": [
    "from csv import reader\n",
    "\n",
    "### The Google Play data set ###\n",
    "opened_file = open('googleplaystore.csv')\n",
    "read_file = reader(opened_file)\n",
    "android = list(read_file)\n",
    "android_header = android[0]\n",
    "android = android[1:]\n",
    "\n",
    "### The App Store data set ###\n",
    "opened_file = open('AppleStore.csv')\n",
    "read_file = reader(opened_file)\n",
    "ios = list(read_file)\n",
    "ios_header = ios[0]\n",
    "ios = ios[1:]"
   ]
  },
  {
   "cell_type": "code",
   "execution_count": 2,
   "metadata": {
    "collapsed": true
   },
   "outputs": [],
   "source": [
    "def explore_data(dataset, start, end, rows_and_columns=False):\n",
    "    dataset_slice = dataset[start:end]    \n",
    "    for row in dataset_slice:\n",
    "        print(row)\n",
    "        print('\\n') # adds a new (empty) line after each row\n",
    "\n",
    "    if rows_and_columns:\n",
    "        print('Number of rows:', len(dataset))\n",
    "        print('Number of columns:', len(dataset[0]))\n",
    "        print()\n",
    "       \n",
    "       "
   ]
  },
  {
   "cell_type": "code",
   "execution_count": 3,
   "metadata": {
    "collapsed": false
   },
   "outputs": [
    {
     "name": "stdout",
     "output_type": "stream",
     "text": [
      "['id', 'track_name', 'size_bytes', 'currency', 'price', 'rating_count_tot', 'rating_count_ver', 'user_rating', 'user_rating_ver', 'ver', 'cont_rating', 'prime_genre', 'sup_devices.num', 'ipadSc_urls.num', 'lang.num', 'vpp_lic']\n",
      "\n",
      "['284882215', 'Facebook', '389879808', 'USD', '0.0', '2974676', '212', '3.5', '3.5', '95.0', '4+', 'Social Networking', '37', '1', '29', '1']\n",
      "\n",
      "\n",
      "['389801252', 'Instagram', '113954816', 'USD', '0.0', '2161558', '1289', '4.5', '4.0', '10.23', '12+', 'Photo & Video', '37', '0', '29', '1']\n",
      "\n",
      "\n",
      "['529479190', 'Clash of Clans', '116476928', 'USD', '0.0', '2130805', '579', '4.5', '4.5', '9.24.12', '9+', 'Games', '38', '5', '18', '1']\n",
      "\n",
      "\n"
     ]
    }
   ],
   "source": [
    "print(ios_header)\n",
    "print()\n",
    "explore_data(ios,0,3)\n",
    "\n",
    "\n",
    "\n",
    "\n"
   ]
  },
  {
   "cell_type": "code",
   "execution_count": 4,
   "metadata": {
    "collapsed": false
   },
   "outputs": [
    {
     "name": "stdout",
     "output_type": "stream",
     "text": [
      "['App', 'Category', 'Rating', 'Reviews', 'Size', 'Installs', 'Type', 'Price', 'Content Rating', 'Genres', 'Last Updated', 'Current Ver', 'Android Ver']\n",
      "\n",
      "['Photo Editor & Candy Camera & Grid & ScrapBook', 'ART_AND_DESIGN', '4.1', '159', '19M', '10,000+', 'Free', '0', 'Everyone', 'Art & Design', 'January 7, 2018', '1.0.0', '4.0.3 and up']\n",
      "\n",
      "\n",
      "['Coloring book moana', 'ART_AND_DESIGN', '3.9', '967', '14M', '500,000+', 'Free', '0', 'Everyone', 'Art & Design;Pretend Play', 'January 15, 2018', '2.0.0', '4.0.3 and up']\n",
      "\n",
      "\n",
      "['U Launcher Lite – FREE Live Cool Themes, Hide Apps', 'ART_AND_DESIGN', '4.7', '87510', '8.7M', '5,000,000+', 'Free', '0', 'Everyone', 'Art & Design', 'August 1, 2018', '1.2.4', '4.0.3 and up']\n",
      "\n",
      "\n",
      "Number of rows: 10841\n",
      "Number of columns: 13\n",
      "\n"
     ]
    }
   ],
   "source": [
    "print(android_header)\n",
    "print()\n",
    "explore_data(android,0,3, True)\n"
   ]
  },
  {
   "cell_type": "markdown",
   "metadata": {},
   "source": [
    "We see that the Google Play data set has 10841 apps and 13 columns. At a quick glance, the columns that might be useful for the purpose of our analysis are 'App', 'Category', 'Reviews', 'Installs', 'Type', 'Price', and 'Genres'."
   ]
  },
  {
   "cell_type": "code",
   "execution_count": 5,
   "metadata": {
    "collapsed": false
   },
   "outputs": [
    {
     "name": "stdout",
     "output_type": "stream",
     "text": [
      "['Xposed Wi-Fi-Pwd', 'PERSONALIZATION', '3.5', '1042', '404k', '100,000+', 'Free', '0', 'Everyone', 'Personalization', 'August 5, 2014', '3.0.0', '4.0.3 and up']\n"
     ]
    }
   ],
   "source": [
    "\n",
    "dic = {header:i for header in android_header for i,row in enumerate(android)}\n",
    "# print(dic)\n",
    "    \n",
    "\n",
    "Combined = [(data[7],data[6]) for data in android]\n",
    "# print(Combined)\n",
    "NaN = android[10472][8]\n",
    "\n",
    "del android[10472]\n",
    "\n",
    "print(android[10471])    \n",
    "\n"
   ]
  },
  {
   "cell_type": "markdown",
   "metadata": {},
   "source": [
    "## This Google Play data has duplicate entries\n",
    "This Google Play data has duplicate entries"
   ]
  },
  {
   "cell_type": "code",
   "execution_count": 6,
   "metadata": {
    "collapsed": false
   },
   "outputs": [
    {
     "name": "stdout",
     "output_type": "stream",
     "text": [
      "Number of duplicate apps: 10840\n",
      "\n",
      "Examples of duplicate apps: ['Photo Editor & Candy Camera & Grid & ScrapBook', 'Coloring book moana', 'U Launcher Lite – FREE Live Cool Themes, Hide Apps', 'Sketch - Draw & Paint', 'Pixel Draw - Number Art Coloring Book', 'Paper flowers instructions', 'Smoke Effect Photo Maker - Smoke Editor', 'Infinite Painter', 'Garden Coloring Book', 'Kids Paint Free - Drawing Fun', 'Text on Photo - Fonteee', 'Name Art Photo Editor - Focus n Filters', 'Tattoo Name On My Photo Editor', 'Mandala Coloring Book', '3D Color Pixel by Number - Sandbox Art Coloring']\n"
     ]
    }
   ],
   "source": [
    "# print([app[0] for app in android])\n",
    "# app_name = [app[0] for app in android]\n",
    "# duplicate_name = [app[0] for app in android]\n",
    "\n",
    "# for app in android:\n",
    "#     app_name = app[0]\n",
    "#     duplicate_name = app[0]\n",
    "#     if app_name == duplicate_name:\n",
    "#         print(app_name)\n",
    "\n",
    "unique_apps = set([app[0] for app in android])\n",
    "# print(unique_apps)\n",
    "duplicate_apps = [app[0] for app in android if app[0] in unique_apps]\n",
    "\n",
    "\n",
    "# for app in android:\n",
    "#     name = app[0]\n",
    "#     if name in unique_apps:\n",
    "#         duplicate_apps.append(name)\n",
    "#     else:\n",
    "#         unique_apps.append(name)\n",
    "\n",
    "print('Number of duplicate apps:', len(duplicate_apps))\n",
    "print()\n",
    "print('Examples of duplicate apps:', duplicate_apps[:15])"
   ]
  },
  {
   "cell_type": "markdown",
   "metadata": {},
   "source": [
    "We don't want to count certain apps more than once when we analyze data, so we need to remove the duplicate entries and keep only one entry per app. One thing we could do is remove the duplicate rows randomly, but we could probably find a better way.\n",
    "\n",
    "If you examine the rows we printed two cells above for the Instagram app, the main difference happens on the fourth position of each row, which corresponds to the number of reviews. The different numbers show that the data was collected at different times. We can use this to build a criterion for keeping rows. We won't remove rows randomly, but rather we'll keep the rows that have the highest number of reviews because the higher the number of reviews, the more reliable the ratings.\n",
    "\n",
    "To do that, we will:\n",
    "\n",
    "Create a dictionary where each key is a unique app name, and the value is the highest number of reviews of that app\n",
    "Use the dictionary to create a new data set, which will have only one entry per app (and we only select the apps with the highest number of reviews)"
   ]
  },
  {
   "cell_type": "code",
   "execution_count": 7,
   "metadata": {
    "collapsed": false
   },
   "outputs": [
    {
     "name": "stdout",
     "output_type": "stream",
     "text": [
      "['App', 'Category', 'Rating', 'Reviews', 'Size', 'Installs', 'Type', 'Price', 'Content Rating', 'Genres', 'Last Updated', 'Current Ver', 'Android Ver']\n",
      "Number of cleaned android data: 9659\n",
      "Max Reviews: 9659\n"
     ]
    }
   ],
   "source": [
    "import operator\n",
    "reviews_max = {}\n",
    "print(android_header)\n",
    "for app in android:\n",
    "    name = app[0]\n",
    "    n_reviews = float(app[3])\n",
    "#     print(n_reviews)\n",
    "\n",
    "    if name in reviews_max and reviews_max[name] < n_reviews:\n",
    "        reviews_max[name] = n_reviews\n",
    "\n",
    "    if name not in reviews_max:\n",
    "        reviews_max[name] = n_reviews\n",
    "# print(len(reviews_max))\n",
    "# print(reviews_max)\n",
    "\n",
    "android_clean = []\n",
    "already_added = []\n",
    "for app in android:\n",
    "    name = app[0]\n",
    "    n_reviews = float(app[3])\n",
    "#     print(reviews_max[name])\n",
    "\n",
    "    if (reviews_max[name] == n_reviews) and (name not in already_added):\n",
    "        android_clean.append(app)\n",
    "        already_added.append(name)\n",
    "# x = max(reviews_max.items(), key=operator.itemgetter(1))[0]\n",
    "# print(x)\n",
    "# print(reviews_max['Facebook'])\n",
    "print('Number of cleaned android data:',len(android_clean))\n",
    "print('Max Reviews:',len(reviews_max))\n",
    "        \n",
    "        \n",
    "    "
   ]
  },
  {
   "cell_type": "markdown",
   "metadata": {},
   "source": [
    "Both cleaned android data and max reviews has same number of dataframes."
   ]
  },
  {
   "cell_type": "code",
   "execution_count": 8,
   "metadata": {
    "collapsed": false
   },
   "outputs": [
    {
     "name": "stdout",
     "output_type": "stream",
     "text": [
      "['Photo Editor & Candy Camera & Grid & ScrapBook', 'ART_AND_DESIGN', '4.1', '159', '19M', '10,000+', 'Free', '0', 'Everyone', 'Art & Design', 'January 7, 2018', '1.0.0', '4.0.3 and up']\n",
      "\n",
      "\n",
      "['U Launcher Lite – FREE Live Cool Themes, Hide Apps', 'ART_AND_DESIGN', '4.7', '87510', '8.7M', '5,000,000+', 'Free', '0', 'Everyone', 'Art & Design', 'August 1, 2018', '1.2.4', '4.0.3 and up']\n",
      "\n",
      "\n",
      "['Sketch - Draw & Paint', 'ART_AND_DESIGN', '4.5', '215644', '25M', '50,000,000+', 'Free', '0', 'Teen', 'Art & Design', 'June 8, 2018', 'Varies with device', '4.2 and up']\n",
      "\n",
      "\n",
      "Number of rows: 9659\n",
      "Number of columns: 13\n",
      "\n"
     ]
    }
   ],
   "source": [
    "explore_data(android_clean,0,3, True)"
   ]
  },
  {
   "cell_type": "markdown",
   "metadata": {},
   "source": [
    "some examples of cleaned android data"
   ]
  },
  {
   "cell_type": "code",
   "execution_count": 9,
   "metadata": {
    "collapsed": false
   },
   "outputs": [
    {
     "name": "stdout",
     "output_type": "stream",
     "text": [
      "True True True\n"
     ]
    }
   ],
   "source": [
    "def take_string(string):\n",
    "    count = 0\n",
    "    for char in string:\n",
    "        if ord(char) > 127:\n",
    "            count += 1\n",
    "    if count > 3 :\n",
    "        return False\n",
    "    else:\n",
    "        return True\n",
    "print(take_string('Docs To Go™ Free Office Suite'),\n",
    "      take_string('Instachat 😜'),take_string('™')) "
   ]
  },
  {
   "cell_type": "code",
   "execution_count": 10,
   "metadata": {
    "collapsed": false
   },
   "outputs": [
    {
     "name": "stdout",
     "output_type": "stream",
     "text": [
      "10795 7197\n",
      "['Flame - درب عقلك يوميا', 'သိင်္ Astrology - Min Thein Kha BayDin', 'РИА Новости', 'صور حرف H', 'L.POINT - 엘포인트 [ 포인트, 멤버십, 적립, 사용, 모바일 카드, 쿠폰, 롯데]', 'RMEduS - 음성인식을 활용한 R 프로그래밍 실습 시스템', 'AJ렌터카 법인 카셰어링', 'Al Quran Free - القرآن (Islam)', '中国語 AQリスニング', '日本AV历史', 'Ay Yıldız Duvar Kağıtları', 'বাংলা টিভি প্রো BD Bangla TV', 'Cъновник BG', 'CSCS BG (в български)', '뽕티비 - 개인방송, 인터넷방송, BJ방송', 'BL 女性向け恋愛ゲーム◆俺プリクロス', 'SecondSecret ‐「恋を読む」BLノベルゲーム‐', 'BL 女性向け恋愛ゲーム◆ごくメン', 'あなカレ【BL】無料ゲーム', '감성학원 BL 첫사랑', 'BQ-መጽሐፍ ቅዱሳዊ ጥያቄዎች', 'BS Calendar / Patro / पात्रो', 'Vip视频免费看-BT磁力搜索', 'Билеты ПДД CD 2019 PRO', 'Offline Jízdní řády CG Transit', 'Bonjour 2017 Abidjan CI ❤❤❤❤❤', 'CK 初一 十五', 'الفاتحون Conquerors', 'DG ग्राम / Digital Gram Panchayat', 'DM הפקות', 'DW فارسی By dw-arab.com', 'لعبة تقدر تربح DZ', 'বাংলাflix', 'RPG ブレイジング ソウルズ アクセレイト', '英漢字典 EC Dictionary', 'ECナビ×シュフー', 'أحداث وحقائق | خبر عاجل في اخبار العالم', 'EG SIM CARD (EGSIMCARD, 이지심카드)', 'パーリーゲイツ公式通販｜EJ STYLE（イージェイスタイル）', 'FAHREDDİN er-RÂZİ TEFSİRİ', \"I'm Rich/Eu sou Rico/أنا غني/我很有錢\", 'AÖF Ev İdaresi 1. Sınıf', 'Ey Sey Storytime រឿងនិទានតាឥសី', '哈哈姆特不EY', 'FP Разбитый дисплей']\n"
     ]
    }
   ],
   "source": [
    "android_english = []\n",
    "non_english = []\n",
    "for app in android:\n",
    "    name = app[0]\n",
    "    if take_string(name):\n",
    "        android_english.append(app)\n",
    "    else:\n",
    "        non_english.append(name)\n",
    "        \n",
    "ios_english = []\n",
    "for app in ios:\n",
    "    name = app[0]\n",
    "    if take_string(name):\n",
    "        ios_english.append(app)\n",
    "    else:\n",
    "        non_english.append(name)\n",
    "        \n",
    "print(len(android_english), len(ios_english))\n",
    "print(non_english)\n",
    "        \n",
    "\n",
    "\n",
    "    \n",
    "    "
   ]
  },
  {
   "cell_type": "code",
   "execution_count": 11,
   "metadata": {
    "collapsed": false
   },
   "outputs": [
    {
     "name": "stdout",
     "output_type": "stream",
     "text": [
      "4056 10040\n"
     ]
    }
   ],
   "source": [
    "# print(android_header)\n",
    "# print(ios_header)\n",
    "\n",
    "free_android = []\n",
    "for app in android:\n",
    "    price = app[7]\n",
    "    if price == '0':\n",
    "        free_android.append(app)\n",
    "\n",
    "free_ios = []\n",
    "for app in ios:\n",
    "    price = app[4]\n",
    "#     print(price)\n",
    "    if price == '0.0':\n",
    "        free_ios.append(app)\n",
    "print(len(free_ios),len(free_android))"
   ]
  },
  {
   "cell_type": "markdown",
   "metadata": {},
   "source": [
    "Our aim is to determine the kinds of apps that are likely to attract more users because our revenue is highly influenced by the number of people using our apps.\n",
    "\n",
    "To minimize risks and overhead, our validation strategy for an app idea is comprised of three steps:\n",
    "\n",
    "1.Build a minimal Android version of the app, and add it to Google Play.\n",
    "\n",
    "2.If the app has a good response from users, we develop it further.\n",
    "\n",
    "3.If the app is profitable after six months, we build an iOS version of the app and add it to the App Store."
   ]
  },
  {
   "cell_type": "code",
   "execution_count": 12,
   "metadata": {
    "collapsed": false
   },
   "outputs": [
    {
     "name": "stdout",
     "output_type": "stream",
     "text": [
      "['App', 'Category', 'Rating', 'Reviews', 'Size', 'Installs', 'Type', 'Price', 'Content Rating', 'Genres', 'Last Updated', 'Current Ver', 'Android Ver']\n",
      "['id', 'track_name', 'size_bytes', 'currency', 'price', 'rating_count_tot', 'rating_count_ver', 'user_rating', 'user_rating_ver', 'ver', 'cont_rating', 'prime_genre', 'sup_devices.num', 'ipadSc_urls.num', 'lang.num', 'vpp_lic']\n"
     ]
    }
   ],
   "source": [
    "print(android_header)\n",
    "print(ios_header)"
   ]
  },
  {
   "cell_type": "markdown",
   "metadata": {},
   "source": [
    "I would think, out of these columns, i could use the genre column to generate frequency tables to find out the most common genres in each market."
   ]
  },
  {
   "cell_type": "code",
   "execution_count": 13,
   "metadata": {
    "collapsed": false
   },
   "outputs": [
    {
     "name": "stdout",
     "output_type": "stream",
     "text": [
      "Displaying Apple store Prime Genres\n",
      "\n",
      "Games : 3862\n",
      "Entertainment : 535\n",
      "Education : 453\n",
      "Photo & Video : 349\n",
      "Utilities : 248\n",
      "Health & Fitness : 180\n",
      "Productivity : 178\n",
      "Social Networking : 167\n",
      "Lifestyle : 144\n",
      "Music : 138\n",
      "Shopping : 122\n",
      "Sports : 114\n",
      "Book : 112\n",
      "Finance : 104\n",
      "Travel : 81\n",
      "News : 75\n",
      "Weather : 72\n",
      "Reference : 64\n",
      "Food & Drink : 63\n",
      "Business : 57\n",
      "Navigation : 46\n",
      "Medical : 23\n",
      "Catalogs : 10\n",
      "None\n"
     ]
    }
   ],
   "source": [
    "def freq_table(dataset,index):\n",
    "    dic = {}\n",
    "    for row in dataset:\n",
    "        name = row[index]\n",
    "        if name not in dic:\n",
    "            dic[name] = 0\n",
    "        if name in dic:\n",
    "            dic[name] +=1 \n",
    "    return dic\n",
    "\n",
    "def display_table(dataset, index):\n",
    "    table = freq_table(dataset, index)\n",
    "    table_display = []\n",
    "    for key in table:\n",
    "        key_val_as_tuple = (table[key], key)\n",
    "        table_display.append(key_val_as_tuple)\n",
    "\n",
    "    table_sorted = sorted(table_display, reverse = True)\n",
    "    for entry in table_sorted:\n",
    "        print(entry[1], ':', entry[0])\n",
    "\n",
    "# # print(android_header)\n",
    "# print()\n",
    "# print(ios_header)\n",
    "# print()\n",
    "# print(freq_table(ios, 11))\n",
    "# print()\n",
    "# print(freq_table(android,1))\n",
    "# print()\n",
    "# print(freq_table(android,9))\n",
    "# print()\n",
    "print('Displaying Apple store Prime Genres')\n",
    "print()\n",
    "print(display_table(ios,11))"
   ]
  },
  {
   "cell_type": "markdown",
   "metadata": {},
   "source": [
    "## Comments on Prime_genre Column\n",
    "\n",
    "The most common genre is games, the runner up is entertainment. It would seem that the apple store apps are mostly used for recreational purposes rather than practical purposes such as education, shopping, utilities, productivity or lifestyle.\n",
    "\n",
    "Given the available genres on the app store and the proclivity of specific genres to have a large use base comparatively, it is plausible to say that to tap into the apple store market, it is better to focus on recreational application purposes. A \"prime\" genre to go into would be that of the games genre."
   ]
  },
  {
   "cell_type": "code",
   "execution_count": 14,
   "metadata": {
    "collapsed": false
   },
   "outputs": [
    {
     "name": "stdout",
     "output_type": "stream",
     "text": [
      "Displaying Play Store Categories\n",
      "\n",
      "FAMILY : 1972\n",
      "GAME : 1144\n",
      "TOOLS : 843\n",
      "MEDICAL : 463\n",
      "BUSINESS : 460\n",
      "PRODUCTIVITY : 424\n",
      "PERSONALIZATION : 392\n",
      "COMMUNICATION : 387\n",
      "SPORTS : 384\n",
      "LIFESTYLE : 382\n",
      "FINANCE : 366\n",
      "HEALTH_AND_FITNESS : 341\n",
      "PHOTOGRAPHY : 335\n",
      "SOCIAL : 295\n",
      "NEWS_AND_MAGAZINES : 283\n",
      "SHOPPING : 260\n",
      "TRAVEL_AND_LOCAL : 258\n",
      "DATING : 234\n",
      "BOOKS_AND_REFERENCE : 231\n",
      "VIDEO_PLAYERS : 175\n",
      "EDUCATION : 156\n",
      "ENTERTAINMENT : 149\n",
      "MAPS_AND_NAVIGATION : 137\n",
      "FOOD_AND_DRINK : 127\n",
      "HOUSE_AND_HOME : 88\n",
      "LIBRARIES_AND_DEMO : 85\n",
      "AUTO_AND_VEHICLES : 85\n",
      "WEATHER : 82\n",
      "ART_AND_DESIGN : 65\n",
      "EVENTS : 64\n",
      "PARENTING : 60\n",
      "COMICS : 60\n",
      "BEAUTY : 53\n",
      "None\n"
     ]
    }
   ],
   "source": [
    "print('Displaying Play Store Categories')\n",
    "print()\n",
    "print(display_table(android, 1))"
   ]
  },
  {
   "cell_type": "markdown",
   "metadata": {},
   "source": [
    "## Comments on Play Store categories\n",
    "\n",
    "The most common genres for Play Store is Family oriented. Different from the Apple Store, the play store does not have a single proclivity for recreational purposes, but a more hollistic application use where each genre has a relatively proportional ammount of the market. No one single category will out perform other category be too much of a margin.\n",
    "\n",
    "Though saying that no one single category out performs other category by too much a margin, the family and games category is still the better category to tap into."
   ]
  },
  {
   "cell_type": "code",
   "execution_count": 15,
   "metadata": {
    "collapsed": false
   },
   "outputs": [
    {
     "name": "stdout",
     "output_type": "stream",
     "text": [
      "Displaying Play Store Genres\n",
      "\n",
      "Tools : 842\n",
      "Entertainment : 623\n",
      "Education : 549\n",
      "Medical : 463\n",
      "Business : 460\n",
      "Productivity : 424\n",
      "Sports : 398\n",
      "Personalization : 392\n",
      "Communication : 387\n",
      "Lifestyle : 381\n",
      "Finance : 366\n",
      "Action : 365\n",
      "Health & Fitness : 341\n",
      "Photography : 335\n",
      "Social : 295\n",
      "News & Magazines : 283\n",
      "Shopping : 260\n",
      "Travel & Local : 257\n",
      "Dating : 234\n",
      "Books & Reference : 231\n",
      "Arcade : 220\n",
      "Simulation : 200\n",
      "Casual : 193\n",
      "Video Players & Editors : 173\n",
      "Puzzle : 140\n",
      "Maps & Navigation : 137\n",
      "Food & Drink : 127\n",
      "Role Playing : 109\n",
      "Strategy : 107\n",
      "Racing : 98\n",
      "House & Home : 88\n",
      "Libraries & Demo : 85\n",
      "Auto & Vehicles : 85\n",
      "Weather : 82\n",
      "Adventure : 75\n",
      "Events : 64\n",
      "Comics : 59\n",
      "Art & Design : 58\n",
      "Beauty : 53\n",
      "Education;Education : 50\n",
      "Card : 48\n",
      "Parenting : 46\n",
      "Board : 44\n",
      "Educational;Education : 41\n",
      "Casino : 39\n",
      "Trivia : 38\n",
      "Educational : 37\n",
      "Casual;Pretend Play : 31\n",
      "Word : 29\n",
      "Entertainment;Music & Video : 27\n",
      "Education;Pretend Play : 23\n",
      "Music : 22\n",
      "Casual;Action & Adventure : 21\n",
      "Racing;Action & Adventure : 20\n",
      "Puzzle;Brain Games : 19\n",
      "Educational;Pretend Play : 19\n",
      "Action;Action & Adventure : 17\n",
      "Arcade;Action & Adventure : 16\n",
      "Board;Brain Games : 15\n",
      "Casual;Brain Games : 13\n",
      "Adventure;Action & Adventure : 13\n",
      "Simulation;Action & Adventure : 11\n",
      "Entertainment;Brain Games : 8\n",
      "Role Playing;Action & Adventure : 7\n",
      "Parenting;Education : 7\n",
      "Education;Creativity : 7\n",
      "Casual;Creativity : 7\n",
      "Art & Design;Creativity : 7\n",
      "Parenting;Music & Video : 6\n",
      "Educational;Brain Games : 6\n",
      "Education;Action & Adventure : 6\n",
      "Role Playing;Pretend Play : 5\n",
      "Puzzle;Action & Adventure : 5\n",
      "Educational;Creativity : 5\n",
      "Education;Music & Video : 5\n",
      "Education;Brain Games : 5\n",
      "Sports;Action & Adventure : 4\n",
      "Simulation;Pretend Play : 4\n",
      "Educational;Action & Adventure : 4\n",
      "Video Players & Editors;Music & Video : 3\n",
      "Simulation;Education : 3\n",
      "Music;Music & Video : 3\n",
      "Entertainment;Creativity : 3\n",
      "Entertainment;Action & Adventure : 3\n",
      "Casual;Education : 3\n",
      "Board;Action & Adventure : 3\n",
      "Video Players & Editors;Creativity : 2\n",
      "Strategy;Action & Adventure : 2\n",
      "Puzzle;Creativity : 2\n",
      "Entertainment;Pretend Play : 2\n",
      "Casual;Music & Video : 2\n",
      "Card;Action & Adventure : 2\n",
      "Books & Reference;Education : 2\n",
      "Art & Design;Pretend Play : 2\n",
      "Art & Design;Action & Adventure : 2\n",
      "Adventure;Education : 2\n",
      "Trivia;Education : 1\n",
      "Travel & Local;Action & Adventure : 1\n",
      "Tools;Education : 1\n",
      "Strategy;Education : 1\n",
      "Strategy;Creativity : 1\n",
      "Role Playing;Education : 1\n",
      "Role Playing;Brain Games : 1\n",
      "Racing;Pretend Play : 1\n",
      "Puzzle;Education : 1\n",
      "Parenting;Brain Games : 1\n",
      "Music & Audio;Music & Video : 1\n",
      "Lifestyle;Pretend Play : 1\n",
      "Lifestyle;Education : 1\n",
      "Health & Fitness;Education : 1\n",
      "Health & Fitness;Action & Adventure : 1\n",
      "Entertainment;Education : 1\n",
      "Communication;Creativity : 1\n",
      "Comics;Creativity : 1\n",
      "Card;Brain Games : 1\n",
      "Books & Reference;Creativity : 1\n",
      "Board;Pretend Play : 1\n",
      "Arcade;Pretend Play : 1\n",
      "Adventure;Brain Games : 1\n",
      "None\n"
     ]
    }
   ],
   "source": [
    "print('Displaying Play Store Genres')\n",
    "print()\n",
    "print(display_table(android, 9))"
   ]
  },
  {
   "cell_type": "markdown",
   "metadata": {},
   "source": [
    "## Comments on Play Store Genres\n",
    "\n",
    "The most common genres on the Play Store are \"Tools\", \"Entertainment\", \"Education\", and \"Medical\". Genres on the Play Store are much more utilitarian than that of the Apple Store. The frequency of Genres on the Play Store compared to the Apple Store is much more hollistic and encompassing with its applications with not one genre gaining the a portion of the market.\n",
    "\n",
    "It is my opinion that because of such functional oriented availability of applications on the android Play Store, the market of the Play Store will be more lasting and have better branding usage for a wide demography.\n"
   ]
  },
  {
   "cell_type": "code",
   "execution_count": 16,
   "metadata": {
    "collapsed": false
   },
   "outputs": [
    {
     "name": "stdout",
     "output_type": "stream",
     "text": [
      "['id', 'track_name', 'size_bytes', 'currency', 'price', 'rating_count_tot', 'rating_count_ver', 'user_rating', 'user_rating_ver', 'ver', 'cont_rating', 'prime_genre', 'sup_devices.num', 'ipadSc_urls.num', 'lang.num', 'vpp_lic']\n",
      "\n",
      "25383.5 7197\n",
      "\n",
      "App Genre average: 3.526955675976101\n",
      "\n",
      "Most frequent Genre encompassing the App average rating: Games\n"
     ]
    }
   ],
   "source": [
    "print(ios_header)\n",
    "# print()\n",
    "# print(freq_table(ios, 11))\n",
    "total = 0\n",
    "len_genre = 0\n",
    "for genre in freq_table(ios,11):\n",
    "   \n",
    "    for app in ios:\n",
    "        genre_app = app[11]\n",
    "#         print(genre, genre_app)\n",
    "        if genre_app == genre:\n",
    "#             print(genre_app, genre)\n",
    "            user_rating = float(app[7])\n",
    "#             print(user_rating)\n",
    "            total += user_rating\n",
    "            len_genre += 1\n",
    "print()\n",
    "print(total, len_genre)\n",
    "average = total/len_genre\n",
    "print()\n",
    "print('App Genre average:',average)\n",
    "print()\n",
    "\n",
    "dic = {}\n",
    "for app in ios:\n",
    "    name = app[1]\n",
    "    rating = float(app[7])\n",
    "    if average + 0.2 >= rating >= average - 0.2:\n",
    "        genre = app[11]\n",
    "#         print(genre,':',rating,':', name)\n",
    "        if genre not in dic:\n",
    "            dic[genre] = 1\n",
    "        if genre in dic:\n",
    "            dic[genre] += 1\n",
    "    \n",
    "        \n",
    "print('Most frequent Genre encompassing the App average rating:',max(dic.items(), key=operator.itemgetter(1))[0])\n",
    "\n",
    "            \n",
    "            \n",
    "   "
   ]
  },
  {
   "cell_type": "markdown",
   "metadata": {},
   "source": [
    "## App profile recommendation for the Apple Store\n",
    "\n",
    "Having went through all the unique apps, giving them an average rating, and with the unique apps average rating genres, an Application profile recommendtaion for the Apple Store would be to make an gaming app.\n",
    "\n"
   ]
  },
  {
   "cell_type": "code",
   "execution_count": 25,
   "metadata": {
    "collapsed": false
   },
   "outputs": [
    {
     "name": "stdout",
     "output_type": "stream",
     "text": [
      "\n",
      "269172550.0 29\n",
      "\n",
      "Average of app genre: 9281812.068965517\n",
      "\n",
      "['Moto File Manager', 'Google', 'Google Translate', 'Moto Display', 'Motorola Alert', 'Motorola Assist', 'Cache Cleaner-DU Speed Booster (booster & cleaner)', 'Moto Voice', 'Calculator', 'Device Help', 'Account Manager', 'myMetro', 'File Manager', 'My Telcel', 'Calculator - free calculator, multi calculator app', 'ASUS Sound Recorder', 'Samsung Max - Data Savings & Privacy Protection', 'ZenUI Help', 'SHAREit - Transfer & Share', 'ZenUI Keyboard – Emoji, Theme', 'Files Go by Google: Free up space on your phone', 'File Manager -- Take Command of Your Files Easily', 'Samsung Calculator', 'Clear', 'Phone', 'HTC Lock Screen', 'Gboard - the Google Keyboard', 'Google Korean Input', 'AT&T Smart Wi-Fi', 'Google app for Android TV', 'Sound Recorder: Recorder & Voice Changer Free', 'Remote Link (PC Remote)', 'HTC Sense Input', 'Share Music & Transfer Files - Xender', 'App vault', 'My love', 'DuraSpeed', 'Digital Alarm Clock', 'Alarm Clock Free', 'High-Powered Flashlight', 'Brightest Flashlight - LED Light', 'LED Flashlight', 'Tiny Flashlight + LED', 'Flashlight & LED Torch', 'Color Flashlight', 'Flashlight', 'Flashlight HD LED', 'Flashlight - Torch LED Light', 'Brightest Flashlight Free ®', 'Calculator Plus Free', 'ConvertPad - Unit Converter', 'SuperVPN Free VPN Client', 'Hotspot Shield Free VPN Proxy & Wi-Fi Security', 'OpenVPN Connect – Fast & Safe SSL VPN Client', 'VPN Free - Betternet Hotspot VPN & Private Browser', 'Gboard - the Google Keyboard', 'Smart Keyboard Trial', 'Emoji keyboard - Cute Emoticons, GIF, Stickers', 'GO Keyboard - Cute Emojis, Themes and GIFs', 'Google Handwriting Input', 'Wifi Analyzer', 'Speedtest by Ookla', 'osmino Wi-Fi: free WiFi', 'Internet Speed Meter Lite', 'Keypad Lock Screen', 'photo keypad lockscreen', 'CM Locker - Security Lockscreen', 'Solo Locker (DIY Locker)', 'AppLock - Fingerprint', 'Applock', 'Smart AppLock (App Protect)', 'Screen Off and Lock', 'Flashlight', 'Google Translate', 'VPN Free - Betternet Hotspot VPN & Private Browser', 'Clean Master- Space Cleaner & Antivirus', 'Screen Lock - with Fingerprint Simulator', 'Tuner - gStrings Free', 'Lookout Security & Antivirus', 'Video Downloader for Facebook', 'Gboard - the Google Keyboard', 'Google', 'Google Now Launcher', 'Smart TV Remote', 'QR Code Reader', 'SHAREit - Transfer & Share', '360 Security - Free Antivirus, Booster, Cleaner', 'Samsung Smart Switch Mobile', 'T-Mobile', 'T-Mobile Visual Voicemail', 'AT&T FamilyMap®', 'WIFI WPS WPA TESTER', 'WPSApp', 'Share Music & Transfer Files - Xender', 'X-plore File Manager', 'Antivirus & Mobile Security', 'Avast Mobile Security 2018 - Antivirus & App Lock', 'ZArchiver', 'Zapya - File Transfer, Sharing', 'CPU-Z', 'Mi Remote controller - for TV, STB, AC and more', 'AppLock', 'QR BARCODE SCANNER', 'AVG AntiVirus 2018 for Android Security', 'Norton Security and Antivirus', 'Kaspersky Mobile Antivirus: AppLock & Web Security', 'Avast Cleanup & Boost, Phone Cleaner, Optimizer', 'CCleaner', 'Terminal Emulator for Android', 'Security Master - Antivirus, VPN, AppLock, Booster', 'CM Locker - Security Lockscreen', 'Clean Master Lite - For Low-End Phone', 'CM Security Lite - Antivirus', 'Battery Doctor-Battery Life Saver & Battery Cooler', 'CM FILE MANAGER', 'Card Creator for CR', 'Master for Minecraft(Pocket Edition)-Mod Launcher', 'FVD - Free Video Downloader', 'Download Manager for Android', 'Sound Meter', 'APUS File Manager (Explorer)', 'Easy Language Translator', 'Satellite Director', 'DiskDigger photo recovery', 'Automatic Call Recorder', 'Advanced Download Manager', 'Downloader & Private Browser', 'Download All Files', 'Download Manager', 'Anti-virus Dr.Web Light', 'Dr. Safety - Antivirus, Booster, Cleaner, AppLock', 'Dr.Web Security Space', 'Dr. Booster - Boost Game Speed', 'Cache Cleaner-DU Speed Booster (booster & cleaner)', 'DU Battery Saver - Battery Charger & Battery Life', 'DU Antivirus Security - Applock & Privacy Guard', 'DU Cleaner – Memory cleaner & clean phone cache', 'GO Security－AntiVirus, AppLock, Booster', 'Instabridge - Free WiFi Passwords and Hotspots', 'Keyboard ManMan', 'RAR', 'File Manager by Xiaomi: release file storage space', 'Moto File Manager', 'Epson iPrint', 'osmino Wi-Fi: free WiFi', 'MOD-MASTER for Minecraft PE (Pocket Edition) Free']\n",
      "\n",
      "Most frequent category around average installs: Tools\n"
     ]
    }
   ],
   "source": [
    "import operator\n",
    "# print(android_header)\n",
    "print()\n",
    "for category in freq_table(android,9):\n",
    "    total = 0 \n",
    "    len_category = 0\n",
    "    for app in android:\n",
    "        category_app = app[9]\n",
    "        if category_app == category:\n",
    "            Installs = float(app[5].replace(',','').replace('+',''))\n",
    "            total += Installs\n",
    "            len_category += 1\n",
    "print(total,len_category)\n",
    "print()\n",
    "Average_Installs = total/len_category\n",
    "print('Average of app genre:',Average_Installs)\n",
    "print()\n",
    "rounded_average = Average_Installs // 1000000 * 1000000\n",
    "# print(rounded_average)\n",
    "\n",
    "dic = {}\n",
    "for app in android:\n",
    "    name = app[0]\n",
    "    Installs = int(app[5].replace(',','').replace('+',''))\n",
    "#     print(Installs)\n",
    "    if  Installs <= rounded_average:\n",
    "        genre = app[9]\n",
    "#         print(genre,':',Installs,':', name)\n",
    "        if genre not in dic:\n",
    "            dic[genre] = 1\n",
    "        if genre in dic:\n",
    "            dic[genre] += 1\n",
    "print(list(app[0] for app in android if app[9] == 'Tools' \n",
    "         and int(app[5].replace(',','').replace('+','')) >= Average_Installs\n",
    "        ))\n",
    "print()\n",
    "print('Most frequent category around average installs:',max(dic.items(), key=operator.itemgetter(1))[0])"
   ]
  },
  {
   "cell_type": "markdown",
   "metadata": {},
   "source": [
    "## App profile recommendation for Play Store\n",
    "\n",
    "An app profile recommendation for the Google Play Store would be an app that is under the category of Tools. Currently, Google Play Store profiles that are performing above average are, for example, \"Moto File Manageer\", \"Account Manager\". In all likelihood, an app profile in the genre of \"Tools\" similar to the provided examples of profiles having above "
   ]
  }
 ],
 "metadata": {
  "kernelspec": {
   "display_name": "Python 3",
   "language": "python",
   "name": "python3"
  },
  "language_info": {
   "codemirror_mode": {
    "name": "ipython",
    "version": 3
   },
   "file_extension": ".py",
   "mimetype": "text/x-python",
   "name": "python",
   "nbconvert_exporter": "python",
   "pygments_lexer": "ipython3",
   "version": "3.4.3"
  }
 },
 "nbformat": 4,
 "nbformat_minor": 2
}
